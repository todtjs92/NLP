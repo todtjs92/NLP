{
 "cells": [
  {
   "cell_type": "code",
   "execution_count": 1,
   "id": "cd205b23",
   "metadata": {},
   "outputs": [],
   "source": [
    "def load_mnist(is_train=True, flatten=True):\n",
    "    from torchvision import datasets, transforms\n",
    "\n",
    "    dataset = datasets.MNIST(\n",
    "        '../data', train=is_train, download=True,\n",
    "        transform=transforms.Compose([\n",
    "            transforms.ToTensor(),\n",
    "        ]),\n",
    "    )\n",
    "\n",
    "    x = dataset.data.float() / 255.\n",
    "    y = dataset.targets\n",
    "\n",
    "    if flatten:\n",
    "        x = x.view(x.size(0), -1)\n",
    "\n",
    "    return x, y"
   ]
  },
  {
   "cell_type": "code",
   "execution_count": 1,
   "id": "e730a840",
   "metadata": {},
   "outputs": [],
   "source": [
    "from torchvision import datasets, transforms"
   ]
  },
  {
   "cell_type": "code",
   "execution_count": 3,
   "id": "6d782468",
   "metadata": {},
   "outputs": [
    {
     "name": "stdout",
     "output_type": "stream",
     "text": [
      "Downloading http://yann.lecun.com/exdb/mnist/train-images-idx3-ubyte.gz\n",
      "Downloading http://yann.lecun.com/exdb/mnist/train-images-idx3-ubyte.gz to ../data/MNIST/raw/train-images-idx3-ubyte.gz\n"
     ]
    },
    {
     "data": {
      "application/vnd.jupyter.widget-view+json": {
       "model_id": "60e632cde55b4139888a83026fb26e2a",
       "version_major": 2,
       "version_minor": 0
      },
      "text/plain": [
       "  0%|          | 0/9912422 [00:00<?, ?it/s]"
      ]
     },
     "metadata": {},
     "output_type": "display_data"
    },
    {
     "name": "stdout",
     "output_type": "stream",
     "text": [
      "Extracting ../data/MNIST/raw/train-images-idx3-ubyte.gz to ../data/MNIST/raw\n",
      "\n",
      "Downloading http://yann.lecun.com/exdb/mnist/train-labels-idx1-ubyte.gz\n",
      "Downloading http://yann.lecun.com/exdb/mnist/train-labels-idx1-ubyte.gz to ../data/MNIST/raw/train-labels-idx1-ubyte.gz\n"
     ]
    },
    {
     "data": {
      "application/vnd.jupyter.widget-view+json": {
       "model_id": "ee6363e8318f4ccb9468176e0d9ed1f4",
       "version_major": 2,
       "version_minor": 0
      },
      "text/plain": [
       "  0%|          | 0/28881 [00:00<?, ?it/s]"
      ]
     },
     "metadata": {},
     "output_type": "display_data"
    },
    {
     "name": "stdout",
     "output_type": "stream",
     "text": [
      "Extracting ../data/MNIST/raw/train-labels-idx1-ubyte.gz to ../data/MNIST/raw\n",
      "\n",
      "Downloading http://yann.lecun.com/exdb/mnist/t10k-images-idx3-ubyte.gz\n",
      "Downloading http://yann.lecun.com/exdb/mnist/t10k-images-idx3-ubyte.gz to ../data/MNIST/raw/t10k-images-idx3-ubyte.gz\n"
     ]
    },
    {
     "data": {
      "application/vnd.jupyter.widget-view+json": {
       "model_id": "556cc15fb828409d9badf1253d118761",
       "version_major": 2,
       "version_minor": 0
      },
      "text/plain": [
       "  0%|          | 0/1648877 [00:00<?, ?it/s]"
      ]
     },
     "metadata": {},
     "output_type": "display_data"
    },
    {
     "name": "stdout",
     "output_type": "stream",
     "text": [
      "Extracting ../data/MNIST/raw/t10k-images-idx3-ubyte.gz to ../data/MNIST/raw\n",
      "\n",
      "Downloading http://yann.lecun.com/exdb/mnist/t10k-labels-idx1-ubyte.gz\n",
      "Downloading http://yann.lecun.com/exdb/mnist/t10k-labels-idx1-ubyte.gz to ../data/MNIST/raw/t10k-labels-idx1-ubyte.gz\n"
     ]
    },
    {
     "data": {
      "application/vnd.jupyter.widget-view+json": {
       "model_id": "5a3430e55d284ffc8ada4b7d7bfc1de9",
       "version_major": 2,
       "version_minor": 0
      },
      "text/plain": [
       "  0%|          | 0/4542 [00:00<?, ?it/s]"
      ]
     },
     "metadata": {},
     "output_type": "display_data"
    },
    {
     "name": "stdout",
     "output_type": "stream",
     "text": [
      "Extracting ../data/MNIST/raw/t10k-labels-idx1-ubyte.gz to ../data/MNIST/raw\n",
      "\n"
     ]
    },
    {
     "name": "stderr",
     "output_type": "stream",
     "text": [
      "/opt/homebrew/Caskroom/miniforge/base/envs/jupyter/lib/python3.8/site-packages/torchvision/datasets/mnist.py:498: UserWarning: The given NumPy array is not writeable, and PyTorch does not support non-writeable tensors. This means you can write to the underlying (supposedly non-writeable) NumPy array using the tensor. You may want to copy the array to protect its data or make it writeable before converting it to a tensor. This type of warning will be suppressed for the rest of this program. (Triggered internally at  /tmp/pip-req-build-jhk0fkj8/torch/csrc/utils/tensor_numpy.cpp:180.)\n",
      "  return torch.from_numpy(parsed.astype(m[2], copy=False)).view(*s)\n"
     ]
    }
   ],
   "source": [
    "dataset = datasets.MNIST(\n",
    "        '../data', train=True, download=True,\n",
    "        transform=transforms.Compose([\n",
    "            transforms.ToTensor(),\n",
    "        ]),\n",
    "    )"
   ]
  },
  {
   "cell_type": "code",
   "execution_count": null,
   "id": "fd1e7041",
   "metadata": {},
   "outputs": [],
   "source": [
    "dataset이 60000, 28,28 로 이미 바껴있음. # 28 * 28 60000개"
   ]
  },
  {
   "cell_type": "code",
   "execution_count": 9,
   "id": "2a0f9170",
   "metadata": {},
   "outputs": [
    {
     "data": {
      "text/plain": [
       "torch.Size([60000, 28, 28])"
      ]
     },
     "execution_count": 9,
     "metadata": {},
     "output_type": "execute_result"
    }
   ],
   "source": [
    "dataset.data.shape"
   ]
  },
  {
   "cell_type": "code",
   "execution_count": 10,
   "id": "d1283b1a",
   "metadata": {},
   "outputs": [],
   "source": [
    "x = dataset.data.float() / 255."
   ]
  },
  {
   "cell_type": "code",
   "execution_count": 20,
   "id": "2367ceb8",
   "metadata": {},
   "outputs": [
    {
     "data": {
      "text/plain": [
       "tensor([5, 0, 4,  ..., 5, 6, 8])"
      ]
     },
     "execution_count": 20,
     "metadata": {},
     "output_type": "execute_result"
    }
   ],
   "source": [
    "dataset.targets"
   ]
  },
  {
   "cell_type": "code",
   "execution_count": 21,
   "id": "c1a4b2b2",
   "metadata": {},
   "outputs": [
    {
     "data": {
      "text/plain": [
       "60000"
      ]
     },
     "execution_count": 21,
     "metadata": {},
     "output_type": "execute_result"
    }
   ],
   "source": [
    "x.size(0)"
   ]
  },
  {
   "cell_type": "code",
   "execution_count": 22,
   "id": "45948edb",
   "metadata": {},
   "outputs": [],
   "source": [
    "x = x.view(x.size(0), -1)"
   ]
  },
  {
   "cell_type": "code",
   "execution_count": 42,
   "id": "3f74f782",
   "metadata": {},
   "outputs": [
    {
     "data": {
      "text/plain": [
       "tensor([7, 9, 0,  ..., 8, 6, 5])"
      ]
     },
     "execution_count": 42,
     "metadata": {},
     "output_type": "execute_result"
    }
   ],
   "source": [
    "y[0].squeeze()"
   ]
  },
  {
   "cell_type": "code",
   "execution_count": 43,
   "id": "97e2e362",
   "metadata": {},
   "outputs": [
    {
     "data": {
      "text/plain": [
       "tensor([7, 9, 0,  ..., 8, 6, 5])"
      ]
     },
     "execution_count": 43,
     "metadata": {},
     "output_type": "execute_result"
    }
   ],
   "source": [
    "y[0].squeeze()"
   ]
  },
  {
   "cell_type": "code",
   "execution_count": 24,
   "id": "eda7be84",
   "metadata": {},
   "outputs": [
    {
     "data": {
      "text/plain": [
       "tensor([[0., 0., 0.,  ..., 0., 0., 0.],\n",
       "        [0., 0., 0.,  ..., 0., 0., 0.],\n",
       "        [0., 0., 0.,  ..., 0., 0., 0.],\n",
       "        ...,\n",
       "        [0., 0., 0.,  ..., 0., 0., 0.],\n",
       "        [0., 0., 0.,  ..., 0., 0., 0.],\n",
       "        [0., 0., 0.,  ..., 0., 0., 0.]])"
      ]
     },
     "execution_count": 24,
     "metadata": {},
     "output_type": "execute_result"
    }
   ],
   "source": [
    "x"
   ]
  },
  {
   "cell_type": "code",
   "execution_count": 27,
   "id": "5ee24fc9",
   "metadata": {},
   "outputs": [
    {
     "data": {
      "text/plain": [
       "torch.Size([60000, 784])"
      ]
     },
     "execution_count": 27,
     "metadata": {},
     "output_type": "execute_result"
    }
   ],
   "source": [
    "x.size()"
   ]
  },
  {
   "cell_type": "code",
   "execution_count": 28,
   "id": "d5c53ec3",
   "metadata": {},
   "outputs": [],
   "source": [
    "train_cnt = int(x.size(0) * 0.8)\n",
    "valid_cnt = x.size(0) - train_cnt"
   ]
  },
  {
   "cell_type": "code",
   "execution_count": 30,
   "id": "ff2f83be",
   "metadata": {},
   "outputs": [],
   "source": [
    "import torch"
   ]
  },
  {
   "cell_type": "code",
   "execution_count": 31,
   "id": "1b41ded7",
   "metadata": {},
   "outputs": [],
   "source": [
    "indices = torch.randperm(x.size(0))"
   ]
  },
  {
   "cell_type": "code",
   "execution_count": 32,
   "id": "29d4fad4",
   "metadata": {},
   "outputs": [
    {
     "data": {
      "text/plain": [
       "tensor([57458, 22549, 59557,  ..., 21652,  1870,  5346])"
      ]
     },
     "execution_count": 32,
     "metadata": {},
     "output_type": "execute_result"
    }
   ],
   "source": [
    "indices"
   ]
  },
  {
   "cell_type": "code",
   "execution_count": 34,
   "id": "530fdc03",
   "metadata": {},
   "outputs": [],
   "source": [
    "device = torch.device('cpu')"
   ]
  },
  {
   "cell_type": "code",
   "execution_count": 35,
   "id": "89858904",
   "metadata": {},
   "outputs": [],
   "source": [
    "x = torch.index_select(\n",
    "        x,\n",
    "        dim=0,\n",
    "        index=indices\n",
    "    ).to(device).split([train_cnt, valid_cnt], dim=0)"
   ]
  },
  {
   "cell_type": "code",
   "execution_count": 38,
   "id": "2aed5f86",
   "metadata": {},
   "outputs": [
    {
     "data": {
      "text/plain": [
       "torch.Size([48000, 784])"
      ]
     },
     "execution_count": 38,
     "metadata": {},
     "output_type": "execute_result"
    }
   ],
   "source": [
    "x[0].shape"
   ]
  },
  {
   "cell_type": "code",
   "execution_count": 39,
   "id": "c0bd5a08",
   "metadata": {},
   "outputs": [],
   "source": [
    "y = torch.index_select(\n",
    "        y,\n",
    "        dim=0,\n",
    "        index=indices\n",
    "    ).to(device).split([train_cnt, valid_cnt], dim=0)"
   ]
  },
  {
   "cell_type": "markdown",
   "id": "3e9e3f37",
   "metadata": {},
   "source": [
    "## 모델 정의"
   ]
  },
  {
   "cell_type": "code",
   "execution_count": null,
   "id": "01eb5f0e",
   "metadata": {},
   "outputs": [],
   "source": [
    "import torch\n",
    "import torch.nn as nn\n",
    "\n",
    "class ImageClassifier(nn.Module):\n",
    "\n",
    "    def __init__(self,\n",
    "                 input_size,\n",
    "                 output_size):\n",
    "        self.input_size = input_size\n",
    "        self.output_size = output_size\n",
    "\n",
    "        super().__init__()\n",
    "\n",
    "        self.layers = nn.Sequential(\n",
    "            nn.Linear(input_size, 500),\n",
    "            nn.LeakyReLU(),\n",
    "            nn.BatchNorm1d(500),\n",
    "            nn.Linear(500, 400),\n",
    "            nn.LeakyReLU(),\n",
    "            nn.BatchNorm1d(400),\n",
    "            nn.Linear(400, 300),\n",
    "            nn.LeakyReLU(),\n",
    "            nn.BatchNorm1d(300),\n",
    "            nn.Linear(300, 200),\n",
    "            nn.LeakyReLU(),\n",
    "            nn.BatchNorm1d(200),\n",
    "            nn.Linear(200, 100),\n",
    "            nn.LeakyReLU(),\n",
    "            nn.BatchNorm1d(100),\n",
    "            nn.Linear(100, 50),\n",
    "            nn.LeakyReLU(),\n",
    "            nn.BatchNorm1d(50),\n",
    "            nn.Linear(50, output_size),\n",
    "            nn.LogSoftmax(dim=-1),\n",
    "        )\n",
    "\n",
    "    def forward(self, x):\n",
    "        # |x| = (batch_size, input_size)\n",
    "\n",
    "        y = self.layers(x)\n",
    "        # |y| = (batch_size, output_size)\n",
    "\n",
    "        return y\n"
   ]
  },
  {
   "cell_type": "code",
   "execution_count": null,
   "id": "892feef6",
   "metadata": {},
   "outputs": [],
   "source": []
  },
  {
   "cell_type": "code",
   "execution_count": null,
   "id": "425501e1",
   "metadata": {},
   "outputs": [],
   "source": [
    "from copy import deepcopy\n",
    "\n",
    "import numpy as np\n",
    "\n",
    "import torch\n",
    "import torch.nn.functional as F\n",
    "import torch.optim as optim\n",
    "\n",
    "class Trainer():\n",
    "\n",
    "    def __init__(self, model, optimizer, crit):\n",
    "        self.model = model\n",
    "        self.optimizer = optimizer\n",
    "        self.crit = crit\n",
    "\n",
    "        super().__init__()\n",
    "\n",
    "    def _train(self, x, y, config):\n",
    "        self.model.train()\n",
    "\n",
    "        # Shuffle before begin.\n",
    "        indices = torch.randperm(x.size(0), device=x.device)\n",
    "        x = torch.index_select(x, dim=0, index=indices).split(config.batch_size, dim=0)\n",
    "        y = torch.index_select(y, dim=0, index=indices).split(config.batch_size, dim=0)\n",
    "\n",
    "        total_loss = 0\n",
    "\n",
    "        for i, (x_i, y_i) in enumerate(zip(x, y)):\n",
    "            y_hat_i = self.model(x_i)\n",
    "            loss_i = self.crit(y_hat_i, y_i.squeeze())\n",
    "\n",
    "            # Initialize the gradients of the model.\n",
    "            self.optimizer.zero_grad()\n",
    "            loss_i.backward()\n",
    "\n",
    "            self.optimizer.step()\n",
    "\n",
    "            if config.verbose >= 2:\n",
    "                print(\"Train Iteration(%d/%d): loss=%.4e\" % (i + 1, len(x), float(loss_i)))\n",
    "\n",
    "            # Don't forget to detach to prevent memory leak.\n",
    "            total_loss += float(loss_i)\n",
    "\n",
    "        return total_loss / len(x)\n",
    "\n",
    "    def _validate(self, x, y, config):\n",
    "        # Turn evaluation mode on.\n",
    "        self.model.eval()\n",
    "\n",
    "        # Turn on the no_grad mode to make more efficintly.\n",
    "        with torch.no_grad():\n",
    "            # Shuffle before begin.\n",
    "            indices = torch.randperm(x.size(0), device=x.device)\n",
    "            x = torch.index_select(x, dim=0, index=indices).split(config.batch_size, dim=0)\n",
    "            y = torch.index_select(y, dim=0, index=indices).split(config.batch_size, dim=0)\n",
    "\n",
    "            total_loss = 0\n",
    "\n",
    "            for i, (x_i, y_i) in enumerate(zip(x, y)):\n",
    "                y_hat_i = self.model(x_i)\n",
    "                loss_i = self.crit(y_hat_i, y_i.squeeze())\n",
    "\n",
    "                if config.verbose >= 2:\n",
    "                    print(\"Valid Iteration(%d/%d): loss=%.4e\" % (i + 1, len(x), float(loss_i)))\n",
    "\n",
    "                total_loss += float(loss_i)\n",
    "\n",
    "            return total_loss / len(x)\n",
    "\n",
    "    def train(self, train_data, valid_data, config):\n",
    "        lowest_loss = np.inf\n",
    "        best_model = None\n",
    "\n",
    "        for epoch_index in range(config.n_epochs):\n",
    "            train_loss = self._train(train_data[0], train_data[1], config)\n",
    "            valid_loss = self._validate(valid_data[0], valid_data[1], config)\n",
    "\n",
    "            # You must use deep copy to take a snapshot of current best weights.\n",
    "            if valid_loss <= lowest_loss:\n",
    "                lowest_loss = valid_loss\n",
    "                best_model = deepcopy(self.model.state_dict())\n",
    "\n",
    "            print(\"Epoch(%d/%d): train_loss=%.4e  valid_loss=%.4e  lowest_loss=%.4e\" % (\n",
    "                epoch_index + 1,\n",
    "                config.n_epochs,\n",
    "                train_loss,\n",
    "                valid_loss,\n",
    "                lowest_loss,\n",
    "            ))\n",
    "\n",
    "        # Restore to best model.\n",
    "        self.model.load_state_dict(best_model)\n"
   ]
  }
 ],
 "metadata": {
  "kernelspec": {
   "display_name": "Python 3 (ipykernel)",
   "language": "python",
   "name": "python3"
  },
  "language_info": {
   "codemirror_mode": {
    "name": "ipython",
    "version": 3
   },
   "file_extension": ".py",
   "mimetype": "text/x-python",
   "name": "python",
   "nbconvert_exporter": "python",
   "pygments_lexer": "ipython3",
   "version": "3.8.13"
  }
 },
 "nbformat": 4,
 "nbformat_minor": 5
}
