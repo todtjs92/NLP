{
 "cells": [
  {
   "cell_type": "code",
   "execution_count": 1,
   "id": "e01e8395",
   "metadata": {},
   "outputs": [],
   "source": [
    "import pandas as pd"
   ]
  },
  {
   "cell_type": "code",
   "execution_count": 6,
   "id": "ce67b9cf",
   "metadata": {},
   "outputs": [],
   "source": [
    "from LDAVI import LDAVI\n",
    "import os\n",
    "import codecs"
   ]
  },
  {
   "cell_type": "code",
   "execution_count": 2,
   "id": "5fbedf53",
   "metadata": {},
   "outputs": [],
   "source": [
    "df = pd.read_pickle('final.pickle')"
   ]
  },
  {
   "cell_type": "code",
   "execution_count": 3,
   "id": "3aa66ed3",
   "metadata": {},
   "outputs": [],
   "source": [
    "vocas = df.columns.values"
   ]
  },
  {
   "cell_type": "code",
   "execution_count": 5,
   "id": "d1ef10b2",
   "metadata": {},
   "outputs": [],
   "source": [
    "df_int = df.values.astype(int)"
   ]
  },
  {
   "cell_type": "code",
   "execution_count": 7,
   "id": "16b89fe2",
   "metadata": {},
   "outputs": [],
   "source": [
    "output_dir_name = \"./output_LDA_VI/\"\n",
    "topics = 50\n",
    "iterations = 1\n",
    "\n",
    "os.makedirs(output_dir_name, exist_ok=True)\n",
    "\n",
    "LDA_Model = LDAVI(topics, df_int, vocas, output_dir_name)\n"
   ]
  },
  {
   "cell_type": "code",
   "execution_count": 8,
   "id": "fdb0a408",
   "metadata": {},
   "outputs": [
    {
     "ename": "AttributeError",
     "evalue": "'numpy.ndarray' object has no attribute 'wordcts'",
     "output_type": "error",
     "traceback": [
      "\u001b[0;31m---------------------------------------------------------------------------\u001b[0m",
      "\u001b[0;31mAttributeError\u001b[0m                            Traceback (most recent call last)",
      "Input \u001b[0;32mIn [8]\u001b[0m, in \u001b[0;36m<cell line: 1>\u001b[0;34m()\u001b[0m\n\u001b[0;32m----> 1\u001b[0m \u001b[43mLDA_Model\u001b[49m\u001b[38;5;241;43m.\u001b[39;49m\u001b[43mrun\u001b[49m\u001b[43m(\u001b[49m\u001b[43mmax_iter\u001b[49m\u001b[38;5;241;43m=\u001b[39;49m\u001b[43miterations\u001b[49m\u001b[43m,\u001b[49m\u001b[43m \u001b[49m\u001b[43mdo_print_log\u001b[49m\u001b[38;5;241;43m=\u001b[39;49m\u001b[38;5;28;43;01mTrue\u001b[39;49;00m\u001b[43m)\u001b[49m\n\u001b[1;32m      3\u001b[0m \u001b[38;5;28mprint\u001b[39m(\u001b[38;5;124m'\u001b[39m\u001b[38;5;124mDone LDA VI\u001b[39m\u001b[38;5;124m'\u001b[39m)\n",
      "File \u001b[0;32m~/Documents/workspace/NLP/LDA_VarianceInference/LDAVI.py:138\u001b[0m, in \u001b[0;36mLDAVI.run\u001b[0;34m(self, max_iter, e_max_iter, echangethresh, emchangethresh, do_print_log)\u001b[0m\n\u001b[1;32m    136\u001b[0m last_estimated_perp \u001b[38;5;241m=\u001b[39m \u001b[38;5;241m0\u001b[39m\n\u001b[1;32m    137\u001b[0m \u001b[38;5;28;01mfor\u001b[39;00m doc \u001b[38;5;129;01min\u001b[39;00m \u001b[38;5;28mself\u001b[39m\u001b[38;5;241m.\u001b[39m_docs:\n\u001b[0;32m--> 138\u001b[0m     num_words_docs \u001b[38;5;241m+\u001b[39m\u001b[38;5;241m=\u001b[39m \u001b[38;5;28msum\u001b[39m(\u001b[43mdoc\u001b[49m\u001b[38;5;241;43m.\u001b[39;49m\u001b[43mwordcts\u001b[49m)\n\u001b[1;32m    139\u001b[0m \u001b[38;5;28;01mif\u001b[39;00m do_print_log:\n\u001b[1;32m    140\u001b[0m     prev \u001b[38;5;241m=\u001b[39m time\u001b[38;5;241m.\u001b[39mtime()\n",
      "\u001b[0;31mAttributeError\u001b[0m: 'numpy.ndarray' object has no attribute 'wordcts'"
     ]
    }
   ],
   "source": [
    "LDA_Model.run(max_iter=iterations, do_print_log=True)\n",
    "\n",
    "print('Done LDA VI')"
   ]
  },
  {
   "cell_type": "code",
   "execution_count": null,
   "id": "341e607f",
   "metadata": {},
   "outputs": [],
   "source": []
  }
 ],
 "metadata": {
  "kernelspec": {
   "display_name": "Python 3 (ipykernel)",
   "language": "python",
   "name": "python3"
  },
  "language_info": {
   "codemirror_mode": {
    "name": "ipython",
    "version": 3
   },
   "file_extension": ".py",
   "mimetype": "text/x-python",
   "name": "python",
   "nbconvert_exporter": "python",
   "pygments_lexer": "ipython3",
   "version": "3.8.13"
  }
 },
 "nbformat": 4,
 "nbformat_minor": 5
}
