{
 "cells": [
  {
   "cell_type": "code",
   "execution_count": 25,
   "metadata": {},
   "outputs": [],
   "source": [
    "from LDAVI import LDAVI\n",
    "import os\n",
    "import codecs"
   ]
  },
  {
   "cell_type": "code",
   "execution_count": 26,
   "metadata": {},
   "outputs": [],
   "source": [
    "document_file_path = \"./data/ap.dat\"\n",
    "voca_file_path = \"./data/vocab.txt\"\n",
    "output_dir_name = \"./output_LDA_VI/\"\n",
    "topics = 50\n",
    "iterations = 100\n"
   ]
  },
  {
   "cell_type": "code",
   "execution_count": 27,
   "metadata": {},
   "outputs": [],
   "source": [
    "os.makedirs(output_dir_name, exist_ok=True)"
   ]
  },
  {
   "cell_type": "code",
   "execution_count": 28,
   "metadata": {},
   "outputs": [],
   "source": [
    "def read_voca_file(file_path):\n",
    "    \"\"\"\n",
    "    Read vocabulary file\n",
    "    :param file_path: The path of vocabulary file\n",
    "    :return: vocabulary list\n",
    "    \"\"\"\n",
    "    vocas = list()\n",
    "\n",
    "    with codecs.open(file_path, \"r\", \"utf-8\") as voca_file:\n",
    "        for each_line in voca_file:\n",
    "            vocas.append(each_line.strip())\n",
    "\n",
    "    return vocas"
   ]
  },
  {
   "cell_type": "code",
   "execution_count": 29,
   "metadata": {},
   "outputs": [],
   "source": [
    "vocas = read_voca_file(voca_file_path)"
   ]
  },
  {
   "cell_type": "code",
   "execution_count": 30,
   "metadata": {},
   "outputs": [
    {
     "data": {
      "text/plain": [
       "['i',\n",
       " 'new',\n",
       " 'percent',\n",
       " 'people',\n",
       " 'year',\n",
       " 'two',\n",
       " 'million',\n",
       " 'president',\n",
       " 'last',\n",
       " 'government',\n",
       " 'years',\n",
       " 'first',\n",
       " 'police',\n",
       " 'state',\n",
       " 'states',\n",
       " 'officials',\n",
       " 'soviet',\n",
       " 'united',\n",
       " 'bush',\n",
       " 'time',\n",
       " 'three',\n",
       " 'billion',\n",
       " 'today',\n",
       " 'national',\n",
       " 'told',\n",
       " 'american',\n",
       " 'thursday',\n",
       " 'federal',\n",
       " 'house',\n",
       " 'week',\n",
       " 'court',\n",
       " 'day',\n",
       " 'tuesday',\n",
       " 'made',\n",
       " 'news',\n",
       " 'wednesday',\n",
       " 'monday',\n",
       " 'friday',\n",
       " 'say',\n",
       " 'company',\n",
       " 'city',\n",
       " 'party',\n",
       " 'just',\n",
       " 'group',\n",
       " 'york',\n",
       " 'market',\n",
       " 'report',\n",
       " 'department',\n",
       " 'military',\n",
       " 'south',\n",
       " 'union',\n",
       " 'members',\n",
       " 'home',\n",
       " 'west',\n",
       " 'political',\n",
       " 'reported',\n",
       " 'make',\n",
       " 'going',\n",
       " 'office',\n",
       " 'get',\n",
       " 'spokesman',\n",
       " 'dont',\n",
       " 'world',\n",
       " 'like',\n",
       " 'four',\n",
       " 'think',\n",
       " 'committee',\n",
       " 'back',\n",
       " 'work',\n",
       " 'defense',\n",
       " 'says',\n",
       " 'country',\n",
       " 'war',\n",
       " 'congress',\n",
       " 'nations',\n",
       " 'foreign',\n",
       " 'official',\n",
       " 'public',\n",
       " 'trade',\n",
       " 'take',\n",
       " 'prices',\n",
       " 'month',\n",
       " 'general',\n",
       " 'economic',\n",
       " 'five',\n",
       " 'air',\n",
       " 'money',\n",
       " 'stock',\n",
       " 'called',\n",
       " 'found',\n",
       " 'dukakis',\n",
       " 'days',\n",
       " 'campaign',\n",
       " 'law',\n",
       " 'months',\n",
       " 'program',\n",
       " 'case',\n",
       " 'asked',\n",
       " 'workers',\n",
       " 'administration',\n",
       " 'late',\n",
       " 'business',\n",
       " 'east',\n",
       " 'meeting',\n",
       " 'support',\n",
       " 'earlier',\n",
       " 'chief',\n",
       " 'service',\n",
       " 'plan',\n",
       " 'white',\n",
       " 'go',\n",
       " 'help',\n",
       " 'north',\n",
       " 'ago',\n",
       " 'early',\n",
       " 'board',\n",
       " 'major',\n",
       " 'killed',\n",
       " 'oil',\n",
       " 'force',\n",
       " 'expected',\n",
       " 'mrs',\n",
       " 'minister',\n",
       " 'yearold',\n",
       " 'washington',\n",
       " 'john',\n",
       " 'end',\n",
       " 'security',\n",
       " 'good',\n",
       " 'saying',\n",
       " 'international',\n",
       " 'agreement',\n",
       " 'came',\n",
       " 'system',\n",
       " 'democratic',\n",
       " 'bill',\n",
       " 'reagan',\n",
       " 'bank',\n",
       " 'night',\n",
       " 'leader',\n",
       " 'miles',\n",
       " 'man',\n",
       " 'agency',\n",
       " 'senate',\n",
       " 'high',\n",
       " 'attorney',\n",
       " 'drug',\n",
       " 'long',\n",
       " 'sunday',\n",
       " 'school',\n",
       " 'children',\n",
       " 'chairman',\n",
       " 'family',\n",
       " 'left',\n",
       " 'statement',\n",
       " 'talks',\n",
       " 'held',\n",
       " 'higher',\n",
       " 'director',\n",
       " 'number',\n",
       " 'sales',\n",
       " 'judge',\n",
       " 'rose',\n",
       " 'six',\n",
       " 'leaders',\n",
       " 'inc',\n",
       " 'death',\n",
       " 'know',\n",
       " 'rights',\n",
       " 'announced',\n",
       " 'past',\n",
       " 'interest',\n",
       " 'decision',\n",
       " 'see',\n",
       " 'authorities',\n",
       " 'put',\n",
       " 'power',\n",
       " 'control',\n",
       " 'dollar',\n",
       " 'army',\n",
       " 'gorbachev',\n",
       " 'life',\n",
       " 'march',\n",
       " 'black',\n",
       " 'april',\n",
       " 'price',\n",
       " 'charges',\n",
       " 'area',\n",
       " 'vote',\n",
       " 'second',\n",
       " 'central',\n",
       " 'countries',\n",
       " 'vice',\n",
       " 'forces',\n",
       " 'budget',\n",
       " 'center',\n",
       " 'show',\n",
       " 'secretary',\n",
       " 'times',\n",
       " 'pay',\n",
       " 'republican',\n",
       " 'died',\n",
       " 'issue',\n",
       " 'fire',\n",
       " 'economy',\n",
       " 'trial',\n",
       " 'weeks',\n",
       " 'saturday',\n",
       " 'students',\n",
       " 'corp',\n",
       " 'men',\n",
       " 'troops',\n",
       " 'got',\n",
       " 'share',\n",
       " 'come',\n",
       " 'trading',\n",
       " 'co',\n",
       " 'give',\n",
       " 'prison',\n",
       " 'university',\n",
       " 'cents',\n",
       " 'ms',\n",
       " 'right',\n",
       " 'close',\n",
       " 'hospital',\n",
       " 'recent',\n",
       " 'member',\n",
       " 'aid',\n",
       " 'women',\n",
       " 'june',\n",
       " 'lower',\n",
       " 'conference',\n",
       " 'rate',\n",
       " 'german',\n",
       " 'little',\n",
       " 'rates',\n",
       " 'hours',\n",
       " 'problems',\n",
       " 'district',\n",
       " 'presidential',\n",
       " 'increase',\n",
       " 'released',\n",
       " 'industry',\n",
       " 'health',\n",
       " 'policy',\n",
       " 'reporters',\n",
       " 'exchange',\n",
       " 'information',\n",
       " 'issues',\n",
       " 'th',\n",
       " 'im',\n",
       " 'taken',\n",
       " 'away',\n",
       " 'sen',\n",
       " 'went',\n",
       " 'tax',\n",
       " 'top',\n",
       " 'far',\n",
       " 'am',\n",
       " 'food',\n",
       " 'fell',\n",
       " 'record',\n",
       " 'labor',\n",
       " 'capital',\n",
       " 'head',\n",
       " 'communist',\n",
       " 'groups',\n",
       " 'county',\n",
       " 'peace',\n",
       " 'added',\n",
       " 'condition',\n",
       " 'july',\n",
       " 'germany',\n",
       " 'received',\n",
       " 'thats',\n",
       " 'press',\n",
       " 'iraq',\n",
       " 'order',\n",
       " 'financial',\n",
       " 'employees',\n",
       " 'television',\n",
       " 'opposition',\n",
       " 'america',\n",
       " 'california',\n",
       " 'agreed',\n",
       " 'average',\n",
       " 'reports',\n",
       " 'big',\n",
       " 'human',\n",
       " 'eastern',\n",
       " 'george',\n",
       " 'offer',\n",
       " 'election',\n",
       " 'water',\n",
       " 'companies',\n",
       " 'largest',\n",
       " 'place',\n",
       " 'robert',\n",
       " 'outside',\n",
       " 'known',\n",
       " 'point',\n",
       " 'wife',\n",
       " 'job',\n",
       " 'private',\n",
       " 'change',\n",
       " 'europe',\n",
       " 'james',\n",
       " 'san',\n",
       " 'southern',\n",
       " 'services',\n",
       " 'rep',\n",
       " 'didnt',\n",
       " 'attack',\n",
       " 'total',\n",
       " 'jackson',\n",
       " 'local',\n",
       " 'points',\n",
       " 'street',\n",
       " 'plans',\n",
       " 'council',\n",
       " 'cost',\n",
       " 'lost',\n",
       " 'building',\n",
       " 'action',\n",
       " 'japan',\n",
       " 'investigation',\n",
       " 'move',\n",
       " 'community',\n",
       " 'newspaper',\n",
       " 'small',\n",
       " 'scheduled',\n",
       " 'need',\n",
       " 'cut',\n",
       " 'accused',\n",
       " 'believe',\n",
       " 'return',\n",
       " 'index',\n",
       " 'texas',\n",
       " 'seven',\n",
       " 'nation',\n",
       " 'executive',\n",
       " 'israel',\n",
       " 'morning',\n",
       " 'trying',\n",
       " 'arrested',\n",
       " 'half',\n",
       " 'prime',\n",
       " 'association',\n",
       " 'radio',\n",
       " 'sent',\n",
       " 'medical',\n",
       " 'shot',\n",
       " 'gave',\n",
       " 'met',\n",
       " 'eight',\n",
       " 'continue',\n",
       " 'interview',\n",
       " 'won',\n",
       " 'keep',\n",
       " 'americans',\n",
       " 'thousands',\n",
       " 'working',\n",
       " 'possible',\n",
       " 'strong',\n",
       " 'soldiers',\n",
       " 'great',\n",
       " 'free',\n",
       " 'special',\n",
       " 'refused',\n",
       " 'open',\n",
       " 'justice',\n",
       " 'michael',\n",
       " 'third',\n",
       " 'led',\n",
       " 'africa',\n",
       " 'best',\n",
       " 'london',\n",
       " 'deal',\n",
       " 'japanese',\n",
       " 'analysts',\n",
       " 'contract',\n",
       " 'western',\n",
       " 'real',\n",
       " 'face',\n",
       " 'elections',\n",
       " 'call',\n",
       " 'plant',\n",
       " 'yen',\n",
       " 'making',\n",
       " 'filed',\n",
       " 'town',\n",
       " 'study',\n",
       " 'future',\n",
       " 'planned',\n",
       " 'british',\n",
       " 'charged',\n",
       " 'closed',\n",
       " 'production',\n",
       " 'leave',\n",
       " 'important',\n",
       " 'taking',\n",
       " 'problem',\n",
       " 'officer',\n",
       " 'organization',\n",
       " 'officers',\n",
       " 'kuwait',\n",
       " 'spending',\n",
       " 'front',\n",
       " 'likely',\n",
       " 'iraqi',\n",
       " 'de',\n",
       " 'proposal',\n",
       " 'farmers',\n",
       " 'better',\n",
       " 'telephone',\n",
       " 'proposed',\n",
       " 'lot',\n",
       " 'things',\n",
       " 'final',\n",
       " 'wanted',\n",
       " 'based',\n",
       " 'commission',\n",
       " 'allow',\n",
       " 'allowed',\n",
       " 'involved',\n",
       " 'legislation',\n",
       " 'victims',\n",
       " 'space',\n",
       " 'sold',\n",
       " 'senior',\n",
       " 'bid',\n",
       " 'session',\n",
       " 'northern',\n",
       " 'name',\n",
       " 'gold',\n",
       " 'church',\n",
       " 'done',\n",
       " 'release',\n",
       " 'jobs',\n",
       " 'shares',\n",
       " 'failed',\n",
       " 'large',\n",
       " 'seen',\n",
       " 'side',\n",
       " 'sources',\n",
       " 'ordered',\n",
       " 'young',\n",
       " 'moscow',\n",
       " 'continued',\n",
       " 'st',\n",
       " 'futures',\n",
       " 'meet',\n",
       " 'deficit',\n",
       " 'strike',\n",
       " 'negotiations',\n",
       " 'social',\n",
       " 'computer',\n",
       " 'violence',\n",
       " 'supreme',\n",
       " 'research',\n",
       " 'provide',\n",
       " 'areas',\n",
       " 'flight',\n",
       " 'democrats',\n",
       " 'previous',\n",
       " 'old',\n",
       " 'richard',\n",
       " 'despite',\n",
       " 'run',\n",
       " 'car',\n",
       " 'look',\n",
       " 'approved',\n",
       " 'annual',\n",
       " 'calls',\n",
       " 'gulf',\n",
       " 'hope',\n",
       " 'products',\n",
       " 'paid',\n",
       " 'care',\n",
       " 'situation',\n",
       " 'programs',\n",
       " 'level',\n",
       " 'cases',\n",
       " 'markets',\n",
       " 'effort',\n",
       " 'comment',\n",
       " 'plane',\n",
       " 'main',\n",
       " 'hit',\n",
       " 'evidence',\n",
       " 'recently',\n",
       " 'civil',\n",
       " 'quoted',\n",
       " 'rebels',\n",
       " 'william',\n",
       " 'current',\n",
       " 'value',\n",
       " 'estimated',\n",
       " 'brought',\n",
       " 'bushs',\n",
       " 'running',\n",
       " 'safety',\n",
       " 'income',\n",
       " 'european',\n",
       " 'los',\n",
       " 'summer',\n",
       " 'convicted',\n",
       " 'full',\n",
       " 'summit',\n",
       " 'fall',\n",
       " 'iran',\n",
       " 'wall',\n",
       " 'position',\n",
       " 'cause',\n",
       " 'reached',\n",
       " 'theres',\n",
       " 'speech',\n",
       " 'thought',\n",
       " 'changes',\n",
       " 'relations',\n",
       " 'period',\n",
       " 'dollars',\n",
       " 'worked',\n",
       " 'january',\n",
       " 'efforts',\n",
       " 'compared',\n",
       " 'cash',\n",
       " 'appeared',\n",
       " 'hearing',\n",
       " 'able',\n",
       " 'november',\n",
       " 'declined',\n",
       " 'issued',\n",
       " 'really',\n",
       " 'line',\n",
       " 'live',\n",
       " 'saudi',\n",
       " 'management',\n",
       " 'woman',\n",
       " 'african',\n",
       " 'residents',\n",
       " 'weapons',\n",
       " 'legal',\n",
       " 'visit',\n",
       " 'development',\n",
       " 'fighting',\n",
       " 'hes',\n",
       " 'ruling',\n",
       " 'injured',\n",
       " 'stocks',\n",
       " 'aug',\n",
       " 'angeles',\n",
       " 'convention',\n",
       " 'banks',\n",
       " 'signed',\n",
       " 'lead',\n",
       " 'middle',\n",
       " 'spent',\n",
       " 'ended',\n",
       " 'anonymity',\n",
       " 'effect',\n",
       " 'operations',\n",
       " 'governments',\n",
       " 'living',\n",
       " 'taxes',\n",
       " 'august',\n",
       " 'remain',\n",
       " 'equipment',\n",
       " 'jury',\n",
       " 'navy',\n",
       " 'deputy',\n",
       " 'parents',\n",
       " 'education',\n",
       " 'david',\n",
       " 'jr',\n",
       " 'showed',\n",
       " 'israeli',\n",
       " 'immediately',\n",
       " 'increased',\n",
       " 'forced',\n",
       " 'clear',\n",
       " 'measure',\n",
       " 'son',\n",
       " 'society',\n",
       " 'tried',\n",
       " 'chicago',\n",
       " 'oct',\n",
       " 'december',\n",
       " 'ii',\n",
       " 'base',\n",
       " 'murder',\n",
       " 'charge',\n",
       " 'primary',\n",
       " 'questions',\n",
       " 'damage',\n",
       " 'fair',\n",
       " 'seeking',\n",
       " 'september',\n",
       " 'french',\n",
       " 'homes',\n",
       " 'serious',\n",
       " 'soviets',\n",
       " 'believed',\n",
       " 'moved',\n",
       " 'hundreds',\n",
       " 'considered',\n",
       " 'buy',\n",
       " 'staff',\n",
       " 'independent',\n",
       " 'securities',\n",
       " 'investment',\n",
       " 'nuclear',\n",
       " 'cant',\n",
       " 'spoke',\n",
       " 'airport',\n",
       " 'investors',\n",
       " 'doesnt',\n",
       " 'different',\n",
       " 'movement',\n",
       " 'firm',\n",
       " 'killing',\n",
       " 'looking',\n",
       " 'history',\n",
       " 'february',\n",
       " 'hold',\n",
       " 'win',\n",
       " 'cent',\n",
       " 'emergency',\n",
       " 'land',\n",
       " 'start',\n",
       " 'question',\n",
       " 'bring',\n",
       " 'congressional',\n",
       " 'paul',\n",
       " 'claims',\n",
       " 'sell',\n",
       " 'test',\n",
       " 'aids',\n",
       " 'act',\n",
       " 'opened',\n",
       " 'conservative',\n",
       " 'environmental',\n",
       " 'pm',\n",
       " 'returned',\n",
       " 'decided',\n",
       " 'parties',\n",
       " 'daily',\n",
       " 'needed',\n",
       " 'caused',\n",
       " 'followed',\n",
       " 'ground',\n",
       " 'leading',\n",
       " 'denied',\n",
       " 'coast',\n",
       " 'result',\n",
       " 'energy',\n",
       " 'funds',\n",
       " 'october',\n",
       " 'person',\n",
       " 'bond',\n",
       " 'jones',\n",
       " 'getting',\n",
       " 'process',\n",
       " 'nov',\n",
       " 'available',\n",
       " 'nine',\n",
       " 'quarter',\n",
       " 'governor',\n",
       " 'voters',\n",
       " 'offered',\n",
       " 'dec',\n",
       " 'baker',\n",
       " 'aircraft',\n",
       " 'identified',\n",
       " 'majority',\n",
       " 'guilty',\n",
       " 'spokeswoman',\n",
       " 'role',\n",
       " 'farm',\n",
       " 'demand',\n",
       " 'results',\n",
       " 'jan',\n",
       " 'panel',\n",
       " 'gov',\n",
       " 'red',\n",
       " 'orders',\n",
       " 'inflation',\n",
       " 'candidates',\n",
       " 'source',\n",
       " 'alleged',\n",
       " 'costs',\n",
       " 'raised',\n",
       " 'cars',\n",
       " 'started',\n",
       " 'mother',\n",
       " 'college',\n",
       " 'soon',\n",
       " 'systems',\n",
       " 'speaking',\n",
       " 'team',\n",
       " 'growth',\n",
       " 'accident',\n",
       " 'rule',\n",
       " 'survey',\n",
       " 'stop',\n",
       " 'conditions',\n",
       " 'remains',\n",
       " 'turned',\n",
       " 'wants',\n",
       " 'figures',\n",
       " 'armed',\n",
       " 'heart',\n",
       " 'thing',\n",
       " 'park',\n",
       " 'noted',\n",
       " 'king',\n",
       " 'housing',\n",
       " 'border',\n",
       " 'candidate',\n",
       " 'ministry',\n",
       " 'body',\n",
       " 'pentagon',\n",
       " 'secret',\n",
       " 'criminal',\n",
       " 'named',\n",
       " 'un',\n",
       " 'cities',\n",
       " 'network',\n",
       " 'begin',\n",
       " 'claimed',\n",
       " 'let',\n",
       " 'assistant',\n",
       " 'drugs',\n",
       " 'student',\n",
       " 'doing',\n",
       " 'dead',\n",
       " 'arms',\n",
       " 'pressure',\n",
       " 'letter',\n",
       " 'dropped',\n",
       " 'race',\n",
       " 'common',\n",
       " 'population',\n",
       " 'embassy',\n",
       " 'request',\n",
       " 'station',\n",
       " 'key',\n",
       " 'crisis',\n",
       " 'fund',\n",
       " 'documents',\n",
       " 'insurance',\n",
       " 'sept',\n",
       " 'series',\n",
       " 'saw',\n",
       " 'china',\n",
       " 'estate',\n",
       " 'kind',\n",
       " 'wrote',\n",
       " 'addition',\n",
       " 'treaty',\n",
       " 'panama',\n",
       " 'independence',\n",
       " 'date',\n",
       " 'tons',\n",
       " 'project',\n",
       " 'try',\n",
       " 'companys',\n",
       " 'fired',\n",
       " 'debt',\n",
       " 'biggest',\n",
       " 'sale',\n",
       " 'lawyers',\n",
       " 'loss',\n",
       " 'republic',\n",
       " 'trip',\n",
       " 'elected',\n",
       " 'heavy',\n",
       " 'decline',\n",
       " 'review',\n",
       " 'airlines',\n",
       " 'testimony',\n",
       " 'amount',\n",
       " 'industrial',\n",
       " 'reform',\n",
       " 'lives',\n",
       " 'personal',\n",
       " 'schools',\n",
       " 'attempt',\n",
       " 'hard',\n",
       " 'apparently',\n",
       " 'term',\n",
       " 'feet',\n",
       " 'mexico',\n",
       " 'indicated',\n",
       " 'weather',\n",
       " 'supporters',\n",
       " 'means',\n",
       " 'latest',\n",
       " 'gas',\n",
       " 'weve',\n",
       " 'details',\n",
       " 'poor',\n",
       " 'beginning',\n",
       " 'records',\n",
       " 'mayor',\n",
       " 'crime',\n",
       " 'present',\n",
       " 'm',\n",
       " 'rejected',\n",
       " 'france',\n",
       " 'ohio',\n",
       " 'sought',\n",
       " 'difficult',\n",
       " 'arab',\n",
       " 'required',\n",
       " 'protest',\n",
       " 'form',\n",
       " 'wounded',\n",
       " 'child',\n",
       " 'fight',\n",
       " 'mission',\n",
       " 'fact',\n",
       " 'river',\n",
       " 'countrys',\n",
       " 'tokyo',\n",
       " 'helped',\n",
       " 'theyre',\n",
       " 'protection',\n",
       " 'coming',\n",
       " 'volume',\n",
       " 'families',\n",
       " 'feel',\n",
       " 'island',\n",
       " 'bus',\n",
       " 'region',\n",
       " 'terms',\n",
       " 'fiscal',\n",
       " 'film',\n",
       " 'training',\n",
       " 'suggested',\n",
       " 'assets',\n",
       " 'turn',\n",
       " 'described',\n",
       " 'loan',\n",
       " 'debate',\n",
       " 'delegates',\n",
       " 'fitzwater',\n",
       " 'rally',\n",
       " 'tell',\n",
       " 'trust',\n",
       " 'light',\n",
       " 'increases',\n",
       " 'joint',\n",
       " 'britain',\n",
       " 'unions',\n",
       " 'operation',\n",
       " 'fbi',\n",
       " 'hour',\n",
       " 'businesses',\n",
       " 'sure',\n",
       " 'jewish',\n",
       " 'arrived',\n",
       " 'cocaine',\n",
       " 'property',\n",
       " 'seek',\n",
       " 'votes',\n",
       " 'worth',\n",
       " 'dr',\n",
       " 'broke',\n",
       " 'minutes',\n",
       " 'due',\n",
       " 'citizens',\n",
       " 'low',\n",
       " 'ready',\n",
       " 'savings',\n",
       " 'concern',\n",
       " 'additional',\n",
       " 'leaving',\n",
       " 'policies',\n",
       " 'reduce',\n",
       " 'bills',\n",
       " 'age',\n",
       " 'illegal',\n",
       " 'claim',\n",
       " 'shooting',\n",
       " 'room',\n",
       " 'approval',\n",
       " 'lawmakers',\n",
       " 'rest',\n",
       " 'post',\n",
       " 'friends',\n",
       " 'bob',\n",
       " 'treatment',\n",
       " 'reason',\n",
       " 'step',\n",
       " 'calif',\n",
       " 'domestic',\n",
       " 'disease',\n",
       " 'agriculture',\n",
       " 'rain',\n",
       " 'thomas',\n",
       " 'tests',\n",
       " 'poll',\n",
       " 'goods',\n",
       " 'hotel',\n",
       " 'mark',\n",
       " 'leadership',\n",
       " 'matter',\n",
       " 'nationwide',\n",
       " 'appeal',\n",
       " 'message',\n",
       " 'suffered',\n",
       " 'receive',\n",
       " 'carrying',\n",
       " 'discuss',\n",
       " 'sentence',\n",
       " 'published',\n",
       " 'travel',\n",
       " 'afternoon',\n",
       " 'ruled',\n",
       " 'progress',\n",
       " 'passed',\n",
       " 'book',\n",
       " 'short',\n",
       " 'ship',\n",
       " 'selling',\n",
       " 'potential',\n",
       " 'smith',\n",
       " 'headquarters',\n",
       " 'ill',\n",
       " 'threat',\n",
       " 'view',\n",
       " 'treasury',\n",
       " 'list',\n",
       " 'earnings',\n",
       " 'sign',\n",
       " 'joined',\n",
       " 'site',\n",
       " 'dow',\n",
       " 'authority',\n",
       " 'contracts',\n",
       " 'catholic',\n",
       " 'sides',\n",
       " 'arrest',\n",
       " 'holding',\n",
       " 'massachusetts',\n",
       " 'florida',\n",
       " 'bad',\n",
       " 'lines',\n",
       " 'makes',\n",
       " 'francisco',\n",
       " 'b',\n",
       " 'gorbachevs',\n",
       " 'settlement',\n",
       " 'conducted',\n",
       " 'doctors',\n",
       " 'kennedy',\n",
       " 'consider',\n",
       " 'voted',\n",
       " 'todays',\n",
       " 'ban',\n",
       " 'guard',\n",
       " 'rise',\n",
       " 'affairs',\n",
       " 'planes',\n",
       " 'announcement',\n",
       " 'commercial',\n",
       " 'talk',\n",
       " 'course',\n",
       " 'separate',\n",
       " 'grand',\n",
       " 'media',\n",
       " 'jail',\n",
       " 'arabia',\n",
       " 'feb',\n",
       " 'urged',\n",
       " 'invasion',\n",
       " 'freedom',\n",
       " 'attorneys',\n",
       " 'chance',\n",
       " 'sentenced',\n",
       " 'testified',\n",
       " 'longer',\n",
       " 'necessary',\n",
       " 'stay',\n",
       " 'carried',\n",
       " 'growing',\n",
       " 'designed',\n",
       " 'blood',\n",
       " 'charles',\n",
       " 'associated',\n",
       " 'frank',\n",
       " 'season',\n",
       " 'crowd',\n",
       " 'magazine',\n",
       " 'supplies',\n",
       " 'shortly',\n",
       " 'occurred',\n",
       " 'lawyer',\n",
       " 'prosecutors',\n",
       " ...]"
      ]
     },
     "execution_count": 30,
     "metadata": {},
     "output_type": "execute_result"
    }
   ],
   "source": [
    "vocas"
   ]
  },
  {
   "cell_type": "code",
   "execution_count": 31,
   "metadata": {},
   "outputs": [],
   "source": [
    "LDA_Model = LDAVI(topics, document_file_path, vocas, output_dir_name)"
   ]
  },
  {
   "cell_type": "code",
   "execution_count": 32,
   "metadata": {},
   "outputs": [
    {
     "name": "stdout",
     "output_type": "stream",
     "text": [
      "50\n",
      "['i', 'new', 'percent', 'people', 'year', 'two', 'million', 'president', 'last', 'government', 'years', 'first', 'police', 'state', 'states', 'officials', 'soviet', 'united', 'bush', 'time', 'three', 'billion', 'today', 'national', 'told', 'american', 'thursday', 'federal', 'house', 'week', 'court', 'day', 'tuesday', 'made', 'news', 'wednesday', 'monday', 'friday', 'say', 'company', 'city', 'party', 'just', 'group', 'york', 'market', 'report', 'department', 'military', 'south', 'union', 'members', 'home', 'west', 'political', 'reported', 'make', 'going', 'office', 'get', 'spokesman', 'dont', 'world', 'like', 'four', 'think', 'committee', 'back', 'work', 'defense', 'says', 'country', 'war', 'congress', 'nations', 'foreign', 'official', 'public', 'trade', 'take', 'prices', 'month', 'general', 'economic', 'five', 'air', 'money', 'stock', 'called', 'found', 'dukakis', 'days', 'campaign', 'law', 'months', 'program', 'case', 'asked', 'workers', 'administration', 'late', 'business', 'east', 'meeting', 'support', 'earlier', 'chief', 'service', 'plan', 'white', 'go', 'help', 'north', 'ago', 'early', 'board', 'major', 'killed', 'oil', 'force', 'expected', 'mrs', 'minister', 'yearold', 'washington', 'john', 'end', 'security', 'good', 'saying', 'international', 'agreement', 'came', 'system', 'democratic', 'bill', 'reagan', 'bank', 'night', 'leader', 'miles', 'man', 'agency', 'senate', 'high', 'attorney', 'drug', 'long', 'sunday', 'school', 'children', 'chairman', 'family', 'left', 'statement', 'talks', 'held', 'higher', 'director', 'number', 'sales', 'judge', 'rose', 'six', 'leaders', 'inc', 'death', 'know', 'rights', 'announced', 'past', 'interest', 'decision', 'see', 'authorities', 'put', 'power', 'control', 'dollar', 'army', 'gorbachev', 'life', 'march', 'black', 'april', 'price', 'charges', 'area', 'vote', 'second', 'central', 'countries', 'vice', 'forces', 'budget', 'center', 'show', 'secretary', 'times', 'pay', 'republican', 'died', 'issue', 'fire', 'economy', 'trial', 'weeks', 'saturday', 'students', 'corp', 'men', 'troops', 'got', 'share', 'come', 'trading', 'co', 'give', 'prison', 'university', 'cents', 'ms', 'right', 'close', 'hospital', 'recent', 'member', 'aid', 'women', 'june', 'lower', 'conference', 'rate', 'german', 'little', 'rates', 'hours', 'problems', 'district', 'presidential', 'increase', 'released', 'industry', 'health', 'policy', 'reporters', 'exchange', 'information', 'issues', 'th', 'im', 'taken', 'away', 'sen', 'went', 'tax', 'top', 'far', 'am', 'food', 'fell', 'record', 'labor', 'capital', 'head', 'communist', 'groups', 'county', 'peace', 'added', 'condition', 'july', 'germany', 'received', 'thats', 'press', 'iraq', 'order', 'financial', 'employees', 'television', 'opposition', 'america', 'california', 'agreed', 'average', 'reports', 'big', 'human', 'eastern', 'george', 'offer', 'election', 'water', 'companies', 'largest', 'place', 'robert', 'outside', 'known', 'point', 'wife', 'job', 'private', 'change', 'europe', 'james', 'san', 'southern', 'services', 'rep', 'didnt', 'attack', 'total', 'jackson', 'local', 'points', 'street', 'plans', 'council', 'cost', 'lost', 'building', 'action', 'japan', 'investigation', 'move', 'community', 'newspaper', 'small', 'scheduled', 'need', 'cut', 'accused', 'believe', 'return', 'index', 'texas', 'seven', 'nation', 'executive', 'israel', 'morning', 'trying', 'arrested', 'half', 'prime', 'association', 'radio', 'sent', 'medical', 'shot', 'gave', 'met', 'eight', 'continue', 'interview', 'won', 'keep', 'americans', 'thousands', 'working', 'possible', 'strong', 'soldiers', 'great', 'free', 'special', 'refused', 'open', 'justice', 'michael', 'third', 'led', 'africa', 'best', 'london', 'deal', 'japanese', 'analysts', 'contract', 'western', 'real', 'face', 'elections', 'call', 'plant', 'yen', 'making', 'filed', 'town', 'study', 'future', 'planned', 'british', 'charged', 'closed', 'production', 'leave', 'important', 'taking', 'problem', 'officer', 'organization', 'officers', 'kuwait', 'spending', 'front', 'likely', 'iraqi', 'de', 'proposal', 'farmers', 'better', 'telephone', 'proposed', 'lot', 'things', 'final', 'wanted', 'based', 'commission', 'allow', 'allowed', 'involved', 'legislation', 'victims', 'space', 'sold', 'senior', 'bid', 'session', 'northern', 'name', 'gold', 'church', 'done', 'release', 'jobs', 'shares', 'failed', 'large', 'seen', 'side', 'sources', 'ordered', 'young', 'moscow', 'continued', 'st', 'futures', 'meet', 'deficit', 'strike', 'negotiations', 'social', 'computer', 'violence', 'supreme', 'research', 'provide', 'areas', 'flight', 'democrats', 'previous', 'old', 'richard', 'despite', 'run', 'car', 'look', 'approved', 'annual', 'calls', 'gulf', 'hope', 'products', 'paid', 'care', 'situation', 'programs', 'level', 'cases', 'markets', 'effort', 'comment', 'plane', 'main', 'hit', 'evidence', 'recently', 'civil', 'quoted', 'rebels', 'william', 'current', 'value', 'estimated', 'brought', 'bushs', 'running', 'safety', 'income', 'european', 'los', 'summer', 'convicted', 'full', 'summit', 'fall', 'iran', 'wall', 'position', 'cause', 'reached', 'theres', 'speech', 'thought', 'changes', 'relations', 'period', 'dollars', 'worked', 'january', 'efforts', 'compared', 'cash', 'appeared', 'hearing', 'able', 'november', 'declined', 'issued', 'really', 'line', 'live', 'saudi', 'management', 'woman', 'african', 'residents', 'weapons', 'legal', 'visit', 'development', 'fighting', 'hes', 'ruling', 'injured', 'stocks', 'aug', 'angeles', 'convention', 'banks', 'signed', 'lead', 'middle', 'spent', 'ended', 'anonymity', 'effect', 'operations', 'governments', 'living', 'taxes', 'august', 'remain', 'equipment', 'jury', 'navy', 'deputy', 'parents', 'education', 'david', 'jr', 'showed', 'israeli', 'immediately', 'increased', 'forced', 'clear', 'measure', 'son', 'society', 'tried', 'chicago', 'oct', 'december', 'ii', 'base', 'murder', 'charge', 'primary', 'questions', 'damage', 'fair', 'seeking', 'september', 'french', 'homes', 'serious', 'soviets', 'believed', 'moved', 'hundreds', 'considered', 'buy', 'staff', 'independent', 'securities', 'investment', 'nuclear', 'cant', 'spoke', 'airport', 'investors', 'doesnt', 'different', 'movement', 'firm', 'killing', 'looking', 'history', 'february', 'hold', 'win', 'cent', 'emergency', 'land', 'start', 'question', 'bring', 'congressional', 'paul', 'claims', 'sell', 'test', 'aids', 'act', 'opened', 'conservative', 'environmental', 'pm', 'returned', 'decided', 'parties', 'daily', 'needed', 'caused', 'followed', 'ground', 'leading', 'denied', 'coast', 'result', 'energy', 'funds', 'october', 'person', 'bond', 'jones', 'getting', 'process', 'nov', 'available', 'nine', 'quarter', 'governor', 'voters', 'offered', 'dec', 'baker', 'aircraft', 'identified', 'majority', 'guilty', 'spokeswoman', 'role', 'farm', 'demand', 'results', 'jan', 'panel', 'gov', 'red', 'orders', 'inflation', 'candidates', 'source', 'alleged', 'costs', 'raised', 'cars', 'started', 'mother', 'college', 'soon', 'systems', 'speaking', 'team', 'growth', 'accident', 'rule', 'survey', 'stop', 'conditions', 'remains', 'turned', 'wants', 'figures', 'armed', 'heart', 'thing', 'park', 'noted', 'king', 'housing', 'border', 'candidate', 'ministry', 'body', 'pentagon', 'secret', 'criminal', 'named', 'un', 'cities', 'network', 'begin', 'claimed', 'let', 'assistant', 'drugs', 'student', 'doing', 'dead', 'arms', 'pressure', 'letter', 'dropped', 'race', 'common', 'population', 'embassy', 'request', 'station', 'key', 'crisis', 'fund', 'documents', 'insurance', 'sept', 'series', 'saw', 'china', 'estate', 'kind', 'wrote', 'addition', 'treaty', 'panama', 'independence', 'date', 'tons', 'project', 'try', 'companys', 'fired', 'debt', 'biggest', 'sale', 'lawyers', 'loss', 'republic', 'trip', 'elected', 'heavy', 'decline', 'review', 'airlines', 'testimony', 'amount', 'industrial', 'reform', 'lives', 'personal', 'schools', 'attempt', 'hard', 'apparently', 'term', 'feet', 'mexico', 'indicated', 'weather', 'supporters', 'means', 'latest', 'gas', 'weve', 'details', 'poor', 'beginning', 'records', 'mayor', 'crime', 'present', 'm', 'rejected', 'france', 'ohio', 'sought', 'difficult', 'arab', 'required', 'protest', 'form', 'wounded', 'child', 'fight', 'mission', 'fact', 'river', 'countrys', 'tokyo', 'helped', 'theyre', 'protection', 'coming', 'volume', 'families', 'feel', 'island', 'bus', 'region', 'terms', 'fiscal', 'film', 'training', 'suggested', 'assets', 'turn', 'described', 'loan', 'debate', 'delegates', 'fitzwater', 'rally', 'tell', 'trust', 'light', 'increases', 'joint', 'britain', 'unions', 'operation', 'fbi', 'hour', 'businesses', 'sure', 'jewish', 'arrived', 'cocaine', 'property', 'seek', 'votes', 'worth', 'dr', 'broke', 'minutes', 'due', 'citizens', 'low', 'ready', 'savings', 'concern', 'additional', 'leaving', 'policies', 'reduce', 'bills', 'age', 'illegal', 'claim', 'shooting', 'room', 'approval', 'lawmakers', 'rest', 'post', 'friends', 'bob', 'treatment', 'reason', 'step', 'calif', 'domestic', 'disease', 'agriculture', 'rain', 'thomas', 'tests', 'poll', 'goods', 'hotel', 'mark', 'leadership', 'matter', 'nationwide', 'appeal', 'message', 'suffered', 'receive', 'carrying', 'discuss', 'sentence', 'published', 'travel', 'afternoon', 'ruled', 'progress', 'passed', 'book', 'short', 'ship', 'selling', 'potential', 'smith', 'headquarters', 'ill', 'threat', 'view', 'treasury', 'list', 'earnings', 'sign', 'joined', 'site', 'dow', 'authority', 'contracts', 'catholic', 'sides', 'arrest', 'holding', 'massachusetts', 'florida', 'bad', 'lines', 'makes', 'francisco', 'b', 'gorbachevs', 'settlement', 'conducted', 'doctors', 'kennedy', 'consider', 'voted', 'todays', 'ban', 'guard', 'rise', 'affairs', 'planes', 'announcement', 'commercial', 'talk', 'course', 'separate', 'grand', 'media', 'jail', 'arabia', 'feb', 'urged', 'invasion', 'freedom', 'attorneys', 'chance', 'sentenced', 'testified', 'longer', 'necessary', 'stay', 'carried', 'growing', 'designed', 'blood', 'charles', 'associated', 'frank', 'season', 'crowd', 'magazine', 'supplies', 'shortly', 'occurred', 'lawyer', 'prosecutors', 'parliament', 'broadcast', 'appeals', 'calling', 'corporate', 'drop', 'popular', 'northwest', 'idea', 'opening', 'works', 'manager', 'stand', 'response', 'built', 'republicans', 'mikhail', 'attention', 'wont', 'operating', 'pilots', 'laws', 'tv', 'investigators', 'credit', 'consumer', 'hostages', 'j', 'agents', 'husband', 'field', 'served', 'single', 'newspapers', 'club', 'sanctions', 'airline', 'road', 'hopes', 'warned', 'evening', 'dealers', 'suit', 'kept', 'bonds', 'witnesses', 'korea', 'desert', 'boston', 'break', 'reserve', 'hand', 'ask', 'weekend', 'transportation', 'significant', 'giving', 'protect', 'corn', 'patients', 'ive', 'reach', 'needs', 'attacks', 'pacific', 'units', 'daughter', 'stopped', 'prepared', 'pound', 'institute', 'raise', 'art', 'entire', 'fraud', 'payments', 'gen', 'figure', 'departments', 'listed', 'spread', 'unchanged', 'cuts', 'measures', 'inside', 'incident', 'created', 'expect', 'plants', 'concerned', 'gasoline', 'paris', 'enforcement', 'lawsuit', 'bentsen', 'expressed', 'construction', 'store', 'cbs', 'korean', 'criticized', 'commerce', 'floor', 'knew', 'prisoners', 'resolution', 'determine', 'assembly', 'father', 'concerns', 'fourth', 'written', 'christian', 'regional', 'noriega', 'immediate', 'impact', 'provided', 'demonstrators', 'heard', 'quickly', 'movie', 'waste', 'coalition', 'deaths', 'cabinet', 'crash', 'star', 'electric', 'buying', 'play', 'rural', 'blamed', 'ahead', 'range', 'forward', 'industries', 'division', 'ounce', 'slightly', 'word', 'remained', 'benefits', 'moving', 'stores', 'indictment', 'finance', 'injuries', 'names', 'victory', 'constitution', 'homeless', 'promised', 'democracy', 'facilities', 'worlds', 'joseph', 'republics', 'address', 'analyst', 'declared', 'palestinian', 'pounds', 'gop', 'require', 'launch', 'limited', 'williams', 'music', 'streets', 'wasnt', 'numbers', 'rising', 'story', 'data', 'shows', 'passengers', 'saddam', 'experts', 'persian', 'crew', 'round', 'huge', 'hurt', 'love', 'stage', 'felt', 'mr', 'serve', 'heat', 'hands', 'nearby', 'presidents', 'ways', 'aboard', 'gain', 'closing', 'vietnam', 'liberal', 'prevent', 'sharply', 'comes', 'fuel', 'degrees', 'courts', 'peoples', 'senators', 'martin', 'acknowledged', 'lack', 'asking', 'battle', 'basis', 'brief', 'citys', 'crimes', 'nomination', 'carry', 'activity', 'package', 'mass', 'italian', 'chinese', 'agencies', 'profits', 'continuing', 'ran', 'nbc', 'resources', 'editor', 'researchers', 'decisions', 'meese', 'strength', 'cancer', 'supply', 'lt', 'shuttle', 'criticism', 'iii', 'greater', 'indian', 'assistance', 'c', 'illinois', 'cooperation', 'pilot', 'bodies', 'send', 'count', 'dole', 'nicaragua', 'missiles', 'organizations', 'rules', 'personnel', 'loans', 'driving', 'valley', 'door', 'l', 'wouldnt', 'guerrillas', 'highest', 'access', 'customers', 'subcommittee', 'atlanta', 'reforms', 'estimates', 'youre', 'threatened', 'drive', 'award', 'contact', 'failure', 'democrat', 'responsibility', 'accounts', 'roman', 'demanded', 'dispute', 'ticket', 'imports', 'wrong', 'religious', 'tass', 'introduced', 'takeover', 'responsible', 'gone', 'meetings', 'blacks', 'amendment', 'advance', 'pope', 'miami', 'occupied', 'estimate', 'abortion', 'civilian', 'technology', 'paper', 'bought', 'professor', 'avoid', 'gained', 'institutions', 'contra', 'reagans', 'involving', 'louis', 'remaining', 'subject', 'mandela', 'account', 'pleaded', 'canada', 'exports', 'faces', 'removed', 'kill', 'influence', 'train', 'showing', 'berlin', 'performance', 'increasing', 'moslem', 'actions', 'sea', 'demands', 'traders', 'complex', 'politics', 'scientists', 'iranian', 'contras', 'mean', 'headed', 'treated', 'risk', 'protesters', 'choice', 'jim', 'interests', 'born', 'houses', 'e', 'recession', 'proposals', 'seat', 'direct', 'leftist', 'gains', 'village', 'allegations', 'critics', 'marks', 'create', 'buildings', 'talking', 'happened', 'played', 'produced', 'ambassador', 'johnson', 'dozen', 'safe', 'foot', 'losses', 'century', 'standards', 'goes', 'agree', 'accept', 'levels', 'r', 'standard', 'percentage', 'cited', 'changed', 'placed', 'attacked', 'product', 'produce', 'aide', 'apartment', 'owned', 'specific', 'hear', 'virginia', 'build', 'minority', 'strategic', 'material', 'england', 'answer', 'ending', 'opposed', 'pact', 'considering', 'ministers', 'established', 'improve', 'representatives', 'game', 'mind', 'completed', 'controls', 'fled', 'canadian', 'waiting', 'brother', 'violations', 'drought', 'columbia', 'adding', 'read', 'pretty', 'spend', 'allies', 'cross', 'natural', 'd', 'decade', 'voting', 'swiss', 'activities', 'related', 'class', 'india', 'maintain', 'formed', 'signs', 'houston', 'aides', 'fear', 'bomb', 'possibility', 'sense', 'millions', 'diplomatic', 'unable', 'appear', 'largely', 'snow', 'unit', 'virtually', 'brown', 'reasons', 'forecast', 'warning', 'reduction', 'traffic', 'virus', 'port', 'troy', 'status', 'crude', 'ford', 'stations', 'teachers', 'christmas', 'planning', 'square', 'inches', 'directly', 'hospitals', 'takes', 'agricultural', 'raising', 'temperatures', 'ties', 'everybody', 'destroyed', 'totaled', 'turkey', 'winter', 'keeping', 'mph', 'search', 'twice', 'looked', 'currency', 'roberts', 'southwest', 'supported', 'aimed', 'smaller', 'downtown', 'abc', 'bankruptcy', 'corps', 'decide', 'previously', 'chrysler', 'delegation', 'blue', 'predicted', 'isnt', 'comments', 'commander', 'regulations', 'peter', 'revenue', 'fees', 'edward', 'actually', 'block', 'career', 'henry', 'earth', 'positions', 'diplomats', 'lose', 'testing', 'assault', 'tour', 'tuesdays', 'discussed', 'steps', 'behalf', 'lebanon', 'cover', 'clearly', 'committees', 'jersey', 'nato', 'limit', 'counts', 'understand', 'spring', 'launched', 'complained', 'returning', 'immigration', 'federation', 'offers', 'complete', 'opinion', 'h', 'thompson', 'interior', 'girl', 'couple', 'discovered', 'settled', 'platform', 'winds', 'effective', 'returns', 'carolina', 'surgery', 'davis', 'affected', 'chemical', 'opportunity', 'statements', 'draft', 'flights', 'composite', 'thursdays', 'americas', 'lived', 'success', 'freed', 'larger', 'original', 'heads', 'command', 'dc', 'economists', 'conduct', 'favor', 'nasa', 'combat', 'polls', 'couldnt', 'simply', 'jack', 'accepted', 'bureau', 'donald', 'activists', 'gun', 'missing', 'northeast', 'allowing', 'prize', 'lee', 'steel', 'restrictions', 'judges', 'province', 'attend', 'hot', 'cuba', 'worker', 'fine', 'technical', 'suspended', 'nominee', 'foreigners', 'f', 'willing', 'visited', 'games', 'offices', 'reduced', 'manufacturing', 'palestinians', 'improved', 'imposed', 'animals', 'executives', 'entered', 'quality', 'traded', 'attended', 'contributions', 'suspected', 'mecham', 'save', 'boy', 'positive', 'protests', 'individual', 'worst', 'delay', 'wheat', 'quayle', 'table', 'remove', 'bushel', 'jumped', 'plo', 'widespread', 'pending', 'grain', 'coup', 'boeing', 'owner', 'delivery', 'cold', 'temporary', 'auto', 'net', 'jews', 'penalty', 'prosecutor', 'internal', 'challenge', 'economist', 'fifth', 'constitutional', 'sports', 'remarks', 'boat', 'projects', 'benefit', 'tapes', 'die', 'agent', 'critical', 'acting', 'hoped', 'dan', 'lake', 'presence', 'atlantic', 'baby', 'smoking', 'believes', 'walked', 'size', 'struck', 'argued', 'la', 'profit', 'banking', 'band', 'true', 'certainly', 'rock', 'truck', 'existing', 'eventually', 'victim', 'financing', 'adopted', 'permit', 'widely', 'repeatedly', 'awards', 'connection', 'individuals', 'letters', 'telling', 'humphrey', 'relatives', 'iraqs', 'expensive', 'relationship', 'santa', 'accord', 'confirmed', 'rebel', 'friend', 'referring', 'fully', 'requires', 'conspiracy', 'cuban', 'starting', 'crop', 'join', 'senator', 'camp', 'happen', 'severe', 'gets', 'export', 'compromise', 'committed', 'event', 'normal', 'bringing', 'intended', 'scene', 'hong', 'customs', 'allegedly', 'silver', 'disaster', 'actor', 'studies', 'partys', 'negotiators', 'revolution', 'pushed', 'abroad', 'francs', 'mississippi', 'events', 'ships', 'academy', 'foundation', 'legislature', 'solidarity', 'responded', 'thatcher', 'playing', 'burned', 'finished', 'environment', 'flying', 'communications', 'centers', 'hussein', 'target', 'tough', 'trouble', 'hostage', 'suspect', 'sound', 'merger', 'task', 'subsidiary', 'ability', 'employment', 'highway', 'dozens', 'germanys', 'islands', 'rev', 'heavily', 'innocent', 'jet', 'representative', 'conflict', 'fish', 'wage', 'forest', 'gathered', 'territory', 'registered', 'museum', 'irs', 'learned', 'powerful', 'adviser', 'representing', 'interested', 'theater', 'apartheid', 'beirut', 'acres', 'circuit', 'losing', 'beach', 'presented', 'picked', 'difference', 'gives', 'duty', 'arrests', 'provides', 'marketing', 'filing', 'deadline', 'consumers', 'kansas', 'active', 'pollution', 'differences', 'anniversary', 'intelligence', 'covered', 'practice', 'singer', 'experience', 'books', 'wright', 'ceasefire', 'relief', 'kong', 'voice', 'hall', 'missile', 'fort', 'reading', 'permission', 'requirements', 'guns', 'hearings', 'opponents', 'regulators', 'medicine', 'fed', 'tom', 'approach', 'seized', 'stake', 'captured', 'words', 'seriously', 'caught', 'conviction', 'admitted', 'detroit', 'tanks', 'helicopter', 'section', 'stood', 'god', 'speculation', 'demonstrations', 'distribution', 'items', 'withdrawal', 'materials', 'note', 'terrorist', 'marine', 'earned', 'dangerous', 'ethnic', 'milken', 'barrel', 'teacher', 'questioned', 'unemployment', 'papers', 'competition', 'provisions', 'organized', 'wine', 'reducing', 'defendants', 'racial', 'gallon', 'epa', 'global', 'shown', 'trees', 'mitchell', 'seeing', 'mail', 'jesse', 'barry', 'audience', 'follow', 'arthur', 'fast', 'replace', 'buyout', 'formal', 'spain', 'rating', 'deep', 'gaza', 'currently', 'van', 'falling', 'schedule', 'disclosed', 'employee', 'industrials', 'purchase', 'vehicles', 'fridays', 'motor', 'climbed', 'pass', 'communists', 'hair', 'amid', 'wilson', 'threats', 'politburo', 'accounting', 'drexel', 'decades', 'weekly', 'standing', 'legislative', 'appears', 'firefighters', 'attributed', 'damaged', 'owners', 'japans', 'forms', 'ousted', 'soybean', 'fears', 'recovered', 'resistance', 'acquisition', 'push', 'slow', 'demanding', 'philadelphia', 'continues', 'initial', 'danger', 'bar', 'writing', 'driver', 'english', 'split', 'serving', 'speaker', 'lincoln', 'urban', 'havent', 'direction', 'granted', 'hill', 'represents', 'explosion', 'retired', 'developed', 'moves', 'conservatives', 'tank', 'nj', 'ny', 'permanent', 'strikes', 'boys', 'watch', 'southeast', 'shut', 'powers', 'vehicle', 'earthquake', 'fla', 'neighborhood', 'sharp', 'wide', 'civilians', 'worldwide', 'league', 'appointed', 'accidents', 'begins', 'alternative', 'picture', 'storm', 'users', 'presidency', 'ap', 'w', 'determined', 'firms', 'ec', 'speed', 'politicians', 'providing', 'administrations', 'seats', 'violated', 'journalists', 'looks', 'cable', 'sandinista', 'brothers', 'drove', 'facing', 'arizona', 'flew', 'monthly', 'basic', 'premier', 'involvement', 'poland', 'aviation', 'whites', 'winning', 'anderson', 'kids', 'encourage', 'boost', 'resignation', 'prompted', 'pictures', 'obviously', 'investigating', 'extended', 'express', 'ensure', 'alcohol', 'degree', 'transfer', 'successful', 'rival', 'col', 'goal', 'overnight', 'substantial', 'partly', 'route', 'rescue', 'affect', 'practices', 'matters', 'putting', 'path', 'liberation', 'va', 'highly', 'negative', 'prove', 'baghdad', 'regular', 'arguments', 'sector', 'alabama', 'alan', 'quake', 'supports', 'watching', 'nicaraguan', 'restructuring', 'particular', 'giant', 'scale', 'cutting', 'negotiate', 'declining', 'germans', 'runs', 'discussions', 'advertising', 'grew', 'pace', 'grant', 'dealing', 'mondays', 'founded', 'minnesota', 'selected', 'version', 'respond', 'possibly', 'birth', 'advanced', 'el', 'receiving', 'language', 'broken', 'philippines', 'anc', 'paying', 'continental', 'damages', 'irish', 'aware', 'blame', 'sandinistas', 'delivered', 'wars', 'electoral', 'fought', 'simon', 'abuse', 'quite', 'plea', 'reportedly', 'resign', 'michigan', 'ortega', 'moderate', 'bit', 'dallas', 'expects', 'detained', 'howard', 'exploded', 'notes', 'memorial', 'municipal', 'confidence', 'sending', 'royal', 'baltimore', 'hampshire', 'directors', 'science', 'alliance', 'vatican', 'p', 'russian', 'prominent', 'chamber', 'uprising', 'ireland', 'enter', 'counsel', 'districts', 'recommended', 'resulted', 'banned', 'chosen', 'gephardt', 'commissioner', 'journal', 'relatively', 'soybeans', 'oklahoma', 'pennsylvania', 'actress', 'preparing', 'reporter', 'notice', 'carter', 'burden', 'governors', 'fly', 'italy', 'collection', 'file', 'alive', 'neighbors', 'guards', 'sons', 'allows', 'ira', 'honduras', 'delayed', 'withdraw', 'socalled', 'yard', 'bridge', 'trend', 'phone', 'promise', 'manufacturers', 'contained', 'mexican', 'sister', 'supporting', 'recorded', 'margin', 'capacity', 'veto', 'unification', 'species', 'mixed', 'strip', 'cook', 'nelson', 'garbage', 'failing', 'clean', 'verdict', 'stolen', 'doctor', 'acre', 'beat', 'judgment', 'outnumbered', 'electronic', 'maximum', 'overseas', 'manhattan', 'lithuania', 'operate', 'backed', 'n', 'dinner', 'concluded', 'egypt', 'holiday', 'grounds', 'motors', 'wind', 'doubt', 'commitment', 'denver', 'shamir', 'creek', 'allen', 'colorado', 'bombing', 'campaigns', 'territories', 'douglas', 'administrative', 'antonio', 'repeated', 'outcome', 'knows', 'georgia', 'massive', 'lay', 'statistics', 'structure', 'mary', 'resolve', 'keating', 'faa', 'illness', 'causes', 'learn', 'dismissed', 'tobacco', 'walesa', 'regime', 'andrew', 'traditional', 'creditors', 'geneva', 'bombs', 'reynolds', 'colleagues', 'green', 'factories', 'fines', 'signal', 'decree', 'id', 'track', 'corporations', 'custody', 'dakota', 'generals', 'shots', 'taylor', 'drinking', 'sort', 'tree', 'capitol', 'facility', 'sgt', 'handle', 'socialist', 'partners', 'employers', 'normally', 'focus', 'communities', 'investigate', 'acquired', 'unity', 'films', 'struggle', 'handling', 'probe', 'producer', 'device', 'fda', 'gore', 'fellow', 'fatal', 'venus', 'metal', 'reaction', 'peaceful', 'agreements', 'passenger', 'witness', 'lewis', 'chain', 'hundred', 'ronald', 'broad', 'ceremony', 'iowa', 'longterm', 'joe', 'straight', 'causing', 'veterans', 'requests', 'hills', 'coverage', 'drew', 'type', 'arts', 'auction', 'strongly', 'amnesty', 'prosecution', 'cattle', 'canceled', 'militants', 'guerrilla', 'whats', 'attempted', 'complaint', 'midnight', 'mike', 'pieces', 'terrorism', 'toll', 'investments', 'lowest', 'marked', 'bradley', 'inmates', 'talked', 'exactly', 'shultz', 'ray', 'mainly', 'convinced', 'apply', 'musical', 'jose', 'guy', 'develop', 'jailed', 'utilities', 'minimum', 'holds', 'knowledge', 'winner', 'discrimination', 'naval', 'linked', 'electricity', 'restaurant', 'values', 'petroleum', 'recognize', 'missouri', 'developing', 'document', 'grow', 'represent', 'embargo', 'design', 'marlin', 'resigned', 'welcome', 'dry', 'radar', 'ads', 'parole', 'satellite', 'chapter', 'hasnt', 'stephen', 'finding', 'walk', 'abandoned', 'contended', 'approve', 'atmosphere', 'tickets', 'speak', 'exile', 'yield', 'unusual', 'preliminary', 'appearance', 'faced', 'initially', 'deals', 'ones', 'taxpayers', 'effects', 'kremlin', 'heating', 'minute', 'tested', 'ring', 'pittsburgh', 'hired', 'controlled', 'robertson', 'resume', 'shareholders', 'sexual', 'setting', 'rare', 'machine', 'dealer', 'threatening', 'towns', 'girls', 'manuel', 'weapon', 'nd', 'begun', 'producers', 'model', 'policemen', 'worried', 'australia', 'fresh', 'publicly', 'gunmen', 'violation', 'gray', 'initiative', 'dutch', 'lawrence', 'extremely', 'replaced', 'mate', 'entertainment', 'legislators', 'punishment', 'crashed', 'yeutter', 'helping', 'immune', 'roads', 'chamorro', 'panamanian', 'reed', 'parent', 'edwin', 'native', 'bear', 'motion', 'violent', 'double', 'arm', 'originally', 'acted', 'terrorists', 'carriers', 'daniel', 'haiti', 'weight', 'contractors', 'wing', 'lloyd', 'transport', 'smoke', 'indiana', 'subsidies', 'prepare', 'salary', 'maintenance', 'activist', 'prince', 'obtained', 'coal', 'retail', 'ice', 'falls', 'worse', 'moment', 'lawsuits', 'doors', 'champion', 'error', 'suffering', 'ends', 'arent', 'bishops', 'flood', 'yeltsin', 'refugees', 'asian', 'purpose', 'exercise', 'aquino', 'insisted', 'ranch', 'spacecraft', 'patrol', 'att', 'findings', 'spanish', 'partnership', 'expand', 'trucks', 'professional', 'radical', 'ratings', 'walter', 'attending', 'monetary', 'cells', 'shopping', 'sets', 'childrens', 'rocket', 'elaborate', 'kohl', 'pulled', 'prior', 'interviewed', 'places', 'recovery', 'pledged', 'reporting', 'jordan', 'ought', 'filled', 'tennessee', 'murphy', 'immigrants', 'polish', 'sun', 'laboratory', 'combined', 'exchanges', 'baltic', 'impossible', 'solution', 'fields', 'metropolitan', 'stability', 'mothers', 'unidentified', 'associates', 'steve', 'margaret', 'devices', 'consultant', 'recalled', 'miners', 'dog', 'buyers', 'drivers', 'longtime', 'patient', 'expenses', 'cultural', 'minor', 'nights', 'chances', 'youths', 'ease', 'walsh', 'provision', 'helicopters', 'strategy', 'offering', 'views', 'klerk', 'mountain', 'directed', 'copies', 'awarded', 'wood', 'pakistan', 'intention', 'feeling', 'troubled', 'video', 'tape', 'limits', 'hezbollah', 'palace', 'managers', 'targets', 'disclosure', 'nazi', 'jerusalem', 'absolutely', 'reductions', 'bail', 'associate', 'tensions', 'peres', 'moral', 'nixon', 'petition', 'walking', 'ballot', 'pension', 'incidents', 'owns', 'expansion', 'womens', 'expectations', 'married', 'impose', 'shevardnadze', 'opec', 'terry', 'welfare', 'posted', 'pledge', 'moore', 'maine', 'bases', 'governing', 'advice', 'negotiating', 'weak', 'numerous', 'flown', 'edt', 'angola', 'nyses', 'scientific', 'oppose', 'czechoslovakia', 'souter', 'utah', 'weakness', 'turning', 'bay', 'grants', 'youve', 'classes', 'check', 'sessions', 'factors', 'thrift', 'replied', 'amounts', 'membership', 'complaints', 'indicted', 'sitting', 'partner', 'pork', 'islamic', 'cast', 'donations', 'tower', 'superior', 'image', 'garden', 'soldier', 'idaho', 'famous', 'bed', 'overthecounter', 'investigations', 'totally', 'purchased', 'deployment', 'nc', 'advisers', 'pushing', 'survivors', 'greyhound', 'survived', 'warren', 'stars', 'principal', 'curfew', 'collapsed', 'hostile', 'procedures', 'stories', 'syrian', 'computers', 'steven', 'plus', 'declines', 'developments', 'contractor', 'eligible', 'contributed', 'favorite', 'appropriate', 'tied', 'stronger', 'mistake', 'dance', 'wisconsin', 'mentioned', 'portion', 'balance', 'praised', 'craft', 'quick', 'sued', 'plastic', 'bloc', 'song', 'marshall', 'modest', 'stressed', 'acquire', 'drawn', 'discussion', 'annually', 'unrest', 'submitted', 'refuge', 'elderly', 'landing', 'hailed', 'dramatic', 'irancontra', 'defendant', 'sweden', 'elizabeth', 'gang', 'disclose', 'nominated', 'indicate', 'author', 'sex', 'wildlife', 'animal', 'classified', 'nordstrom', 'anthony', 'located', 'suburban', 'feared', 'indication', 'regions', 'sit', 'usual', 'citizen', 'wish', 'anybody', 'respect', 'invited', 'louisiana', 'officially', 'applied', 'hispanic', 'israels', 'collected', 'hudson', 'frequently', 'diego', 'rumors', 'defeated', 'eyes', 'dick', 'jimmy', 'suburb', 'invaded', 'couples', 'chips', 'layoffs', 'divided', 'aside', 'broadcasting', 'surprised', 'thinking', 'draw', 'teaching', 'asia', 'correct', 'mercantile', 'maintained', 'solid', 'scandal', 'guarantee', 'requested', 'rice', 'honduran', 'awaiting', 'abuses', 'hijackers', 'nurses', 'machines', 'disputes', 'sites', 'wealthy', 'favored', 'staterun', 'declaration', 'shape', 'allied', 'laid', 'roh', 'manila', 'patrick', 'flag', 'interviews', 'g', 'apparent', 'spot', 'closely', 'owen', 'bargaining', 'theyve', 'article', 'switzerland', 'affair', 'warrant', 'identify', 'pointed', 'scattered', 'engineering', 'disney', 'cigarettes', 'suspects', 'morgan', 'ethics', 'factor', 'renewed', 'lifted', 'suits', 'barbara', 'meat', 'aspirin', 'operates', 'larry', 'wave', 'clark', 'add', 'represented', 'predominantly', 'resort', 'feed', 'usda', 'stands', 'traveling', 'possession', 'performed', 'neighboring', 'ownership', 'yards', 'sam', 'hoping', 'upper', 'warnings', 'inspection', 'marcos', 'attempts', 'ranged', 'eliminate', 'thunderstorms', 'fred', 'players', 'factory', 'engineers', 'options', 'ibm', 'challenger', 'actively', 'richter', 'box', 'landed', 'robinson', 'teams', 'female', 'traditionally', 'familys', 'passage', 'upheld', 'farmer', 'somebody', 'rifle', 'carrier', 'rightwing', 'fail', 'deconcini', 'pick', 'physical', 'fires', 'referred', 'focused', 'mars', 'albert', 'humanitarian', 'beef', 'greatest', 'strengthen', 'stable', 'revealed', 'fiveyear', 'yields', 'clothing', 'informed', 'arabs', 'hell', 'quit', 'regulation', 'distributed', 'cuomo', 'theft', 'garcia', 'discount', 'permitted', 'mount', 'bishop', 'advantage', 'militia', 'obtain', 'tired', 'transactions', 'campaigning', 'burning', 'attitude', 'signals', 'consideration', 'defeat', 'write', 'worry', 'artists', 'grown', 'easily', 'gotten', 'baseball', 'blow', 'rape', 'takeshita', 'maxwell', 'opposes', 'midwest', 'improvement', 'false', 'tonight', 'bruce', 'transition', 'interstate', 'deliver', 'output', 'intervention', 'perestroika', 'chemicals', 'operated', 'reaching', 'foods', 'fighters', 'bushels', 'visits', 'namibia', 'showers', 'discovery', 'cards', 'commodity', 'happy', 'jets', 'costa', 'thinks', 'penalties', 'slipped', 'choose', 'concert', 'gaining', 'faith', 'historic', 'surprise', 'justices', 'pleased', 'breaking', 'competitive', 'prodemocracy', 'pursue', 'revenues', 'authorized', 'monitoring', 'chinas', 'meant', 'perform', 'cargo', 'scheme', 'goals', 'modern', 'mine', 'warsaw', 'shop', 'simple', 'noting', 'hunt', 'gary', 'ltd', 'holdings', 'yorks', 'funeral', 'jacksons', 'defended', 'prospects', 'repair', 'bread', 'dennis', 'contest', 'harvard', 'super', 'trader', 'railroad', 'buses', 'azerbaijan', 'contacts', 'compensation', 'christ', 'grigoryants', 'mortgage', 'opportunities', 'windows', 'fernandez', 'analysis', 'closer', 'surge', 'junk', 'contends', 'controversy', 'rich', 'bottom', 'cheney', 'barred', 'era', 'reasonable', 'extra', 'testify', 'settlements', 'enforce', 'gene', 'corporation', 'increasingly', 'uses', 'norths', 'engaged', 'brady', 'aoun', 'planet', 'honor', 'leaves', 'diseases', 'arafat', 'concrete', 'tear', 'vacation', 'ad', 'primarily', 'citing', 'jesus', 'replacement', 'camps', 'halt', 'observers', 'storage', 'recognized', 'kgb', 'plains', 'infected', 'harvest', 'defend', 'escape', 'license', 'fishing', 'texaco', 'symphony', 'enormous', 'reelection', 'transferred', 'shouted', 'dark', 'guess', 'writer', 'enemy', 'alert', 'condemned', 't', 'ward', 'don', 'shift', 'fill', 'eye', 'actual', 'appealed', 'managua', 'persons', 'ali', 'creating', 'essential', 'publication', 'male', 'michel', 'dialogue', 'threw', 'mile', 'wait', 'publisher', 'proof', 'waters', 'barriers', 'surrounding', 'policeman', 'shops', 'administrator', 'violating', 'institution', 'wild', 'locked', 'watched', 'realize', 'conn', 'occur', 'israelis', 'library', 'movies', 'restaurants', 'bankers', 'payment', 'equal', 'guidelines', 'prevented', 'slaying', 'vital', 'clashes', 'russell', 'concessions', 'syndrome', 'assured', 'collapse', 'afford', 'surplus', 'gesell', 'harris', 'politically', 'judicial', 'chest', 'bird', 'chancellor', 'variety', 'permits', 'jurors', 'lending', 'remember', 'birds', 'execution', 'sweeping', 'agenda', 'proceedings', 'venture', 'gross', 'bloom', 'billions', 'signing', 'flow', 'apart', 'establish', 'corruption', 'pa', 'usa', 'investor', 'stabbed', 'participate', 'understanding', 'crackdown', 'truth', 'evacuated', 'britains', 'expelled', 'killings', 'carl', 'throw', 'dominated', 'vessel', 'host', 'page', 'entitled', 'endangered', 'wednesdays', 'extradition', 'morris', 'kentucky', 'crews', 'parliamentary', 'promote', 'publicity', 'flooding', 'oregon', 'sat', 'ally', 'accompanied', 'viewed', 'title', 'restore', 'trades', 'pregnant', 'alaska', 'mention', 'claiming', 'executed', 'sullivan', 'younger', 'driven', 'consecutive', 'afraid', 'sentencing', 'orleans', 'nature', 'postal', 'methods', 'customer', 'recognition', 'plot', 'brain', 'livestock', 'sixth', 'culture', 'jump', 'kidnapped', 'formally', 'tiny', 'dean', 'acts', 'appropriations', 'roy', 'agencys', 'conclusion', 'yellow', 'carbon', 'ideas', 'illegally', 'valued', 'arriving', 'trains', 'location', 'vessels', 'bomber', 'nunn', 'gm', 'resident', 'clothes', 'rome', 'marijuana', 'medellin', 'wages', 'tender', 'riot', 'opera', 'surveys', 'color', 'nikkei', 'succeed', 'mountains', 'harassment', 'settle', 'argument', 'worries', 'seoul', 'refuse', 'exposed', 'cia', 'impeachment', 'juan', 'rocks', 'syria', 'recommendations', 'beijing', 'completely', 'sheriffs', 'crucial', 'kim', 'solve', 'networks', 'theyll', 'proper', 'badly', 'asbestos', 'cleared', 'convoy', 'ranks', 'mich', 'troop', 'las', 'carlos', 'peninsula', 'magellan', 'wounding', 'singing', 'upset', 'importance', 'offensive', 'contend', 'olympics', 'arrive', 'movements', 'joining', 'sleep', 'monitored', 'trafficking', 'arrival', 'circumstances', 'telescope', 'currencies', 'shipments', 'extent', 'bell', 'expanded', 'turkish', 'crack', 'wrongdoing', 'steady', 'inquiry', 'forcing', 'twothirds', 'surface', 'universal', 'crops', 'sailors', 'arranged', 'questioning', 'portland', 'regularly', 'happens', 'newly', 'football', 'managing', 'egyptian', 'inventories', 'suggests', 'priority', 'aggressive', 'identification', 'miller', 'lift', 'lsqb', 'al', 'stated', 'sec', 'blocks', 'capt', 'finish', 'injury', 'afghanistan', 'guarantees', 'adults', 'reflects', 'exchangelisted', 'cleveland', 'frozen', 'editors', 'guys', 'effectively', 'kidnapping', 'slight', 'participating', 'containing', 'temperature', 'uss', 'mines', 'emperor', 'k', 'angry', 'races', 'koreas', 'drawing', 'trials', 'requiring', 'card', 'equivalent', 'ouster', 'aristide', 'ceausescu', 'maj', 'shield', 'gathering', 'fans', 'jewelry', 'gunman', 'basically', 'travelers', 'pages', 'roger', 'stone', 'graduate', 'backing', 'temple', 'lehman', 'candidacy', 'reality', 'vegas', 'mayors', 'endorsed', 'sensitive', 'outstanding', 'electrical', 'piece', 'wearing', 'africas', 'shortterm', 'cleanup', 'speeches', 'favorable', 'philippine', 'aliens', 'negotiated', 'demonstration', 'watkins', 'connecticut', 'confident', 'trump', 'inheritance', 'hamilton', 'ignored', 'behavior', 'edge', 'intense', 'conversation', 'branch', 'woods', 'golden', 'welcomed', 'striking', 'eliminated', 'doubts', 'marched', 'pull', 'sand', 'shortage', 'terminal', 'gnp', 'participation', 'prayer', 'challenged', 'conventional', 'campus', 'communique', 'guests', 'assigned', 'encouraging', 'cloudy', 'tougher', 'shootings', 'teenagers', 'correspondent', 'household', 'copy', 'felony', 'hospitalized', 'panels', 'contrast', 'link', 'puerto', 'bennett', 'veteran', 'fruit', 'thornburgh', 'spectators', 'escaped', 'businessman', 'transaction', 'taught', 'debts', 'robbery', 'disputed', 'purchases', 'persuade', 'beaten', 'clubs', 'blocked', 'removal', 'orange', 'mutual', 'plunged', 'stadium', 'counter', 'arkansas', 'surrounded', 'crossed', 'eat', 'hollywood', 'explain', 'referendum', 'slain', 'roughly', 'confirm', 'opponent', 'wear', 'colony', 'tariffs', 'threeyear', 'firing', 'philip', 'televised', 'glass', 'ranging', 'ann', 'irving', 'easy', 'nancy', 'desk', 'salaries', 'scores', 'samuel', 'investigated', 'lire', 'fleet', 'cemetery', 'unfair', 'protected', 'emissions', 'mental', 'macmillan', 'blaze', 'tunnel', 'bones', 'prosperity', 'aouns', 'caribbean', 'cooperate', 'mouth', 'sang', 'occupation', 'gallons', 'shared', 'nonprofit', 'tropical', 'intent', 'turnout', 'trapped', 'feels', 'urging', 'federated', 'memo', 'capable', 'founder', 'rivers', 'dresses', 'expense', 'faster', 'ron', 'marion', 'row', 'lets', 'fallen', 'chose', 'charter', 'vargas', 'robb', 'commodities', 'consent', 'jerry', 'rsqb', 'fun', 'airports', 'assure', 'orion', 'swept', 'inventory', 'denounced', 'changing', 'ten', 'measured', 'provinces', 'ussoviet', 'fujimori', 'favors', 'tight', 'harry', 'contribute', 'lasted', 'beating', 'bound', 'losers', 'valuable', 'sundays', 'advocates', 'comparable', 'adult', 'principle', 'shoot', 'neck', 'leonard', 'maryland', 'privately', 'reserves', 'stalin', 'match', 'violate', 'automatic', 'suggest', 'cardinal', 'engineer', 'rent', 'engine', 'regard', 'briefly', 'salvador', 'style', 'colombia', 'armored', 'truce', 'residence', 'demjanjuk', 'wire', 'servicemen', 'plc', 'tehran', 'managed', 'stayed', 'prague', 'utility', 'refusing', 'ranking', 'pan', 'disappointed', 'difficulty', 'sothebys', 'dam', 'isolated', 'cnn', 'birthday', 'master', 'recipients', 'entering', 'gordon', 'trips', 'tanker', 'broader', 'deficiency', 'manville', 'pool', 'pacs', 'friendly', 'tells', 'transplant', 'monitor', 'lunch', 'sakharov', 'approached', 'fixed', 'ocean', 'moslems', 'moon', 'tragedy', 'hunter', 'amal', 'daughters', 'pipeline', 'nice', 'makers', 'unknown', 'warming', 'theme', 'exist', 'applications', 'thousand', 'sinhalese', 'homeland', 'indications', 'deputies', 'responding', 'blast', 'ed', 'fe', 'ash', 'reflected', 'twoyear', 'fate', 'mccarthy', 'mca', 'burn', 'olympic', 'grave', 'philosophy', 'payroll', 'protecting', 'notified', 'priorities', 'campbell', 'regarding', 'canal', 'radiation', 'firstdegree', 'models', 'priest', 'fundamental', 'warner', 'boxes', 'flames', 'truly', 'armenian', 'contains', 'older', 'retirement', 'properly', 'capture', 'secretarygeneral', 'glenn', 'vast', 'advancing', 'zurich', 'brooks', 'relative', 'amendments', 'californias', 'procedure', 'hawaii', 'refusal', 'v', 'risks', 'latin', 'brokers', 'associations', 'holy', 'kashmir', 'castro', 'salt', 'method', 'publishing', 'delegate', 'ual', 'craig', 'scientist', 'boycott', 'mobile', 'taiwan', 'nicholas', 'magnitude', 'magistrate', 'shes', 'donors', 'nevada', 'commit', 'milk', 'thank', 'pat', 'struggling', 'conducting', 'nobel', 'photographs', 'australian', 'cubans', 'trillion', 'trash', 'runoff', 'departure', 'coastal', 'bars', 'apple', 'category', 'warrants', 'survival', 'roll', 'suspension', 'turner', 'riots', 'stuff', 'searched', 'client', 'recruit', 'outlook', 'smuggling', 'divisions', 'radicals', 'tend', 'tens', 'destruction', 'onethird', 'artificial', 'advised', 'merely', 'ultimate', 'eggs', 'rivals', 'attract', 'toxic', 'quiet', 'sue', 'cautious', 'successor', 'protesting', 'hiring', 'prospect', 'indicating', 'briefing', 'medal', 'asylum', 'consolidated', 'secure', 'boats', 'greek', 'entrance', 'shortages', 'tradition', 'lady', 'brussels', 'montana', 'reference', 'diet', 'answered', 'checks', 'dates', 'pac', 'walls', 'koch', 'casualties', 'charging', 'boss', 'wound', 'visitors', 'womans', 'argentina', 'theaters', 'improving', 'hed', 'risen', 'knowing', 'dividend', 'astronauts', 'poverty', 'resulting', 'vs', 'rocky', 'farming', 'adequate', 'duties', 'carlucci', 'removing', 'alexander', 'wings', 'wis', 'freeze', 'warm', 'assassination', 'character', 'antiapartheid', 'kenneth', 'participated', 'unspecified', 'ton', 'leads', 'phillips', 'adopt', 'brian', 'reflecting', 'inch', 'diplomat', 'busy', 'noon', 'neighbor', 'fighter', 'dealings', 'jackpot', 'familiar', 'extremists', 'voter', 'uaw', 'satisfied', 'toronto', 'phase', 'injuring', 'emotional', 'oliver', 'businessmen', 'treat', 'captain', 'brazil', 'lies', 'suicide', 'premium', 'entry', 'dixon', 'strongest', 'bcspehealth', 'improvements', 'loved', 'explosives', 'slowed', 'memory', 'classroom', 'depending', 'cautioned', 'stanley', 'columnist', 'stops', 'operators', 'reflect', 'option', 'shipping', 'significantly', 'rico', 'superintendent', 'sank', 'sikh', 'dcalif', 'implement', 'considerable', 'clients', 'length', 'walters', 'arco', 'sununu', 'handful', 'unleaded', 'reject', 'costly', 'orbit', 'averaged', 'slide', 'investigative', 'achieve', 'demonstrated', 'expert', 'curb', 'restoration', 'lebanese', 'arrangements', 'interim', 'resolved', 'dressed', 'rangoon', 'donated', 'hubbert', 'traveled', 'articles', 'litigation', 'telegraph', 'listen', 'brokerage', 'protested', 'studied', 'bloody', 'involve', 'suggesting', 'fundraising', 'nabisco', 'code', 'forth', 'glasnost', 'expanding', 'hale', 'touch', 'fined', 'stance', 'parker', 'villages', 'regarded', 'assume', 'joan', 'broker', 'remote', 'stepped', 'projected', 'ky', 'carefully', 'multiparty', 'recycling', 'supporter', 'judiciary', 'est', 'writers', 'exxon', 'commercials', 'bullet', 'deeply', 'condoms', 'unprecedented', 'rapid', 'triggered', 'easier', 'raises', 'aspects', 'regulatory', 'accusing', 'covering', 'producing', 'dream', 'arbitration', 'socialism', 'appearances', 'therapy', 'hunger', 'deposit', 'withheld', 'recording', 'usbacked', 'obvious', 'reputation', 'disappeared', 'releases', 'shipment', 'gainers', 'maintains', 'tactics', 'specialist', 'gilbert', 'bitter', 'poindexter', 'destroy', 'mall', 'dress', 'brooklyn', 'leg', 'submit', 'halted', 'havel', 'editions', 'fathers', 'leveraged', 'addressed', 'announcing', 'purchasing', 'frankfurt', 'starts', 'retire', 'seattle', 'handed', 'q', 'retailers', 'youth', 'drama', 'harold', 'inspectors', 'advances', 'wallach', 'charleston', 'imported', 'karpov', 'dealt', 'broadcasts', 'sick', 'brush', 'avoided', 'fit', 'extend', 'sponsor', 'complicated', 'edged', 'pressed', 'upcoming', 'maker', 'dogs', 'tomorrow', 'francis', 'rjr', 'barrels', 'minorities', 'empty', 'buildup', 'mario', 'earn', 'uncertainty', 'restored', 'processing', 'highs', 'attempting', 'recommendation', 'liberty', 'wedding', 'fault', 'critic', 'cheap', 'confiscated', 'acid', 'keeps', 'advisory', 'babies', 'opinions', 'fox', 'revised', 'compliance', 'marriage', 'defined', 'actors', 'archbishop', 'murders', 'graduates', 'entirely', 'staged', 'editorial', 'rear', 'ben', 'werent', 'oberg', 'springs', 'digital', 'designated', 'generated', 'shelter', 'funding', 'shouting', 'essentially', 'md', 'teamsters', 'bargain', 'trustees', 'theory', 'tamil', 'kasparov', 'medicare', 'airplane', 'fee', 'tension', 'packaging', 'extension', 'rd', 'bright', 'screen', 'enable', 'booster', 'accepting', 'software', 'ins', 'promises', 'proved', 'racketeering', 'collective', 'saturdays', 'congressman', 'reservation', 'arrangement', 'orchestra', 'kid', 'plaintiffs', 'easing', 'chris', 'supposed', 'declare', 'merchandise', 'reverse', 'rallies', 'institutional', 'courtroom', 'ralph', 'jetliner', 'successfully', 'proceed', 'midmorning', 'musicians', 'primaries', 'survive', 'longrange', 'opposing', 'involves', 'andreas', 'volunteers', 'observer', 'concerning', 'salinas', 'learning', 'external', 'antigovernment', 'revolutionary', 'terrible', 'sponsored', 'assurances', 'impression', 'improper', 'attached', 'marxist', 'mining', 'dancing', 'quarterly', 'selection', 'routine', 'arthritis', 'threeday', 'tie', 'dissident', 'gregory', 'suddenly', 'shouldnt', 'dump', 'deny', 'searching', 'promotion', 'universitys', 'intend', 'overturned', 'rush', 'scott', 'educational', 'physicians', 'identity', 'repeal', 'historical', 'dictator', 'eec', 'ryan', 'withdrew', 'resumed', 'abortions', 'display', 'athletes', 'vernon', 'wonder', 'knife', 'examine', 'strikers', 'wedtech', 'viewers', 'armenia', 'voluntary', 'spirit', 'perez', 'automobile', 'sweet', 'restraint', 'requirement', 'excessive', 'palm', 'sasser', 'beautiful', 'barnard', 'propose', 'acceptance', 'edition', 'walkout', 'indians', 'cos', 'petty', 'colo', 'wounds', 'hire', 'answers', 'lakes', 'austin', 'controllers', 'heading', 'comply', 'string', 'borders', 'seconds', 'reluctant', 'denying', 'winners', 'passing', 'mo', 'confusion', 'bigger', 'thrown', 'lobby', 'attendants', 'ages', 'deployed', 'dissidents', 'aggression', 'commented', 'substantially', 'pressures', 'argue', 'desire', 'psychological', 'addressing', 'register', 'comprehensive', 'shall', 'slums', 'eve', 'counties', 'pose', 'closest', 'peak', 'fundamentalist', 'cows', 'features', 'guilders', 'performing', 'hotels', 'emerged', 'shells', 'crowded', 'harm', 'poison', 'appearing', 'jammed', 'sections', 'sir', 'shell', 'touched', 'bipartisan', 'structures', 'equity', 'torture', 'monthold', 'appealing', 'lucky', 'chess', 'undercover', 'iron', 'preferred', 'cairo', 'nebraska', 'sentences', 'parade', 'pierre', 'reiterated', 'crushed', 'hazardous', 'reservations', 'panamas', 'bags', 'extensive', 'airways', 'environmentalists', 'exists', 'plain', 'journalist', 'asset', 'catch', 'phoenix', 'unanimously', 'madrid', 'symbol', 'financed', 'rio', 'tentative', 'conceded', 'crown', 'cincinnati', 'locations', 'sealed', 'knocked', 'installed', 'stalled', 'twoday', 'postponed', 'indicates', 'tony', 'apartments', 'darman', 'ranked', 'marketplace', 'sorry', 'christopher', 'basin', 'sample', 'radioactive', 'moscows', 'iraqis', 'unofficial', 'bakker', 'recall', 'breast', 'applicants', 'explanation', 'monopoly', 'easterns', 'legacy', 'wholesale', 'algeria', 'separately', 'meaning', 'examination', 'kravis', 'massacre', 'tactical', 'carries', 'kinds', 'hidden', 'township', 'fairly', 'dental', 'ag', 'owed', 'rescued', 'noriegas', 'moments', 'recovering', 'ordering', 'deficitreduction', 'neighborhoods', 'dumped', 'cape', 'anonymous', 'en', 'antiabortion', 'neil', 'anyway', 'accurate', 'dawn', 'messages', 'pageant', 'faculty', 'martinez', 'resolutions', 'abcs', 'comfortable', 'timing', 'shining', 'enterprise', 'beer', 'attracted', 'czechoslovak', 'shareholder', 'inmate', 'annunzio', 'consultants', 'buried', 'llosa', 'golf', 'lined', 'avril', 'posed', 'honored', 'compensate', 'displayed', 'consulting', 'enacted', 'checked', 'handled', 'experienced', 'popularity', 'frances', 'expires', 'spotted', 'delaware', 'eric', 'economics', 'eastwest', 'encounter', 'irans', 'hadnt', 'jurisdiction', 'pete', 'personally', 'warehouse', 'teeth', 'lobbying', 'ongoing', 'pressing', 'suffer', 'christians', 'plenty', 'delays', 'announce', 'counting', 'bullion', 'careful', 'vowed', 'liabilities', 'cigarette', 'cdc', 'cdy', 'plunge', 'gubernatorial', 'reversed', 'hindu', 'ceausescus', 'outlawed', 'mounting', 'objections', 'nicaraguas', 'northeastern', 'establishment', 'haven', 'theyd', 'extending', 'engines', 'terror', 'mansfield', 'trained', 'motivated', 'uta', 'stemmed', 'contain', 'dioxide', 'skills', 'grade', 'bag', 'potentially', 'background', 'useful', 'ailing', 'peru', 'staying', 'norman', 'twin', 'mortgages', 'instances', 'divorce', 'visiting', 'shock', 'palestine', 'yates', 'raw', 'queen', 'tip', 'tim', 'marines', 'encouraged', 'detainees', 'meeses', 'safely', 'empire', 'burial', 'cambodia', 'intends', 'courses', 'comedy', 'thieves', 'festival', 'mozambique', 'exposure', 'compete', 'integrity', 'refugee', 'stephens', 'climate', 'vermont', 'franklin', 'guide', 'excluding', 'links', 'battles', 'tenn', 'objected', 'herbert', 'trigger', 'confrontation', 'journey', 'valdez', 'bailout', 'zero', 'vietnamese', 'montgomery', 'detail', 'hide', 'tourists', 'sponsors', 'succeeded', 'mood', 'beaches', 'lying', 'aspin', 'antisemitism', 'complaining', 'nauvoo', 'structural', 'leahy', 'hungary', 'detailed', 'sluggish', 'leon', 'specifically', 'rioting', 'contribution', 'celebration', 'councils', 'rail', 'webb', 'cole', 'highlevel', 'anger', 'packed', 'angolan', 'soil', 'momentum', 'operator', 'creation', 'parked', 'mohammed', 'recommend', 'namphy', 'rhetoric', 'kohlberg', 'sworn', 'pain', 'mubarak', 'nose', 'organizers', 'roosevelt', 'del', 'assignment', 'severely', 'contempt', 'mandate', 'baku', 'totaling', 'participants', 'kuwaiti', 'stones', 'gradually', 'growers', 'holocaust', 'wells', 'sl', 'boosted', 'imminent', 'grammrudman', 'banner', 'extreme', 'bermudez', 'eager', 'carol', 'midday', 'rotation', 'shiite', 'rooms', 'enjoyed', 'projections', 'unified', 'medication', 'durenberger', 'anticipated', 'hardline', 'bondholders', 'schwarzkopf', 'admit', 'strange', 'underground', 'mistakes', 'motive', 'surrender', 'depend', 'suggestion', 'gate', 'icahn', 'londons', 'sophisticated', 'deer', 'oral', 'exploration', 'ancient', 'shearson', 'ozone', 'hitler', 'healthy', 'hopeful', 'springfield', 'lawmaker', 'childhood', 'discussing', 'slowly', 'grumman', 'achieved', 'incomes', 'profitable', 'dmich', 'rockets', 'significance', 'rolled', 'roof', 'stress', 'maintaining', 'fame', 'consensus', 'weaker', 'purposes', 'onetime', 'manslaughter', 'convictions', 'handicapped', 'kurdish', 'eating', 'skull', 'hubble', 'goldberg', 'orr', 'doug', 'restricted', 'stepping', 'sharing', 'mob', 'keys', 'lima', 'mids', 'gather', 'tremendous', 'soft', 'seeks', 'gatt', 'accusations', 'formation', 'rounds', 'sustained', 'yale', 'parking', 'missions', 'finds', 'cain', 'presley', 'sky', 'boom', 'southeastern', 'portrayed', 'troubles', 'drilling', 'restoring', 'opens', 'riding', 'repeat', 'liberties', 'turns', 'regardless', 'abrams', 'invitation', 'vulnerable', 'reviewed', 'bangladesh', 'competitors', 'waited', 'shamirs', 'rehabilitation', 'prisoner', 'tumbled', 'stuck', 'proud', 'presumed', 'machinery', 'refuses', 'struggled', 'explained', 'wins', 'wash', 'yitzhak', 'cavazos', 'affecting', 'beverly', 'oneill', 'fairness', 'nurse', 'sparked', 'stockholders', 'sens', 'steep', 'temporarily', 'function', 'churches', 'packages', 'dhaka', 'norway', 'describe', 'dmass', 'greenspan', 'chiefs', 'releasing', 'racially', 'nea', 'ethical', 'crazy', 'gesture', 'narrow', 'transit', 'penn', 'gates', 'staffers', 'lands', 'receipts', 'retain', 'procurement', 'memphis', 'core', 'census', 'ultimately', 'odds', 'ted', 'column', 'infants', 'demonstrate', 'types', 'filipino', 'landmark', 'appointment', 'belief', 'pickup', 'uncertain', 'backup', 'hindus', 'nominees', 'runway', 'warships', 'saunders', 'ruby', 'sri', 'log', 'jeff', 'paintings', 'expired', 'imperial', 'bone', 'maneuvers', 'wealth', 'monet', 'serves', 'helps', 'trail', 'greece', 'volunteer', 'gifts', 'vegetables', 'preparations', 'proceeds', 'consistent', 'clr', 'tourist', 'lists', 'virgin', 'missed', 'johannesburg', 'consumption', 'sixmonth', 'socialists', 'artifacts', 'granting', 'player', 'prefer', 'rapidly', 'gerald', 'charity', 'beneath', 'rouge', 'rough', 'explosive', 'homosexual', 'optimistic', 'raymond', 'belgium', 'hiding', 'asks', 'columbus', 'properties', 'inauguration', 'lifting', 'protestant', 'laboratories', 'assumed', 'x', 'plays', 'globe', 'employed', 'boris', 'buyer', 'minds', 'prisons', 'lights', 'lithuanian', 'frequent', 'nosair', 'economies', 'stages', 'pad', 'secrecy', 'diamond', 'chester', 'shuster', 'kephart', 'intensive', 'emigration', 'warmus', 'contacted', 'sajudis', 'narrowly', 'wallace', 'multiple', 'catholics', 'sufficient', 'championship', 'whos', 'universities', 'ammunition', 'wooden', 'teresa', 'rica', 'dave', 'eduard', 'exact', 'gunshot', 'specialists', 'guarded', 'overthrow', 'thailand', 'ratification', 'administered', 'wed', 'investigator', 'approximately', 'subjects', 'conservation', 'burst', 'import', 'wyoming', 'phrase', 'grocery', 'competing', 'threaten', 'lie', 'silence', 'oneday', 'widow', 'gambling', 'floors', 'maria', 'cousin', 'shuttles', 'opposite', 'clinics', 'botha', 'peterson', 'assist', 'havana', 'homicide', 'compound', 'powell', 'storer', 'hurricane', 'rushed', 'periods', 'grenada', 'endowment', 'greeted', 'posts', 'injunction', 'qualified', 'tribune', 'libya', 'bullets', 'dairy', 'avenue', 'instructions', 'algerian', 'collect', 'confirmation', 'campaigned', 'sentiment', 'chaos', 'substance', 'misdemeanor', 'cftc', 'preceded', 'truman', 'canyon', 'mideast', 'proven', 'absence', 'jaruzelski', 'nationalist', 'slogans', 'studying', 'forecasts', 'accounted', 'depends', 'physician', 'plates', 'batus', 'reception', 'kemp', 'spy', 'strengthened', 'objective', 'dominican', 'austerity', 'airborne', 'copyright', 'quarters', 'ceremonies', 'experiment', 'photograph', 'instance', 'sole', 'revenge', 'soared', 'declaring', 'facts', 'alfred', 'delta', 'gangs', 'alexandria', 'ferret', 'surgeon', 'electronics', 'franc', 'colombian', 'cooperating', 'bids', 'conversations', 'shifts', 'unclear', 'strict', 'letting', 'defects', 'scared', 'europes', 'counseling', 'shipped', 'photographers', 'enemies', 'launching', 'hole', 'gunfire', 'overhaul', 'memories', 'detention', 'suggestions', 'castle', 'introduction', 'northwestern', 'transmission', 'retreat', 'album', 'celebrate', 'occasions', 'secrets', 'ballots', 'sinai', 'farmland', 'ear', 'sees', 'polaroid', 'feelings', 'farrell', 'slayings', 'speakers', 'gao', 'smog', 'pattern', 'stationed', 'ryzhkov', 'adm', 'conrad', 'shaking', 'oak', 'assessment', 'cool', 'rented', 'oats', 'subsequent', 'premature', 'ptl', 'examined', 'riegle', 'firearms', 'files', 'flee', 'latvia', 'clash', 'ames', 'batteries', 'hero', 'brings', 'reviewing', 'cathedral', 'whip', 'grapes', 'srinagar', 'jane', 'toppled', 'routes', 'tears', 'airliner', 'geological', 'dependent', 'chase', 'morocco', 'nyse', 'youll', 'monument', 'forests', 'circles', 'photographer', 'dying', 'superpower', 'recover', 'reputed', 'angered', 'agreeing', 'comparison', 'boesky', 'carpenter', 'fence', 'nationally', 'performances', 'attackers', 'stiff', 'cell', 'balloting', 'legitimate', 'offset', 'cruel', 'chartered', 'harsh', 'pronounced', 'perjury', 'unauthorized', 'rowan', 'inspector', 'kicked', 'corrections', 'nominate', 'machinists', 'karen', 'cycle', 'hearts', 'solar', 'surviving', 'samples', 'khomeini', 'passes', 'rig', 'yosemite', 'anne', 'withdrawn', 'leak', 'helms', 'murdered', 'errors', 'chinn', 'lots', 'shadow', 'altitude', 'fourday', 'vision', 'brazilian', 'abused', 'dirty', 'consulate', 'committing', 'revision', 'hyundai', 'underwent', 'choosing', 'deadly', 'chanted', 'shields', 'kitchen', 'superpowers', 'needles', 'cranston', 'chip', 'challenges', 'romania', 'elvis', 'metric', 'bulk', 'random', 'excess', 'inspired', 'criticize', 'spiritual', 'charlotte', 'aired', 'pulling', 'hits', 'circus', 'unrelated', 'combination', 'bodys', 'supplied', 'earl', 'goodman', 'happening', 'heritage', 'automakers', 'arguing', 'enthusiasm', 'wake', 'nujoma', 'postwar', 'stripped', 'cure', 'leukemia', 'yorkbased', 'delvalle', 'hijacking', 'tomb', 'kraft', 'midway', 'salvage', 'clouds', 'representation', 'featuring', 'mandelas', 'minneapolis', 'immunity', 'lisa', 'hoffman', 'susan', 'clashed', 'pumps', 'necessarily', 'legs', 'bodyguards', 'gauge', 'trustee', 'financially', 'tournament', 'reorganization', 'subway', 'perus', 'lenin', 'supervisor', 'acquitted', 'planted', 'malcolm', 'residential', 'oldest', 'thatchers', 'organize', 'manned', 'weakened', 'liability', 'dedicated', 'adkins', 'pesticide', 'downward', 'stealth', 'builders', 'pointing', 'multinational', 'examining', 'overwhelming', 'consequences', 'yugoslavia', 'popov', 'noticed', 'zones', 'picking', 'chicagobased', 'bottles', 'advocate', 'helmut', 'gotti', 'pair', 'retiring', 'cooperative', 'economically', 'controlling', 'vincennes', 'existence', 'initiatives', 'cheaper', 'praise', 'bernard', 'galileo', 'mm', 'hirohito', 'gift', 'takeoff', 'morale', 'airbus', 'caucus', 'racist', 'songs', 'contrary', 'newsletter', 'suffers', 'infection', 'weighing', 'cyprus', 'pregnancy', 'experiments', 'counselor', 'lawn', 'industrialized', 'oneparty', 'debris', 'cry', 'alleging', 'kelly', 'ivan', 'holmes', 'corroon', 'listened', 'baptist', 'controversial', 'mansion', 'scenes', 'aim', 'gregg', 'denies', 'hurled', 'followers', 'listening', 'miracle', 'deterioration', 'imprisoned', 'bidding', 'credited', 'kings', 'simpson', 'milan', 'featured', 'forecasters', 'elect', 'shoe', 'conferences', 'abandon', 'prevention', 'sewage', 'jointly', 'inkatha', 'klan', 'parks', 'curtain', 'adn', 'boards', 'ridge', 'charlie', 'promoting', 'subsidiaries', 'oconnor', 'priests', 'tiger', 'ala', 'glad', 'developer', 'polands', 'piano', 'inadequate', 'soaring', 'specifics', 'detective', 'reopen', 'brutal', 'henson', 'wayne', 'frontrunner', 'barney', 'religion', 'edwards', 'ligachev', 'nbcs', 'thin', 'tempo', 'slowing', 'tel', 'rated', 'humor', 'stockindex', 'regret', 'teach', 'jarvik', 'scotland', 'throwing', 'indianapolis', 'cleaning', 'poles', 'princess', 'shed', 'commons', 'deck', 'solomon', 'covers', 'flexibility', 'acceptable', 'predict', 'switch', 'turtles', 'bottle', 'practical', 'shark', 'fundamentalists', 'follows', 'newark', 'failures', 'arrange', 'employs', 'mafia', 'chronic', 'netherlands', 'perception', 'remarkable', 'realistic', 'merrill', 'earths', 'submarines', 'perry', 'stick', 'challenging', 'generation', 'longest', 'shamrock', 'capitals', 'dill', 'interrupted', 'adoption', 'registration', 'cooking', 'affiliated', 'allan', 'patch', 'chair', 'ballet', 'corazon', 'incentives', 'surged', 'francois', 'rust', 'symptoms', 'sipc', 'belt', 'oneyear', 'harbor', 'lock', 'caucuses', 'thanksgiving', 'greenhouse', 'bombings', 'patterns', 'swimming', 'separated', 'blocking', 'techniques', 'tone', 'hang', 'thanks', 'rainfall', 'blind', 'professionals', 'apples', 'adolf', 'monte', 'arena', 'stored', 'placing', 'gallery', 'tent', 'root', 'autonomy', 'guaranteed', 'washingtonbased', 'pontiff', 'unexpected', 'elephants', 'sleeping', 'sikhs', 'mitterrand', 'resisted', 'y', 'approaches', 'intermediate', 'communism', 'museums', 'alex', 'peaks', 'stabilize', 'sciences', 'commitments', 'acquiring', 'inability', 'roses', 'sum', 'itll', 'crowds', 'artillery', 'organizer', 'episode', 'unique', 'invested', 'avalanche', 'sectors', 'breakthrough', 'vacant', 'installations', 'rodriguez', 'erupted', 'hitting', 'cuellar', 'bc', 'checchi', 'pastor', 'meals', 'categories', 'sharon', 'ball', 'habitat', 'waldheim', 'kennedys', 'manner', 'cox', 'negotiation', 'raid', 'pays', 'zone', 'protective', 'window', 'optimism', 'breakfast', 'bulgaria', 'rebuild', 'circulation', 'hogs', 'completion', 'nuns', 'ariz', 'halloween', 'secretly', 'crumbling', 'novel', 'incumbent', 'administrators', 'grassley', 'laura', 'southwell', 'grammer', 'norfolk', 'vladimir', 'waged', 'freedoms', 'examples', 'explaining', 'manufacturer', 'likud', 'le', 'enthusiastic', 'indicators', 'fulltime', 'mx', 'filling', 'gods', 'lesser', 'rely', 'coordinated', 'alike', 'emphasis', 'hardly', 'kingdom', 'mechams', 'ok', 'unita', 'generate', 'uniforms', 'undertaken', 'bryant', 'thrifts', 'handgun', 'mariel', 'courtmartial', 'feature', 'pocket', 'authorizing', 'magazines', 'implications', 'jenkins', 'unveiled', 'establishing', 'brigade', 'dragged', 'admission', 'secondquarter', 'hometown', 'reopened', 'evacuation', 'mandatory', 'allegation', 'checking', 'lung', 'inf', 'gamble', 'rostenkowski', 'reminded', 'firmly', 'tighten', 'imbalance', 'counterpart', 'humans', 'criminals', 'oscar', 'unnecessary', 'amounted', 'keith', 'sounds', 'deportation', 'answering', 'grip', 'escorted', 'rifles', 'override', 'nashville', 'dropping', 'presidentelect', 'husbands', 'openly', 'decrease', 'install', 'teenager', 'obtaining', 'existed', 'portions', 'swing', 'racing', 'friendship', 'sympathy', 'barring', 'graham', 'christies', 'exporting', 'unite', 'khrushchev', 'attractive', 'hormone', 'passport', 'louisville', 'extortion', 'lambert', 'ticketron', 'hardliners', 'lacked', 'rolling', 'seventh', 'remainder', 'violates', 'fails', 'hutton', 'surveillance', 'khmer', 'select', 'armys', 'nasas', 'aerospace', 'stuart', 'elements', 'partial', 'indias', 'communication', 'afghan', 'insufficient', 'spots', 'relationships', 'aeronautics', 'lab', 'doles', 'genuine', 'steam', 'receives', 'sting', 'antidrug', 'flowers', 'expecting', 'surveyed', 'urgent', 'africans', 'prospective', 'privacy', 'durable', 'savannah', 'evacuate', 'parttime', 'statehood', 'victories', 'haitis', 'carlson', 'vegetable', 'natal', 'uruguay', 'borrowing', 'enclave', 'stupid', 'decisive', 'forget', 'infant', 'smallest', 'ruth', 'flags', 'expedition', 'amended', 'promoted', 'interpretation', 'prohibit', 'enterprises', 'usled', 'characters', 'resigning', 'estonia', 'tribunal', 'endorsement', 'westerners', 'hull', 'followup', 'maung', 'confidential', 'unconstitutional', 'print', 'functioning', 'stemming', 'barr', 'eased', 'probation', 'screaming', 'ministries', 'ahmed', 'rick', 'hay', 'billboard', 'smashed', 'celebrated', 'borough', 'hopkins', 'cream', 'clock', 'suburbs', 'binding', 'atlantis', 'dynamics', 'vetoed', 'conclude', 'coffee', 'dumping', 'barrier', 'timesstock', 'timothy', 'draws', 'cooler', 'concept', 'bullish', 'waterway', 'greg', 'organs', 'caliber', 'youngsters', 'informal', 'visas', 'clara', 'fare', 'wrapped', 'sheriff', 'ken', 'shoulders', 'indirectly', 'tennis', 'fatalities', 'fleeing', 'pillsbury', 'squad', 'awareness', 'promising', 'strait', 'images', 'colleges', 'blier', 'volatile', 'doubled', 'intensified', 'literary', 'kaifu', 'respondents', 'turkeys', 'barracks', 'smokers', 'researcher', 'heights', 'ailments', 'grandmother', 'jean', 'breaks', 'duke', 'ussr', 'deliveries', 'bribery', 'dispatched', 'turf', 'ninth', 'swapo', 'porter', 'supervision', 'shore', 'guest', 'saint', 'chambers', 'solo', 'distress', 'sweep', 'regulated', 'shirt', 'johns', 'buffalo', 'explore', 'settling', 'lottery', 'joy', 'visa', 'dumps', 'lenders', 'score', 'herrera', 'collections', 'tigers', 'jefferson', 'deduction', 'bros', 'pop', 'content', 'appreciation', 'sight', 'bb', 'relaxed', 'mediterranean', 'les', 'catastrophic', 'injustice', 'du', 'defending', 'balanced', 'productive', 'nitrogen', 'europeans', 'oakland', 'credits', 'credibility', 'conscience', 'capability', 'trailer', 'shifted', 'deciding', 'wet', 'qatar', 'ge', 'ferdinand', 'pure', 'aggravated', 'patricia', 'definitive', 'balcony', 'jamming', 'regan', 'hood', 'bidder', 'intellectual', 'transfers', 'skinner', 'summary', 'suitcase', 'deterrent', 'paint', 'bellies', 'insolvent', 'brennan', 'respected', 'kidnappers', 'rationing', 'brands', 'ceiling', 'fashion', 'sing', 'speaks', 'courthouse', 'belonging', 'malls', 'islam', 'benjamin', 'coleco', 'dug', 'mcdonnell', 'alltime', 'nazis', 'nervous', 'integrated', 'routinely', 'loses', 'mazowiecki', 'contributing', 'pet', 'drunken', 'aviv', 'peacekeeping', 'sixyear', 'oust', 'mash', 'semiconductor', 'nagornokarabakh', 'blockade', 'murdering', 'waves', 'slowdown', 'advertisements', 'dating', 'longstanding', 'licenses', 'richmond', 'publications', 'marrow', 'counted', 'britons', 'segment', 'painting', 'pistol', 'pedro', 'horn', 'minus', 'distribute', 'applies', 'mofford', 'topped', 'televisions', 'beliefs', 'mickey', 'stem', 'segregation', 'sounded', 'reunification', 'equally', 'leaks', 'replacing', 'bono', 'meal', 'stealing', 'duracell', 'minn', 'bendjedid', 'decides', 'height', 'loaded', 'battling', 'topics', 'intravenous', 'narcotics', 'dictatorship', 'complain', 'dances', 'butcher', 'dga', 'martial', 'rallied', 'accuse', 'kindergarten', 'bosch', 'frederick', 'grabbed', 'rank', 'lodge', 'civic', 'coach', 'judy', 'oferrell', 'cope', 'sells', 'urge', 'stormed', 'furniture', 'disc', 'nonopec', 'influenced', 'disagreed', 'duchess', 'commanders', 'pleas', 'billy', 'barely', 'ablaze', 'duvalier', 'feedback', 'debut', 'object', 'signatures', 'matta', 'offense', 'artist', 'mice', 'skins', 'edgemont', 'influential', 'custom', 'byrd', 'ctk', 'tools', 'fulfill', 'deficits', 'cosmetics', 'planting', 'saved', 'wore', 'criticizing', 'pessimism', 'observed', 'devoted', 'montreal', 'industrys', 'turmoil', 'reservoir', 'todd', 'mckay', 'metals', 'farms', 'zaccaro', 'tactic', 'harder', 'prohibited', 'obstruction', 'offenses', 'luther', 'taped', 'definitely', 'technique', 'channel', 'median', 'traffickers', 'quietly', 'biological', 'unsuccessful', 'yesterday', 'khamenei', 'pesticides', 'joel', 'depression', 'reconciliation', 'weinstein', 'silverado', 'portfolio', 'lynn', 'halfdozen', 'steiger', 'assembled', 'evil', 'rogers', 'deliberations', 'patrols', 'genscher', 'exclusive', 'symbolic', 'crystal', 'unusually', 'components', 'cambridge', 'booked', 'prompting', 'react', 'modernize', 'dtexas', 'hildreth', 'transmitted', 'operational', 'earthquakes', 'indictments', 'rudman', 'absolute', 'menem', 'mason', 'payless', 'regulator', 'democracies', 'academic', 'captive', 'eventual', 'yellowstone', 'oversight', 'printed', 'diapers', 'singled', 'bulletin', 'westernstyle', 'sadat', 'khashoggi', 'deductions', 'diverse', 'lane', 'victor', 'realized', 'hanford', 'jay', 'zimbabwe', 'renew', 'railroads', 'cereal', 'automobiles', 'naturalization', 'tracks', 'heroin', 'charities', 'bryan', 'horse', 'retaliation', 'liver', 'salvation', 'fernando', 'undersecretary', 'cans', 'instructed', 'automatically', 'refined', 'faction', 'anticipation', 'sovereignty', 'kevin', 'eliminating', 'label', 'concentrate', 'cotton', 'threejudge', 'pockets', 'toussaint', 'embraced', 'portugal', 'retailer', 'varied', 'profile', 'jails', 'guatemala', 'showdown', 'hail', 'lieutenant', 'banning', 'borrowed', 'anatoly', 'prompt', 'perrys', 'haitian', 'occasionally', 'soccer', 'deposits', 'realtors', 'pipe', 'agrees', 'disagree', 'conclusions', 'shifting', 'commonly', 'unacceptable', 'infections', 'unsuccessfully', 'minnick', 'focusing', 'justify', 'attacking', 'militiamen', 'tankers', 'preventing', 'leo', 'merge', 'burton', 'adjusted', 'quotas', 'footage', 'burma', 'greed', 'predecessor', 'sends', 'graduated', 'algiers', 'unwilling', 'satisfy', 'rarely', 'enrile', 'dispatch', 'dangers', 'aftershocks', 'maurice', 'anymore', 'ga', 'baron', 'earmarked', 'evident', 'appoint', 'murray', 'jammukashmir', 'skin', 'insider', 'killer', 'sooner', 'cartels', 'legalization', 'cancel', 'coordinator', 'rains', 'wifes', 'sudan', 'brando', 'drain', 'gacy', 'impoverished', 'warheads', 'peggy', 'implementing', 'underlying', 'pride', 'visible', 'shook', 'cord', 'emigrate', 'dea', 'hydrogen', 'swedish', 'albuquerque', 'robbed', 'atkins', 'strictly', 'goldman', 'gramm', 'milstead', 'vienna', 'exception', 'fourthquarter', 'enact', 'trout', 'lessons', 'brilliant', 'scope', 'ss', 'suspicion', 'twohour', 'siege', 'barrys', 'citizenship', 'monastery', 'progressive', 'slump', 'highways', 'federally', 'eduardo', 'convince', 'thick', 'autopsy', 'stalins', 'athletic', 'cisneros', 'loyal', 'grateful', 'text', 'cat', 'hardest', 'securitate', 'breeze', 'computerized', 'wynberg', 'publish', 'aziz', 'arsenal', 'assaulted', 'kidney', 'wellknown', 'crossing', 'sabotage', 'vase', 'implemented', 'crewmen', 'impending', 'shoulder', 'dignity', 'item', 'nicosia', 'archaeologists', 'undisclosed', 'efficient', 'iranians', 'pekin', 'dividends', 'maiziere', 'monoxide', 'spell', 'richards', 'overwhelmingly', 'oau', 'forum', 'solutions', 'faithful', 'weakening', 'gte', 'array', 'specify', 'unfortunately', 'ideal', 'fcc', 'imposing', 'leftists', 'awful', 'frigate', 'fleisher', 'chickens', 'tables', 'enrique', 'townships', 'bundesbank', 'frustrated', 'publishers', 'swift', 'brawley', 'lukman', 'provincial', 'contracting', 'shelves', 'stamps', 'programming', 'shoppers', 'sad', 'detect', 'clayton', 'disperse', 'dingell', 'objectives', 'differ', 'approaching', 'produces', 'scare', 'campeau', 'literally', 'envoy', 'cameras', 'banker', 'archive', 'sidewalk', 'sacrifice', 'honest', 'lautenberg', 'mexicos', 'sustain', 'speculative', 'diagnosed', 'bonus', 'yankees', 'teenage', 'defied', 'foley', 'withdrawing', 'ride', 'pursued', 'connected', 'employer', 'poem', 'poet', 'obstacles', 'converted', 'deemed', 'ore', 'calm', 'overcome', 'hampden', 'establishes', 'lied', 'apology', 'dip', 'clerk', 'voiced', 'signaled', 'imprisonment', 'expressing', 'spreading', 'swaggart', 'abu', 'souters', 'horton', 'estonian', 'bombers', 'bridges', 'contaminated', 'brand', 'centered', 'contracted', 'exploring', 'aluminum', 'fat', 'sony', 'grande', 'framework', 'kyodo', 'treasurer', 'seasons', 'paisley', 'lafayette', 'adjustment', 'unfairly', 'choices', 'fatally', 'ideological', 'hanging', 'dna', 'fix', 'lyndon', 'fruits', 'libyan', 'crowe', 'starring', 'explosions', 'drafted', 'fueled', 'shimon', 'concentrated', 'johnston', 'corrected', 'lesotho', 'bypass', 'emirates', 'lowincome', 'perfect', 'meantime', 'stomach', 'audit', 'villagers', 'documentary', 'hispanics', 'schneidman', 'guild', 'telecommunications', 'tissue', 'lounge', 'introduce', 'jeans', 'relevant', 'guida', 'technicians', 'determining', 'maritime', 'contending', 'consists', 'disability', 'enhance', 'spoken', 'observation', 'courtappointed', 'deregulation', 'presumably', 'meets', 'jupiter', 'factions', 'dohio', 'marking', 'humberto', 'advises', 'quoting', 'shoes', 'perspective', 'extraordinary', 'yasser', 'merged', 'collectors', 'cafe', 'lorenzo', 'subsequently', 'throat', 'incentive', 'difficulties', 'productivity', 'mcdermott', 'governmentowned', 'insured', 'excellent', 'rental', 'spite', 'situations', 'furloughs', 'burns', 'vigorously', 'emphasized', 'athens', 'eighth', 'inform', 'instruments', 'alleges', 'sheftel', 'treating', 'flat', 'kiss', 'skeptical', 'alien', 'mainstream', 'timetable', 'ambassadors', 'jon', 'chryslers', 'exceed', 'unanswered', 'preserve', 'solved', 'reveal', 'altered', 'equipped', 'expression', 'crawford', 'contingent', 'improperly', 'assaults', 'greenwald', 'acquisitions', 'buyouts', 'imagine', 'fights', 'drunk', 'owes', 'comprise', 'tally', 'walker', 'cheered', 'insists', 'historians', 'dust', 'ordinary', 'suing', 'incorporated', 'flexible', 'embassies', 'secondlargest', 'dispersed', 'javier', 'suppliers', 'hepatitis', 'greatly', 'mpg', 'apologized', 'dirt', 'partnerships', 'manning', 'depth', 'diminished', 'distinguished', 'pilgrims', 'reflection', 'drowned', 'bricklin', 'kabul', 'luck', 'scrap', 'shame', 'sticks', 'accidentally', 'travels', 'heres', 'plaza', 'rabbi', 'antiterrorist', 'admitting', 'voluntarily', 'lifetime', 'witter', 'honoraria', 'des', 'pleasure', 'openness', 'sexuality', 'monroe', 'prevail', 'graves', 'oval', 'annexed', 'freely', 'poorest', 'enjoy', 'erected', 'ballistic', 'regulate', 'orderly', 'resist', 'limiting', 'niklus', 'cooper', 'unconditional', 'adequately', 'setback', 'deported', 'hughes', 'arose', 'oh', 'flower', 'andrews', 'logan', 'getz', 'linking', 'musician', 'dismissing', 'gallo', 'gisclair', 'satellites', 'studios', 'painter', 'helpful', 'fouryear', 'channels', 'basketball', 'willingness', 'lethal', 'psychiatric', 'pressured', 'severity', 'shaken', 'constantly', 'sc', 'slashed', 'depressed', 'considers', 'unanimous', 'parliaments', 'fishermen', 'writes', 'reliable', 'consistently', 'exciting', 'outlined', 'dock', 'warfare', 'fiveday', 'mills', 'ashore', 'linda', 'sits', 'outbreak', 'drink', 'restructure', 'daylight', 'assess', 'flynn', 'conglomerate', 'calero', 'wppss', 'salvadoran', 'exercises', 'seizure', 'photo', 'rnh', 'entries', 'uniform', 'halfhour', 'nutrition', 'santiago', 'typically', 'foster', 'higgins', 'mounted', 'greenpeace', 'telephones', 'treasurys', 'authors', 'generating', 'spokesmen', 'picket', 'colonel', 'ferrets', 'redman', 'insurgency', 'desperate', 'persistent', 'consumed', 'sugar', 'folks', 'architecture', 'map', 'shipyard', 'centrust', 'climbing', 'component', 'revive', 'militant', 'pell', 'prostitute', 'objects', 'mid', 'peewee', 'levin', 'endorse', 'correctional', 'roles', 'corrupt', 'proceeding', 'questionable', 'legally', 'mormon', 'connections', 'saudis', 'coupled', 'nest', 'reward', 'leningrad', 'protocol', 'protectionist', 'characterized', 'inflated', 'notify', 'broyles', 'prestige', 'wallenda', 'governmental', 'drifted', 'highlight', 'settlers', 'plead', 'walt', 'scholar', 'unix', 'floridas', 'echoed', 'disagreement', 'forming', 'unaware', 'exceptions', 'transistor', 'butterfly', 'romanian', 'borrow', 'stretch', 'locally', 'pollutants', 'hunting', 'cockpit', 'retained', 'vocal', 'load', 'robin', 'fdic', 'verification', 'retreated', 'destroying', 'fetal', 'frustration', 'unfortunate', 'typical', 'nielsen', 'vines', 'lynch', 'peanuts', 'undergo', 'basement', 'deter', 'weicker', 'umbrella', 'mad', 'bears', 'keller', 'emerging', 'tapped', 'discouraged', 'bolster', 'stakes', 'overhead', 'fetus', 'mcfarlane', 'signature', 'dwis', 'sls', 'menorah', 'outspoken', 'atrocities', 'rappaport', 'disciplinary', 'downed', 'coroner', 'hurting', 'relation', 'screening', 'insisting', 'gear', 'janet', 'orthodox', 'clinic', 'expire', 'glory', 'crusade', 'bureaucrats', 'digits', 'revival', 'jobless', 'telecharge', 'incumbents', 'trehan', 'navigation', 'levy', 'branches', 'constituents', 'suspend', 'conversion', 'bowl', 'drives', 'lavish', 'westinghouse', 'shrine', 'republicbank', 'spinal', 'duarte', 'heseltine', 'rubber', 'hardware', 'applause', 'attitudes', 'hiv', 'bare', 'panic', 'conflicts', 'segregated', 'windfall', 'ramstein', 'populations', 'altogether', 'furlough', 'alice', 'gown', 'approving', 'stallone', 'workplace', 'motives', 'photos', 'keatings', 'obrien', 'predawn', 'patriarca', 'haldeman', 'benedict', 'nikolai', 'omaha', 'overwhelmed', 'sunny', 'retarded', 'averaging', 'mosbacher', 'wives', 'lang', 'fifteen', 'rode', 'burke', 'richman', 'dishes', 'jal', 'commuter', 'ransom', 'newest', 'moonstruck', 'lately', 'searches', 'spin', 'richest', 'takeovers', 'wastes', 'contents', 'ruffin', 'couture', 'expertise', 'beds', 'drastic', 'hodel', 'foam', 'congressmen', 'swim', 'fortune', 'envoys', 'default', 'publicist', 'territorial', 'locals', 'pack', 'resolving', 'costume', 'interfere', 'dmaine', 'distant', 'nida', 'recorder', 'stalemate', 'rkan', 'dismiss', 'ugly', 'microwave', 'distributing', 'setbacks', 'conventions', 'shocked', 'harvey', 'sudden', 'companion', 'adams', 'tribal', 'mulroney', 'collision', 'maps', 'seasonally', 'mystery', 'singapore', 'fiction', 'headlines', 'grains', 'bst', 'valves', 'packing', 'masses', 'multibilliondollar', 'arising', 'lockheed', 'ashland', 'herald', 'leaking', 'hatch', 'deposed', 'unisys', 'uncovered', 'pentagons', 'lighting', 'miyazawa', 'instructor', 'jacksonville', 'dale', 'youngest', 'survivor', 'interpreted', 'organic', 'burglary', 'trademark', 'scrutiny', 'buddhist', 'jeremy', 'incredible', 'tegucigalpa', 'antitrust', 'reactor', 'contestants', 'developers', 'predictions', 'elephant', 'coroners', 'countered', 'yelled', 'mccain', 'thugs', 'cheers', 'alvarez', 'popeye', 'misuse', 'anxious', 'checkpoint', 'condom', 'assassinated', 'casino', 'prosecuted', 'conrail', 'mature', 'armstrong', 'engage', 'bent', 'surely', 'dismantled', 'blockbuster', 'secretaries', 'delaying', 'meyers', 'bearing', 'pursuit', 'burnham', 'wilshire', 'castaneda', 'guidance', 'scenario', 'resettlement', 'transformed', 'affidavit', 'acknowledge', 'inevitably', 'inevitable', 'sprawling', 'silent', 'abraham', 'justified', 'punished', 'stems', 'bias', 'ratified', 'environmentally', 'cheering', 'personality', 'battery', 'describes', 'transformation', 'exceeding', 'kitty', 'koreans', 'upward', 'quinn', 'chatham', 'fuels', 'prayers', 'precious', 'moynihan', 'cesar', 'neb', 'shelters', 'unemployed', 'videotape', 'ramon', 'loud', 'stewart', 'gotner', 'cracks', 'equals', 'anchor', 'belfast', 'bury', 'classic', 'tibet', 'keidanren', 'impressed', 'knives', 'holders', 'disappointment', 'specified', 'titled', 'algotson', 'malone', 'twenty', 'pains', 'bridal', 'beans', 'knight', 'deprived', 'richfield', 'airplanes', 'snapped', 'virtual', 'hate', 'entertainer', 'homelessness', 'stronghold', 'reformers', 'chuck', 'washed', 'evangelist', 'peasants', 'ruins', 'inland', 'mcguire', 'combe', 'stroke', 'gerard', 'origin', 'dining', 'informant', 'paralysis', 'racism', 'directions', 'hightech', 'largescale', 'kuwaits', 'flies', 'grenades', 'rocard', 'usg', 'fec', 'dominance', 'rankandfile', 'discourage', 'ershad', 'ackerman', 'subsidy', 'defensive', 'leek', 'bribes', 'tasks', 'logical', 'bender', 'sd', 'tendency', 'limbs', 'patronage', 'stuffed', 'coats', 'resource', 'concede', 'mohawk', 'refer', 'waved', 'brig', 'tentatively', 'qualify', 'feeder', 'defect', 'reliance', 'zubal', 'medicaid', 'kathleen', 'billed', 'wipe', 'wolf', 'element', 'dismissal', 'dubbed', 'collecting', 'exempt', 'supervise', 'diverted', 'crunch', 'tannery', 'luxury', 'implementation', 'sachs', 'coral', 'obligation', 'ferraro', 'asleep', 'lou', 'cookies', 'toys', 'trusts', 'wonderful', 'dominant', 'zambia', 'selfdefense', 'reads', 'independently', 'boots', 'backers', 'nationals', 'margins', 'unlawful', 'teletron', 'forgotten', 'fierce', 'poultry', 'ridley', 'erie', 'warn', 'distance', 'friedrick', 'wanting', 'adds', 'mussels', 'max', 'tall', 'taewoo', 'vary', 'adjacent', 'corner', 'secondary', 'affordable', 'parental', 'sensible', 'heavier', 'matching', 'pioneer', 'polisario', 'decorated', 'bible', 'wiped', 'trooper', 'eightyear', 'lukanov', 'marketed', 'gap', 'mirror', 'brent', 'lesson', 'ontario', 'jumbo', 'wade', 'stranded', 'buthelezi', 'gibson', 'bull', 'slammed', 'masked', 'ventures', 'jungle', 'potatoes', 'devastating', 'stopping', 'tyson', 'indirect', 'bacteria', 'handles', 'liquid', 'bahamas', 'marathon', 'disrupt', 'confined', 'robertsons', 'pont', 'nicotine', 'risky', 'suspicious', 'intervened', 'competent', 'disappointing', 'raided', 'dramatically', 'boucher', 'isolation', 'exam', 'mailed', 'lord', 'microbe', 'tune', 'coleman', 'subscribers', 'pittston', 'blueprint', 'offenders', 'curator', 'bonn', 'tumor', 'elimination', 'dependents', 'walks', 'venezuela', 'broadway', 'picks', 'disorder', 'smiths', 'illustrated', 'respectively', 'delivering', 'gunter', 'touring', 'elite', 'extradited', 'garage', 'liquidation', 'valve', 'psychologist', 'wider', 'bedroom', 'heroes', 'birthdays', 'walshs', 'federations', 'coordinate', 'forks', 'willie', 'authoritarian', 'trunk', 'noboru', 'inspections', 'boschwitz', 'profittaking', 'primetime', 'drag', 'florio', 'cruise', 'masters', 'wines', 'medals', 'shortfall', 'persuaded', 'presents', 'broadcasters', 'undergoing', 'capitalist', 'okla', 'principles', 'restricting', 'mill', 'avoiding', 'soup', 'voices', 'dash', 'precise', 'therapist', 'marc', 'sickness', 'quebec', 'cosell', 'inflationary', 'possessions', 'detected', 'monks', 'fink', 'wheelchairs', 'graduation', 'camarena', 'galveston', 'tightening', 'chains', 'regain', 'forestry', 'feeding', 'choir', 'newport', 'portable', 'spencer', 'versions', 'vanished', 'whirlpool', 'bolts', 'poisoning', 'clerks', 'deteriorating', 'aaron', 'appliances', 'relieved', 'unsure', 'rid', 'lengthy', 'hinted', 'wishes', 'bankrupt', 'chicken', 'homosexuals', 'rocked', 'locate', 'frohnmayer', 'disturbed', 'sailed', 'brigades', 'beings', 'nonvoting', 'verde', 'excerpts', 'influx', 'sierra', 'locks', 'professors', 'hunthausen', 'zoo', 'phil', 'preference', 'diving', 'iliescu', 'mundy', 'legislatures', 'prevailed', 'hugh', 'gdansk', 'pairs', 'rumored', 'patrolled', 'von', 'flooded', 'nickname', 'deserves', 'gases', 'eddie', 'detectives', 'eleven', 'bolstered', 'fundamentally', 'challengers', 'denial', 'cruz', 'passion', 'tossed', 'excitement', 'punjab', 'rockies', 'pulitzer', 'implicated', 'separatist', 'jacques', 'kurt', 'musburger', 'laundering', 'ineligible', 'budgets', 'curtis', 'leftwing', 'portrait', 'displaced', 'reopening', 'application', 'dvt', 'compact', 'camera', 'averages', 'ganyile', 'mcmahon', 'probable', 'skunk', 'reinforcements', 'disappearance', 'stan', 'aided', 'disneys', 'poems', 'zealand', 'puts', 'unpopular', 'basra', 'anasazi', 'cargill', 'statewide', 'interesting', 'tucker', 'coca', 'opecs', 'hadson', 'evaluation', 'pamphlet', 'honorary', 'valleys', 'swenson', 'consulted', 'carla', 'edison', 'symbols', 'belgrade', 'owning', 'taiwanese', 'ambushed', 'disarmament', 'transfusion', 'delegations', 'discretion', 'identities', 'supplier', 'patience', 'tamils', 'pullout', 'imf', 'frankly', 'promotions', 'robby', 'nikolais', 'classaction', 'atts', 'exams', 'automaker', 'debating', 'drastically', 'gull', 'surfaced', 'railway', 'abducted', 'curran', 'mydland', 'repatriation', 'treason', 'escalation', 'thompsons', 'proclaimed', 'vandenberg', 'obstacle', 'continent', 'loyalty', 'cruiser', 'folk', 'unavailable', 'verity', 'arresting', 'andre', 'avery', 'hurd', 'woes', 'mens', 'shadyside', 'josef', 'plight', 'crocodile', 'educate', 'calgary', 'webster', 'matches', 'container', 'collapsing', 'occidental', 'supermarket', 'skies', 'au', 'siegelman', 'shiley', 'countryside', 'barash', 'bumper', 'critically', 'delhi', 'tailored', 'tulsa', 'burleson', 'recalling', 'drill', 'firefighting', 'kolberg', 'painful', 'ignited', 'amtrak', 'drum', 'taste', 'discounted', 'sellers', 'peabody', 'damaging', 'solely', 'notion', 'caps', 'productions', 'navys', 'labeled', 'carroll', 'em', 'gingrich', 'monets', 'mentally', 'irreversible', 'recruits', 'clarke', 'firstclass', 'performers', 'rulers', 'paramilitary', 'strife', 'trends', 'civilization', 'morton', 'ricky', 'bet', 'exhibit', 'arabian', 'accuses', 'sizes', 'squarefoot', 'daniels', 'osha', 'holderman', 'abdomen', 'egyptians', 'briefed', 'lowering', 'tucson', 'travell', 'olive', 'relinquish', 'offshore', 'cubas', 'pump', 'klaus', 'brisk', 'strategies', 'coat', 'curfews', 'elevator', 'commentary', 'charitable', 'weigh', 'annexation', 'envelopes', 'conciliatory', 'byrne', 'likelihood', 'provoked', 'cosby', 'planks', 'organ', 'colombias', 'earning', 'videos', 'ochoa', 'weaponry', 'hikes', 'climb', 'holland', 'montezumas', 'blasted', 'looters', 'lessen', 'humanity', 'nh', 'ne', 'etruscan', 'criteria', 'ballroom', 'cheyenne', 'herrington', 'explorers', 'unborn', 'pinnacle', 'successes', 'guided', 'harrison', 'baldwin', 'schedules', 'communicate', 'speculated', 'hazards', 'offspring', 'alter', 'instruction', 'ornellas', 'costing', 'lastminute', 'teitelbaum', 'disposal', 'bitterly', 'proposing', 'harmful', 'prosecute', 'hunters', 'painted', 'owe', 'breeding', 'sinking', 'tolerate', 'resignations', 'bonuses', 'cutbacks', 'continentals', 'scalia', 'slate', 'silicon', 'birmingham', 'reaffirmed', 'funded', 'stole', 'rioters', 'washingtons', 'monsignor', 'vance', 'scarce', 'outrage', 'josephs', 'yearly', 'reactors', 'biden', 'plotting', 'rises', 'wilder', 'jeopardize', 'freight', 'freighter', 'holes', 'tents', 'chairs', 'centrist', 'stearns', 'tornadoes', 'strategists', 'highlights', 'filibuster', 'grandchildren', 'diversified', 'farther', 'rnc', 'absent', 'assassinations', 'governed', 'incoming', 'cap', 'statistical', 'stevens', 'tragic', 'physically', 'uneasy', 'stanford', 'podium', 'deborah', 'excuse', 'offended', 'applauded', 'wiese', 'garrison', 'secession', 'outright', 'providence', 'watergate', 'excluded', 'hose', 'jonathan', 'fatigue', 'precisely', 'plummeted', 'geageas', 'processes', 'leipzig', 'sara', 'nightly', 'sponsoring', 'neutral', 'wouldbe', 'disruptive', 'suitable', 'cuomos', 'aging', 'faulty', 'monica', 'cypress', 'marshal', 'outskirts', 'countdown', 'cheese', 'cmdr', 'consortium', 'switching', 'londonbased', 'ritalin', 'jeffrey', 'pile', 'colonial', 'references', 'houstoun', 'modernization', 'legislator', 'standoff', 'brushed', 'unhappy', 'meir', 'testifying', 'repairs', 'hastings', 'disks', 'labels', 'recreation', 'infantry', 'alito', 'michaels', 'abolished', 'phyllis', 'wagner', 'garrett', 'poorly', 'lauer', 'sears', 'ritual', 'toy', 'botswana', 'sanctuary', 'saga', 'claude', 'theodore', 'issuing', 'grassgreen', 'discharge', 'trible', 'processed', 'transfusions', 'satisfaction', 'vremya', 'kills', 'subic', 'inquiries', 'fastest', 'advise', 'literature', 'holidays', 'understood', 'vacations', 'mccown', 'alerted', 'statute', 'affluent', 'threemember', 'overturn', 'platforms', 'richardson', 'midafternoon', 'cancellation', 'occupying', 'revolt', 'similarly', 'wilburys', 'pneumonia', 'hud', 'klein', 'pits', 'rebellion', 'o', 'ambitious', 'turtle', 'sexually', 'prostitutes', 'ridiculous', 'financier', 'spare', 'observe', 'vandalism', 'briefings', 'instrument', 'boycotted', 'exit', 'wartime', 'undecided', 'liberace', 'plank', 'unmanned', 'fuller', 'firsthand', 'boharski', 'indefinite', 'shorter', 'surprises', 'bucharest', 'dictated', 'royalties', 'atop', 'abduction', 'marry', 'odd', 'barahona', 'weaken', 'motorcycle', 'traced', 'arafats', 'drank', 'digging', 'conflicting', 'negligence', 'concession', 'xinhua', 'nominations', 'jeanclaude', 'charred', 'ambulance', 'steal', 'clues', 'peacefully', 'commissions', 'lauderdale', 'prohibits', 'fares', 'horizon', 'considerations', 'domination', 'aggressively', 'legalized', 'regained', 'genes', 'mostfavorednation', 'stockholm', 'dellums', 'elementary', 'valid', 'daisy', 'alongside', 'celebrities', 'sheik', 'bureaus', 'mineral', 'cartel', 'bureaucracy', 'notebooks', 'evans', 'punish', 'swindler', 'singh', 'proponents', 'publicized', 'taping', 'multimilliondollar', 'landscape', 'anxiety', 'targeting', 'sacramento', 'thoughts', 'orbiter', 'covert', 'themes', 'weeklong', 'soul', 'forbids', 'streeters', 'surprising', 'certification', 'stacked', 'mom', 'lightning', 'organizing', 'communitys', 'authorize', 'humphreys', 'exiles', 'aged', 'thcentury', 'directorate', 'surrendered', 'upgraded', 'finalists', 'blackowned', 'affects', 'lend', 'sink', 'responsibilities', 'yielded', 'dad', 'noontime', 'tyler', 'wellstone', 'upbeat', 'novelist', 'noise', 'ivory', 'pie', 'tampa', 'guinness', 'injected', 'availability', 'columbias', 'mergers', 'sporadic', 'passive', 'bathroom', 'steadily', 'remarkably', 'houstonbased', 'reply', 'crippled', 'chaired', 'conductor', 'discontinued', 'confessed', 'discouraging', 'synthetic', 'conspiring', 'pinochet', 'milestone', 'script', 'finances', 'sandra', 'ignore', 'credible', 'wished', 'engineered', 'multistate', 'divert', 'pants', 'retailing', 'contenders', 'annunzios', 'proiranian', 'woody', 'fakhri', 'adapt', 'abbott', 'viett', 'plate', 'sensitivity', 'discipline', 'hat', 'unequivocally', 'raped', 'shootout', 'childs', 'egypts', 'benson', 'timbuktu', 'accomplished', 'harmon', 'conscious', 'leather', 'disasters', 'curbs', 'hamel', 'saving', 'collided', 'ives', 'edges', 'bubble', 'waving', 'periodic', 'respective', 'isaac', 'atwater', 'occurs', 'guarding', 'sieck', 'cassette', 'voa', 'canning', 'considerably', 'uranium', 'petitions', 'mainland', 'stalinist', 'midland', 'indonesia', 'contested', 'nonsmokers', 'peters', 'societys', 'divorced', 'innovative', 'lifelong', 'policymaking', 'bowsher', 'insurgents', 'stateowned', 'wheel', 'dennys', 'counterparts', 'peer', 'teaches', 'defeats', 'fortified', 'monitors', 'fargo', 'filipinos', 'franciscobased', 'commenting', 'stunt', 'heightened', 'innocence', 'assemble', 'freeing', 'diaries', 'horror', 'bass', 'investing', 'punitive', 'housed', 'heaviest', 'fbis', 'translation', 'experimental', 'nikko', 'smiled', 'acreage', 'manage', 'namibian', 'palmerola', 'enforced', 'battled', 'halting', 'examiner', 'anchorage', 'disposable', 'jackets', 'merchants', 'geagea', 'omb', 'cano', 'colonies', 'nationalists', 'predicting', 'murderers', 'bow', 'burgeoning', 'speculators', 'adjourned', 'stormy', 'storms', 'strain', 'protein', 'skilled', 'deadlines', 'casualty', 'shattered', 'enjoying', 'correspondents', 'iacocca', 'repeating', 'peoria', 'patterson', 'threehour', 'austria', 'cloud', 'constant', 'overlooking', 'bain', 'healing', 'composed', 'fahrenheit', 'recess', 'tense', 'constabulary', 'sisters', 'smuggled', 'exceeded', 'warehouses', 'captives', 'transatlantic', 'gunned', 'newsprint', 'hsn', 'impressive', 'eighty', 'dispatcher', 'raleigh', 'palma', 'lanka', 'jazz', 'guitar', 'insist', 'andrei', 'refinery', 'luxembourg', 'grass', 'lifeguards', 'milwaukee', 'jacobs', 'roofs', 'gill', 'grievances', 'budapest', 'kick', 'bourgeois', 'sisulu', 'backs', 'posters', 'andersons', 'bearish', 'languages', 'landings', 'chamorros', 'ensuring', 'romer', 'mchaffie', 'ripped', 'ashe', 'torch', 'cliff', 'marching', 'annie', 'destined', 'blew', 'chile', 'skirts', 'rebuffed', 'proves', 'longdistance', 'odom', 'attraction', 'atlarge', 'matched', 'fixedrate', 'curiosity', 'refining', 'teens', 'breakdown', 'clay', 'laughed', 'technically', 'pornographic', 'accompanying', 'smuggle', 'archives', 'roberson', 'proxy', 'genetically', 'grace', 'observatory', 'tumors', 'institutes', 'prensa', 'archdiocese', 'spill', 'depardieu', 'blown', 'cabbage', 'rockwell', 'mechanism', 'exchanged', 'reid', 'vitamin', 'farreaching', 'allocated', 'verne', 'bigotry', 'glasses', 'volvo', 'reign', 'middleclass', 'weekold', 'purple', 'honoring', 'permanently', 'pretoria', 'saito', 'prom', 'lindsey', 'sheet', 'households', 'merrell', 'famine', 'landslide', 'intercontinental', 'cordero', 'lacks', 'fw', 'fa', 'prenatal', 'elder', 'bechtel', 'pauley', 'juice', 'karl', 'quota', 'belong', 'overweight', 'donna', 'hasselbring', 'armenians', 'evan', 'evenly', 'focuses', 'bites', 'benchmark', 'founding', 'poetry', 'ecs', 'feeney', 'shy', 'tutwiler', 'whistleblowers', 'backlog', 'mondale', 'notices', 'spence', 'fronts', 'oman', 'comprised', 'academics', 'cement', 'aisle', 'executions', 'hook', 'swaziland', 'notification', 'exploitation', 'taipei', 'curriculum', 'browning', 'cambodian', 'lopez', 'yugoslav', 'sahara', 'patrons', 'independents', 'accountable', 'passports', 'leaked', 'captivity', 'storks', 'threeway', 'compare', 'pigeon', 'hittle', 'emphasize', 'lenient', 'atomic', 'hated', 'excited', 'bogus', 'britannica', 'rejection', 'fisher', 'quaker', 'thwart', 'plastics', 'embarrassed', 'strongman', 'callers', 'tumbling', 'kalugin', 'partially', 'mayer', 'uniteds', 'studio', 'loosen', 'mesa', 'gutierrez', 'tool', 'arraignment', 'reorganize', 'dwva', 'censorship', 'ranges', 'drexels', 'accommodate', 'varying', 'unregulated', 'highranking', 'descended', 'lowery', 'rios', 'looting', 'southwestern', 'madison', 'dilorenzo', 'phobos', 'kimberly', 'recalls', 'laurentiis', 'randolph', 'invest', 'presentation', 'eligibility', 'debated', 'nepal', 'memorandum', 'breakin', 'armory', 'batch', 'nebinger', 'condemnation', 'sonny', 'vendors', 'sigmond', 'separation', 'depicted', 'promptly', 'shallow', 'castillo', 'cried', 'capabilities', 'lawson', 'urges', 'adjustments', 'beneficiaries', 'rulings', 'caution', 'sioux', 'californians', 'ri', 'thrilled', 'rings', 'defiance', 'deportations', 'disclosing', 'pen', 'poors', 'icing', 'myers', 'wickes', 'tore', 'tory', 'russia', 'freezing', 'mans', 'polly', 'spotlight', 'kenner', 'apologize', 'legend', 'jew', 'pedestrian', 'chancery', 'nasdaq', 'spirits', 'adjoining', 'electionyear', 'necessity', 'clinton', 'aground', 'practicing', 'coffin', 'slip', 'pomona', 'damato', 'reacted', 'liked', 'mechanical', 'disbanded', 'triumph', 'cher', 'rancho', 'pizza', 'creates', 'latter', 'exercised', 'belongs', 'capped', 'disqualified', 'cart', 'bujang', 'forever', 'cannon', 'installation', 'evangelists', 'noble', 'ruler', 'trotsky', 'popes', 'khan', 'mysterious', 'kahane', 'lasting', 'intervene', 'chiquita', 'randy', 'dame', 'endanger', 'skyrocketing', 'minimal', 'chelsea', 'tubes', 'epstein', 'pornography', 'brokered', 'oversees', 'crosses', 'lecturer', 'deploy', 'intentions', 'rash', 'sharpeville', 'driveway', 'inaccurate', 'iason', 'abboud', 'propaganda', 'claimants', 'discoverys', 'freemarket', 'makeup', 'implanted', 'tale', 'cascade', 'listing', 'gonzalez', 'felonies', 'legitimacy', 'accusation', 'marisa', 'gomes', 'benton', 'landfill', 'alberto', 'bleach', 'naacp', 'sedlmayr', 'forthcoming', 'consular', 'deliberately', 'harassed', 'cynthia', 'pipes', 'boxing', 'flawed', 'kochs', 'dissent', 'aftermath', 'harlem', 'hakim', 'motel', 'restrict', 'tow', 'totals', 'blanchard', 'nesting', 'rubin', 'italys', 'hoyt', 'poe', 'halfway', 'ross', 'jeep', 'barcelona', 'langley', 'clandestine', 'compiled', 'shaped', 'momma', 'fisheries', 'hooks', 'polling', 'documentmatching', 'lech', 'audiences', 'toured', 'elevations', 'playboy', 'presiding', 'architect', 'absorbed', 'bust', 'barboza', 'insistence', 'creative', 'plainclothes', 'rents', 'insignificant', 'confidentiality', 'cuito', 'compelled', 'formula', 'sao', 'enlisted', 'englishlanguage', 'vague', 'dickman', 'lowell', 'artistic', 'rejecting', 'tarver', 'belmont', 'ducks', 'triple', 'commune', 'cochairman', 'apiece', 'reich', 'societe', 'steering', 'denmark', 'ramp', 'hubert', 'gadhafi', 'humidity', 'simultaneously', 'insult', 'meaningful', 'misconduct', 'admits', 'usjapan', 'mercy', 'gandhi', 'rill', 'scored', 'switches', 'brave', 'slogan', 'posing', 'aiding', 'seidon', 'smugglers', 'supercomputers', 'undertake', 'repay', 'seconddegree', 'lockerbie', 'strauss', 'entrapment', 'tries', 'solving', 'liaison', 'bowed', 'bowen', 'bride', 'concentration', 'determination', 'seismographs', 'overthrown', 'dissatisfaction', 'practically', 'mosque', 'fresno', 'microphone', 'shaky', 'skill', 'receptor', 'moshe', 'pacts', 'mumford', 'lithuanias', 'responsive', 'intimidation', 'guthrie', 'inappropriate', 'boise', 'grows', 'notorious', 'tosh', 'militias', 'guardian', 'convoys', 'massage', 'hatred', 'husseins', 'yuri', 'discharged', 'baucus', 'trace', 'killers', 'caller', 'singers', 'measles', 'characteristics', 'prochoice', 'measuring', 'sergei', 'exiled', 'finland', 'obligations', 'leslie', 'please', 'solis', 'textile', 'guterman', 'finley', 'jason', 'restraining', 'populist', 'bleeding', 'chased', 'loves', 'audits', 'clearing', 'journalism', 'pig', 'respects', 'lure', 'nyselisted', 'diana', 'closings', 'mercury', 'churchs', 'cracked', 'tonka', 'accomplishments', 'trim', 'permitting', 'drinks', 'ferry', 'motions', 'devastated', 'dfla', 'kent', 'expectation', 'batalla', 'severed', 'derrick', 'rajneesh', 'fan', 'handlers', 'joints', 'disabled', 'lease', 'collateral', 'ark', 'bluechip', 'inclined', 'tap', 'inlet', 'tommy', 'gravley', 'hoppe', 'refunding', 'hermann', 'shocks', 'projection', 'wang', 'beyer', 'sixteen', 'bilzerian', 'dickey', 'wolvovitz', 'employ', 'conditioned', 'workforce', 'lockdown', 'marshals', 'freelance', 'crater', 'gloomy', 'thurmond', 'emotion', 'collider', 'readings', 'wales', 'otto', 'tracking', 'satisfactory', 'moines', 'paso', 'wellwishers', 'substances', 'jiang', 'smiling', 'roots', 'sauce', 'colleague', 'preservation', 'seize', 'secular', 'courting', 'chorus', 'span', 'willis', 'broaden', 'snake', 'reconstruction', 'greedy', 'commandant', 'frame', 'genetic', 'marcoses', 'shotgun', 'compares', 'outlets', 'gardens', 'reaches', 'assessed', 'lebanons', 'letterman', 'chaney', 'bothas', 'lexington', 'dudycz', 'hans', 'openings', 'dartmouth', 'nablus', 'selfdetermination', 'armies', 'grandson', 'iditarod', 'appreciated', 'arctic', 'ama', 'twelve', 'verbal', 'ideology', 'shrinking', 'stark', 'montt', 'ceo', 'randomly', 'excise', 'countys', 'emperors', 'arturo', 'mobs', 'soweto', 'probate', 'servants', 'inherited', 'albania', 'immigrant', 'lasko', 'strains', 'thanked', 'debtor', 'simons', 'morgue', 'riverside', 'balloons', 'intersection', 'cocoa', 'compromises', 'buddy', 'swap', 'immunized', 'fantastic', 'goodbye', 'recordkeeping', 'marie', 'hrawi', 'waging', 'parish', 'strengthening', 'jacket', 'hijacked', 'assurance', 'bailey', 'barrage', 'treasure', 'requesting', 'blasts', 'synagogue', 'vending', 'preserved', 'squeezed', 'stir', 'enforcing', 'reparations', 'swelling', 'recycled', 'lisbon', 'politician', 'denominations', 'rundown', 'cup', 'howell', 'monia', 'implied', 'pleading', 'disarm', 'quo', 'occasion', 'liberalization', 'nicknamed', 'gms', 'planners', 'insurer', 'sein', 'deficiencies', 'patmos', 'boosting', 'bendectin', 'fantasy', 'insulation', 'thorough', 'amirav', 'colors', 'smuggler', 'brutality', 'obscene', 'amateur', 'implant', 'trident', 'epas', 'installing', 'colin', 'dodge', 'milton', 'joked', 'slashing', 'harshly', 'slaughter', 'tribe', 'whales', 'diversity', 'deserve', 'dcolo', 'negotiator', 'adventure', 'concentrating', 'algerias', 'rochester', 'architects', 'chargeurs', 'klux', 'betrayed', 'regulates', 'indefinitely', 'turbulence', 'vaccine', 'andy', 'arson', 'nick', 'breach', 'concludes', 'hilton', 'tenant', 'hu', 'topple', 'rison', 'targeted', 'geographical', 'fords', 'irishman', 'wilderness', 'auxiliary', 'borrowers', 'lynne', 'relax', 'dyke', 'fugitive', 'menu', 'hemisphere', 'juvenile', 'curious', 'persecution', 'ottawa', 'amalgam', 'relating', 'tightly', 'cxcbt', 'lackluster', 'runners', 'capitalism', 'onehalf', 'microwaves', 'escorts', 'tube', 'izvestia', 'sowan', 'disciples', 'reversing', 'indicator', 'instituted', 'peacetime', 'worthless', 'plagued', 'putnam', 'shrugged', 'recognizance', 'complying', 'bahrain', 'bend', 'stimulate', 'tortured', 'claremont', 'thirdquarter', 'bidders', 'hottest', 'felix', 'branover', 'surprisingly', 'complicity', 'decembers', 'firsttime', 'naturally', 'slowest', 'blanket', 'magellans', 'flock', 'strangers', 'bergland', 'cop', 'hebrew', 'mountainous', 'glauberman', 'portuguese', 'liquidated', 'veterinarian', 'grape', 'fragile', 'supremacy', 'concerts', 'benefited', 'coastamerica', 'correction', 'assailant', 'tartus', 'heels', 'martyrs', 'tritium', 'shipbuilding', 'buckey', 'witnessed', 'loma', 'trailed', 'dunn', 'fearing', 'perfume', 'assistants', 'wilbury', 'ienner', 'transcripts', 'shah', 'praying', 'caretaker', 'collins', 'clout', 'drops', 'succeeds', 'correctly', 'ceremsak', 'fledgling', 'insults', 'downstream', 'vulnerability', 'posting', 'collector', 'telescopes', 'payload', 'princeton', 'discontent', 'sorts', 'distinction', 'quantities', 'neal', 'practiced', 'sporting', 'landslides', 'priceless', 'pink', 'outline', 'upham', 'massacred', 'contemporary', 'junior', 'forecasting', 'booming', 'pharmaceutical', 'tiananmen', 'achieving', 'marble', 'alpo', 'corkscrew', 'reunion', 'ku', 'hillside', 'courage', 'acustar', 'coniston', 'homemade', 'interagency', 'lifeguard', 'quakes', 'hangar', 'aft', 'bunch', 'rabuka', 'monkey', 'tide', 'ryzhkovs', 'nicholson', 'instant', 'laugh', 'cubic', 'publicize', 'noncommunist', 'retribution', 'traumatic', 'seismic', 'deri', 'militarys', 'mess', 'exhibits', 'tuberculosis', 'propulsion', 'contamination', 'rny', 'councilman', 'bands', 'silverman', 'alamo', 'mosquito', 'genocide', 'electorate', 'nm', 'backward', 'laughter', 'cutter', 'warranted', 'atlantabased', 'sherman', 'runaway', 'filmmakers', 'shaft', 'engulfed', 'anticommunist', 'applying', 'cbn', 'announcements', 'spouse', 'susceptible', 'attendant', 'securing', 'vincent', 'pw', 'duo', 'brick', 'abilities', 'beleaguered', 'baguio', 'fastfood', 'slated', 'contention', 'profound', 'spielberg', 'disarray', 'chemotherapy', 'slides', 'nonunion', 'manhattans', 'bronx', 'layer', 'earrings', 'volumes', 'firstquarter', 'cult', 'paperwork', 'deadlocked', 'speeds', 'twomonth', 'edgar', 'bedard', 'chanting', 'barbershop', 'alzheimers', 'vancouver', 'sidon', 'recordings', 'exhusband', 'bite', 'algerians', 'caring', 'bernardino', 'sterling', 'presumption', 'kolb', 'hoffa', 'waiver', 'bestknown', 'foundations', 'treatments', 'speculate', 'frail', 'highrisk', 'cruzan', 'resting', 'spectacular', 'format', 'inched', 'hyde', 'betty', 'roberto', 'fidel', 'rhode', 'conceicao', 'nerves', 'banca', 'lowered', 'apollo', 'ink', 'reckless', 'hedges', 'confinement', 'deliberate', 'houphouetboigny', 'finest', 'bans', 'drafting', 'virginias', 'lashed', 'constructive', 'hensons', 'perceived', 'commissioned', 'restitution', 'keefe', 'directing', 'pills', 'rational', 'carson', 'taxation', 'salomon', 'scripps', 'alcoholic', 'supervised', 'minorco', 'shotguns', 'taxpayer', 'squaremile', 'banana', 'anticipate', 'assertion', 'stamp', 'describing', 'classics', 'everybodys', 'kaunda', 'honors', 'belongings', 'advocated', 'bakers', 'documented', 'torres', 'detector', 'camped', 'intimidate', 'competitor', 'extras', 'bragg', 'ignoring', 'mead', 'marital', 'brazils', 'helen', 'reimbursement', 'tripled', 'disorderly', 'moratorium', 'kin', 'dreams', 'potato', 'assailants', 'pitch', 'hartford', 'furmark', 'dull', 'educated', 'riggs', 'mirecki', 'fueling', 'homosexuality', 'seidman', 'dictators', 'teddy', 'smeal', 'sixday', 'romantic', 'planets', 'forbidden', 'sung', 'readily', 'shanker', 'drake', 'hart', 'reinforced', 'draped', 'moss', 'champagne', 'dancer', 'sevenyear', 'obliged', 'nsc', 'framed', 'boyd', 'nun', 'flashed', 'denouncing', 'ziemet', 'numbered', 'accessible', 'assuming', 'certainty', 'monkeys', 'julie', 'coffers', 'eugene', 'tibetan', 'fluid', 'kinnock', 'detection', 'submarine', 'communion', 'dtenn', 'dylan', 'serbia', 'baltics', 'transform', 'shedd', 'mortality', 'ailment', 'blessing', 'cartoon', 'rosa', 'subcommittees', 'bronfman', 'sofaer', 'apparel', 'oxides', 'acknowledging', 'stasi', 'schulz', 'rafsanjani', 'inaugurated', 'downturn', 'outfit', 'relying', 'prescription', 'context', 'stating', 'creque', 'vigil', 'restrain', 'zaire', 'motorists', 'tariq', 'rescuers', 'tires', 'helsinki', 'managerial', 'corbin', 'volatility', 'gerhard', 'rushing', 'poses', 'bobby', 'repression', 'leverage', 'epps', 'quantity', 'diskin', 'prediction', 'syrians', 'lifethreatening', 'kiesner', 'dwash', 'spur', 'superiors', 'proving', 'boyfriend', 'outlet', 'sprayed', 'auditorium', 'scandals', 'regimes', 'threeweek', 'condemn', 'llosas', 'contender', 'ulster', 'unrealistic', 'narez', 'resent', 'crying', 'blackburn', 'traces', 'anita', 'efficiently', 'beita', 'lundgren', 'bofill', 'andreotti', 'incest', 'merc', 'inspiration', 'casinos', 'xhosas', 'tolerated', 'worn', 'cites', 'lax', 'lindsay', 'oxygen', 'fellows', 'hike', 'rewrite', 'newmont', 'descent', 'involuntary', 'nih', 'lois', 'uprisings', 'switched', 'debates', 'presleys', 'markey', 'angels', 'mpaa', 'aon', 'marino', 'centuries', 'dealership', 'casual', 'mediator', 'analyzing', 'flaws', 'authorization', 'hampered', 'headquartered', 'egg', 'basements', 'kidder', 'stunned', 'jeffer', 'bethlehem', 'mutiny', 'hallway', 'haul', 'stein', 'reef', 'objection', 'nam', 'proposition', 'reelected', 'ramsey', 'subsidized', 'audubon', 'destructive', 'efficiency', 'bolsheviks', 'brothels', 'progovernment', 'belonged', 'pumped', 'deposition', 'mandated', 'treaties', 'quartet', 'hamadi', 'bloomberg', 'nicolae', 'scherer', 'bolivia', 'floating', 'premiums', 'patrolman', 'villa', 'palmer', 'aristides', 'fln', 'rehnquist', 'dominate', 'finishing', 'stretched', 'celebrity', 'abm', 'tribute', 'ranger', 'creditor', 'favorably', 'abctvs', 'amritsar', 'vindicated', 'responses', 'eclipses', 'slapps', 'tenants', 'sdi', 'kennebunkport', 'joey', 'uncomfortable', 'justification', 'heflin', 'payne', 'rutah', 'capita', 'exceptional', 'koppers', 'scholars', 'raping', 'inviting', 'yegor', 'danny', 'destroyer', 'celebrating', 'hanged', 'wildly', 'rigs', 'screenplay', 'commanding', 'yearearlier', 'pfeiffer', 'temptation', 'unicef', 'cna', 'burbank', 'disturbances', 'lobbyists', 'legalizing', 'ukrainian', 'slope', 'mistrial', 'gebelwilliams', 'bizarre', 'minimize', 'inspect', 'milkens', 'disposed', 'spends', 'cove', 'pring', 'catastrophe', 'prolonged', 'puette', 'sheehan', 'protects', 'penitentiary', 'ricardo', 'treasures', 'arc', 'completing', 'gunpoint', 'sniper', 'underscored', 'hourly', 'toshiki', 'seiders', 'advancement', 'silk', 'doomed', 'chairmen', 'barrett', 'bongo', 'disturbance', 'identical', 'sequence', 'accomplish', 'designing', 'dny', 'demoted', 'fis', 'secede', 'saddened', 'universally', 'positively', 'tech', 'tempted', 'misdemeanors', 'topping', 'safeguard', 'complications', 'outage', 'paychecks', 'stays', 'cooks', 'shirts', 'wva', 'instability', 'trauma', 'herds', 'baggage', 'friction', 'marietta', 'asylumseekers', 'defy', 'rover', 'temblor', 'kirk', 'busfield', 'watches', 'baugh', 'sane', 'displays', 'eighthour', 'skepticism', 'attendance', 'initiated', 'nonviolent', 'bangkok', 'panetta', 'repayment', 'reactions', 'definition', 'testament', 'precautionary', 'naomi', 'insane', 'shower', 'combatants', 'presser', 'manilas', 'cordon', 'measurements', 'deserved', 'maturity', 'suppression', 'beverage', 'nedelin', 'bordallo', 'depict', 'placement', 'destiny', 'undergraduate', 'deductible', 'paulo', 'gibbs', 'lifestyle', 'crossexamination', 'coins', 'klerks', 'inhabitants', 'reasonably', 'marches', 'judith', 'pilgrimage', 'hasegawa', 'discretionary', 'vogel', 'similarities', 'natos', 'profession', 'diplomacy', 'layers', 'forging', 'plotted', 'chia', 'respectable', 'unwanted', 'impediments', 'czechoslovakias', 'gaviria', 'propped', 'amy', 'thyssen', 'fractures', 'stockpile', 'thoughtful', 'pledges', 'plessey', 'epicenter', 'differed', 'jolla', 'contraception', 'cave', 'hovered', 'albany', 'negatives', 'injection', 'irvings', 'foresee', 'airspace', 'armor', 'viguerie', 'joaquin', 'sr', 'aquinos', 'propelled', 'roth', 'moderates', 'limitations', 'carolyn', 'recycle', 'schroeder', 'manuals', 'holyoke', 'caterpillar', 'garry', 'dawkins', 'worsening', 'weekends', 'ears', 'shakeup', 'disappear', 'realizing', 'resuming', 'nudge', 'vacated', 'holly', 'handicap', 'braking', 'parenthood', 'relieve', 'dorrance', 'panhandle', 'sake', 'cooperated', 'kuryla', 'fijian', 'nutritional', 'moisture', 'sheets', 'seas', 'seal', 'guardians', 'overcrowding', 'outdoor', 'credentials', 'hurricanes', 'imagination', 'grassroots', 'shatalin', 'mattox', 'bonesmen', 'biography', 'deukmejian', 'pests', 'bnai', 'impeached', 'needing', 'hafez', 'lifts', 'chart', 'kodak', 'deferred', 'timber', 'easter', 'knock', 'epic', 'assisted', 'safer', 'talent', 'composer', 'pakistani', 'pave', 'evren', 'newscast', 'welcoming', 'builder', 'doyle', 'scalpers', 'touted', 'andean', 'trenton', 'gillespie', 'revolver', 'advocacy', 'grenade', 'overpowered', 'firstterm', 'erickson', 'reiterate', 'newt', 'longawaited', 'zieman', 'cherry', 'contests', 'allocate', 'unrwa', 'bath', 'maureen', 'roe', 'casey', 'lusaka', 'meager', 'eagle', 'ntsb', 'vintners', 'delicate', 'relied', 'cease', 'reprisals', 'mandalay', 'doses', 'directory', 'refuseniks', 'glimpse', 'vacationing', 'employing', 'womb', 'motivation', 'fatality', 'oversee', 'discriminatory', 'eckstein', 'lone', 'secord', 'rainbow', 'peach', 'daly', 'gans', 'windy', 'showcase', 'duck', 'constitutionally', 'connie', 'tenure', 'trespassing', 'harmed', 'naples', 'georges', 'outset', 'cake', 'glantz', 'precincts', 'relay', 'famed', 'handguns', 'misunderstanding', 'shores', 'restriction', 'looming', 'estates', 'irresponsible', 'disguise', 'forman', 'warring', 'attrition', 'onefifth', 'threemonth', 'wondering', 'introducing', 'visual', 'supersonic', 'wheelchair', 'brinks', 'knudsen', 'droughtstricken', 'zennoh', 'undermine', 'breath', 'threequarters', 'standpoint', 'recommends', 'gruber', 'neglected', 'clint', 'mapping', 'evaluations', 'pang', 'bastion', 'instructors', 'guideline', 'occupy', 'byzantine', 'worsened', 'essay', 'tibetans', 'reinstated', 'await', 'designs', 'joyes', 'kevorkian', 'reformist', 'partisan', 'chromium', 'disrupted', 'garrity', 'harvested', 'erols', 'oppression', 'elaine', 'antimissile', 'fournier', 'supermarkets', 'hosted', 'appointments', 'watson', 'abrupt', 'proxmire', 'norwegian', 'theirs', 'supposedly', 'sps', 'foreclosure', 'sweetened', 'highyield', 'et', 'hastily', 'viable', 'taxed', 'colombo', 'seldom', 'angolas', 'rebuilt', 'teeley', 'kahn', 'colored', 'erode', 'exclude', 'auburn', 'vaticans', 'desperately', 'taft', 'probability', 'morgenstern', 'likes', 'clerical', 'feds', 'yearlong', 'clears', 'deicing', 'slash', 'consultation', 'forge', 'heath', 'belgian', 'archer', 'newsweek', 'megamouth', 'sandy', 'budvar', 'demise', 'sulfur', 'holloway', 'evolution', 'squads', 'quints', 'tenfold', 'celebrations', 'accountant', 'ehrenhalt', 'interference', 'dynamic', 'montoya', 'cholesterol', 'cardboard', 'buckley', 'pyongyang', 'kalikow', 'twitchell', 'cassettes', 'visitor', 'resisting', 'judged', 'tremolite', 'neat', 'azerbaijani', 'burt', 'nerve', 'exporter', 'dies', 'aftertax', 'skip', 'antismoking', 'rays', 'pine', 'verify', 'mechanisms', 'ventura', 'sula', 'hungarian', 'spraying', 'whereabouts', 'dated', 'rancher', 'awakened', 'blankets', 'yancy', 'wittman', 'mornings', 'bookstore', 'babbitt', 'uphold', 'suspensions', 'der', 'blacked', 'males', 'habits', 'seniority', 'pleasant', 'confirms', 'transitional', 'aiming', 'alternate', 'christine', 'commentator', 'invade', 'neutrality', 'borer', 'boren', 'bored', 'lespinasse', 'assad', 'remark', 'revived', 'allmale', 'slack', 'abductors', 'gravity', 'transcript', 'cohost', 'maddox', 'buster', 'girlfriend', 'bench', 'yorkers', 'bug', 'revoking', 'softened', 'generale', 'dodd', 'kristallnacht', 'layoff', 'feazell', 'nonpartisan', 'burger', 'icc', 'meyer', 'misleading', 'primitive', 'commerciale', 'reconsider', 'trailers', 'withhold', 'brenda', 'substitute', 'tipped', 'anwar', 'hub', 'circulated', 'crandall', 'floods', 'dariz', 'forecaster', 'pole', 'polk', 'abdul', 'robber', 'arnold', 'buys', 'museveni', 'outreach', 'scheringplough', 'bubbles', 'grandfather', 'buenos', 'blank', 'enduring', 'deserts', 'dropout', 'yearend', 'shelby', 'loading', 'lafontant', 'ordeal', 'fried', 'overseeing', 'orions', 'masks', 'chapman', 'easterly', 'deteriorate', 'boring', 'infectious', 'filmed', 'rafts', 'narrowed', 'menendez', 'dual', 'myth', 'herons', 'obey', 'platoon', 'intentionally', 'payoff', 'marchers', 'volcano', 'rn', 'speedy', 'lorimar', 'foremost', 'societies', 'ninemonth', 'elliott', 'moche', 'undermining', 'miranda', 'irrigation', 'burlington', 'boca', 'jeopardy', 'abide', 'undesirable', 'dalai', 'wrath', 'bits', 'merit', 'steelmakers', 'psychiatrist', 'midshipman', 'inter', 'supplementary', 'mask', 'adam', 'lobbyist', 'authentic', 'aeroflot', 'bartholomew', 'canceling', 'cruises', 'raced', 'buchanan', 'ugandan', 'scratch', 'magic', 'experiencing', 'balked', 'invented', 'cousins', 'rubbish', 'buttons', 'sylvia', 'travis', 'fijians', 'harwood', 'tenor', 'matthew', 'inn', 'preacher', 'watchers', 'monieson', 'fever', 'tampering', 'hooked', 'tops', 'hrb', 'spains', 'selloff', 'cerullo', 'accepts', 'winery', 'consul', 'birendra', 'ayatollah', 'accelerated', 'repurchase', 'diestel', 'slap', 'upgrade', 'saints', 'mont', 'ounces', 'miguel', 'raton', 'chadli', 'gardeners', 'depositors', 'consultations', 'cebu', 'duncan', 'procedural', 'superfund', 'hoan', 'discredit', 'rambo', 'mathematical', 'debra', 'aires', 'renewal', 'manufacture', 'specialty', 'nestle', 'chafee', 'refrain', 'assignments', 'quell', 'iraniraq', 'skirt', 'gursky', 'circular', 'brides', 'jorge', 'tire', 'dose', 'fingerprints', 'diagnosis', 'commencement', 'lungs', 'wary', 'livingston', 'oswald', 'boarding', 'preparation', 'thornton', 'assisting', 'doc', 'planetary', 'southcentral', 'mouse', 'bella', 'magistrates', 'breathe', 'constable', 'anthrax', 'russells', 'garland', 'petersburg', 'entertained', 'verge', 'reviews', 'lords', 'battered', 'kassebaum', 'undermined', 'chiles', 'friedman', 'symchych', 'ashare', 'extensively', 'vanuatu', 'galileos', 'albrecht', 'schlesinger', 'rican', 'superconducting', 'azerbaijanis', 'deserted', 'threatens', 'obeyed', 'copper', 'flared', 'contagious', 'suarez', 'revco', 'danced', 'collaborating', 'burdick', 'gibbons', 'soninlaw', 'assassinate', 'trowbridge', 'automotive', 'luis', 'looted', 'reserved', 'lama', 'lamp', 'radakovich', 'jessica', 'cabin', 'sally', 'parris', 'industrialist', 'technologies', 'shelling', 'firmness', 'bakkers', 'berrigan', 'smokeless', 'carved', 'triplewitching', 'antonin', 'wyo', 'muscle', 'rca', 'replacements', 'julio', 'ernest', 'jumping', 'tourism', 'counselors', 'oconnell', 'rand', 'hostility', 'habit', 'seasonal', 'eli', 'malaysia', 'mechanized', 'cowboy', 'ruined', 'submitting', 'subsidize', 'dried', 'paralyzed', 'lobban', 'autumn', 'roundtable', 'populated', 'bounty', 'gairy', 'hoover', 'aspen', 'probes', 'definite', 'champions', 'harvests', 'dish', 'crush', 'tags', 'berkeley', 'explains', 'outraged', 'pray', 'videotaped', 'adhere', 'induced', 'diller', 'grimm', 'gourmet', 'pipelines', 'outrageous', 'donor', 'smithkline', 'simpler', 'orchestras', 'evaluated', 'examiners', 'flows', 'constitutions', 'adoptive', 'consist', 'defrauding', 'mock', 'breathing', 'spoor', 'obando', 'frontier', 'bigcity', 'violeta', 'angle', 'russians', 'anglo', 'gdynia', 'casper', 'yankee', 'mistaken', 'coowner', 'incurred', 'pulse', 'symposium', 'confederation', 'greene', 'unexpectedly', 'clem', 'hammer', 'occupational', 'wte', 'irvine', 'harmony', 'spurred', 'summoned', 'pretrial', 'carpenters', 'launchers', 'aflcio', 'drugrelated', 'pavlov', 'unsolicited', 'separatists', 'handing', 'romanias', 'condemning', 'residency', 'hazelwood', 'alfredo', 'azcona', 'smile', 'adjust', 'designation', 'grandmothers', 'kremlins', 'secretariat', 'shiites', 'moroccan', 'beams', 'proclaim', 'surrendering', 'manger', 'sassan', 'scottish', 'centennial', 'viewing', 'grower', 'faber', 'mears', 'bridesmaids', 'alarm', 'lutheran', 'certificate', 'doubling', 'catholicjewish', 'pigs', 'doubtful', 'surgeons', 'waren', 'gardner', 'scary', 'troublemakers', 'detailing', 'toughest', 'hoses', 'chernobyl', 'hauled', 'combine', 'fuji', 'sufficiently', 'catherine', 'mere', 'arsenals', 'sipan', 'hahn', 'overrun', 'pillsburys', 'ultraviolet', 'bells', 'teresas', 'forensic', 'nephew', 'pursuing', 'farley', 'spear', 'perimeter', 'quotes', 'occupants', 'twoterm', 'hildreths', 'cloth', 'overruled', 'shrink', 'disapproved', 'envelope', 'beazley', 'rebuilding', 'skyscraper', 'assaulting', 'sevenday', 'stickers', 'ceremonial', 'strained', 'raul', 'darkness', 'parkinsons', 'certificates', 'hansdietrich', 'rude', 'romance', 'reluctance', 'gracyalny', 'murphys', 'taxable', 'lit', 'lip', 'seton', 'poured', 'circle', 'intensify', 'blocs', 'dwayne', 'cautiously', 'hanover', 'hallways', 'reimbursements', 'button', 'converting', 'shake', 'balloon', 'laurel', 'teller', 'williamson', 'segments', 'updated', 'convenience', 'tips', 'differently', 'disappearing', 'quayles', 'fiery', 'mailing', 'lyrics', 'colorful', 'mohammad', 'dense', 'nixons', 'overdue', 'bostons', 'elses', 'downing', 'portauprince', 'gradual', 'midatlantic', 'undoubtedly', 'upgrading', 'nadine', 'reps', 'aspect', 'manufactured', 'notably', 'hicks', 'prudent', 'syracuse', 'opted', 'wrangling', 'swastikas', 'connect', 'detroits', 'mistakenly', 'procession', 'refrigerator', 'dividing', 'donate', 'raisa', 'carbide', 'nuys', 'toast', 'tremor', 'burgues', 'explanations', 'facilitate', 'puppet', 'rinfret', 'democratization', 'dictate', 'bean', 'phased', 'caledonia', 'rakowski', 'promotes', 'landfills', 'tawana', 'plutonium', 'pit', 'carolinas', 'merchant', 'ordnance', 'bargainers', 'sunk', 'coasters', 'henri', 'acknowledges', 'everett', 'sharpest', 'abandoning', 'relayed', 'glow', 'fabrics', 'bargains', 'containers', 'serbian', 'convict', 'booking', 'plunging', 'hosni', 'uncle', 'essentials', 'burmas', 'alkaline', 'pioneered', 'modified', 'comfort', 'corners', 'fruehauf', 'distributor', 'hacker', 'sediment', 'gusts', 'nominating', 'lighter', 'sverdlovsk', 'originated', 'coma', 'provocation', 'assertions', 'eyewitnesses', 'ethiopia', 'vocalist', 'briggs', 'styles', 'slice', 'renounce', 'zinoviev', 'contributors', 'cinema', 'abyss', 'lining', 'siblings', 'milosevic', 'observing', 'semiconductors', 'branded', 'speeding', 'katyn', 'coasts', 'cleaned', 'sherry', 'hurling', 'hid', 'importers', 'toppling', 'anguish', 'prudentialbache', 'impassioned', 'godfather', 'dukakisbentsen', 'duffy', 'attire', 'confession', 'tag', 'biomedical', 'flour', 'motorcycles', 'foothigh', 'highschool', 'generations', 'closes', 'huts', 'privileges', 'adverse', 'elliot', 'clyde', 'ski', 'leaf', 'spilled', 'buffs']\n"
     ]
    }
   ],
   "source": [
    "print(LDA_Model._K)\n",
    "print(LDA_Model._words)\n"
   ]
  },
  {
   "cell_type": "code",
   "execution_count": 33,
   "metadata": {},
   "outputs": [
    {
     "name": "stdout",
     "output_type": "stream",
     "text": [
      "[<LDAVI.LDAVI.Document object at 0x7ff6402f2e50>, <LDAVI.LDAVI.Document object at 0x7ff6401695b0>, <LDAVI.LDAVI.Document object at 0x7ff6205d9460>, <LDAVI.LDAVI.Document object at 0x7ff6205d9a30>, <LDAVI.LDAVI.Document object at 0x7ff6205d9dc0>, <LDAVI.LDAVI.Document object at 0x7ff6205d9c10>, <LDAVI.LDAVI.Document object at 0x7ff6205d9670>, <LDAVI.LDAVI.Document object at 0x7ff6205d9df0>, <LDAVI.LDAVI.Document object at 0x7ff6205d9430>, <LDAVI.LDAVI.Document object at 0x7ff6205d9040>, <LDAVI.LDAVI.Document object at 0x7ff6205d9ac0>, <LDAVI.LDAVI.Document object at 0x7ff6205d9070>, <LDAVI.LDAVI.Document object at 0x7ff6205d9a90>, <LDAVI.LDAVI.Document object at 0x7ff6205d9310>, <LDAVI.LDAVI.Document object at 0x7ff6205d92b0>, <LDAVI.LDAVI.Document object at 0x7ff6205d9220>, <LDAVI.LDAVI.Document object at 0x7ff6205d9e80>, <LDAVI.LDAVI.Document object at 0x7ff6205d9eb0>, <LDAVI.LDAVI.Document object at 0x7ff6205d94f0>, <LDAVI.LDAVI.Document object at 0x7ff6205d9ca0>, <LDAVI.LDAVI.Document object at 0x7ff6205d95e0>, <LDAVI.LDAVI.Document object at 0x7ff6205d9fd0>, <LDAVI.LDAVI.Document object at 0x7ff6205d9be0>, <LDAVI.LDAVI.Document object at 0x7ff6205d9a60>, <LDAVI.LDAVI.Document object at 0x7ff6205d9790>, <LDAVI.LDAVI.Document object at 0x7ff6205d9ee0>, <LDAVI.LDAVI.Document object at 0x7ff6205d9820>, <LDAVI.LDAVI.Document object at 0x7ff6205d9280>, <LDAVI.LDAVI.Document object at 0x7ff6205d90a0>, <LDAVI.LDAVI.Document object at 0x7ff6403037f0>, <LDAVI.LDAVI.Document object at 0x7ff6403035e0>, <LDAVI.LDAVI.Document object at 0x7ff640303e50>, <LDAVI.LDAVI.Document object at 0x7ff6403039d0>, <LDAVI.LDAVI.Document object at 0x7ff640303dc0>, <LDAVI.LDAVI.Document object at 0x7ff640303970>, <LDAVI.LDAVI.Document object at 0x7ff640303fd0>, <LDAVI.LDAVI.Document object at 0x7ff640303cd0>, <LDAVI.LDAVI.Document object at 0x7ff640303c70>, <LDAVI.LDAVI.Document object at 0x7ff640303580>, <LDAVI.LDAVI.Document object at 0x7ff640303ac0>, <LDAVI.LDAVI.Document object at 0x7ff640303e80>, <LDAVI.LDAVI.Document object at 0x7ff640d6f070>, <LDAVI.LDAVI.Document object at 0x7ff640d6f0d0>, <LDAVI.LDAVI.Document object at 0x7ff640d6f130>, <LDAVI.LDAVI.Document object at 0x7ff640d6f190>, <LDAVI.LDAVI.Document object at 0x7ff640d6f1f0>, <LDAVI.LDAVI.Document object at 0x7ff640d6f250>, <LDAVI.LDAVI.Document object at 0x7ff640d6f2b0>, <LDAVI.LDAVI.Document object at 0x7ff6706d0220>, <LDAVI.LDAVI.Document object at 0x7ff640303220>, <LDAVI.LDAVI.Document object at 0x7ff6205d9400>, <LDAVI.LDAVI.Document object at 0x7ff6205d9a00>, <LDAVI.LDAVI.Document object at 0x7ff640d6f340>, <LDAVI.LDAVI.Document object at 0x7ff640d6f3a0>, <LDAVI.LDAVI.Document object at 0x7ff640d6f400>, <LDAVI.LDAVI.Document object at 0x7ff640d6f460>, <LDAVI.LDAVI.Document object at 0x7ff640d6f4c0>, <LDAVI.LDAVI.Document object at 0x7ff640d6f520>, <LDAVI.LDAVI.Document object at 0x7ff640d6f580>, <LDAVI.LDAVI.Document object at 0x7ff640d6f5e0>, <LDAVI.LDAVI.Document object at 0x7ff640d6f640>, <LDAVI.LDAVI.Document object at 0x7ff640d6f6a0>, <LDAVI.LDAVI.Document object at 0x7ff640d6f700>, <LDAVI.LDAVI.Document object at 0x7ff640d6f760>, <LDAVI.LDAVI.Document object at 0x7ff640d6f7c0>, <LDAVI.LDAVI.Document object at 0x7ff640d6f820>, <LDAVI.LDAVI.Document object at 0x7ff640d6f880>, <LDAVI.LDAVI.Document object at 0x7ff640d6f8e0>, <LDAVI.LDAVI.Document object at 0x7ff640d6f940>, <LDAVI.LDAVI.Document object at 0x7ff640d6f9a0>, <LDAVI.LDAVI.Document object at 0x7ff640d6fa00>, <LDAVI.LDAVI.Document object at 0x7ff6401694f0>, <LDAVI.LDAVI.Document object at 0x7ff640d6fac0>, <LDAVI.LDAVI.Document object at 0x7ff640d6faf0>, <LDAVI.LDAVI.Document object at 0x7ff640d6fb50>, <LDAVI.LDAVI.Document object at 0x7ff640d6fbb0>, <LDAVI.LDAVI.Document object at 0x7ff640d6fc10>, <LDAVI.LDAVI.Document object at 0x7ff640d6fc70>, <LDAVI.LDAVI.Document object at 0x7ff640d6fcd0>, <LDAVI.LDAVI.Document object at 0x7ff640d6fd60>, <LDAVI.LDAVI.Document object at 0x7ff640d6fdc0>, <LDAVI.LDAVI.Document object at 0x7ff640d6fe20>, <LDAVI.LDAVI.Document object at 0x7ff640d6fe80>, <LDAVI.LDAVI.Document object at 0x7ff640d6fee0>, <LDAVI.LDAVI.Document object at 0x7ff640d6ff40>, <LDAVI.LDAVI.Document object at 0x7ff640d6ffa0>, <LDAVI.LDAVI.Document object at 0x7ff6811f6040>, <LDAVI.LDAVI.Document object at 0x7ff6811f60a0>, <LDAVI.LDAVI.Document object at 0x7ff6811f6100>, <LDAVI.LDAVI.Document object at 0x7ff6811f6160>, <LDAVI.LDAVI.Document object at 0x7ff6811f61c0>, <LDAVI.LDAVI.Document object at 0x7ff6811f6220>, <LDAVI.LDAVI.Document object at 0x7ff6811f6280>, <LDAVI.LDAVI.Document object at 0x7ff6811f62e0>, <LDAVI.LDAVI.Document object at 0x7ff6811f6340>, <LDAVI.LDAVI.Document object at 0x7ff6811f63a0>, <LDAVI.LDAVI.Document object at 0x7ff6811f6400>, <LDAVI.LDAVI.Document object at 0x7ff6811f6460>, <LDAVI.LDAVI.Document object at 0x7ff6811f64c0>, <LDAVI.LDAVI.Document object at 0x7ff6811f6520>, <LDAVI.LDAVI.Document object at 0x7ff6811f6580>, <LDAVI.LDAVI.Document object at 0x7ff6811f65e0>, <LDAVI.LDAVI.Document object at 0x7ff6811f6640>, <LDAVI.LDAVI.Document object at 0x7ff6811f66a0>, <LDAVI.LDAVI.Document object at 0x7ff6811f6700>, <LDAVI.LDAVI.Document object at 0x7ff6811f6760>, <LDAVI.LDAVI.Document object at 0x7ff6811f67c0>, <LDAVI.LDAVI.Document object at 0x7ff6811f6820>, <LDAVI.LDAVI.Document object at 0x7ff6811f6880>, <LDAVI.LDAVI.Document object at 0x7ff6811f68e0>, <LDAVI.LDAVI.Document object at 0x7ff6811f6940>, <LDAVI.LDAVI.Document object at 0x7ff6811f69a0>, <LDAVI.LDAVI.Document object at 0x7ff6811f6a00>, <LDAVI.LDAVI.Document object at 0x7ff6811f6a60>, <LDAVI.LDAVI.Document object at 0x7ff6811f6ac0>, <LDAVI.LDAVI.Document object at 0x7ff6811f6b20>, <LDAVI.LDAVI.Document object at 0x7ff6811f6b80>, <LDAVI.LDAVI.Document object at 0x7ff6811f6be0>, <LDAVI.LDAVI.Document object at 0x7ff6811f6c40>, <LDAVI.LDAVI.Document object at 0x7ff6811f6ca0>, <LDAVI.LDAVI.Document object at 0x7ff6811f6d00>, <LDAVI.LDAVI.Document object at 0x7ff6811f6d60>, <LDAVI.LDAVI.Document object at 0x7ff6811f6dc0>, <LDAVI.LDAVI.Document object at 0x7ff6811f6e20>, <LDAVI.LDAVI.Document object at 0x7ff6811f6e80>, <LDAVI.LDAVI.Document object at 0x7ff6811f6ee0>, <LDAVI.LDAVI.Document object at 0x7ff6811f6f40>, <LDAVI.LDAVI.Document object at 0x7ff6811f6fa0>, <LDAVI.LDAVI.Document object at 0x7ff68121a040>, <LDAVI.LDAVI.Document object at 0x7ff68121a0a0>, <LDAVI.LDAVI.Document object at 0x7ff68121a100>, <LDAVI.LDAVI.Document object at 0x7ff68121a160>, <LDAVI.LDAVI.Document object at 0x7ff68121a1c0>, <LDAVI.LDAVI.Document object at 0x7ff68121a220>, <LDAVI.LDAVI.Document object at 0x7ff68121a280>, <LDAVI.LDAVI.Document object at 0x7ff68121a2e0>, <LDAVI.LDAVI.Document object at 0x7ff68121a340>, <LDAVI.LDAVI.Document object at 0x7ff68121a3a0>, <LDAVI.LDAVI.Document object at 0x7ff68121a400>, <LDAVI.LDAVI.Document object at 0x7ff68121a460>, <LDAVI.LDAVI.Document object at 0x7ff68121a4c0>, <LDAVI.LDAVI.Document object at 0x7ff68121a520>, <LDAVI.LDAVI.Document object at 0x7ff68121a580>, <LDAVI.LDAVI.Document object at 0x7ff68121a5e0>, <LDAVI.LDAVI.Document object at 0x7ff68121a640>, <LDAVI.LDAVI.Document object at 0x7ff68121a6a0>, <LDAVI.LDAVI.Document object at 0x7ff68121a700>, <LDAVI.LDAVI.Document object at 0x7ff68121a760>, <LDAVI.LDAVI.Document object at 0x7ff68121a7c0>, <LDAVI.LDAVI.Document object at 0x7ff68121a820>, <LDAVI.LDAVI.Document object at 0x7ff68121a880>, <LDAVI.LDAVI.Document object at 0x7ff68121a8e0>, <LDAVI.LDAVI.Document object at 0x7ff68121a940>, <LDAVI.LDAVI.Document object at 0x7ff68121a9a0>, <LDAVI.LDAVI.Document object at 0x7ff68121aa00>, <LDAVI.LDAVI.Document object at 0x7ff68121aa60>, <LDAVI.LDAVI.Document object at 0x7ff68121aac0>, <LDAVI.LDAVI.Document object at 0x7ff68121ab20>, <LDAVI.LDAVI.Document object at 0x7ff68121ab80>, <LDAVI.LDAVI.Document object at 0x7ff68121abe0>, <LDAVI.LDAVI.Document object at 0x7ff68121ac40>, <LDAVI.LDAVI.Document object at 0x7ff68121aca0>, <LDAVI.LDAVI.Document object at 0x7ff68121ad00>, <LDAVI.LDAVI.Document object at 0x7ff68121ad60>, <LDAVI.LDAVI.Document object at 0x7ff68121adc0>, <LDAVI.LDAVI.Document object at 0x7ff68121ae20>, <LDAVI.LDAVI.Document object at 0x7ff68121ae80>, <LDAVI.LDAVI.Document object at 0x7ff68121aee0>, <LDAVI.LDAVI.Document object at 0x7ff68121af40>, <LDAVI.LDAVI.Document object at 0x7ff68121afa0>, <LDAVI.LDAVI.Document object at 0x7ff640da9040>, <LDAVI.LDAVI.Document object at 0x7ff640da90a0>, <LDAVI.LDAVI.Document object at 0x7ff640da9100>, <LDAVI.LDAVI.Document object at 0x7ff640da9160>, <LDAVI.LDAVI.Document object at 0x7ff640da91c0>, <LDAVI.LDAVI.Document object at 0x7ff640da9220>, <LDAVI.LDAVI.Document object at 0x7ff640da9280>, <LDAVI.LDAVI.Document object at 0x7ff640da92e0>, <LDAVI.LDAVI.Document object at 0x7ff640303eb0>, <LDAVI.LDAVI.Document object at 0x7ff640303550>, <LDAVI.LDAVI.Document object at 0x7ff640da9370>, <LDAVI.LDAVI.Document object at 0x7ff640da93d0>, <LDAVI.LDAVI.Document object at 0x7ff640da9430>, <LDAVI.LDAVI.Document object at 0x7ff640da9490>, <LDAVI.LDAVI.Document object at 0x7ff640da94f0>, <LDAVI.LDAVI.Document object at 0x7ff640da9550>, <LDAVI.LDAVI.Document object at 0x7ff640da95b0>, <LDAVI.LDAVI.Document object at 0x7ff640da9610>, <LDAVI.LDAVI.Document object at 0x7ff640da9670>, <LDAVI.LDAVI.Document object at 0x7ff640da96d0>, <LDAVI.LDAVI.Document object at 0x7ff640da9730>, <LDAVI.LDAVI.Document object at 0x7ff640da9790>, <LDAVI.LDAVI.Document object at 0x7ff640da97f0>, <LDAVI.LDAVI.Document object at 0x7ff640da9850>, <LDAVI.LDAVI.Document object at 0x7ff640da98b0>, <LDAVI.LDAVI.Document object at 0x7ff640da9910>, <LDAVI.LDAVI.Document object at 0x7ff640da9970>, <LDAVI.LDAVI.Document object at 0x7ff640da99d0>, <LDAVI.LDAVI.Document object at 0x7ff640da9a30>, <LDAVI.LDAVI.Document object at 0x7ff640da9a90>, <LDAVI.LDAVI.Document object at 0x7ff640da9af0>, <LDAVI.LDAVI.Document object at 0x7ff640da9b50>, <LDAVI.LDAVI.Document object at 0x7ff640da9bb0>, <LDAVI.LDAVI.Document object at 0x7ff640da9c10>, <LDAVI.LDAVI.Document object at 0x7ff640da9c70>, <LDAVI.LDAVI.Document object at 0x7ff640da9cd0>, <LDAVI.LDAVI.Document object at 0x7ff640da9d30>, <LDAVI.LDAVI.Document object at 0x7ff640da9d90>, <LDAVI.LDAVI.Document object at 0x7ff640da9df0>, <LDAVI.LDAVI.Document object at 0x7ff640da9e50>, <LDAVI.LDAVI.Document object at 0x7ff640da9eb0>, <LDAVI.LDAVI.Document object at 0x7ff640da9f10>, <LDAVI.LDAVI.Document object at 0x7ff640da9f70>, <LDAVI.LDAVI.Document object at 0x7ff640da9fd0>, <LDAVI.LDAVI.Document object at 0x7ff640db8070>, <LDAVI.LDAVI.Document object at 0x7ff640db80d0>, <LDAVI.LDAVI.Document object at 0x7ff640db8130>, <LDAVI.LDAVI.Document object at 0x7ff640db8190>, <LDAVI.LDAVI.Document object at 0x7ff640db81f0>, <LDAVI.LDAVI.Document object at 0x7ff640db8250>, <LDAVI.LDAVI.Document object at 0x7ff640db82b0>, <LDAVI.LDAVI.Document object at 0x7ff640db8310>, <LDAVI.LDAVI.Document object at 0x7ff640db8370>, <LDAVI.LDAVI.Document object at 0x7ff640db83d0>, <LDAVI.LDAVI.Document object at 0x7ff640db8430>, <LDAVI.LDAVI.Document object at 0x7ff640db8490>, <LDAVI.LDAVI.Document object at 0x7ff640db84f0>, <LDAVI.LDAVI.Document object at 0x7ff640db8550>, <LDAVI.LDAVI.Document object at 0x7ff640db85b0>, <LDAVI.LDAVI.Document object at 0x7ff640db8610>, <LDAVI.LDAVI.Document object at 0x7ff640db8670>, <LDAVI.LDAVI.Document object at 0x7ff640db86d0>, <LDAVI.LDAVI.Document object at 0x7ff640db8730>, <LDAVI.LDAVI.Document object at 0x7ff640db8790>, <LDAVI.LDAVI.Document object at 0x7ff640db87f0>, <LDAVI.LDAVI.Document object at 0x7ff640db8850>, <LDAVI.LDAVI.Document object at 0x7ff640db88b0>, <LDAVI.LDAVI.Document object at 0x7ff640db8910>, <LDAVI.LDAVI.Document object at 0x7ff640db8970>, <LDAVI.LDAVI.Document object at 0x7ff640db89d0>, <LDAVI.LDAVI.Document object at 0x7ff640db8a30>, <LDAVI.LDAVI.Document object at 0x7ff640db8a90>, <LDAVI.LDAVI.Document object at 0x7ff640db8af0>, <LDAVI.LDAVI.Document object at 0x7ff640db8b50>, <LDAVI.LDAVI.Document object at 0x7ff640db8bb0>, <LDAVI.LDAVI.Document object at 0x7ff640db8c10>, <LDAVI.LDAVI.Document object at 0x7ff640db8c70>, <LDAVI.LDAVI.Document object at 0x7ff640db8cd0>, <LDAVI.LDAVI.Document object at 0x7ff640db8d30>, <LDAVI.LDAVI.Document object at 0x7ff640db8d90>, <LDAVI.LDAVI.Document object at 0x7ff640db8df0>, <LDAVI.LDAVI.Document object at 0x7ff640db8e50>, <LDAVI.LDAVI.Document object at 0x7ff640db8eb0>, <LDAVI.LDAVI.Document object at 0x7ff640db8f10>, <LDAVI.LDAVI.Document object at 0x7ff640db8f70>, <LDAVI.LDAVI.Document object at 0x7ff640db8fd0>, <LDAVI.LDAVI.Document object at 0x7ff6602fd070>, <LDAVI.LDAVI.Document object at 0x7ff6602fd0d0>, <LDAVI.LDAVI.Document object at 0x7ff6602fd130>, <LDAVI.LDAVI.Document object at 0x7ff6602fd190>, <LDAVI.LDAVI.Document object at 0x7ff6602fd1f0>, <LDAVI.LDAVI.Document object at 0x7ff6602fd250>, <LDAVI.LDAVI.Document object at 0x7ff6602fd2b0>, <LDAVI.LDAVI.Document object at 0x7ff6602fd310>, <LDAVI.LDAVI.Document object at 0x7ff6602fd370>, <LDAVI.LDAVI.Document object at 0x7ff6602fd3d0>, <LDAVI.LDAVI.Document object at 0x7ff6602fd430>, <LDAVI.LDAVI.Document object at 0x7ff6602fd490>, <LDAVI.LDAVI.Document object at 0x7ff6602fd4f0>, <LDAVI.LDAVI.Document object at 0x7ff6602fd550>, <LDAVI.LDAVI.Document object at 0x7ff6602fd5b0>, <LDAVI.LDAVI.Document object at 0x7ff6602fd610>, <LDAVI.LDAVI.Document object at 0x7ff6602fd670>, <LDAVI.LDAVI.Document object at 0x7ff6602fd6d0>, <LDAVI.LDAVI.Document object at 0x7ff6602fd730>, <LDAVI.LDAVI.Document object at 0x7ff6602fd790>, <LDAVI.LDAVI.Document object at 0x7ff6602fd7f0>, <LDAVI.LDAVI.Document object at 0x7ff6602fd850>, <LDAVI.LDAVI.Document object at 0x7ff6602fd8b0>, <LDAVI.LDAVI.Document object at 0x7ff6602fd910>, <LDAVI.LDAVI.Document object at 0x7ff6602fd970>, <LDAVI.LDAVI.Document object at 0x7ff6602fd9d0>, <LDAVI.LDAVI.Document object at 0x7ff6602fda30>, <LDAVI.LDAVI.Document object at 0x7ff6602fda90>, <LDAVI.LDAVI.Document object at 0x7ff6602fdaf0>, <LDAVI.LDAVI.Document object at 0x7ff6602fdb50>, <LDAVI.LDAVI.Document object at 0x7ff6602fdbb0>, <LDAVI.LDAVI.Document object at 0x7ff6602fdc10>, <LDAVI.LDAVI.Document object at 0x7ff6602fdc70>, <LDAVI.LDAVI.Document object at 0x7ff6602fdcd0>, <LDAVI.LDAVI.Document object at 0x7ff6602fdd30>, <LDAVI.LDAVI.Document object at 0x7ff6602fdd90>, <LDAVI.LDAVI.Document object at 0x7ff6602fddf0>, <LDAVI.LDAVI.Document object at 0x7ff6602fde50>, <LDAVI.LDAVI.Document object at 0x7ff6602fdeb0>, <LDAVI.LDAVI.Document object at 0x7ff6602fdf10>, <LDAVI.LDAVI.Document object at 0x7ff6602fdf70>, <LDAVI.LDAVI.Document object at 0x7ff6602fdfd0>, <LDAVI.LDAVI.Document object at 0x7ff640dd5070>, <LDAVI.LDAVI.Document object at 0x7ff640dd50d0>, <LDAVI.LDAVI.Document object at 0x7ff640dd5130>, <LDAVI.LDAVI.Document object at 0x7ff640dd5190>, <LDAVI.LDAVI.Document object at 0x7ff640dd51f0>, <LDAVI.LDAVI.Document object at 0x7ff640dd5250>, <LDAVI.LDAVI.Document object at 0x7ff640dd52b0>, <LDAVI.LDAVI.Document object at 0x7ff640dd5310>, <LDAVI.LDAVI.Document object at 0x7ff640dd5370>, <LDAVI.LDAVI.Document object at 0x7ff640dd53d0>, <LDAVI.LDAVI.Document object at 0x7ff640dd5430>, <LDAVI.LDAVI.Document object at 0x7ff640dd5490>, <LDAVI.LDAVI.Document object at 0x7ff640dd54f0>, <LDAVI.LDAVI.Document object at 0x7ff640dd5550>, <LDAVI.LDAVI.Document object at 0x7ff640dd55b0>, <LDAVI.LDAVI.Document object at 0x7ff640dd5610>, <LDAVI.LDAVI.Document object at 0x7ff640dd5670>, <LDAVI.LDAVI.Document object at 0x7ff640dd56d0>, <LDAVI.LDAVI.Document object at 0x7ff640dd5730>, <LDAVI.LDAVI.Document object at 0x7ff640dd5790>, <LDAVI.LDAVI.Document object at 0x7ff640dd57f0>, <LDAVI.LDAVI.Document object at 0x7ff640dd5850>, <LDAVI.LDAVI.Document object at 0x7ff640dd58b0>, <LDAVI.LDAVI.Document object at 0x7ff640dd5910>, <LDAVI.LDAVI.Document object at 0x7ff640dd5970>, <LDAVI.LDAVI.Document object at 0x7ff640dd59d0>, <LDAVI.LDAVI.Document object at 0x7ff640dd5a30>, <LDAVI.LDAVI.Document object at 0x7ff640dd5a90>, <LDAVI.LDAVI.Document object at 0x7ff640dd5af0>, <LDAVI.LDAVI.Document object at 0x7ff640dd5b50>, <LDAVI.LDAVI.Document object at 0x7ff640dd5bb0>, <LDAVI.LDAVI.Document object at 0x7ff640dd5c10>, <LDAVI.LDAVI.Document object at 0x7ff640dd5c70>, <LDAVI.LDAVI.Document object at 0x7ff640dd5cd0>, <LDAVI.LDAVI.Document object at 0x7ff640dd5d30>, <LDAVI.LDAVI.Document object at 0x7ff640dd5d90>, <LDAVI.LDAVI.Document object at 0x7ff640dd5df0>, <LDAVI.LDAVI.Document object at 0x7ff640dd5e50>, <LDAVI.LDAVI.Document object at 0x7ff640dd5eb0>, <LDAVI.LDAVI.Document object at 0x7ff640dd5f10>, <LDAVI.LDAVI.Document object at 0x7ff640dd5f70>, <LDAVI.LDAVI.Document object at 0x7ff640dd5fd0>, <LDAVI.LDAVI.Document object at 0x7ff640dfa070>, <LDAVI.LDAVI.Document object at 0x7ff640dfa0d0>, <LDAVI.LDAVI.Document object at 0x7ff640dfa130>, <LDAVI.LDAVI.Document object at 0x7ff640dfa190>, <LDAVI.LDAVI.Document object at 0x7ff640dfa1f0>, <LDAVI.LDAVI.Document object at 0x7ff640dfa250>, <LDAVI.LDAVI.Document object at 0x7ff640dfa2b0>, <LDAVI.LDAVI.Document object at 0x7ff640dfa310>, <LDAVI.LDAVI.Document object at 0x7ff640dfa370>, <LDAVI.LDAVI.Document object at 0x7ff640dfa3d0>, <LDAVI.LDAVI.Document object at 0x7ff640dfa430>, <LDAVI.LDAVI.Document object at 0x7ff640dfa490>, <LDAVI.LDAVI.Document object at 0x7ff640dfa4f0>, <LDAVI.LDAVI.Document object at 0x7ff640dfa550>, <LDAVI.LDAVI.Document object at 0x7ff640dfa5b0>, <LDAVI.LDAVI.Document object at 0x7ff640dfa610>, <LDAVI.LDAVI.Document object at 0x7ff640dfa670>, <LDAVI.LDAVI.Document object at 0x7ff640dfa6d0>, <LDAVI.LDAVI.Document object at 0x7ff640dfa730>, <LDAVI.LDAVI.Document object at 0x7ff640dfa790>, <LDAVI.LDAVI.Document object at 0x7ff640dfa7f0>, <LDAVI.LDAVI.Document object at 0x7ff640dfa850>, <LDAVI.LDAVI.Document object at 0x7ff640dfa8b0>, <LDAVI.LDAVI.Document object at 0x7ff640dfa910>, <LDAVI.LDAVI.Document object at 0x7ff640dfa970>, <LDAVI.LDAVI.Document object at 0x7ff640dfa9d0>, <LDAVI.LDAVI.Document object at 0x7ff640dfaa30>, <LDAVI.LDAVI.Document object at 0x7ff640dfaa90>, <LDAVI.LDAVI.Document object at 0x7ff640dfaaf0>, <LDAVI.LDAVI.Document object at 0x7ff640dfab50>, <LDAVI.LDAVI.Document object at 0x7ff640dfabb0>, <LDAVI.LDAVI.Document object at 0x7ff640dfac10>, <LDAVI.LDAVI.Document object at 0x7ff640dfac70>, <LDAVI.LDAVI.Document object at 0x7ff640dfacd0>, <LDAVI.LDAVI.Document object at 0x7ff640dfad30>, <LDAVI.LDAVI.Document object at 0x7ff640dfad90>, <LDAVI.LDAVI.Document object at 0x7ff640dfadf0>, <LDAVI.LDAVI.Document object at 0x7ff640dfae50>, <LDAVI.LDAVI.Document object at 0x7ff640dfaeb0>, <LDAVI.LDAVI.Document object at 0x7ff640dfaf10>, <LDAVI.LDAVI.Document object at 0x7ff640dfaf70>, <LDAVI.LDAVI.Document object at 0x7ff640dfafd0>, <LDAVI.LDAVI.Document object at 0x7ff68123e070>, <LDAVI.LDAVI.Document object at 0x7ff68123e0d0>, <LDAVI.LDAVI.Document object at 0x7ff68123e130>, <LDAVI.LDAVI.Document object at 0x7ff68123e190>, <LDAVI.LDAVI.Document object at 0x7ff68123e1f0>, <LDAVI.LDAVI.Document object at 0x7ff68123e250>, <LDAVI.LDAVI.Document object at 0x7ff68123e2b0>, <LDAVI.LDAVI.Document object at 0x7ff68123e310>, <LDAVI.LDAVI.Document object at 0x7ff68123e370>, <LDAVI.LDAVI.Document object at 0x7ff68123e3d0>, <LDAVI.LDAVI.Document object at 0x7ff68123e430>, <LDAVI.LDAVI.Document object at 0x7ff68123e490>, <LDAVI.LDAVI.Document object at 0x7ff68123e4f0>, <LDAVI.LDAVI.Document object at 0x7ff68123e550>, <LDAVI.LDAVI.Document object at 0x7ff68123e5b0>, <LDAVI.LDAVI.Document object at 0x7ff68123e610>, <LDAVI.LDAVI.Document object at 0x7ff68123e670>, <LDAVI.LDAVI.Document object at 0x7ff68123e6d0>, <LDAVI.LDAVI.Document object at 0x7ff68123e730>, <LDAVI.LDAVI.Document object at 0x7ff68123e790>, <LDAVI.LDAVI.Document object at 0x7ff68123e7f0>, <LDAVI.LDAVI.Document object at 0x7ff68123e850>, <LDAVI.LDAVI.Document object at 0x7ff68123e8b0>, <LDAVI.LDAVI.Document object at 0x7ff68123e910>, <LDAVI.LDAVI.Document object at 0x7ff68123e970>, <LDAVI.LDAVI.Document object at 0x7ff68123e9d0>, <LDAVI.LDAVI.Document object at 0x7ff68123ea30>, <LDAVI.LDAVI.Document object at 0x7ff68123ea90>, <LDAVI.LDAVI.Document object at 0x7ff68123eaf0>, <LDAVI.LDAVI.Document object at 0x7ff68123eb50>, <LDAVI.LDAVI.Document object at 0x7ff68123ebb0>, <LDAVI.LDAVI.Document object at 0x7ff68123ec10>, <LDAVI.LDAVI.Document object at 0x7ff68123ec70>, <LDAVI.LDAVI.Document object at 0x7ff68123ecd0>, <LDAVI.LDAVI.Document object at 0x7ff68123ed30>, <LDAVI.LDAVI.Document object at 0x7ff68123ed90>, <LDAVI.LDAVI.Document object at 0x7ff68123edf0>, <LDAVI.LDAVI.Document object at 0x7ff68123ee50>, <LDAVI.LDAVI.Document object at 0x7ff68123eeb0>, <LDAVI.LDAVI.Document object at 0x7ff68123ef10>, <LDAVI.LDAVI.Document object at 0x7ff68123ef70>, <LDAVI.LDAVI.Document object at 0x7ff68123efd0>, <LDAVI.LDAVI.Document object at 0x7ff681266070>, <LDAVI.LDAVI.Document object at 0x7ff6812660d0>, <LDAVI.LDAVI.Document object at 0x7ff681266130>, <LDAVI.LDAVI.Document object at 0x7ff681266190>, <LDAVI.LDAVI.Document object at 0x7ff6812661f0>, <LDAVI.LDAVI.Document object at 0x7ff681266250>, <LDAVI.LDAVI.Document object at 0x7ff6812662b0>, <LDAVI.LDAVI.Document object at 0x7ff681266310>, <LDAVI.LDAVI.Document object at 0x7ff681266370>, <LDAVI.LDAVI.Document object at 0x7ff6812663d0>, <LDAVI.LDAVI.Document object at 0x7ff681266430>, <LDAVI.LDAVI.Document object at 0x7ff681266490>, <LDAVI.LDAVI.Document object at 0x7ff6812664f0>, <LDAVI.LDAVI.Document object at 0x7ff681266550>, <LDAVI.LDAVI.Document object at 0x7ff6812665b0>, <LDAVI.LDAVI.Document object at 0x7ff681266610>, <LDAVI.LDAVI.Document object at 0x7ff681266670>, <LDAVI.LDAVI.Document object at 0x7ff6812666d0>, <LDAVI.LDAVI.Document object at 0x7ff681266730>, <LDAVI.LDAVI.Document object at 0x7ff681266790>, <LDAVI.LDAVI.Document object at 0x7ff6812667f0>, <LDAVI.LDAVI.Document object at 0x7ff681266850>, <LDAVI.LDAVI.Document object at 0x7ff6812668b0>, <LDAVI.LDAVI.Document object at 0x7ff681266910>, <LDAVI.LDAVI.Document object at 0x7ff681266970>, <LDAVI.LDAVI.Document object at 0x7ff6812669d0>, <LDAVI.LDAVI.Document object at 0x7ff681266a30>, <LDAVI.LDAVI.Document object at 0x7ff681266a90>, <LDAVI.LDAVI.Document object at 0x7ff681266af0>, <LDAVI.LDAVI.Document object at 0x7ff681266b50>, <LDAVI.LDAVI.Document object at 0x7ff681266bb0>, <LDAVI.LDAVI.Document object at 0x7ff681266c10>, <LDAVI.LDAVI.Document object at 0x7ff681266c70>, <LDAVI.LDAVI.Document object at 0x7ff681266cd0>, <LDAVI.LDAVI.Document object at 0x7ff681266d30>, <LDAVI.LDAVI.Document object at 0x7ff681266d90>, <LDAVI.LDAVI.Document object at 0x7ff681266df0>, <LDAVI.LDAVI.Document object at 0x7ff681266e50>, <LDAVI.LDAVI.Document object at 0x7ff681266eb0>, <LDAVI.LDAVI.Document object at 0x7ff681266f10>, <LDAVI.LDAVI.Document object at 0x7ff681266f70>, <LDAVI.LDAVI.Document object at 0x7ff681266fd0>, <LDAVI.LDAVI.Document object at 0x7ff66033b070>, <LDAVI.LDAVI.Document object at 0x7ff66033b0d0>, <LDAVI.LDAVI.Document object at 0x7ff66033b130>, <LDAVI.LDAVI.Document object at 0x7ff66033b190>, <LDAVI.LDAVI.Document object at 0x7ff66033b1f0>, <LDAVI.LDAVI.Document object at 0x7ff66033b250>, <LDAVI.LDAVI.Document object at 0x7ff66033b2b0>, <LDAVI.LDAVI.Document object at 0x7ff66033b310>, <LDAVI.LDAVI.Document object at 0x7ff66033b370>, <LDAVI.LDAVI.Document object at 0x7ff66033b3d0>, <LDAVI.LDAVI.Document object at 0x7ff66033b430>, <LDAVI.LDAVI.Document object at 0x7ff66033b490>, <LDAVI.LDAVI.Document object at 0x7ff66033b4f0>, <LDAVI.LDAVI.Document object at 0x7ff66033b550>, <LDAVI.LDAVI.Document object at 0x7ff66033b5b0>, <LDAVI.LDAVI.Document object at 0x7ff66033b610>, <LDAVI.LDAVI.Document object at 0x7ff66033b670>, <LDAVI.LDAVI.Document object at 0x7ff66033b6d0>, <LDAVI.LDAVI.Document object at 0x7ff66033b730>, <LDAVI.LDAVI.Document object at 0x7ff66033b790>, <LDAVI.LDAVI.Document object at 0x7ff66033b7f0>, <LDAVI.LDAVI.Document object at 0x7ff66033b850>, <LDAVI.LDAVI.Document object at 0x7ff66033b8b0>, <LDAVI.LDAVI.Document object at 0x7ff66033b910>, <LDAVI.LDAVI.Document object at 0x7ff66033b970>, <LDAVI.LDAVI.Document object at 0x7ff66033b9d0>, <LDAVI.LDAVI.Document object at 0x7ff66033ba30>, <LDAVI.LDAVI.Document object at 0x7ff66033ba90>, <LDAVI.LDAVI.Document object at 0x7ff66033baf0>, <LDAVI.LDAVI.Document object at 0x7ff66033bb50>, <LDAVI.LDAVI.Document object at 0x7ff66033bbb0>, <LDAVI.LDAVI.Document object at 0x7ff66033bc10>, <LDAVI.LDAVI.Document object at 0x7ff66033bc70>, <LDAVI.LDAVI.Document object at 0x7ff66033bcd0>, <LDAVI.LDAVI.Document object at 0x7ff66033bd30>, <LDAVI.LDAVI.Document object at 0x7ff66033bd90>, <LDAVI.LDAVI.Document object at 0x7ff66033bdf0>, <LDAVI.LDAVI.Document object at 0x7ff66033be50>, <LDAVI.LDAVI.Document object at 0x7ff66033beb0>, <LDAVI.LDAVI.Document object at 0x7ff66033bf10>, <LDAVI.LDAVI.Document object at 0x7ff66033bf70>, <LDAVI.LDAVI.Document object at 0x7ff66033bfd0>, <LDAVI.LDAVI.Document object at 0x7ff66035f070>, <LDAVI.LDAVI.Document object at 0x7ff66035f0d0>, <LDAVI.LDAVI.Document object at 0x7ff66035f130>, <LDAVI.LDAVI.Document object at 0x7ff66035f190>, <LDAVI.LDAVI.Document object at 0x7ff66035f1f0>, <LDAVI.LDAVI.Document object at 0x7ff66035f250>, <LDAVI.LDAVI.Document object at 0x7ff66035f2b0>, <LDAVI.LDAVI.Document object at 0x7ff66035f310>, <LDAVI.LDAVI.Document object at 0x7ff66035f370>, <LDAVI.LDAVI.Document object at 0x7ff66035f3d0>, <LDAVI.LDAVI.Document object at 0x7ff66035f430>, <LDAVI.LDAVI.Document object at 0x7ff66035f490>, <LDAVI.LDAVI.Document object at 0x7ff66035f4f0>, <LDAVI.LDAVI.Document object at 0x7ff66035f550>, <LDAVI.LDAVI.Document object at 0x7ff66035f5b0>, <LDAVI.LDAVI.Document object at 0x7ff66035f610>, <LDAVI.LDAVI.Document object at 0x7ff66035f670>, <LDAVI.LDAVI.Document object at 0x7ff66035f6d0>, <LDAVI.LDAVI.Document object at 0x7ff66035f730>, <LDAVI.LDAVI.Document object at 0x7ff66035f790>, <LDAVI.LDAVI.Document object at 0x7ff66035f7f0>, <LDAVI.LDAVI.Document object at 0x7ff66035f850>, <LDAVI.LDAVI.Document object at 0x7ff66035f8b0>, <LDAVI.LDAVI.Document object at 0x7ff66035f910>, <LDAVI.LDAVI.Document object at 0x7ff66035f970>, <LDAVI.LDAVI.Document object at 0x7ff66035f9d0>, <LDAVI.LDAVI.Document object at 0x7ff66035fa30>, <LDAVI.LDAVI.Document object at 0x7ff66035fa90>, <LDAVI.LDAVI.Document object at 0x7ff66035faf0>, <LDAVI.LDAVI.Document object at 0x7ff66035fb50>, <LDAVI.LDAVI.Document object at 0x7ff66035fbb0>, <LDAVI.LDAVI.Document object at 0x7ff66035fc10>, <LDAVI.LDAVI.Document object at 0x7ff66035fc70>, <LDAVI.LDAVI.Document object at 0x7ff66035fcd0>, <LDAVI.LDAVI.Document object at 0x7ff66035fd30>, <LDAVI.LDAVI.Document object at 0x7ff66035fd90>, <LDAVI.LDAVI.Document object at 0x7ff66035fdf0>, <LDAVI.LDAVI.Document object at 0x7ff66035fe50>, <LDAVI.LDAVI.Document object at 0x7ff66035feb0>, <LDAVI.LDAVI.Document object at 0x7ff66035ff10>, <LDAVI.LDAVI.Document object at 0x7ff66035ff70>, <LDAVI.LDAVI.Document object at 0x7ff66035ffd0>, <LDAVI.LDAVI.Document object at 0x7ff660380070>, <LDAVI.LDAVI.Document object at 0x7ff6603800d0>, <LDAVI.LDAVI.Document object at 0x7ff660380130>, <LDAVI.LDAVI.Document object at 0x7ff660380190>, <LDAVI.LDAVI.Document object at 0x7ff6603801f0>, <LDAVI.LDAVI.Document object at 0x7ff660380250>, <LDAVI.LDAVI.Document object at 0x7ff6603802b0>, <LDAVI.LDAVI.Document object at 0x7ff660380310>, <LDAVI.LDAVI.Document object at 0x7ff660380370>, <LDAVI.LDAVI.Document object at 0x7ff6603803d0>, <LDAVI.LDAVI.Document object at 0x7ff660380430>, <LDAVI.LDAVI.Document object at 0x7ff660380490>, <LDAVI.LDAVI.Document object at 0x7ff6603804f0>, <LDAVI.LDAVI.Document object at 0x7ff660380550>, <LDAVI.LDAVI.Document object at 0x7ff6603805b0>, <LDAVI.LDAVI.Document object at 0x7ff660380610>, <LDAVI.LDAVI.Document object at 0x7ff660380670>, <LDAVI.LDAVI.Document object at 0x7ff6603806d0>, <LDAVI.LDAVI.Document object at 0x7ff660380730>, <LDAVI.LDAVI.Document object at 0x7ff660380790>, <LDAVI.LDAVI.Document object at 0x7ff6603807f0>, <LDAVI.LDAVI.Document object at 0x7ff660380850>, <LDAVI.LDAVI.Document object at 0x7ff6603808b0>, <LDAVI.LDAVI.Document object at 0x7ff660380910>, <LDAVI.LDAVI.Document object at 0x7ff660380970>, <LDAVI.LDAVI.Document object at 0x7ff6603809d0>, <LDAVI.LDAVI.Document object at 0x7ff660380a30>, <LDAVI.LDAVI.Document object at 0x7ff660380a90>, <LDAVI.LDAVI.Document object at 0x7ff660380af0>, <LDAVI.LDAVI.Document object at 0x7ff660380b50>, <LDAVI.LDAVI.Document object at 0x7ff660380bb0>, <LDAVI.LDAVI.Document object at 0x7ff660380c10>, <LDAVI.LDAVI.Document object at 0x7ff660380c70>, <LDAVI.LDAVI.Document object at 0x7ff660380cd0>, <LDAVI.LDAVI.Document object at 0x7ff660380d30>, <LDAVI.LDAVI.Document object at 0x7ff660380d90>, <LDAVI.LDAVI.Document object at 0x7ff660380df0>, <LDAVI.LDAVI.Document object at 0x7ff660380e50>, <LDAVI.LDAVI.Document object at 0x7ff660380eb0>, <LDAVI.LDAVI.Document object at 0x7ff660380f10>, <LDAVI.LDAVI.Document object at 0x7ff660380f70>, <LDAVI.LDAVI.Document object at 0x7ff660380fd0>, <LDAVI.LDAVI.Document object at 0x7ff68127d070>, <LDAVI.LDAVI.Document object at 0x7ff68127d0d0>, <LDAVI.LDAVI.Document object at 0x7ff68127d130>, <LDAVI.LDAVI.Document object at 0x7ff68127d190>, <LDAVI.LDAVI.Document object at 0x7ff68127d1f0>, <LDAVI.LDAVI.Document object at 0x7ff68127d250>, <LDAVI.LDAVI.Document object at 0x7ff68127d2b0>, <LDAVI.LDAVI.Document object at 0x7ff68127d310>, <LDAVI.LDAVI.Document object at 0x7ff68127d370>, <LDAVI.LDAVI.Document object at 0x7ff68127d3d0>, <LDAVI.LDAVI.Document object at 0x7ff68127d430>, <LDAVI.LDAVI.Document object at 0x7ff68127d490>, <LDAVI.LDAVI.Document object at 0x7ff68127d4f0>, <LDAVI.LDAVI.Document object at 0x7ff68127d550>, <LDAVI.LDAVI.Document object at 0x7ff68127d5b0>, <LDAVI.LDAVI.Document object at 0x7ff68127d610>, <LDAVI.LDAVI.Document object at 0x7ff68127d670>, <LDAVI.LDAVI.Document object at 0x7ff68127d6d0>, <LDAVI.LDAVI.Document object at 0x7ff68127d730>, <LDAVI.LDAVI.Document object at 0x7ff68127d790>, <LDAVI.LDAVI.Document object at 0x7ff68127d7f0>, <LDAVI.LDAVI.Document object at 0x7ff68127d850>, <LDAVI.LDAVI.Document object at 0x7ff68127d8b0>, <LDAVI.LDAVI.Document object at 0x7ff68127d910>, <LDAVI.LDAVI.Document object at 0x7ff68127d970>, <LDAVI.LDAVI.Document object at 0x7ff68127d9d0>, <LDAVI.LDAVI.Document object at 0x7ff68127da30>, <LDAVI.LDAVI.Document object at 0x7ff68127da90>, <LDAVI.LDAVI.Document object at 0x7ff68127daf0>, <LDAVI.LDAVI.Document object at 0x7ff68127db50>, <LDAVI.LDAVI.Document object at 0x7ff68127dbb0>, <LDAVI.LDAVI.Document object at 0x7ff68127dc10>, <LDAVI.LDAVI.Document object at 0x7ff68127dc70>, <LDAVI.LDAVI.Document object at 0x7ff68127dcd0>, <LDAVI.LDAVI.Document object at 0x7ff68127dd30>, <LDAVI.LDAVI.Document object at 0x7ff68127dd90>, <LDAVI.LDAVI.Document object at 0x7ff68127ddf0>, <LDAVI.LDAVI.Document object at 0x7ff68127de50>, <LDAVI.LDAVI.Document object at 0x7ff68127deb0>, <LDAVI.LDAVI.Document object at 0x7ff68127df10>, <LDAVI.LDAVI.Document object at 0x7ff68127df70>, <LDAVI.LDAVI.Document object at 0x7ff68127dfd0>, <LDAVI.LDAVI.Document object at 0x7ff6812ac070>, <LDAVI.LDAVI.Document object at 0x7ff6812ac0d0>, <LDAVI.LDAVI.Document object at 0x7ff6812ac130>, <LDAVI.LDAVI.Document object at 0x7ff6812ac190>, <LDAVI.LDAVI.Document object at 0x7ff6812ac1f0>, <LDAVI.LDAVI.Document object at 0x7ff6812ac250>, <LDAVI.LDAVI.Document object at 0x7ff6812ac2b0>, <LDAVI.LDAVI.Document object at 0x7ff6812ac310>, <LDAVI.LDAVI.Document object at 0x7ff6812ac370>, <LDAVI.LDAVI.Document object at 0x7ff6812ac3d0>, <LDAVI.LDAVI.Document object at 0x7ff6812ac430>, <LDAVI.LDAVI.Document object at 0x7ff6812ac490>, <LDAVI.LDAVI.Document object at 0x7ff6812ac4f0>, <LDAVI.LDAVI.Document object at 0x7ff6812ac550>, <LDAVI.LDAVI.Document object at 0x7ff6812ac5b0>, <LDAVI.LDAVI.Document object at 0x7ff6812ac610>, <LDAVI.LDAVI.Document object at 0x7ff6812ac670>, <LDAVI.LDAVI.Document object at 0x7ff6812ac6d0>, <LDAVI.LDAVI.Document object at 0x7ff6812ac730>, <LDAVI.LDAVI.Document object at 0x7ff6812ac790>, <LDAVI.LDAVI.Document object at 0x7ff6812ac7f0>, <LDAVI.LDAVI.Document object at 0x7ff6812ac850>, <LDAVI.LDAVI.Document object at 0x7ff6812ac8b0>, <LDAVI.LDAVI.Document object at 0x7ff6812ac910>, <LDAVI.LDAVI.Document object at 0x7ff6812ac970>, <LDAVI.LDAVI.Document object at 0x7ff6812ac9d0>, <LDAVI.LDAVI.Document object at 0x7ff6812aca30>, <LDAVI.LDAVI.Document object at 0x7ff6812aca90>, <LDAVI.LDAVI.Document object at 0x7ff6812acaf0>, <LDAVI.LDAVI.Document object at 0x7ff6812acb50>, <LDAVI.LDAVI.Document object at 0x7ff6812acbb0>, <LDAVI.LDAVI.Document object at 0x7ff6812acc10>, <LDAVI.LDAVI.Document object at 0x7ff6812acc70>, <LDAVI.LDAVI.Document object at 0x7ff6812accd0>, <LDAVI.LDAVI.Document object at 0x7ff6812acd30>, <LDAVI.LDAVI.Document object at 0x7ff6812acd90>, <LDAVI.LDAVI.Document object at 0x7ff6812acdf0>, <LDAVI.LDAVI.Document object at 0x7ff6812ace50>, <LDAVI.LDAVI.Document object at 0x7ff6812aceb0>, <LDAVI.LDAVI.Document object at 0x7ff6812acf10>, <LDAVI.LDAVI.Document object at 0x7ff6812acf70>, <LDAVI.LDAVI.Document object at 0x7ff6812acfd0>, <LDAVI.LDAVI.Document object at 0x7ff6812ce070>, <LDAVI.LDAVI.Document object at 0x7ff6812ce0d0>, <LDAVI.LDAVI.Document object at 0x7ff6812ce130>, <LDAVI.LDAVI.Document object at 0x7ff6812ce190>, <LDAVI.LDAVI.Document object at 0x7ff6812ce1f0>, <LDAVI.LDAVI.Document object at 0x7ff6812ce250>, <LDAVI.LDAVI.Document object at 0x7ff6812ce2b0>, <LDAVI.LDAVI.Document object at 0x7ff6812ce310>, <LDAVI.LDAVI.Document object at 0x7ff6812ce370>, <LDAVI.LDAVI.Document object at 0x7ff6812ce3d0>, <LDAVI.LDAVI.Document object at 0x7ff6812ce430>, <LDAVI.LDAVI.Document object at 0x7ff6812ce490>, <LDAVI.LDAVI.Document object at 0x7ff6812ce4f0>, <LDAVI.LDAVI.Document object at 0x7ff6812ce550>, <LDAVI.LDAVI.Document object at 0x7ff6812ce5b0>, <LDAVI.LDAVI.Document object at 0x7ff6812ce610>, <LDAVI.LDAVI.Document object at 0x7ff6812ce670>, <LDAVI.LDAVI.Document object at 0x7ff6812ce6d0>, <LDAVI.LDAVI.Document object at 0x7ff6812ce730>, <LDAVI.LDAVI.Document object at 0x7ff6812ce790>, <LDAVI.LDAVI.Document object at 0x7ff6812ce7f0>, <LDAVI.LDAVI.Document object at 0x7ff6812ce850>, <LDAVI.LDAVI.Document object at 0x7ff6812ce8b0>, <LDAVI.LDAVI.Document object at 0x7ff6812ce910>, <LDAVI.LDAVI.Document object at 0x7ff6812ce970>, <LDAVI.LDAVI.Document object at 0x7ff6812ce9d0>, <LDAVI.LDAVI.Document object at 0x7ff6812cea30>, <LDAVI.LDAVI.Document object at 0x7ff6812cea90>, <LDAVI.LDAVI.Document object at 0x7ff6812ceaf0>, <LDAVI.LDAVI.Document object at 0x7ff6812ceb50>, <LDAVI.LDAVI.Document object at 0x7ff6812cebb0>, <LDAVI.LDAVI.Document object at 0x7ff6812cec10>, <LDAVI.LDAVI.Document object at 0x7ff6812cec70>, <LDAVI.LDAVI.Document object at 0x7ff6812cecd0>, <LDAVI.LDAVI.Document object at 0x7ff6812ced30>, <LDAVI.LDAVI.Document object at 0x7ff6812ced90>, <LDAVI.LDAVI.Document object at 0x7ff6812cedf0>, <LDAVI.LDAVI.Document object at 0x7ff6812cee50>, <LDAVI.LDAVI.Document object at 0x7ff6812ceeb0>, <LDAVI.LDAVI.Document object at 0x7ff6812cef10>, <LDAVI.LDAVI.Document object at 0x7ff6812cef70>, <LDAVI.LDAVI.Document object at 0x7ff6812cefd0>, <LDAVI.LDAVI.Document object at 0x7ff6812f5070>, <LDAVI.LDAVI.Document object at 0x7ff6812f50d0>, <LDAVI.LDAVI.Document object at 0x7ff6812f5130>, <LDAVI.LDAVI.Document object at 0x7ff6812f5190>, <LDAVI.LDAVI.Document object at 0x7ff6812f51f0>, <LDAVI.LDAVI.Document object at 0x7ff6812f5250>, <LDAVI.LDAVI.Document object at 0x7ff6812f52b0>, <LDAVI.LDAVI.Document object at 0x7ff6812f5310>, <LDAVI.LDAVI.Document object at 0x7ff6812f5370>, <LDAVI.LDAVI.Document object at 0x7ff6812f53d0>, <LDAVI.LDAVI.Document object at 0x7ff6812f5430>, <LDAVI.LDAVI.Document object at 0x7ff6812f5490>, <LDAVI.LDAVI.Document object at 0x7ff6812f54f0>, <LDAVI.LDAVI.Document object at 0x7ff6812f5550>, <LDAVI.LDAVI.Document object at 0x7ff6812f55b0>, <LDAVI.LDAVI.Document object at 0x7ff6812f5610>, <LDAVI.LDAVI.Document object at 0x7ff6812f5670>, <LDAVI.LDAVI.Document object at 0x7ff6812f56d0>, <LDAVI.LDAVI.Document object at 0x7ff6812f5730>, <LDAVI.LDAVI.Document object at 0x7ff6812f5790>, <LDAVI.LDAVI.Document object at 0x7ff6812f57f0>, <LDAVI.LDAVI.Document object at 0x7ff6812f5850>, <LDAVI.LDAVI.Document object at 0x7ff6812f58b0>, <LDAVI.LDAVI.Document object at 0x7ff6812f5910>, <LDAVI.LDAVI.Document object at 0x7ff6812f5970>, <LDAVI.LDAVI.Document object at 0x7ff6812f59d0>, <LDAVI.LDAVI.Document object at 0x7ff6812f5a30>, <LDAVI.LDAVI.Document object at 0x7ff6812f5a90>, <LDAVI.LDAVI.Document object at 0x7ff6812f5af0>, <LDAVI.LDAVI.Document object at 0x7ff6812f5b50>, <LDAVI.LDAVI.Document object at 0x7ff6812f5bb0>, <LDAVI.LDAVI.Document object at 0x7ff6812f5c10>, <LDAVI.LDAVI.Document object at 0x7ff6812f5c70>, <LDAVI.LDAVI.Document object at 0x7ff6812f5cd0>, <LDAVI.LDAVI.Document object at 0x7ff6812f5d30>, <LDAVI.LDAVI.Document object at 0x7ff6812f5d90>, <LDAVI.LDAVI.Document object at 0x7ff6812f5df0>, <LDAVI.LDAVI.Document object at 0x7ff6812f5e50>, <LDAVI.LDAVI.Document object at 0x7ff6812f5eb0>, <LDAVI.LDAVI.Document object at 0x7ff6812f5f10>, <LDAVI.LDAVI.Document object at 0x7ff6812f5f70>, <LDAVI.LDAVI.Document object at 0x7ff6812f5fd0>, <LDAVI.LDAVI.Document object at 0x7ff68131c070>, <LDAVI.LDAVI.Document object at 0x7ff68131c0d0>, <LDAVI.LDAVI.Document object at 0x7ff68131c130>, <LDAVI.LDAVI.Document object at 0x7ff68131c190>, <LDAVI.LDAVI.Document object at 0x7ff68131c1f0>, <LDAVI.LDAVI.Document object at 0x7ff68131c250>, <LDAVI.LDAVI.Document object at 0x7ff68131c2b0>, <LDAVI.LDAVI.Document object at 0x7ff68131c310>, <LDAVI.LDAVI.Document object at 0x7ff68131c370>, <LDAVI.LDAVI.Document object at 0x7ff68131c3d0>, <LDAVI.LDAVI.Document object at 0x7ff68131c430>, <LDAVI.LDAVI.Document object at 0x7ff68131c490>, <LDAVI.LDAVI.Document object at 0x7ff68131c4f0>, <LDAVI.LDAVI.Document object at 0x7ff68131c550>, <LDAVI.LDAVI.Document object at 0x7ff68131c5b0>, <LDAVI.LDAVI.Document object at 0x7ff68131c610>, <LDAVI.LDAVI.Document object at 0x7ff68131c670>, <LDAVI.LDAVI.Document object at 0x7ff68131c6d0>, <LDAVI.LDAVI.Document object at 0x7ff68131c730>, <LDAVI.LDAVI.Document object at 0x7ff68131c790>, <LDAVI.LDAVI.Document object at 0x7ff68131c7f0>, <LDAVI.LDAVI.Document object at 0x7ff68131c850>, <LDAVI.LDAVI.Document object at 0x7ff68131c8b0>, <LDAVI.LDAVI.Document object at 0x7ff68131c910>, <LDAVI.LDAVI.Document object at 0x7ff68131c970>, <LDAVI.LDAVI.Document object at 0x7ff68131c9d0>, <LDAVI.LDAVI.Document object at 0x7ff68131ca30>, <LDAVI.LDAVI.Document object at 0x7ff68131ca90>, <LDAVI.LDAVI.Document object at 0x7ff68131caf0>, <LDAVI.LDAVI.Document object at 0x7ff68131cb50>, <LDAVI.LDAVI.Document object at 0x7ff68131cbb0>, <LDAVI.LDAVI.Document object at 0x7ff68131cc10>, <LDAVI.LDAVI.Document object at 0x7ff68131cc70>, <LDAVI.LDAVI.Document object at 0x7ff68131ccd0>, <LDAVI.LDAVI.Document object at 0x7ff68131cd30>, <LDAVI.LDAVI.Document object at 0x7ff68131cd90>, <LDAVI.LDAVI.Document object at 0x7ff68131cdf0>, <LDAVI.LDAVI.Document object at 0x7ff68131ce50>, <LDAVI.LDAVI.Document object at 0x7ff68131ceb0>, <LDAVI.LDAVI.Document object at 0x7ff68131cf10>, <LDAVI.LDAVI.Document object at 0x7ff68131cf70>, <LDAVI.LDAVI.Document object at 0x7ff68131cfd0>, <LDAVI.LDAVI.Document object at 0x7ff640e22070>, <LDAVI.LDAVI.Document object at 0x7ff640e220d0>, <LDAVI.LDAVI.Document object at 0x7ff640e22130>, <LDAVI.LDAVI.Document object at 0x7ff640e22190>, <LDAVI.LDAVI.Document object at 0x7ff640e221f0>, <LDAVI.LDAVI.Document object at 0x7ff640e22250>, <LDAVI.LDAVI.Document object at 0x7ff640e222b0>, <LDAVI.LDAVI.Document object at 0x7ff640e22310>, <LDAVI.LDAVI.Document object at 0x7ff640e22370>, <LDAVI.LDAVI.Document object at 0x7ff640e223d0>, <LDAVI.LDAVI.Document object at 0x7ff640e22430>, <LDAVI.LDAVI.Document object at 0x7ff640e22490>, <LDAVI.LDAVI.Document object at 0x7ff640e224f0>, <LDAVI.LDAVI.Document object at 0x7ff640e22550>, <LDAVI.LDAVI.Document object at 0x7ff640e225b0>, <LDAVI.LDAVI.Document object at 0x7ff640e22610>, <LDAVI.LDAVI.Document object at 0x7ff640e22670>, <LDAVI.LDAVI.Document object at 0x7ff640e226d0>, <LDAVI.LDAVI.Document object at 0x7ff640e22730>, <LDAVI.LDAVI.Document object at 0x7ff640e22790>, <LDAVI.LDAVI.Document object at 0x7ff640e227f0>, <LDAVI.LDAVI.Document object at 0x7ff640e22850>, <LDAVI.LDAVI.Document object at 0x7ff640e228b0>, <LDAVI.LDAVI.Document object at 0x7ff640e22910>, <LDAVI.LDAVI.Document object at 0x7ff640e22970>, <LDAVI.LDAVI.Document object at 0x7ff640e229d0>, <LDAVI.LDAVI.Document object at 0x7ff640e22a30>, <LDAVI.LDAVI.Document object at 0x7ff640e22a90>, <LDAVI.LDAVI.Document object at 0x7ff640e22af0>, <LDAVI.LDAVI.Document object at 0x7ff640e22b50>, <LDAVI.LDAVI.Document object at 0x7ff640e22bb0>, <LDAVI.LDAVI.Document object at 0x7ff640e22c10>, <LDAVI.LDAVI.Document object at 0x7ff640e22c70>, <LDAVI.LDAVI.Document object at 0x7ff640e22cd0>, <LDAVI.LDAVI.Document object at 0x7ff640e22d30>, <LDAVI.LDAVI.Document object at 0x7ff640e22d90>, <LDAVI.LDAVI.Document object at 0x7ff640e22df0>, <LDAVI.LDAVI.Document object at 0x7ff640e22e50>, <LDAVI.LDAVI.Document object at 0x7ff640e22eb0>, <LDAVI.LDAVI.Document object at 0x7ff640e22f10>, <LDAVI.LDAVI.Document object at 0x7ff640e22f70>, <LDAVI.LDAVI.Document object at 0x7ff640e22fd0>, <LDAVI.LDAVI.Document object at 0x7ff640e4e070>, <LDAVI.LDAVI.Document object at 0x7ff640e4e0d0>, <LDAVI.LDAVI.Document object at 0x7ff640e4e130>, <LDAVI.LDAVI.Document object at 0x7ff640e4e190>, <LDAVI.LDAVI.Document object at 0x7ff640e4e1f0>, <LDAVI.LDAVI.Document object at 0x7ff640e4e250>, <LDAVI.LDAVI.Document object at 0x7ff640e4e2b0>, <LDAVI.LDAVI.Document object at 0x7ff640e4e310>, <LDAVI.LDAVI.Document object at 0x7ff640e4e370>, <LDAVI.LDAVI.Document object at 0x7ff640e4e3d0>, <LDAVI.LDAVI.Document object at 0x7ff640e4e430>, <LDAVI.LDAVI.Document object at 0x7ff640e4e490>, <LDAVI.LDAVI.Document object at 0x7ff640e4e4f0>, <LDAVI.LDAVI.Document object at 0x7ff640e4e550>, <LDAVI.LDAVI.Document object at 0x7ff640e4e5b0>, <LDAVI.LDAVI.Document object at 0x7ff640e4e610>, <LDAVI.LDAVI.Document object at 0x7ff640e4e670>, <LDAVI.LDAVI.Document object at 0x7ff640e4e6d0>, <LDAVI.LDAVI.Document object at 0x7ff640e4e730>, <LDAVI.LDAVI.Document object at 0x7ff640e4e790>, <LDAVI.LDAVI.Document object at 0x7ff640e4e7f0>, <LDAVI.LDAVI.Document object at 0x7ff640e4e850>, <LDAVI.LDAVI.Document object at 0x7ff640e4e8b0>, <LDAVI.LDAVI.Document object at 0x7ff640e4e910>, <LDAVI.LDAVI.Document object at 0x7ff640e4e970>, <LDAVI.LDAVI.Document object at 0x7ff640e4e9d0>, <LDAVI.LDAVI.Document object at 0x7ff640e4ea30>, <LDAVI.LDAVI.Document object at 0x7ff640e4ea90>, <LDAVI.LDAVI.Document object at 0x7ff640e4eaf0>, <LDAVI.LDAVI.Document object at 0x7ff640e4eb50>, <LDAVI.LDAVI.Document object at 0x7ff640e4ebb0>, <LDAVI.LDAVI.Document object at 0x7ff640e4ec10>, <LDAVI.LDAVI.Document object at 0x7ff640e4ec70>, <LDAVI.LDAVI.Document object at 0x7ff640e4ecd0>, <LDAVI.LDAVI.Document object at 0x7ff640e4ed30>, <LDAVI.LDAVI.Document object at 0x7ff640e4ed90>, <LDAVI.LDAVI.Document object at 0x7ff640e4edf0>, <LDAVI.LDAVI.Document object at 0x7ff640e4ee50>, <LDAVI.LDAVI.Document object at 0x7ff640e4eeb0>, <LDAVI.LDAVI.Document object at 0x7ff640e4ef10>, <LDAVI.LDAVI.Document object at 0x7ff640e4ef70>, <LDAVI.LDAVI.Document object at 0x7ff640e4efd0>, <LDAVI.LDAVI.Document object at 0x7ff640e76070>, <LDAVI.LDAVI.Document object at 0x7ff640e760d0>, <LDAVI.LDAVI.Document object at 0x7ff640e76130>, <LDAVI.LDAVI.Document object at 0x7ff640e76190>, <LDAVI.LDAVI.Document object at 0x7ff640e761f0>, <LDAVI.LDAVI.Document object at 0x7ff640e76250>, <LDAVI.LDAVI.Document object at 0x7ff640e762b0>, <LDAVI.LDAVI.Document object at 0x7ff640e76310>, <LDAVI.LDAVI.Document object at 0x7ff640e76370>, <LDAVI.LDAVI.Document object at 0x7ff640e763d0>, <LDAVI.LDAVI.Document object at 0x7ff640e76430>, <LDAVI.LDAVI.Document object at 0x7ff640e76490>, <LDAVI.LDAVI.Document object at 0x7ff640e764f0>, <LDAVI.LDAVI.Document object at 0x7ff640e76550>, <LDAVI.LDAVI.Document object at 0x7ff640e765b0>, <LDAVI.LDAVI.Document object at 0x7ff640e76610>, <LDAVI.LDAVI.Document object at 0x7ff640e76670>, <LDAVI.LDAVI.Document object at 0x7ff640e766d0>, <LDAVI.LDAVI.Document object at 0x7ff640e76730>, <LDAVI.LDAVI.Document object at 0x7ff640e76790>, <LDAVI.LDAVI.Document object at 0x7ff640e767f0>, <LDAVI.LDAVI.Document object at 0x7ff640e76850>, <LDAVI.LDAVI.Document object at 0x7ff640e768b0>, <LDAVI.LDAVI.Document object at 0x7ff640e76910>, <LDAVI.LDAVI.Document object at 0x7ff640e76970>, <LDAVI.LDAVI.Document object at 0x7ff640e769d0>, <LDAVI.LDAVI.Document object at 0x7ff640e76a30>, <LDAVI.LDAVI.Document object at 0x7ff640e76a90>, <LDAVI.LDAVI.Document object at 0x7ff640e76af0>, <LDAVI.LDAVI.Document object at 0x7ff640e76b50>, <LDAVI.LDAVI.Document object at 0x7ff640e76bb0>, <LDAVI.LDAVI.Document object at 0x7ff640e76c10>, <LDAVI.LDAVI.Document object at 0x7ff640e76c70>, <LDAVI.LDAVI.Document object at 0x7ff640e76cd0>, <LDAVI.LDAVI.Document object at 0x7ff640e76d30>, <LDAVI.LDAVI.Document object at 0x7ff640e76d90>, <LDAVI.LDAVI.Document object at 0x7ff640e76df0>, <LDAVI.LDAVI.Document object at 0x7ff640e76e50>, <LDAVI.LDAVI.Document object at 0x7ff640e76eb0>, <LDAVI.LDAVI.Document object at 0x7ff640e76f10>, <LDAVI.LDAVI.Document object at 0x7ff640e76f70>, <LDAVI.LDAVI.Document object at 0x7ff640e76fd0>, <LDAVI.LDAVI.Document object at 0x7ff640e98070>, <LDAVI.LDAVI.Document object at 0x7ff640e980d0>, <LDAVI.LDAVI.Document object at 0x7ff640e98130>, <LDAVI.LDAVI.Document object at 0x7ff640e98190>, <LDAVI.LDAVI.Document object at 0x7ff640e981f0>, <LDAVI.LDAVI.Document object at 0x7ff640e98250>, <LDAVI.LDAVI.Document object at 0x7ff640e982b0>, <LDAVI.LDAVI.Document object at 0x7ff640e98310>, <LDAVI.LDAVI.Document object at 0x7ff640e98370>, <LDAVI.LDAVI.Document object at 0x7ff640e983d0>, <LDAVI.LDAVI.Document object at 0x7ff640e98430>, <LDAVI.LDAVI.Document object at 0x7ff640e98490>, <LDAVI.LDAVI.Document object at 0x7ff640e984f0>, <LDAVI.LDAVI.Document object at 0x7ff640e98550>, <LDAVI.LDAVI.Document object at 0x7ff640e985b0>, <LDAVI.LDAVI.Document object at 0x7ff640e98610>, <LDAVI.LDAVI.Document object at 0x7ff640e98670>, <LDAVI.LDAVI.Document object at 0x7ff640e986d0>, <LDAVI.LDAVI.Document object at 0x7ff640e98730>, <LDAVI.LDAVI.Document object at 0x7ff640e98790>, <LDAVI.LDAVI.Document object at 0x7ff640e987f0>, <LDAVI.LDAVI.Document object at 0x7ff640e98850>, <LDAVI.LDAVI.Document object at 0x7ff640e988b0>, <LDAVI.LDAVI.Document object at 0x7ff640e98910>, <LDAVI.LDAVI.Document object at 0x7ff640e98970>, <LDAVI.LDAVI.Document object at 0x7ff640e989d0>, <LDAVI.LDAVI.Document object at 0x7ff640e98a30>, <LDAVI.LDAVI.Document object at 0x7ff640e98a90>, <LDAVI.LDAVI.Document object at 0x7ff640e98af0>, <LDAVI.LDAVI.Document object at 0x7ff640e98b50>, <LDAVI.LDAVI.Document object at 0x7ff640e98bb0>, <LDAVI.LDAVI.Document object at 0x7ff640e98c10>, <LDAVI.LDAVI.Document object at 0x7ff640e98c70>, <LDAVI.LDAVI.Document object at 0x7ff640e98cd0>, <LDAVI.LDAVI.Document object at 0x7ff640e98d30>, <LDAVI.LDAVI.Document object at 0x7ff640e98d90>, <LDAVI.LDAVI.Document object at 0x7ff640e98df0>, <LDAVI.LDAVI.Document object at 0x7ff640e98e50>, <LDAVI.LDAVI.Document object at 0x7ff640e98eb0>, <LDAVI.LDAVI.Document object at 0x7ff640e98f10>, <LDAVI.LDAVI.Document object at 0x7ff640e98f70>, <LDAVI.LDAVI.Document object at 0x7ff640e98fd0>, <LDAVI.LDAVI.Document object at 0x7ff640ebd070>, <LDAVI.LDAVI.Document object at 0x7ff640ebd0d0>, <LDAVI.LDAVI.Document object at 0x7ff640ebd130>, <LDAVI.LDAVI.Document object at 0x7ff640ebd190>, <LDAVI.LDAVI.Document object at 0x7ff640ebd1f0>, <LDAVI.LDAVI.Document object at 0x7ff640ebd250>, <LDAVI.LDAVI.Document object at 0x7ff640ebd2b0>, <LDAVI.LDAVI.Document object at 0x7ff640ebd310>, <LDAVI.LDAVI.Document object at 0x7ff640ebd370>, <LDAVI.LDAVI.Document object at 0x7ff640ebd3d0>, <LDAVI.LDAVI.Document object at 0x7ff640ebd430>, <LDAVI.LDAVI.Document object at 0x7ff640ebd490>, <LDAVI.LDAVI.Document object at 0x7ff640ebd4f0>, <LDAVI.LDAVI.Document object at 0x7ff640ebd550>, <LDAVI.LDAVI.Document object at 0x7ff640ebd5b0>, <LDAVI.LDAVI.Document object at 0x7ff640ebd610>, <LDAVI.LDAVI.Document object at 0x7ff640ebd670>, <LDAVI.LDAVI.Document object at 0x7ff640ebd6d0>, <LDAVI.LDAVI.Document object at 0x7ff640ebd730>, <LDAVI.LDAVI.Document object at 0x7ff640ebd790>, <LDAVI.LDAVI.Document object at 0x7ff640ebd7f0>, <LDAVI.LDAVI.Document object at 0x7ff640ebd850>, <LDAVI.LDAVI.Document object at 0x7ff640ebd8b0>, <LDAVI.LDAVI.Document object at 0x7ff640ebd910>, <LDAVI.LDAVI.Document object at 0x7ff640ebd970>, <LDAVI.LDAVI.Document object at 0x7ff640ebd9d0>, <LDAVI.LDAVI.Document object at 0x7ff640ebda30>, <LDAVI.LDAVI.Document object at 0x7ff640ebda90>, <LDAVI.LDAVI.Document object at 0x7ff640ebdaf0>, <LDAVI.LDAVI.Document object at 0x7ff640ebdb50>, <LDAVI.LDAVI.Document object at 0x7ff640ebdbb0>, <LDAVI.LDAVI.Document object at 0x7ff640ebdc10>, <LDAVI.LDAVI.Document object at 0x7ff640ebdc70>, <LDAVI.LDAVI.Document object at 0x7ff640ebdcd0>, <LDAVI.LDAVI.Document object at 0x7ff640ebdd30>, <LDAVI.LDAVI.Document object at 0x7ff640ebdd90>, <LDAVI.LDAVI.Document object at 0x7ff640ebddf0>, <LDAVI.LDAVI.Document object at 0x7ff640ebde50>, <LDAVI.LDAVI.Document object at 0x7ff640ebdeb0>, <LDAVI.LDAVI.Document object at 0x7ff640ebdf10>, <LDAVI.LDAVI.Document object at 0x7ff640ebdf70>, <LDAVI.LDAVI.Document object at 0x7ff640ebdfd0>, <LDAVI.LDAVI.Document object at 0x7ff640eeb070>, <LDAVI.LDAVI.Document object at 0x7ff640eeb0d0>, <LDAVI.LDAVI.Document object at 0x7ff640eeb130>, <LDAVI.LDAVI.Document object at 0x7ff640eeb190>, <LDAVI.LDAVI.Document object at 0x7ff640eeb1f0>, <LDAVI.LDAVI.Document object at 0x7ff640eeb250>, <LDAVI.LDAVI.Document object at 0x7ff640eeb2b0>, <LDAVI.LDAVI.Document object at 0x7ff640eeb310>, <LDAVI.LDAVI.Document object at 0x7ff640eeb370>, <LDAVI.LDAVI.Document object at 0x7ff640eeb3d0>, <LDAVI.LDAVI.Document object at 0x7ff640eeb430>, <LDAVI.LDAVI.Document object at 0x7ff640eeb490>, <LDAVI.LDAVI.Document object at 0x7ff640eeb4f0>, <LDAVI.LDAVI.Document object at 0x7ff640eeb550>, <LDAVI.LDAVI.Document object at 0x7ff640eeb5b0>, <LDAVI.LDAVI.Document object at 0x7ff640eeb610>, <LDAVI.LDAVI.Document object at 0x7ff640eeb670>, <LDAVI.LDAVI.Document object at 0x7ff640eeb6d0>, <LDAVI.LDAVI.Document object at 0x7ff640eeb730>, <LDAVI.LDAVI.Document object at 0x7ff640eeb790>, <LDAVI.LDAVI.Document object at 0x7ff640eeb7f0>, <LDAVI.LDAVI.Document object at 0x7ff640eeb850>, <LDAVI.LDAVI.Document object at 0x7ff640eeb8b0>, <LDAVI.LDAVI.Document object at 0x7ff640eeb910>, <LDAVI.LDAVI.Document object at 0x7ff640eeb970>, <LDAVI.LDAVI.Document object at 0x7ff640eeb9d0>, <LDAVI.LDAVI.Document object at 0x7ff640eeba30>, <LDAVI.LDAVI.Document object at 0x7ff640eeba90>, <LDAVI.LDAVI.Document object at 0x7ff640eebaf0>, <LDAVI.LDAVI.Document object at 0x7ff640eebb50>, <LDAVI.LDAVI.Document object at 0x7ff640eebbb0>, <LDAVI.LDAVI.Document object at 0x7ff640eebc10>, <LDAVI.LDAVI.Document object at 0x7ff640eebc70>, <LDAVI.LDAVI.Document object at 0x7ff640eebcd0>, <LDAVI.LDAVI.Document object at 0x7ff640eebd30>, <LDAVI.LDAVI.Document object at 0x7ff640eebd90>, <LDAVI.LDAVI.Document object at 0x7ff640eebdf0>, <LDAVI.LDAVI.Document object at 0x7ff640eebe50>, <LDAVI.LDAVI.Document object at 0x7ff640eebeb0>, <LDAVI.LDAVI.Document object at 0x7ff640eebf10>, <LDAVI.LDAVI.Document object at 0x7ff640eebf70>, <LDAVI.LDAVI.Document object at 0x7ff640eebfd0>, <LDAVI.LDAVI.Document object at 0x7ff66039b070>, <LDAVI.LDAVI.Document object at 0x7ff66039b0d0>, <LDAVI.LDAVI.Document object at 0x7ff66039b130>, <LDAVI.LDAVI.Document object at 0x7ff66039b190>, <LDAVI.LDAVI.Document object at 0x7ff66039b1f0>, <LDAVI.LDAVI.Document object at 0x7ff66039b250>, <LDAVI.LDAVI.Document object at 0x7ff66039b2b0>, <LDAVI.LDAVI.Document object at 0x7ff66039b310>, <LDAVI.LDAVI.Document object at 0x7ff66039b370>, <LDAVI.LDAVI.Document object at 0x7ff66039b3d0>, <LDAVI.LDAVI.Document object at 0x7ff66039b430>, <LDAVI.LDAVI.Document object at 0x7ff66039b490>, <LDAVI.LDAVI.Document object at 0x7ff66039b4f0>, <LDAVI.LDAVI.Document object at 0x7ff66039b550>, <LDAVI.LDAVI.Document object at 0x7ff66039b5b0>, <LDAVI.LDAVI.Document object at 0x7ff66039b610>, <LDAVI.LDAVI.Document object at 0x7ff66039b670>, <LDAVI.LDAVI.Document object at 0x7ff66039b6d0>, <LDAVI.LDAVI.Document object at 0x7ff66039b730>, <LDAVI.LDAVI.Document object at 0x7ff66039b790>, <LDAVI.LDAVI.Document object at 0x7ff66039b7f0>, <LDAVI.LDAVI.Document object at 0x7ff66039b850>, <LDAVI.LDAVI.Document object at 0x7ff66039b8b0>, <LDAVI.LDAVI.Document object at 0x7ff66039b910>, <LDAVI.LDAVI.Document object at 0x7ff66039b970>, <LDAVI.LDAVI.Document object at 0x7ff66039b9d0>, <LDAVI.LDAVI.Document object at 0x7ff66039ba30>, <LDAVI.LDAVI.Document object at 0x7ff66039ba90>, <LDAVI.LDAVI.Document object at 0x7ff66039baf0>, <LDAVI.LDAVI.Document object at 0x7ff66039bb50>, <LDAVI.LDAVI.Document object at 0x7ff66039bbb0>, <LDAVI.LDAVI.Document object at 0x7ff66039bc10>, <LDAVI.LDAVI.Document object at 0x7ff66039bc70>, <LDAVI.LDAVI.Document object at 0x7ff66039bcd0>, <LDAVI.LDAVI.Document object at 0x7ff66039bd30>, <LDAVI.LDAVI.Document object at 0x7ff66039bd90>, <LDAVI.LDAVI.Document object at 0x7ff66039bdf0>, <LDAVI.LDAVI.Document object at 0x7ff66039be50>, <LDAVI.LDAVI.Document object at 0x7ff66039beb0>, <LDAVI.LDAVI.Document object at 0x7ff66039bf10>, <LDAVI.LDAVI.Document object at 0x7ff66039bf70>, <LDAVI.LDAVI.Document object at 0x7ff66039bfd0>, <LDAVI.LDAVI.Document object at 0x7ff6603c2070>, <LDAVI.LDAVI.Document object at 0x7ff6603c20d0>, <LDAVI.LDAVI.Document object at 0x7ff6603c2130>, <LDAVI.LDAVI.Document object at 0x7ff6603c2190>, <LDAVI.LDAVI.Document object at 0x7ff6603c21f0>, <LDAVI.LDAVI.Document object at 0x7ff6603c2250>, <LDAVI.LDAVI.Document object at 0x7ff6603c22b0>, <LDAVI.LDAVI.Document object at 0x7ff6603c2310>, <LDAVI.LDAVI.Document object at 0x7ff6603c2370>, <LDAVI.LDAVI.Document object at 0x7ff6603c23d0>, <LDAVI.LDAVI.Document object at 0x7ff6603c2430>, <LDAVI.LDAVI.Document object at 0x7ff6603c2490>, <LDAVI.LDAVI.Document object at 0x7ff6603c24f0>, <LDAVI.LDAVI.Document object at 0x7ff6603c2550>, <LDAVI.LDAVI.Document object at 0x7ff6603c25b0>, <LDAVI.LDAVI.Document object at 0x7ff6603c2610>, <LDAVI.LDAVI.Document object at 0x7ff6603c2670>, <LDAVI.LDAVI.Document object at 0x7ff6603c26d0>, <LDAVI.LDAVI.Document object at 0x7ff6603c2730>, <LDAVI.LDAVI.Document object at 0x7ff6603c2790>, <LDAVI.LDAVI.Document object at 0x7ff6603c27f0>, <LDAVI.LDAVI.Document object at 0x7ff6603c2850>, <LDAVI.LDAVI.Document object at 0x7ff6603c28b0>, <LDAVI.LDAVI.Document object at 0x7ff6603c2910>, <LDAVI.LDAVI.Document object at 0x7ff6603c2970>, <LDAVI.LDAVI.Document object at 0x7ff6603c29d0>, <LDAVI.LDAVI.Document object at 0x7ff6603c2a30>, <LDAVI.LDAVI.Document object at 0x7ff6603c2a90>, <LDAVI.LDAVI.Document object at 0x7ff6603c2af0>, <LDAVI.LDAVI.Document object at 0x7ff6603c2b50>, <LDAVI.LDAVI.Document object at 0x7ff6603c2bb0>, <LDAVI.LDAVI.Document object at 0x7ff6603c2c10>, <LDAVI.LDAVI.Document object at 0x7ff6603c2c70>, <LDAVI.LDAVI.Document object at 0x7ff6603c2cd0>, <LDAVI.LDAVI.Document object at 0x7ff6603c2d30>, <LDAVI.LDAVI.Document object at 0x7ff6603c2d90>, <LDAVI.LDAVI.Document object at 0x7ff6603c2df0>, <LDAVI.LDAVI.Document object at 0x7ff6603c2e50>, <LDAVI.LDAVI.Document object at 0x7ff6603c2eb0>, <LDAVI.LDAVI.Document object at 0x7ff6603c2f10>, <LDAVI.LDAVI.Document object at 0x7ff6603c2f70>, <LDAVI.LDAVI.Document object at 0x7ff6603c2fd0>, <LDAVI.LDAVI.Document object at 0x7ff62060b070>, <LDAVI.LDAVI.Document object at 0x7ff62060b0d0>, <LDAVI.LDAVI.Document object at 0x7ff62060b130>, <LDAVI.LDAVI.Document object at 0x7ff62060b190>, <LDAVI.LDAVI.Document object at 0x7ff62060b1f0>, <LDAVI.LDAVI.Document object at 0x7ff62060b250>, <LDAVI.LDAVI.Document object at 0x7ff62060b2b0>, <LDAVI.LDAVI.Document object at 0x7ff62060b310>, <LDAVI.LDAVI.Document object at 0x7ff62060b370>, <LDAVI.LDAVI.Document object at 0x7ff62060b3d0>, <LDAVI.LDAVI.Document object at 0x7ff62060b430>, <LDAVI.LDAVI.Document object at 0x7ff62060b490>, <LDAVI.LDAVI.Document object at 0x7ff62060b4f0>, <LDAVI.LDAVI.Document object at 0x7ff62060b550>, <LDAVI.LDAVI.Document object at 0x7ff62060b5b0>, <LDAVI.LDAVI.Document object at 0x7ff62060b610>, <LDAVI.LDAVI.Document object at 0x7ff62060b670>, <LDAVI.LDAVI.Document object at 0x7ff62060b6d0>, <LDAVI.LDAVI.Document object at 0x7ff62060b730>, <LDAVI.LDAVI.Document object at 0x7ff62060b790>, <LDAVI.LDAVI.Document object at 0x7ff62060b7f0>, <LDAVI.LDAVI.Document object at 0x7ff62060b850>, <LDAVI.LDAVI.Document object at 0x7ff62060b8b0>, <LDAVI.LDAVI.Document object at 0x7ff62060b910>, <LDAVI.LDAVI.Document object at 0x7ff62060b970>, <LDAVI.LDAVI.Document object at 0x7ff62060b9d0>, <LDAVI.LDAVI.Document object at 0x7ff62060ba30>, <LDAVI.LDAVI.Document object at 0x7ff62060ba90>, <LDAVI.LDAVI.Document object at 0x7ff62060baf0>, <LDAVI.LDAVI.Document object at 0x7ff62060bb50>, <LDAVI.LDAVI.Document object at 0x7ff62060bbb0>, <LDAVI.LDAVI.Document object at 0x7ff62060bc10>, <LDAVI.LDAVI.Document object at 0x7ff62060bc70>, <LDAVI.LDAVI.Document object at 0x7ff62060bcd0>, <LDAVI.LDAVI.Document object at 0x7ff62060bd30>, <LDAVI.LDAVI.Document object at 0x7ff62060bd90>, <LDAVI.LDAVI.Document object at 0x7ff62060bdf0>, <LDAVI.LDAVI.Document object at 0x7ff62060be50>, <LDAVI.LDAVI.Document object at 0x7ff62060beb0>, <LDAVI.LDAVI.Document object at 0x7ff62060bf10>, <LDAVI.LDAVI.Document object at 0x7ff62060bf70>, <LDAVI.LDAVI.Document object at 0x7ff62060bfd0>, <LDAVI.LDAVI.Document object at 0x7ff620641070>, <LDAVI.LDAVI.Document object at 0x7ff6206410d0>, <LDAVI.LDAVI.Document object at 0x7ff620641130>, <LDAVI.LDAVI.Document object at 0x7ff620641190>, <LDAVI.LDAVI.Document object at 0x7ff6206411f0>, <LDAVI.LDAVI.Document object at 0x7ff620641250>, <LDAVI.LDAVI.Document object at 0x7ff6206412b0>, <LDAVI.LDAVI.Document object at 0x7ff620641310>, <LDAVI.LDAVI.Document object at 0x7ff620641370>, <LDAVI.LDAVI.Document object at 0x7ff6206413d0>, <LDAVI.LDAVI.Document object at 0x7ff620641430>, <LDAVI.LDAVI.Document object at 0x7ff620641490>, <LDAVI.LDAVI.Document object at 0x7ff6206414f0>, <LDAVI.LDAVI.Document object at 0x7ff620641550>, <LDAVI.LDAVI.Document object at 0x7ff6206415b0>, <LDAVI.LDAVI.Document object at 0x7ff620641610>, <LDAVI.LDAVI.Document object at 0x7ff620641670>, <LDAVI.LDAVI.Document object at 0x7ff6206416d0>, <LDAVI.LDAVI.Document object at 0x7ff620641730>, <LDAVI.LDAVI.Document object at 0x7ff620641790>, <LDAVI.LDAVI.Document object at 0x7ff6206417f0>, <LDAVI.LDAVI.Document object at 0x7ff620641850>, <LDAVI.LDAVI.Document object at 0x7ff6206418b0>, <LDAVI.LDAVI.Document object at 0x7ff620641910>, <LDAVI.LDAVI.Document object at 0x7ff620641970>, <LDAVI.LDAVI.Document object at 0x7ff6206419d0>, <LDAVI.LDAVI.Document object at 0x7ff620641a30>, <LDAVI.LDAVI.Document object at 0x7ff620641a90>, <LDAVI.LDAVI.Document object at 0x7ff620641af0>, <LDAVI.LDAVI.Document object at 0x7ff620641b50>, <LDAVI.LDAVI.Document object at 0x7ff620641bb0>, <LDAVI.LDAVI.Document object at 0x7ff620641c10>, <LDAVI.LDAVI.Document object at 0x7ff620641c70>, <LDAVI.LDAVI.Document object at 0x7ff620641cd0>, <LDAVI.LDAVI.Document object at 0x7ff620641d30>, <LDAVI.LDAVI.Document object at 0x7ff620641d90>, <LDAVI.LDAVI.Document object at 0x7ff620641df0>, <LDAVI.LDAVI.Document object at 0x7ff620641e50>, <LDAVI.LDAVI.Document object at 0x7ff620641eb0>, <LDAVI.LDAVI.Document object at 0x7ff620641f10>, <LDAVI.LDAVI.Document object at 0x7ff620641f70>, <LDAVI.LDAVI.Document object at 0x7ff620641fd0>, <LDAVI.LDAVI.Document object at 0x7ff620662070>, <LDAVI.LDAVI.Document object at 0x7ff6206620d0>, <LDAVI.LDAVI.Document object at 0x7ff620662130>, <LDAVI.LDAVI.Document object at 0x7ff620662190>, <LDAVI.LDAVI.Document object at 0x7ff6206621f0>, <LDAVI.LDAVI.Document object at 0x7ff620662250>, <LDAVI.LDAVI.Document object at 0x7ff6206622b0>, <LDAVI.LDAVI.Document object at 0x7ff620662310>, <LDAVI.LDAVI.Document object at 0x7ff620662370>, <LDAVI.LDAVI.Document object at 0x7ff6206623d0>, <LDAVI.LDAVI.Document object at 0x7ff620662430>, <LDAVI.LDAVI.Document object at 0x7ff620662490>, <LDAVI.LDAVI.Document object at 0x7ff6206624f0>, <LDAVI.LDAVI.Document object at 0x7ff620662550>, <LDAVI.LDAVI.Document object at 0x7ff6206625b0>, <LDAVI.LDAVI.Document object at 0x7ff620662610>, <LDAVI.LDAVI.Document object at 0x7ff620662670>, <LDAVI.LDAVI.Document object at 0x7ff6206626d0>, <LDAVI.LDAVI.Document object at 0x7ff620662730>, <LDAVI.LDAVI.Document object at 0x7ff620662790>, <LDAVI.LDAVI.Document object at 0x7ff6206627f0>, <LDAVI.LDAVI.Document object at 0x7ff620662850>, <LDAVI.LDAVI.Document object at 0x7ff6206628b0>, <LDAVI.LDAVI.Document object at 0x7ff620662910>, <LDAVI.LDAVI.Document object at 0x7ff620662970>, <LDAVI.LDAVI.Document object at 0x7ff6206629d0>, <LDAVI.LDAVI.Document object at 0x7ff620662a30>, <LDAVI.LDAVI.Document object at 0x7ff620662a90>, <LDAVI.LDAVI.Document object at 0x7ff620662af0>, <LDAVI.LDAVI.Document object at 0x7ff620662b50>, <LDAVI.LDAVI.Document object at 0x7ff620662bb0>, <LDAVI.LDAVI.Document object at 0x7ff620662c10>, <LDAVI.LDAVI.Document object at 0x7ff620662c70>, <LDAVI.LDAVI.Document object at 0x7ff620662cd0>, <LDAVI.LDAVI.Document object at 0x7ff620662d30>, <LDAVI.LDAVI.Document object at 0x7ff620662d90>, <LDAVI.LDAVI.Document object at 0x7ff620662df0>, <LDAVI.LDAVI.Document object at 0x7ff620662e50>, <LDAVI.LDAVI.Document object at 0x7ff620662eb0>, <LDAVI.LDAVI.Document object at 0x7ff620662f10>, <LDAVI.LDAVI.Document object at 0x7ff620662f70>, <LDAVI.LDAVI.Document object at 0x7ff620662fd0>, <LDAVI.LDAVI.Document object at 0x7ff62067f070>, <LDAVI.LDAVI.Document object at 0x7ff62067f0d0>, <LDAVI.LDAVI.Document object at 0x7ff62067f130>, <LDAVI.LDAVI.Document object at 0x7ff62067f190>, <LDAVI.LDAVI.Document object at 0x7ff62067f1f0>, <LDAVI.LDAVI.Document object at 0x7ff62067f250>, <LDAVI.LDAVI.Document object at 0x7ff62067f2b0>, <LDAVI.LDAVI.Document object at 0x7ff62067f310>, <LDAVI.LDAVI.Document object at 0x7ff62067f370>, <LDAVI.LDAVI.Document object at 0x7ff62067f3d0>, <LDAVI.LDAVI.Document object at 0x7ff62067f430>, <LDAVI.LDAVI.Document object at 0x7ff62067f490>, <LDAVI.LDAVI.Document object at 0x7ff62067f4f0>, <LDAVI.LDAVI.Document object at 0x7ff62067f550>, <LDAVI.LDAVI.Document object at 0x7ff62067f5b0>, <LDAVI.LDAVI.Document object at 0x7ff62067f610>, <LDAVI.LDAVI.Document object at 0x7ff62067f670>, <LDAVI.LDAVI.Document object at 0x7ff62067f6d0>, <LDAVI.LDAVI.Document object at 0x7ff62067f730>, <LDAVI.LDAVI.Document object at 0x7ff62067f790>, <LDAVI.LDAVI.Document object at 0x7ff62067f7f0>, <LDAVI.LDAVI.Document object at 0x7ff62067f850>, <LDAVI.LDAVI.Document object at 0x7ff62067f8b0>, <LDAVI.LDAVI.Document object at 0x7ff62067f910>, <LDAVI.LDAVI.Document object at 0x7ff62067f970>, <LDAVI.LDAVI.Document object at 0x7ff62067f9d0>, <LDAVI.LDAVI.Document object at 0x7ff62067fa30>, <LDAVI.LDAVI.Document object at 0x7ff62067fa90>, <LDAVI.LDAVI.Document object at 0x7ff62067faf0>, <LDAVI.LDAVI.Document object at 0x7ff62067fb50>, <LDAVI.LDAVI.Document object at 0x7ff62067fbb0>, <LDAVI.LDAVI.Document object at 0x7ff62067fc10>, <LDAVI.LDAVI.Document object at 0x7ff62067fc70>, <LDAVI.LDAVI.Document object at 0x7ff62067fcd0>, <LDAVI.LDAVI.Document object at 0x7ff62067fd30>, <LDAVI.LDAVI.Document object at 0x7ff62067fd90>, <LDAVI.LDAVI.Document object at 0x7ff62067fdf0>, <LDAVI.LDAVI.Document object at 0x7ff62067fe50>, <LDAVI.LDAVI.Document object at 0x7ff62067feb0>, <LDAVI.LDAVI.Document object at 0x7ff62067ff10>, <LDAVI.LDAVI.Document object at 0x7ff62067ff70>, <LDAVI.LDAVI.Document object at 0x7ff62067ffd0>, <LDAVI.LDAVI.Document object at 0x7ff681352070>, <LDAVI.LDAVI.Document object at 0x7ff6813520d0>, <LDAVI.LDAVI.Document object at 0x7ff681352130>, <LDAVI.LDAVI.Document object at 0x7ff681352190>, <LDAVI.LDAVI.Document object at 0x7ff6813521f0>, <LDAVI.LDAVI.Document object at 0x7ff681352250>, <LDAVI.LDAVI.Document object at 0x7ff6813522b0>, <LDAVI.LDAVI.Document object at 0x7ff681352310>, <LDAVI.LDAVI.Document object at 0x7ff681352370>, <LDAVI.LDAVI.Document object at 0x7ff6813523d0>, <LDAVI.LDAVI.Document object at 0x7ff681352430>, <LDAVI.LDAVI.Document object at 0x7ff681352490>, <LDAVI.LDAVI.Document object at 0x7ff6813524f0>, <LDAVI.LDAVI.Document object at 0x7ff681352550>, <LDAVI.LDAVI.Document object at 0x7ff6813525b0>, <LDAVI.LDAVI.Document object at 0x7ff681352610>, <LDAVI.LDAVI.Document object at 0x7ff681352670>, <LDAVI.LDAVI.Document object at 0x7ff6813526d0>, <LDAVI.LDAVI.Document object at 0x7ff681352730>, <LDAVI.LDAVI.Document object at 0x7ff681352790>, <LDAVI.LDAVI.Document object at 0x7ff6813527f0>, <LDAVI.LDAVI.Document object at 0x7ff681352850>, <LDAVI.LDAVI.Document object at 0x7ff6813528b0>, <LDAVI.LDAVI.Document object at 0x7ff681352910>, <LDAVI.LDAVI.Document object at 0x7ff681352970>, <LDAVI.LDAVI.Document object at 0x7ff6813529d0>, <LDAVI.LDAVI.Document object at 0x7ff681352a30>, <LDAVI.LDAVI.Document object at 0x7ff681352a90>, <LDAVI.LDAVI.Document object at 0x7ff681352af0>, <LDAVI.LDAVI.Document object at 0x7ff681352b50>, <LDAVI.LDAVI.Document object at 0x7ff681352bb0>, <LDAVI.LDAVI.Document object at 0x7ff681352c10>, <LDAVI.LDAVI.Document object at 0x7ff681352c70>, <LDAVI.LDAVI.Document object at 0x7ff681352cd0>, <LDAVI.LDAVI.Document object at 0x7ff681352d30>, <LDAVI.LDAVI.Document object at 0x7ff681352d90>, <LDAVI.LDAVI.Document object at 0x7ff681352df0>, <LDAVI.LDAVI.Document object at 0x7ff681352e50>, <LDAVI.LDAVI.Document object at 0x7ff681352eb0>, <LDAVI.LDAVI.Document object at 0x7ff681352f10>, <LDAVI.LDAVI.Document object at 0x7ff681352f70>, <LDAVI.LDAVI.Document object at 0x7ff681352fd0>, <LDAVI.LDAVI.Document object at 0x7ff68136d070>, <LDAVI.LDAVI.Document object at 0x7ff68136d0d0>, <LDAVI.LDAVI.Document object at 0x7ff68136d130>, <LDAVI.LDAVI.Document object at 0x7ff68136d190>, <LDAVI.LDAVI.Document object at 0x7ff68136d1f0>, <LDAVI.LDAVI.Document object at 0x7ff68136d250>, <LDAVI.LDAVI.Document object at 0x7ff68136d2b0>, <LDAVI.LDAVI.Document object at 0x7ff68136d310>, <LDAVI.LDAVI.Document object at 0x7ff68136d370>, <LDAVI.LDAVI.Document object at 0x7ff68136d3d0>, <LDAVI.LDAVI.Document object at 0x7ff68136d430>, <LDAVI.LDAVI.Document object at 0x7ff68136d490>, <LDAVI.LDAVI.Document object at 0x7ff68136d4f0>, <LDAVI.LDAVI.Document object at 0x7ff68136d550>, <LDAVI.LDAVI.Document object at 0x7ff68136d5b0>, <LDAVI.LDAVI.Document object at 0x7ff68136d610>, <LDAVI.LDAVI.Document object at 0x7ff68136d670>, <LDAVI.LDAVI.Document object at 0x7ff68136d6d0>, <LDAVI.LDAVI.Document object at 0x7ff68136d730>, <LDAVI.LDAVI.Document object at 0x7ff68136d790>, <LDAVI.LDAVI.Document object at 0x7ff68136d7f0>, <LDAVI.LDAVI.Document object at 0x7ff68136d850>, <LDAVI.LDAVI.Document object at 0x7ff68136d8b0>, <LDAVI.LDAVI.Document object at 0x7ff68136d910>, <LDAVI.LDAVI.Document object at 0x7ff68136d970>, <LDAVI.LDAVI.Document object at 0x7ff68136d9d0>, <LDAVI.LDAVI.Document object at 0x7ff68136da30>, <LDAVI.LDAVI.Document object at 0x7ff68136da90>, <LDAVI.LDAVI.Document object at 0x7ff68136daf0>, <LDAVI.LDAVI.Document object at 0x7ff68136db50>, <LDAVI.LDAVI.Document object at 0x7ff68136dbb0>, <LDAVI.LDAVI.Document object at 0x7ff68136dc10>, <LDAVI.LDAVI.Document object at 0x7ff68136dc70>, <LDAVI.LDAVI.Document object at 0x7ff68136dcd0>, <LDAVI.LDAVI.Document object at 0x7ff68136dd30>, <LDAVI.LDAVI.Document object at 0x7ff68136dd90>, <LDAVI.LDAVI.Document object at 0x7ff68136ddf0>, <LDAVI.LDAVI.Document object at 0x7ff68136de50>, <LDAVI.LDAVI.Document object at 0x7ff68136deb0>, <LDAVI.LDAVI.Document object at 0x7ff68136df10>, <LDAVI.LDAVI.Document object at 0x7ff68136df70>, <LDAVI.LDAVI.Document object at 0x7ff68136dfd0>, <LDAVI.LDAVI.Document object at 0x7ff681398070>, <LDAVI.LDAVI.Document object at 0x7ff6813980d0>, <LDAVI.LDAVI.Document object at 0x7ff681398130>, <LDAVI.LDAVI.Document object at 0x7ff681398190>, <LDAVI.LDAVI.Document object at 0x7ff6813981f0>, <LDAVI.LDAVI.Document object at 0x7ff681398250>, <LDAVI.LDAVI.Document object at 0x7ff6813982b0>, <LDAVI.LDAVI.Document object at 0x7ff681398310>, <LDAVI.LDAVI.Document object at 0x7ff681398370>, <LDAVI.LDAVI.Document object at 0x7ff6813983d0>, <LDAVI.LDAVI.Document object at 0x7ff681398430>, <LDAVI.LDAVI.Document object at 0x7ff681398490>, <LDAVI.LDAVI.Document object at 0x7ff6813984f0>, <LDAVI.LDAVI.Document object at 0x7ff681398550>, <LDAVI.LDAVI.Document object at 0x7ff6813985b0>, <LDAVI.LDAVI.Document object at 0x7ff681398610>, <LDAVI.LDAVI.Document object at 0x7ff681398670>, <LDAVI.LDAVI.Document object at 0x7ff6813986d0>, <LDAVI.LDAVI.Document object at 0x7ff681398730>, <LDAVI.LDAVI.Document object at 0x7ff681398790>, <LDAVI.LDAVI.Document object at 0x7ff6813987f0>, <LDAVI.LDAVI.Document object at 0x7ff681398850>, <LDAVI.LDAVI.Document object at 0x7ff6813988b0>, <LDAVI.LDAVI.Document object at 0x7ff681398910>, <LDAVI.LDAVI.Document object at 0x7ff681398970>, <LDAVI.LDAVI.Document object at 0x7ff6813989d0>, <LDAVI.LDAVI.Document object at 0x7ff681398a30>, <LDAVI.LDAVI.Document object at 0x7ff681398a90>, <LDAVI.LDAVI.Document object at 0x7ff681398af0>, <LDAVI.LDAVI.Document object at 0x7ff681398b50>, <LDAVI.LDAVI.Document object at 0x7ff681398bb0>, <LDAVI.LDAVI.Document object at 0x7ff681398c10>, <LDAVI.LDAVI.Document object at 0x7ff681398c70>, <LDAVI.LDAVI.Document object at 0x7ff681398cd0>, <LDAVI.LDAVI.Document object at 0x7ff681398d30>, <LDAVI.LDAVI.Document object at 0x7ff681398d90>, <LDAVI.LDAVI.Document object at 0x7ff681398df0>, <LDAVI.LDAVI.Document object at 0x7ff681398e50>, <LDAVI.LDAVI.Document object at 0x7ff681398eb0>, <LDAVI.LDAVI.Document object at 0x7ff681398f10>, <LDAVI.LDAVI.Document object at 0x7ff681398f70>, <LDAVI.LDAVI.Document object at 0x7ff681398fd0>, <LDAVI.LDAVI.Document object at 0x7ff6813bd070>, <LDAVI.LDAVI.Document object at 0x7ff6813bd0d0>, <LDAVI.LDAVI.Document object at 0x7ff6813bd130>, <LDAVI.LDAVI.Document object at 0x7ff6813bd190>, <LDAVI.LDAVI.Document object at 0x7ff6813bd1f0>, <LDAVI.LDAVI.Document object at 0x7ff6813bd250>, <LDAVI.LDAVI.Document object at 0x7ff6813bd2b0>, <LDAVI.LDAVI.Document object at 0x7ff6813bd310>, <LDAVI.LDAVI.Document object at 0x7ff6813bd370>, <LDAVI.LDAVI.Document object at 0x7ff6813bd3d0>, <LDAVI.LDAVI.Document object at 0x7ff6813bd430>, <LDAVI.LDAVI.Document object at 0x7ff6813bd490>, <LDAVI.LDAVI.Document object at 0x7ff6813bd4f0>, <LDAVI.LDAVI.Document object at 0x7ff6813bd550>, <LDAVI.LDAVI.Document object at 0x7ff6813bd5b0>, <LDAVI.LDAVI.Document object at 0x7ff6813bd610>, <LDAVI.LDAVI.Document object at 0x7ff6813bd670>, <LDAVI.LDAVI.Document object at 0x7ff6813bd6d0>, <LDAVI.LDAVI.Document object at 0x7ff6813bd730>, <LDAVI.LDAVI.Document object at 0x7ff6813bd790>, <LDAVI.LDAVI.Document object at 0x7ff6813bd7f0>, <LDAVI.LDAVI.Document object at 0x7ff6813bd850>, <LDAVI.LDAVI.Document object at 0x7ff6813bd8b0>, <LDAVI.LDAVI.Document object at 0x7ff6813bd910>, <LDAVI.LDAVI.Document object at 0x7ff6813bd970>, <LDAVI.LDAVI.Document object at 0x7ff6813bd9d0>, <LDAVI.LDAVI.Document object at 0x7ff6813bda30>, <LDAVI.LDAVI.Document object at 0x7ff6813bda90>, <LDAVI.LDAVI.Document object at 0x7ff6813bdaf0>, <LDAVI.LDAVI.Document object at 0x7ff6813bdb50>, <LDAVI.LDAVI.Document object at 0x7ff6813bdbb0>, <LDAVI.LDAVI.Document object at 0x7ff6813bdc10>, <LDAVI.LDAVI.Document object at 0x7ff6813bdc70>, <LDAVI.LDAVI.Document object at 0x7ff6813bdcd0>, <LDAVI.LDAVI.Document object at 0x7ff6813bdd30>, <LDAVI.LDAVI.Document object at 0x7ff6813bdd90>, <LDAVI.LDAVI.Document object at 0x7ff6813bddf0>, <LDAVI.LDAVI.Document object at 0x7ff6813bde50>, <LDAVI.LDAVI.Document object at 0x7ff6813bdeb0>, <LDAVI.LDAVI.Document object at 0x7ff6813bdf10>, <LDAVI.LDAVI.Document object at 0x7ff6813bdf70>, <LDAVI.LDAVI.Document object at 0x7ff6813bdfd0>, <LDAVI.LDAVI.Document object at 0x7ff6813e7070>, <LDAVI.LDAVI.Document object at 0x7ff6813e70d0>, <LDAVI.LDAVI.Document object at 0x7ff6813e7130>, <LDAVI.LDAVI.Document object at 0x7ff6813e7190>, <LDAVI.LDAVI.Document object at 0x7ff6813e71f0>, <LDAVI.LDAVI.Document object at 0x7ff6813e7250>, <LDAVI.LDAVI.Document object at 0x7ff6813e72b0>, <LDAVI.LDAVI.Document object at 0x7ff6813e7310>, <LDAVI.LDAVI.Document object at 0x7ff6813e7370>, <LDAVI.LDAVI.Document object at 0x7ff6813e73d0>, <LDAVI.LDAVI.Document object at 0x7ff6813e7430>, <LDAVI.LDAVI.Document object at 0x7ff6813e7490>, <LDAVI.LDAVI.Document object at 0x7ff6813e74f0>, <LDAVI.LDAVI.Document object at 0x7ff6813e7550>, <LDAVI.LDAVI.Document object at 0x7ff6813e75b0>, <LDAVI.LDAVI.Document object at 0x7ff6813e7610>, <LDAVI.LDAVI.Document object at 0x7ff6813e7670>, <LDAVI.LDAVI.Document object at 0x7ff6813e76d0>, <LDAVI.LDAVI.Document object at 0x7ff6813e7730>, <LDAVI.LDAVI.Document object at 0x7ff6813e7790>, <LDAVI.LDAVI.Document object at 0x7ff6813e77f0>, <LDAVI.LDAVI.Document object at 0x7ff6813e7850>, <LDAVI.LDAVI.Document object at 0x7ff6813e78b0>, <LDAVI.LDAVI.Document object at 0x7ff6813e7910>, <LDAVI.LDAVI.Document object at 0x7ff6813e7970>, <LDAVI.LDAVI.Document object at 0x7ff6813e79d0>, <LDAVI.LDAVI.Document object at 0x7ff6813e7a30>, <LDAVI.LDAVI.Document object at 0x7ff6813e7a90>, <LDAVI.LDAVI.Document object at 0x7ff6813e7af0>, <LDAVI.LDAVI.Document object at 0x7ff6813e7b50>, <LDAVI.LDAVI.Document object at 0x7ff6813e7bb0>, <LDAVI.LDAVI.Document object at 0x7ff6813e7c10>, <LDAVI.LDAVI.Document object at 0x7ff6813e7c70>, <LDAVI.LDAVI.Document object at 0x7ff6813e7cd0>, <LDAVI.LDAVI.Document object at 0x7ff6813e7d30>, <LDAVI.LDAVI.Document object at 0x7ff6813e7d90>, <LDAVI.LDAVI.Document object at 0x7ff6813e7df0>, <LDAVI.LDAVI.Document object at 0x7ff6813e7e50>, <LDAVI.LDAVI.Document object at 0x7ff6813e7eb0>, <LDAVI.LDAVI.Document object at 0x7ff6813e7f10>, <LDAVI.LDAVI.Document object at 0x7ff6813e7f70>, <LDAVI.LDAVI.Document object at 0x7ff6813e7fd0>, <LDAVI.LDAVI.Document object at 0x7ff630389070>, <LDAVI.LDAVI.Document object at 0x7ff6303890d0>, <LDAVI.LDAVI.Document object at 0x7ff630389130>, <LDAVI.LDAVI.Document object at 0x7ff630389190>, <LDAVI.LDAVI.Document object at 0x7ff6303891f0>, <LDAVI.LDAVI.Document object at 0x7ff630389250>, <LDAVI.LDAVI.Document object at 0x7ff6303892b0>, <LDAVI.LDAVI.Document object at 0x7ff630389310>, <LDAVI.LDAVI.Document object at 0x7ff630389370>, <LDAVI.LDAVI.Document object at 0x7ff6303893d0>, <LDAVI.LDAVI.Document object at 0x7ff630389430>, <LDAVI.LDAVI.Document object at 0x7ff630389490>, <LDAVI.LDAVI.Document object at 0x7ff6303894f0>, <LDAVI.LDAVI.Document object at 0x7ff630389550>, <LDAVI.LDAVI.Document object at 0x7ff6303895b0>, <LDAVI.LDAVI.Document object at 0x7ff630389610>, <LDAVI.LDAVI.Document object at 0x7ff630389670>, <LDAVI.LDAVI.Document object at 0x7ff6303896d0>, <LDAVI.LDAVI.Document object at 0x7ff630389730>, <LDAVI.LDAVI.Document object at 0x7ff630389790>, <LDAVI.LDAVI.Document object at 0x7ff6303897f0>, <LDAVI.LDAVI.Document object at 0x7ff630389850>, <LDAVI.LDAVI.Document object at 0x7ff6303898b0>, <LDAVI.LDAVI.Document object at 0x7ff630389910>, <LDAVI.LDAVI.Document object at 0x7ff630389970>, <LDAVI.LDAVI.Document object at 0x7ff6303899d0>, <LDAVI.LDAVI.Document object at 0x7ff630389a30>, <LDAVI.LDAVI.Document object at 0x7ff630389a90>, <LDAVI.LDAVI.Document object at 0x7ff630389af0>, <LDAVI.LDAVI.Document object at 0x7ff630389b50>, <LDAVI.LDAVI.Document object at 0x7ff630389bb0>, <LDAVI.LDAVI.Document object at 0x7ff630389c10>, <LDAVI.LDAVI.Document object at 0x7ff630389c70>, <LDAVI.LDAVI.Document object at 0x7ff630389cd0>, <LDAVI.LDAVI.Document object at 0x7ff630389d30>, <LDAVI.LDAVI.Document object at 0x7ff630389d90>, <LDAVI.LDAVI.Document object at 0x7ff630389df0>, <LDAVI.LDAVI.Document object at 0x7ff630389e50>, <LDAVI.LDAVI.Document object at 0x7ff630389eb0>, <LDAVI.LDAVI.Document object at 0x7ff630389f10>, <LDAVI.LDAVI.Document object at 0x7ff630389f70>, <LDAVI.LDAVI.Document object at 0x7ff630389fd0>, <LDAVI.LDAVI.Document object at 0x7ff620688070>, <LDAVI.LDAVI.Document object at 0x7ff6206880d0>, <LDAVI.LDAVI.Document object at 0x7ff620688130>, <LDAVI.LDAVI.Document object at 0x7ff620688190>, <LDAVI.LDAVI.Document object at 0x7ff6206881f0>, <LDAVI.LDAVI.Document object at 0x7ff620688250>, <LDAVI.LDAVI.Document object at 0x7ff6206882b0>, <LDAVI.LDAVI.Document object at 0x7ff620688310>, <LDAVI.LDAVI.Document object at 0x7ff620688370>, <LDAVI.LDAVI.Document object at 0x7ff6206883d0>, <LDAVI.LDAVI.Document object at 0x7ff620688430>, <LDAVI.LDAVI.Document object at 0x7ff620688490>, <LDAVI.LDAVI.Document object at 0x7ff6206884f0>, <LDAVI.LDAVI.Document object at 0x7ff620688550>, <LDAVI.LDAVI.Document object at 0x7ff6206885b0>, <LDAVI.LDAVI.Document object at 0x7ff620688610>, <LDAVI.LDAVI.Document object at 0x7ff620688670>, <LDAVI.LDAVI.Document object at 0x7ff6206886d0>, <LDAVI.LDAVI.Document object at 0x7ff620688730>, <LDAVI.LDAVI.Document object at 0x7ff620688790>, <LDAVI.LDAVI.Document object at 0x7ff6206887f0>, <LDAVI.LDAVI.Document object at 0x7ff620688850>, <LDAVI.LDAVI.Document object at 0x7ff6206888b0>, <LDAVI.LDAVI.Document object at 0x7ff620688910>, <LDAVI.LDAVI.Document object at 0x7ff620688970>, <LDAVI.LDAVI.Document object at 0x7ff6206889d0>, <LDAVI.LDAVI.Document object at 0x7ff620688a30>, <LDAVI.LDAVI.Document object at 0x7ff620688a90>, <LDAVI.LDAVI.Document object at 0x7ff620688af0>, <LDAVI.LDAVI.Document object at 0x7ff620688b50>, <LDAVI.LDAVI.Document object at 0x7ff620688bb0>, <LDAVI.LDAVI.Document object at 0x7ff620688c10>, <LDAVI.LDAVI.Document object at 0x7ff620688c70>, <LDAVI.LDAVI.Document object at 0x7ff620688cd0>, <LDAVI.LDAVI.Document object at 0x7ff620688d30>, <LDAVI.LDAVI.Document object at 0x7ff620688d90>, <LDAVI.LDAVI.Document object at 0x7ff620688df0>, <LDAVI.LDAVI.Document object at 0x7ff620688e50>, <LDAVI.LDAVI.Document object at 0x7ff620688eb0>, <LDAVI.LDAVI.Document object at 0x7ff620688f10>, <LDAVI.LDAVI.Document object at 0x7ff620688f70>, <LDAVI.LDAVI.Document object at 0x7ff620688fd0>, <LDAVI.LDAVI.Document object at 0x7ff6206b4070>, <LDAVI.LDAVI.Document object at 0x7ff6206b40d0>, <LDAVI.LDAVI.Document object at 0x7ff6206b4130>, <LDAVI.LDAVI.Document object at 0x7ff6206b4190>, <LDAVI.LDAVI.Document object at 0x7ff6206b41f0>, <LDAVI.LDAVI.Document object at 0x7ff6206b4250>, <LDAVI.LDAVI.Document object at 0x7ff6206b42b0>, <LDAVI.LDAVI.Document object at 0x7ff6206b4310>, <LDAVI.LDAVI.Document object at 0x7ff6206b4370>, <LDAVI.LDAVI.Document object at 0x7ff6206b43d0>, <LDAVI.LDAVI.Document object at 0x7ff6206b4430>, <LDAVI.LDAVI.Document object at 0x7ff6206b4490>, <LDAVI.LDAVI.Document object at 0x7ff6206b44f0>, <LDAVI.LDAVI.Document object at 0x7ff6206b4550>, <LDAVI.LDAVI.Document object at 0x7ff6206b45b0>, <LDAVI.LDAVI.Document object at 0x7ff6206b4610>, <LDAVI.LDAVI.Document object at 0x7ff6206b4670>, <LDAVI.LDAVI.Document object at 0x7ff6206b46d0>, <LDAVI.LDAVI.Document object at 0x7ff6206b4730>, <LDAVI.LDAVI.Document object at 0x7ff6206b4790>, <LDAVI.LDAVI.Document object at 0x7ff6206b47f0>, <LDAVI.LDAVI.Document object at 0x7ff6206b4850>, <LDAVI.LDAVI.Document object at 0x7ff6206b48b0>, <LDAVI.LDAVI.Document object at 0x7ff6206b4910>, <LDAVI.LDAVI.Document object at 0x7ff6206b4970>, <LDAVI.LDAVI.Document object at 0x7ff6206b49d0>, <LDAVI.LDAVI.Document object at 0x7ff6206b4a30>, <LDAVI.LDAVI.Document object at 0x7ff6206b4a90>, <LDAVI.LDAVI.Document object at 0x7ff6206b4af0>, <LDAVI.LDAVI.Document object at 0x7ff6206b4b50>, <LDAVI.LDAVI.Document object at 0x7ff6206b4bb0>, <LDAVI.LDAVI.Document object at 0x7ff6206b4c10>, <LDAVI.LDAVI.Document object at 0x7ff6206b4c70>, <LDAVI.LDAVI.Document object at 0x7ff6206b4cd0>, <LDAVI.LDAVI.Document object at 0x7ff6206b4d30>, <LDAVI.LDAVI.Document object at 0x7ff6206b4d90>, <LDAVI.LDAVI.Document object at 0x7ff6206b4df0>, <LDAVI.LDAVI.Document object at 0x7ff6206b4e50>, <LDAVI.LDAVI.Document object at 0x7ff6206b4eb0>, <LDAVI.LDAVI.Document object at 0x7ff6206b4f10>, <LDAVI.LDAVI.Document object at 0x7ff6206b4f70>, <LDAVI.LDAVI.Document object at 0x7ff6206b4fd0>, <LDAVI.LDAVI.Document object at 0x7ff65077e070>, <LDAVI.LDAVI.Document object at 0x7ff65077e0d0>, <LDAVI.LDAVI.Document object at 0x7ff65077e130>, <LDAVI.LDAVI.Document object at 0x7ff65077e190>, <LDAVI.LDAVI.Document object at 0x7ff65077e1f0>, <LDAVI.LDAVI.Document object at 0x7ff65077e250>, <LDAVI.LDAVI.Document object at 0x7ff65077e2b0>, <LDAVI.LDAVI.Document object at 0x7ff65077e310>, <LDAVI.LDAVI.Document object at 0x7ff65077e370>, <LDAVI.LDAVI.Document object at 0x7ff65077e3d0>, <LDAVI.LDAVI.Document object at 0x7ff65077e430>, <LDAVI.LDAVI.Document object at 0x7ff65077e490>, <LDAVI.LDAVI.Document object at 0x7ff65077e4f0>, <LDAVI.LDAVI.Document object at 0x7ff65077e550>, <LDAVI.LDAVI.Document object at 0x7ff65077e5b0>, <LDAVI.LDAVI.Document object at 0x7ff65077e610>, <LDAVI.LDAVI.Document object at 0x7ff65077e670>, <LDAVI.LDAVI.Document object at 0x7ff65077e6d0>, <LDAVI.LDAVI.Document object at 0x7ff65077e730>, <LDAVI.LDAVI.Document object at 0x7ff65077e790>, <LDAVI.LDAVI.Document object at 0x7ff65077e7f0>, <LDAVI.LDAVI.Document object at 0x7ff65077e850>, <LDAVI.LDAVI.Document object at 0x7ff65077e8b0>, <LDAVI.LDAVI.Document object at 0x7ff65077e910>, <LDAVI.LDAVI.Document object at 0x7ff65077e970>, <LDAVI.LDAVI.Document object at 0x7ff65077e9d0>, <LDAVI.LDAVI.Document object at 0x7ff65077ea30>, <LDAVI.LDAVI.Document object at 0x7ff65077ea90>, <LDAVI.LDAVI.Document object at 0x7ff65077eaf0>, <LDAVI.LDAVI.Document object at 0x7ff65077eb50>, <LDAVI.LDAVI.Document object at 0x7ff65077ebb0>, <LDAVI.LDAVI.Document object at 0x7ff65077ec10>, <LDAVI.LDAVI.Document object at 0x7ff65077ec70>, <LDAVI.LDAVI.Document object at 0x7ff65077ecd0>, <LDAVI.LDAVI.Document object at 0x7ff65077ed30>, <LDAVI.LDAVI.Document object at 0x7ff65077ed90>, <LDAVI.LDAVI.Document object at 0x7ff65077edf0>, <LDAVI.LDAVI.Document object at 0x7ff65077ee50>, <LDAVI.LDAVI.Document object at 0x7ff65077eeb0>, <LDAVI.LDAVI.Document object at 0x7ff65077ef10>, <LDAVI.LDAVI.Document object at 0x7ff65077ef70>, <LDAVI.LDAVI.Document object at 0x7ff65077efd0>, <LDAVI.LDAVI.Document object at 0x7ff65079f070>, <LDAVI.LDAVI.Document object at 0x7ff65079f0d0>, <LDAVI.LDAVI.Document object at 0x7ff65079f130>, <LDAVI.LDAVI.Document object at 0x7ff65079f190>, <LDAVI.LDAVI.Document object at 0x7ff65079f1f0>, <LDAVI.LDAVI.Document object at 0x7ff65079f250>, <LDAVI.LDAVI.Document object at 0x7ff65079f2b0>, <LDAVI.LDAVI.Document object at 0x7ff65079f310>, <LDAVI.LDAVI.Document object at 0x7ff65079f370>, <LDAVI.LDAVI.Document object at 0x7ff65079f3d0>, <LDAVI.LDAVI.Document object at 0x7ff65079f430>, <LDAVI.LDAVI.Document object at 0x7ff65079f490>, <LDAVI.LDAVI.Document object at 0x7ff65079f4f0>, <LDAVI.LDAVI.Document object at 0x7ff65079f550>, <LDAVI.LDAVI.Document object at 0x7ff65079f5b0>, <LDAVI.LDAVI.Document object at 0x7ff65079f610>, <LDAVI.LDAVI.Document object at 0x7ff65079f670>, <LDAVI.LDAVI.Document object at 0x7ff65079f6d0>, <LDAVI.LDAVI.Document object at 0x7ff65079f730>, <LDAVI.LDAVI.Document object at 0x7ff65079f790>, <LDAVI.LDAVI.Document object at 0x7ff65079f7f0>, <LDAVI.LDAVI.Document object at 0x7ff65079f850>, <LDAVI.LDAVI.Document object at 0x7ff65079f8b0>, <LDAVI.LDAVI.Document object at 0x7ff65079f910>, <LDAVI.LDAVI.Document object at 0x7ff65079f970>, <LDAVI.LDAVI.Document object at 0x7ff65079f9d0>, <LDAVI.LDAVI.Document object at 0x7ff65079fa30>, <LDAVI.LDAVI.Document object at 0x7ff65079fa90>, <LDAVI.LDAVI.Document object at 0x7ff65079faf0>, <LDAVI.LDAVI.Document object at 0x7ff65079fb50>, <LDAVI.LDAVI.Document object at 0x7ff65079fbb0>, <LDAVI.LDAVI.Document object at 0x7ff65079fc10>, <LDAVI.LDAVI.Document object at 0x7ff65079fc70>, <LDAVI.LDAVI.Document object at 0x7ff65079fcd0>, <LDAVI.LDAVI.Document object at 0x7ff65079fd30>, <LDAVI.LDAVI.Document object at 0x7ff65079fd90>, <LDAVI.LDAVI.Document object at 0x7ff65079fdf0>, <LDAVI.LDAVI.Document object at 0x7ff65079fe50>, <LDAVI.LDAVI.Document object at 0x7ff65079feb0>, <LDAVI.LDAVI.Document object at 0x7ff65079ff10>, <LDAVI.LDAVI.Document object at 0x7ff65079ff70>, <LDAVI.LDAVI.Document object at 0x7ff65079ffd0>, <LDAVI.LDAVI.Document object at 0x7ff6507c2070>, <LDAVI.LDAVI.Document object at 0x7ff6507c20d0>, <LDAVI.LDAVI.Document object at 0x7ff6507c2130>, <LDAVI.LDAVI.Document object at 0x7ff6507c2190>, <LDAVI.LDAVI.Document object at 0x7ff6507c21f0>, <LDAVI.LDAVI.Document object at 0x7ff6507c2250>, <LDAVI.LDAVI.Document object at 0x7ff6507c22b0>, <LDAVI.LDAVI.Document object at 0x7ff6507c2310>, <LDAVI.LDAVI.Document object at 0x7ff6507c2370>, <LDAVI.LDAVI.Document object at 0x7ff6507c23d0>, <LDAVI.LDAVI.Document object at 0x7ff6507c2430>, <LDAVI.LDAVI.Document object at 0x7ff6507c2490>, <LDAVI.LDAVI.Document object at 0x7ff6507c24f0>, <LDAVI.LDAVI.Document object at 0x7ff6507c2550>, <LDAVI.LDAVI.Document object at 0x7ff6507c25b0>, <LDAVI.LDAVI.Document object at 0x7ff6507c2610>, <LDAVI.LDAVI.Document object at 0x7ff6507c2670>, <LDAVI.LDAVI.Document object at 0x7ff6507c26d0>, <LDAVI.LDAVI.Document object at 0x7ff6507c2730>, <LDAVI.LDAVI.Document object at 0x7ff6507c2790>, <LDAVI.LDAVI.Document object at 0x7ff6507c27f0>, <LDAVI.LDAVI.Document object at 0x7ff6507c2850>, <LDAVI.LDAVI.Document object at 0x7ff6507c28b0>, <LDAVI.LDAVI.Document object at 0x7ff6507c2910>, <LDAVI.LDAVI.Document object at 0x7ff6507c2970>, <LDAVI.LDAVI.Document object at 0x7ff6507c29d0>, <LDAVI.LDAVI.Document object at 0x7ff6507c2a30>, <LDAVI.LDAVI.Document object at 0x7ff6507c2a90>, <LDAVI.LDAVI.Document object at 0x7ff6507c2af0>, <LDAVI.LDAVI.Document object at 0x7ff6507c2b50>, <LDAVI.LDAVI.Document object at 0x7ff6507c2bb0>, <LDAVI.LDAVI.Document object at 0x7ff6507c2c10>, <LDAVI.LDAVI.Document object at 0x7ff6507c2c70>, <LDAVI.LDAVI.Document object at 0x7ff6507c2cd0>, <LDAVI.LDAVI.Document object at 0x7ff6507c2d30>, <LDAVI.LDAVI.Document object at 0x7ff6507c2d90>, <LDAVI.LDAVI.Document object at 0x7ff6507c2df0>, <LDAVI.LDAVI.Document object at 0x7ff6507c2e50>, <LDAVI.LDAVI.Document object at 0x7ff6507c2eb0>, <LDAVI.LDAVI.Document object at 0x7ff6507c2f10>, <LDAVI.LDAVI.Document object at 0x7ff6507c2f70>, <LDAVI.LDAVI.Document object at 0x7ff6507c2fd0>, <LDAVI.LDAVI.Document object at 0x7ff6507ef070>, <LDAVI.LDAVI.Document object at 0x7ff6507ef0d0>, <LDAVI.LDAVI.Document object at 0x7ff6507ef130>, <LDAVI.LDAVI.Document object at 0x7ff6507ef190>, <LDAVI.LDAVI.Document object at 0x7ff6507ef1f0>, <LDAVI.LDAVI.Document object at 0x7ff6507ef250>, <LDAVI.LDAVI.Document object at 0x7ff6507ef2b0>, <LDAVI.LDAVI.Document object at 0x7ff6507ef310>, <LDAVI.LDAVI.Document object at 0x7ff6507ef370>, <LDAVI.LDAVI.Document object at 0x7ff6507ef3d0>, <LDAVI.LDAVI.Document object at 0x7ff6507ef430>, <LDAVI.LDAVI.Document object at 0x7ff6507ef490>, <LDAVI.LDAVI.Document object at 0x7ff6507ef4f0>, <LDAVI.LDAVI.Document object at 0x7ff6507ef550>, <LDAVI.LDAVI.Document object at 0x7ff6507ef5b0>, <LDAVI.LDAVI.Document object at 0x7ff6507ef610>, <LDAVI.LDAVI.Document object at 0x7ff6507ef670>, <LDAVI.LDAVI.Document object at 0x7ff6507ef6d0>, <LDAVI.LDAVI.Document object at 0x7ff6507ef730>, <LDAVI.LDAVI.Document object at 0x7ff6507ef790>, <LDAVI.LDAVI.Document object at 0x7ff6507ef7f0>, <LDAVI.LDAVI.Document object at 0x7ff6507ef850>, <LDAVI.LDAVI.Document object at 0x7ff6507ef8b0>, <LDAVI.LDAVI.Document object at 0x7ff6507ef910>, <LDAVI.LDAVI.Document object at 0x7ff6507ef970>, <LDAVI.LDAVI.Document object at 0x7ff6507ef9d0>, <LDAVI.LDAVI.Document object at 0x7ff6507efa30>, <LDAVI.LDAVI.Document object at 0x7ff6507efa90>, <LDAVI.LDAVI.Document object at 0x7ff6507efaf0>, <LDAVI.LDAVI.Document object at 0x7ff6507efb50>, <LDAVI.LDAVI.Document object at 0x7ff6507efbb0>, <LDAVI.LDAVI.Document object at 0x7ff6507efc10>, <LDAVI.LDAVI.Document object at 0x7ff6507efc70>, <LDAVI.LDAVI.Document object at 0x7ff6507efcd0>, <LDAVI.LDAVI.Document object at 0x7ff6507efd30>, <LDAVI.LDAVI.Document object at 0x7ff6507efd90>, <LDAVI.LDAVI.Document object at 0x7ff6507efdf0>, <LDAVI.LDAVI.Document object at 0x7ff6507efe50>, <LDAVI.LDAVI.Document object at 0x7ff6507efeb0>, <LDAVI.LDAVI.Document object at 0x7ff6507eff10>, <LDAVI.LDAVI.Document object at 0x7ff6507eff70>, <LDAVI.LDAVI.Document object at 0x7ff6507effd0>, <LDAVI.LDAVI.Document object at 0x7ff650816070>, <LDAVI.LDAVI.Document object at 0x7ff6508160d0>, <LDAVI.LDAVI.Document object at 0x7ff650816130>, <LDAVI.LDAVI.Document object at 0x7ff650816190>, <LDAVI.LDAVI.Document object at 0x7ff6508161f0>, <LDAVI.LDAVI.Document object at 0x7ff650816250>, <LDAVI.LDAVI.Document object at 0x7ff6508162b0>, <LDAVI.LDAVI.Document object at 0x7ff650816310>, <LDAVI.LDAVI.Document object at 0x7ff650816370>, <LDAVI.LDAVI.Document object at 0x7ff6508163d0>, <LDAVI.LDAVI.Document object at 0x7ff650816430>, <LDAVI.LDAVI.Document object at 0x7ff650816490>, <LDAVI.LDAVI.Document object at 0x7ff6508164f0>, <LDAVI.LDAVI.Document object at 0x7ff650816550>, <LDAVI.LDAVI.Document object at 0x7ff6508165b0>, <LDAVI.LDAVI.Document object at 0x7ff650816610>, <LDAVI.LDAVI.Document object at 0x7ff650816670>, <LDAVI.LDAVI.Document object at 0x7ff6508166d0>, <LDAVI.LDAVI.Document object at 0x7ff650816730>, <LDAVI.LDAVI.Document object at 0x7ff650816790>, <LDAVI.LDAVI.Document object at 0x7ff6508167f0>, <LDAVI.LDAVI.Document object at 0x7ff650816850>, <LDAVI.LDAVI.Document object at 0x7ff6508168b0>, <LDAVI.LDAVI.Document object at 0x7ff650816910>, <LDAVI.LDAVI.Document object at 0x7ff650816970>, <LDAVI.LDAVI.Document object at 0x7ff6508169d0>, <LDAVI.LDAVI.Document object at 0x7ff650816a30>, <LDAVI.LDAVI.Document object at 0x7ff650816a90>, <LDAVI.LDAVI.Document object at 0x7ff650816af0>, <LDAVI.LDAVI.Document object at 0x7ff650816b50>, <LDAVI.LDAVI.Document object at 0x7ff650816bb0>, <LDAVI.LDAVI.Document object at 0x7ff650816c10>, <LDAVI.LDAVI.Document object at 0x7ff650816c70>, <LDAVI.LDAVI.Document object at 0x7ff650816cd0>, <LDAVI.LDAVI.Document object at 0x7ff650816d30>, <LDAVI.LDAVI.Document object at 0x7ff650816d90>, <LDAVI.LDAVI.Document object at 0x7ff650816df0>, <LDAVI.LDAVI.Document object at 0x7ff650816e50>, <LDAVI.LDAVI.Document object at 0x7ff650816eb0>, <LDAVI.LDAVI.Document object at 0x7ff650816f10>, <LDAVI.LDAVI.Document object at 0x7ff650816f70>, <LDAVI.LDAVI.Document object at 0x7ff650816fd0>, <LDAVI.LDAVI.Document object at 0x7ff65083d070>, <LDAVI.LDAVI.Document object at 0x7ff65083d0d0>, <LDAVI.LDAVI.Document object at 0x7ff65083d130>, <LDAVI.LDAVI.Document object at 0x7ff65083d190>, <LDAVI.LDAVI.Document object at 0x7ff65083d1f0>, <LDAVI.LDAVI.Document object at 0x7ff65083d250>, <LDAVI.LDAVI.Document object at 0x7ff65083d2b0>, <LDAVI.LDAVI.Document object at 0x7ff65083d310>, <LDAVI.LDAVI.Document object at 0x7ff65083d370>, <LDAVI.LDAVI.Document object at 0x7ff65083d3d0>, <LDAVI.LDAVI.Document object at 0x7ff65083d430>, <LDAVI.LDAVI.Document object at 0x7ff65083d490>, <LDAVI.LDAVI.Document object at 0x7ff65083d4f0>, <LDAVI.LDAVI.Document object at 0x7ff65083d550>, <LDAVI.LDAVI.Document object at 0x7ff65083d5b0>, <LDAVI.LDAVI.Document object at 0x7ff65083d610>, <LDAVI.LDAVI.Document object at 0x7ff65083d670>, <LDAVI.LDAVI.Document object at 0x7ff65083d6d0>, <LDAVI.LDAVI.Document object at 0x7ff65083d730>, <LDAVI.LDAVI.Document object at 0x7ff65083d790>, <LDAVI.LDAVI.Document object at 0x7ff65083d7f0>, <LDAVI.LDAVI.Document object at 0x7ff65083d850>, <LDAVI.LDAVI.Document object at 0x7ff65083d8b0>, <LDAVI.LDAVI.Document object at 0x7ff65083d910>, <LDAVI.LDAVI.Document object at 0x7ff65083d970>, <LDAVI.LDAVI.Document object at 0x7ff65083d9d0>, <LDAVI.LDAVI.Document object at 0x7ff65083da30>, <LDAVI.LDAVI.Document object at 0x7ff65083da90>, <LDAVI.LDAVI.Document object at 0x7ff65083daf0>, <LDAVI.LDAVI.Document object at 0x7ff65083db50>, <LDAVI.LDAVI.Document object at 0x7ff65083dbb0>, <LDAVI.LDAVI.Document object at 0x7ff65083dc10>, <LDAVI.LDAVI.Document object at 0x7ff65083dc70>, <LDAVI.LDAVI.Document object at 0x7ff65083dcd0>, <LDAVI.LDAVI.Document object at 0x7ff65083dd30>, <LDAVI.LDAVI.Document object at 0x7ff65083dd90>, <LDAVI.LDAVI.Document object at 0x7ff65083ddf0>, <LDAVI.LDAVI.Document object at 0x7ff65083de50>, <LDAVI.LDAVI.Document object at 0x7ff65083deb0>, <LDAVI.LDAVI.Document object at 0x7ff65083df10>, <LDAVI.LDAVI.Document object at 0x7ff65083df70>, <LDAVI.LDAVI.Document object at 0x7ff65083dfd0>, <LDAVI.LDAVI.Document object at 0x7ff6206c8070>, <LDAVI.LDAVI.Document object at 0x7ff6206c80d0>, <LDAVI.LDAVI.Document object at 0x7ff6206c8130>, <LDAVI.LDAVI.Document object at 0x7ff6206c8190>, <LDAVI.LDAVI.Document object at 0x7ff6206c81f0>, <LDAVI.LDAVI.Document object at 0x7ff6206c8250>, <LDAVI.LDAVI.Document object at 0x7ff6206c82b0>, <LDAVI.LDAVI.Document object at 0x7ff6206c8310>, <LDAVI.LDAVI.Document object at 0x7ff6206c8370>, <LDAVI.LDAVI.Document object at 0x7ff6206c83d0>, <LDAVI.LDAVI.Document object at 0x7ff6206c8430>, <LDAVI.LDAVI.Document object at 0x7ff6206c8490>, <LDAVI.LDAVI.Document object at 0x7ff6206c84f0>, <LDAVI.LDAVI.Document object at 0x7ff6206c8550>, <LDAVI.LDAVI.Document object at 0x7ff6206c85b0>, <LDAVI.LDAVI.Document object at 0x7ff6206c8610>, <LDAVI.LDAVI.Document object at 0x7ff6206c8670>, <LDAVI.LDAVI.Document object at 0x7ff6206c86d0>, <LDAVI.LDAVI.Document object at 0x7ff6206c8730>, <LDAVI.LDAVI.Document object at 0x7ff6206c8790>, <LDAVI.LDAVI.Document object at 0x7ff6206c87f0>, <LDAVI.LDAVI.Document object at 0x7ff6206c8850>, <LDAVI.LDAVI.Document object at 0x7ff6206c88b0>, <LDAVI.LDAVI.Document object at 0x7ff6206c8910>, <LDAVI.LDAVI.Document object at 0x7ff6206c8970>, <LDAVI.LDAVI.Document object at 0x7ff6206c89d0>, <LDAVI.LDAVI.Document object at 0x7ff6206c8a30>, <LDAVI.LDAVI.Document object at 0x7ff6206c8a90>, <LDAVI.LDAVI.Document object at 0x7ff6206c8af0>, <LDAVI.LDAVI.Document object at 0x7ff6206c8b50>, <LDAVI.LDAVI.Document object at 0x7ff6206c8bb0>, <LDAVI.LDAVI.Document object at 0x7ff6206c8c10>, <LDAVI.LDAVI.Document object at 0x7ff6206c8c70>, <LDAVI.LDAVI.Document object at 0x7ff6206c8cd0>, <LDAVI.LDAVI.Document object at 0x7ff6206c8d30>, <LDAVI.LDAVI.Document object at 0x7ff6206c8d90>, <LDAVI.LDAVI.Document object at 0x7ff6206c8df0>, <LDAVI.LDAVI.Document object at 0x7ff6206c8e50>, <LDAVI.LDAVI.Document object at 0x7ff6206c8eb0>, <LDAVI.LDAVI.Document object at 0x7ff6206c8f10>, <LDAVI.LDAVI.Document object at 0x7ff6206c8f70>, <LDAVI.LDAVI.Document object at 0x7ff6206c8fd0>, <LDAVI.LDAVI.Document object at 0x7ff6206f0070>, <LDAVI.LDAVI.Document object at 0x7ff6206f00d0>, <LDAVI.LDAVI.Document object at 0x7ff6206f0130>, <LDAVI.LDAVI.Document object at 0x7ff6206f0190>, <LDAVI.LDAVI.Document object at 0x7ff6206f01f0>, <LDAVI.LDAVI.Document object at 0x7ff6206f0250>, <LDAVI.LDAVI.Document object at 0x7ff6206f02b0>, <LDAVI.LDAVI.Document object at 0x7ff6206f0310>, <LDAVI.LDAVI.Document object at 0x7ff6206f0370>, <LDAVI.LDAVI.Document object at 0x7ff6206f03d0>, <LDAVI.LDAVI.Document object at 0x7ff6206f0430>, <LDAVI.LDAVI.Document object at 0x7ff6206f0490>, <LDAVI.LDAVI.Document object at 0x7ff6206f04f0>, <LDAVI.LDAVI.Document object at 0x7ff6206f0550>, <LDAVI.LDAVI.Document object at 0x7ff6206f05b0>, <LDAVI.LDAVI.Document object at 0x7ff6206f0610>, <LDAVI.LDAVI.Document object at 0x7ff6206f0670>, <LDAVI.LDAVI.Document object at 0x7ff6206f06d0>, <LDAVI.LDAVI.Document object at 0x7ff6206f0730>, <LDAVI.LDAVI.Document object at 0x7ff6206f0790>, <LDAVI.LDAVI.Document object at 0x7ff6206f07f0>, <LDAVI.LDAVI.Document object at 0x7ff6206f0850>, <LDAVI.LDAVI.Document object at 0x7ff6206f08b0>, <LDAVI.LDAVI.Document object at 0x7ff6206f0910>, <LDAVI.LDAVI.Document object at 0x7ff6206f0970>, <LDAVI.LDAVI.Document object at 0x7ff6206f09d0>, <LDAVI.LDAVI.Document object at 0x7ff6206f0a30>, <LDAVI.LDAVI.Document object at 0x7ff6206f0a90>, <LDAVI.LDAVI.Document object at 0x7ff6206f0af0>, <LDAVI.LDAVI.Document object at 0x7ff6206f0b50>, <LDAVI.LDAVI.Document object at 0x7ff6206f0bb0>, <LDAVI.LDAVI.Document object at 0x7ff6206f0c10>, <LDAVI.LDAVI.Document object at 0x7ff6206f0c70>, <LDAVI.LDAVI.Document object at 0x7ff6206f0cd0>, <LDAVI.LDAVI.Document object at 0x7ff6206f0d30>, <LDAVI.LDAVI.Document object at 0x7ff6206f0d90>, <LDAVI.LDAVI.Document object at 0x7ff6206f0df0>, <LDAVI.LDAVI.Document object at 0x7ff6206f0e50>, <LDAVI.LDAVI.Document object at 0x7ff6206f0eb0>, <LDAVI.LDAVI.Document object at 0x7ff6206f0f10>, <LDAVI.LDAVI.Document object at 0x7ff6206f0f70>, <LDAVI.LDAVI.Document object at 0x7ff6206f0fd0>, <LDAVI.LDAVI.Document object at 0x7ff6303bc070>, <LDAVI.LDAVI.Document object at 0x7ff6303bc0d0>, <LDAVI.LDAVI.Document object at 0x7ff6303bc130>, <LDAVI.LDAVI.Document object at 0x7ff6303bc190>, <LDAVI.LDAVI.Document object at 0x7ff6303bc1f0>, <LDAVI.LDAVI.Document object at 0x7ff6303bc250>, <LDAVI.LDAVI.Document object at 0x7ff6303bc2b0>, <LDAVI.LDAVI.Document object at 0x7ff6303bc310>, <LDAVI.LDAVI.Document object at 0x7ff6303bc370>, <LDAVI.LDAVI.Document object at 0x7ff6303bc3d0>, <LDAVI.LDAVI.Document object at 0x7ff6303bc430>, <LDAVI.LDAVI.Document object at 0x7ff6303bc490>, <LDAVI.LDAVI.Document object at 0x7ff6303bc4f0>, <LDAVI.LDAVI.Document object at 0x7ff6303bc550>, <LDAVI.LDAVI.Document object at 0x7ff6303bc5b0>, <LDAVI.LDAVI.Document object at 0x7ff6303bc610>, <LDAVI.LDAVI.Document object at 0x7ff6303bc670>, <LDAVI.LDAVI.Document object at 0x7ff6303bc6d0>, <LDAVI.LDAVI.Document object at 0x7ff6303bc730>, <LDAVI.LDAVI.Document object at 0x7ff6303bc790>, <LDAVI.LDAVI.Document object at 0x7ff6303bc7f0>, <LDAVI.LDAVI.Document object at 0x7ff6303bc850>, <LDAVI.LDAVI.Document object at 0x7ff6303bc8b0>, <LDAVI.LDAVI.Document object at 0x7ff6303bc910>, <LDAVI.LDAVI.Document object at 0x7ff6303bc970>, <LDAVI.LDAVI.Document object at 0x7ff6303bc9d0>, <LDAVI.LDAVI.Document object at 0x7ff6303bca30>, <LDAVI.LDAVI.Document object at 0x7ff6303bca90>, <LDAVI.LDAVI.Document object at 0x7ff6303bcaf0>, <LDAVI.LDAVI.Document object at 0x7ff6303bcb50>, <LDAVI.LDAVI.Document object at 0x7ff6303bcbb0>, <LDAVI.LDAVI.Document object at 0x7ff6303bcc10>, <LDAVI.LDAVI.Document object at 0x7ff6303bcc70>, <LDAVI.LDAVI.Document object at 0x7ff6303bccd0>, <LDAVI.LDAVI.Document object at 0x7ff6303bcd30>, <LDAVI.LDAVI.Document object at 0x7ff6303bcd90>, <LDAVI.LDAVI.Document object at 0x7ff6303bcdf0>, <LDAVI.LDAVI.Document object at 0x7ff6303bce50>, <LDAVI.LDAVI.Document object at 0x7ff6303bceb0>, <LDAVI.LDAVI.Document object at 0x7ff6303bcf10>, <LDAVI.LDAVI.Document object at 0x7ff6303bcf70>, <LDAVI.LDAVI.Document object at 0x7ff6303bcfd0>, <LDAVI.LDAVI.Document object at 0x7ff6303db070>, <LDAVI.LDAVI.Document object at 0x7ff6303db0d0>, <LDAVI.LDAVI.Document object at 0x7ff6303db130>, <LDAVI.LDAVI.Document object at 0x7ff6303db190>, <LDAVI.LDAVI.Document object at 0x7ff6303db1f0>, <LDAVI.LDAVI.Document object at 0x7ff6303db250>, <LDAVI.LDAVI.Document object at 0x7ff6303db2b0>, <LDAVI.LDAVI.Document object at 0x7ff6303db310>, <LDAVI.LDAVI.Document object at 0x7ff6303db370>, <LDAVI.LDAVI.Document object at 0x7ff6303db3d0>, <LDAVI.LDAVI.Document object at 0x7ff6303db430>, <LDAVI.LDAVI.Document object at 0x7ff6303db490>, <LDAVI.LDAVI.Document object at 0x7ff6303db4f0>, <LDAVI.LDAVI.Document object at 0x7ff6303db550>, <LDAVI.LDAVI.Document object at 0x7ff6303db5b0>, <LDAVI.LDAVI.Document object at 0x7ff6303db610>, <LDAVI.LDAVI.Document object at 0x7ff6303db670>, <LDAVI.LDAVI.Document object at 0x7ff6303db6d0>, <LDAVI.LDAVI.Document object at 0x7ff6303db730>, <LDAVI.LDAVI.Document object at 0x7ff6303db790>, <LDAVI.LDAVI.Document object at 0x7ff6303db7f0>, <LDAVI.LDAVI.Document object at 0x7ff6303db850>, <LDAVI.LDAVI.Document object at 0x7ff6303db8b0>, <LDAVI.LDAVI.Document object at 0x7ff6303db910>, <LDAVI.LDAVI.Document object at 0x7ff6303db970>, <LDAVI.LDAVI.Document object at 0x7ff6303db9d0>, <LDAVI.LDAVI.Document object at 0x7ff6303dba30>, <LDAVI.LDAVI.Document object at 0x7ff6303dba90>, <LDAVI.LDAVI.Document object at 0x7ff6303dbaf0>, <LDAVI.LDAVI.Document object at 0x7ff6303dbb50>, <LDAVI.LDAVI.Document object at 0x7ff6303dbbb0>, <LDAVI.LDAVI.Document object at 0x7ff6303dbc10>, <LDAVI.LDAVI.Document object at 0x7ff6303dbc70>, <LDAVI.LDAVI.Document object at 0x7ff6303dbcd0>, <LDAVI.LDAVI.Document object at 0x7ff6303dbd30>, <LDAVI.LDAVI.Document object at 0x7ff6303dbd90>, <LDAVI.LDAVI.Document object at 0x7ff6303dbdf0>, <LDAVI.LDAVI.Document object at 0x7ff6303dbe50>, <LDAVI.LDAVI.Document object at 0x7ff6303dbeb0>, <LDAVI.LDAVI.Document object at 0x7ff6303dbf10>, <LDAVI.LDAVI.Document object at 0x7ff6303dbf70>, <LDAVI.LDAVI.Document object at 0x7ff6303dbfd0>, <LDAVI.LDAVI.Document object at 0x7ff6107d7070>, <LDAVI.LDAVI.Document object at 0x7ff6107d70d0>, <LDAVI.LDAVI.Document object at 0x7ff6107d7130>, <LDAVI.LDAVI.Document object at 0x7ff6107d7190>, <LDAVI.LDAVI.Document object at 0x7ff6107d71f0>, <LDAVI.LDAVI.Document object at 0x7ff6107d7250>, <LDAVI.LDAVI.Document object at 0x7ff6107d72b0>, <LDAVI.LDAVI.Document object at 0x7ff6107d7310>, <LDAVI.LDAVI.Document object at 0x7ff6107d7370>, <LDAVI.LDAVI.Document object at 0x7ff6107d73d0>, <LDAVI.LDAVI.Document object at 0x7ff6107d7430>, <LDAVI.LDAVI.Document object at 0x7ff6107d7490>, <LDAVI.LDAVI.Document object at 0x7ff6107d74f0>, <LDAVI.LDAVI.Document object at 0x7ff6107d7550>, <LDAVI.LDAVI.Document object at 0x7ff6107d75b0>, <LDAVI.LDAVI.Document object at 0x7ff6107d7610>, <LDAVI.LDAVI.Document object at 0x7ff6107d7670>, <LDAVI.LDAVI.Document object at 0x7ff6107d76d0>, <LDAVI.LDAVI.Document object at 0x7ff6107d7730>, <LDAVI.LDAVI.Document object at 0x7ff6107d7790>, <LDAVI.LDAVI.Document object at 0x7ff6107d77f0>, <LDAVI.LDAVI.Document object at 0x7ff6107d7850>, <LDAVI.LDAVI.Document object at 0x7ff6107d78b0>, <LDAVI.LDAVI.Document object at 0x7ff6107d7910>, <LDAVI.LDAVI.Document object at 0x7ff6107d7970>, <LDAVI.LDAVI.Document object at 0x7ff6107d79d0>, <LDAVI.LDAVI.Document object at 0x7ff6107d7a30>, <LDAVI.LDAVI.Document object at 0x7ff6107d7a90>, <LDAVI.LDAVI.Document object at 0x7ff6107d7af0>, <LDAVI.LDAVI.Document object at 0x7ff6107d7b50>, <LDAVI.LDAVI.Document object at 0x7ff6107d7bb0>, <LDAVI.LDAVI.Document object at 0x7ff6107d7c10>, <LDAVI.LDAVI.Document object at 0x7ff6107d7c70>, <LDAVI.LDAVI.Document object at 0x7ff6107d7cd0>, <LDAVI.LDAVI.Document object at 0x7ff6107d7d30>, <LDAVI.LDAVI.Document object at 0x7ff6107d7d90>, <LDAVI.LDAVI.Document object at 0x7ff6107d7df0>, <LDAVI.LDAVI.Document object at 0x7ff6107d7e50>, <LDAVI.LDAVI.Document object at 0x7ff6107d7eb0>, <LDAVI.LDAVI.Document object at 0x7ff6107d7f10>, <LDAVI.LDAVI.Document object at 0x7ff6107d7f70>, <LDAVI.LDAVI.Document object at 0x7ff6107d7fd0>, <LDAVI.LDAVI.Document object at 0x7ff6107fc070>, <LDAVI.LDAVI.Document object at 0x7ff6107fc0d0>, <LDAVI.LDAVI.Document object at 0x7ff6107fc130>, <LDAVI.LDAVI.Document object at 0x7ff6107fc190>, <LDAVI.LDAVI.Document object at 0x7ff6107fc1f0>, <LDAVI.LDAVI.Document object at 0x7ff6107fc250>, <LDAVI.LDAVI.Document object at 0x7ff6107fc2b0>, <LDAVI.LDAVI.Document object at 0x7ff6107fc310>, <LDAVI.LDAVI.Document object at 0x7ff6107fc370>, <LDAVI.LDAVI.Document object at 0x7ff6107fc3d0>, <LDAVI.LDAVI.Document object at 0x7ff6107fc430>, <LDAVI.LDAVI.Document object at 0x7ff6107fc490>, <LDAVI.LDAVI.Document object at 0x7ff6107fc4f0>, <LDAVI.LDAVI.Document object at 0x7ff6107fc550>, <LDAVI.LDAVI.Document object at 0x7ff6107fc5b0>, <LDAVI.LDAVI.Document object at 0x7ff6107fc610>, <LDAVI.LDAVI.Document object at 0x7ff6107fc670>, <LDAVI.LDAVI.Document object at 0x7ff6107fc6d0>, <LDAVI.LDAVI.Document object at 0x7ff6107fc730>, <LDAVI.LDAVI.Document object at 0x7ff6107fc790>, <LDAVI.LDAVI.Document object at 0x7ff6107fc7f0>, <LDAVI.LDAVI.Document object at 0x7ff6107fc850>, <LDAVI.LDAVI.Document object at 0x7ff6107fc8b0>, <LDAVI.LDAVI.Document object at 0x7ff6107fc910>, <LDAVI.LDAVI.Document object at 0x7ff6107fc970>, <LDAVI.LDAVI.Document object at 0x7ff6107fc9d0>, <LDAVI.LDAVI.Document object at 0x7ff6107fca30>, <LDAVI.LDAVI.Document object at 0x7ff6107fca90>, <LDAVI.LDAVI.Document object at 0x7ff6107fcaf0>, <LDAVI.LDAVI.Document object at 0x7ff6107fcb50>, <LDAVI.LDAVI.Document object at 0x7ff6107fcbb0>, <LDAVI.LDAVI.Document object at 0x7ff6107fcc10>, <LDAVI.LDAVI.Document object at 0x7ff6107fcc70>, <LDAVI.LDAVI.Document object at 0x7ff6107fccd0>, <LDAVI.LDAVI.Document object at 0x7ff6107fcd30>, <LDAVI.LDAVI.Document object at 0x7ff6107fcd90>, <LDAVI.LDAVI.Document object at 0x7ff6107fcdf0>, <LDAVI.LDAVI.Document object at 0x7ff6107fce50>, <LDAVI.LDAVI.Document object at 0x7ff6107fceb0>, <LDAVI.LDAVI.Document object at 0x7ff6107fcf10>, <LDAVI.LDAVI.Document object at 0x7ff6107fcf70>, <LDAVI.LDAVI.Document object at 0x7ff6107fcfd0>, <LDAVI.LDAVI.Document object at 0x7ff6707cc070>, <LDAVI.LDAVI.Document object at 0x7ff6707cc0d0>, <LDAVI.LDAVI.Document object at 0x7ff6707cc130>, <LDAVI.LDAVI.Document object at 0x7ff6707cc190>, <LDAVI.LDAVI.Document object at 0x7ff6707cc1f0>, <LDAVI.LDAVI.Document object at 0x7ff6707cc250>, <LDAVI.LDAVI.Document object at 0x7ff6707cc2b0>, <LDAVI.LDAVI.Document object at 0x7ff6707cc310>, <LDAVI.LDAVI.Document object at 0x7ff6707cc370>, <LDAVI.LDAVI.Document object at 0x7ff6707cc3d0>, <LDAVI.LDAVI.Document object at 0x7ff6707cc430>, <LDAVI.LDAVI.Document object at 0x7ff6707cc490>, <LDAVI.LDAVI.Document object at 0x7ff6707cc4f0>, <LDAVI.LDAVI.Document object at 0x7ff6707cc550>, <LDAVI.LDAVI.Document object at 0x7ff6707cc5b0>, <LDAVI.LDAVI.Document object at 0x7ff6707cc610>, <LDAVI.LDAVI.Document object at 0x7ff6707cc670>, <LDAVI.LDAVI.Document object at 0x7ff6707cc6d0>, <LDAVI.LDAVI.Document object at 0x7ff6707cc730>, <LDAVI.LDAVI.Document object at 0x7ff6707cc790>, <LDAVI.LDAVI.Document object at 0x7ff6707cc7f0>, <LDAVI.LDAVI.Document object at 0x7ff6707cc850>, <LDAVI.LDAVI.Document object at 0x7ff6707cc8b0>, <LDAVI.LDAVI.Document object at 0x7ff6707cc910>, <LDAVI.LDAVI.Document object at 0x7ff6707cc970>, <LDAVI.LDAVI.Document object at 0x7ff6707cc9d0>, <LDAVI.LDAVI.Document object at 0x7ff6707cca30>, <LDAVI.LDAVI.Document object at 0x7ff6707cca90>, <LDAVI.LDAVI.Document object at 0x7ff6707ccaf0>, <LDAVI.LDAVI.Document object at 0x7ff6707ccb50>, <LDAVI.LDAVI.Document object at 0x7ff6707ccbb0>, <LDAVI.LDAVI.Document object at 0x7ff6707ccc10>, <LDAVI.LDAVI.Document object at 0x7ff6707ccc70>, <LDAVI.LDAVI.Document object at 0x7ff6707cccd0>, <LDAVI.LDAVI.Document object at 0x7ff6707ccd30>, <LDAVI.LDAVI.Document object at 0x7ff6707ccd90>, <LDAVI.LDAVI.Document object at 0x7ff6707ccdf0>, <LDAVI.LDAVI.Document object at 0x7ff6707cce50>, <LDAVI.LDAVI.Document object at 0x7ff6707cceb0>, <LDAVI.LDAVI.Document object at 0x7ff6707ccf10>, <LDAVI.LDAVI.Document object at 0x7ff6707ccf70>, <LDAVI.LDAVI.Document object at 0x7ff6707ccfd0>, <LDAVI.LDAVI.Document object at 0x7ff6813e8070>, <LDAVI.LDAVI.Document object at 0x7ff6813e80d0>, <LDAVI.LDAVI.Document object at 0x7ff6813e8130>, <LDAVI.LDAVI.Document object at 0x7ff6813e8190>, <LDAVI.LDAVI.Document object at 0x7ff6813e81f0>, <LDAVI.LDAVI.Document object at 0x7ff6813e8250>, <LDAVI.LDAVI.Document object at 0x7ff6813e82b0>, <LDAVI.LDAVI.Document object at 0x7ff6813e8310>, <LDAVI.LDAVI.Document object at 0x7ff6813e8370>, <LDAVI.LDAVI.Document object at 0x7ff6813e83d0>, <LDAVI.LDAVI.Document object at 0x7ff6813e8430>, <LDAVI.LDAVI.Document object at 0x7ff6813e8490>, <LDAVI.LDAVI.Document object at 0x7ff6813e84f0>, <LDAVI.LDAVI.Document object at 0x7ff6813e8550>, <LDAVI.LDAVI.Document object at 0x7ff6813e85b0>, <LDAVI.LDAVI.Document object at 0x7ff6813e8610>, <LDAVI.LDAVI.Document object at 0x7ff6813e8670>, <LDAVI.LDAVI.Document object at 0x7ff6813e86d0>, <LDAVI.LDAVI.Document object at 0x7ff6813e8730>, <LDAVI.LDAVI.Document object at 0x7ff6813e8790>, <LDAVI.LDAVI.Document object at 0x7ff6813e87f0>, <LDAVI.LDAVI.Document object at 0x7ff6813e8850>, <LDAVI.LDAVI.Document object at 0x7ff6813e88b0>, <LDAVI.LDAVI.Document object at 0x7ff6813e8910>, <LDAVI.LDAVI.Document object at 0x7ff6813e8970>, <LDAVI.LDAVI.Document object at 0x7ff6813e89d0>, <LDAVI.LDAVI.Document object at 0x7ff6813e8a30>, <LDAVI.LDAVI.Document object at 0x7ff6813e8a90>, <LDAVI.LDAVI.Document object at 0x7ff6813e8af0>, <LDAVI.LDAVI.Document object at 0x7ff6813e8b50>, <LDAVI.LDAVI.Document object at 0x7ff6813e8bb0>, <LDAVI.LDAVI.Document object at 0x7ff6813e8c10>, <LDAVI.LDAVI.Document object at 0x7ff6813e8c70>, <LDAVI.LDAVI.Document object at 0x7ff6813e8cd0>, <LDAVI.LDAVI.Document object at 0x7ff6813e8d30>, <LDAVI.LDAVI.Document object at 0x7ff6813e8d90>, <LDAVI.LDAVI.Document object at 0x7ff6813e8df0>, <LDAVI.LDAVI.Document object at 0x7ff6813e8e50>, <LDAVI.LDAVI.Document object at 0x7ff6813e8eb0>, <LDAVI.LDAVI.Document object at 0x7ff6813e8f10>, <LDAVI.LDAVI.Document object at 0x7ff6813e8f70>, <LDAVI.LDAVI.Document object at 0x7ff6813e8fd0>, <LDAVI.LDAVI.Document object at 0x7ff68140e070>, <LDAVI.LDAVI.Document object at 0x7ff68140e0d0>, <LDAVI.LDAVI.Document object at 0x7ff68140e130>, <LDAVI.LDAVI.Document object at 0x7ff68140e190>, <LDAVI.LDAVI.Document object at 0x7ff68140e1f0>, <LDAVI.LDAVI.Document object at 0x7ff68140e250>, <LDAVI.LDAVI.Document object at 0x7ff68140e2b0>, <LDAVI.LDAVI.Document object at 0x7ff68140e310>, <LDAVI.LDAVI.Document object at 0x7ff68140e370>, <LDAVI.LDAVI.Document object at 0x7ff68140e3d0>, <LDAVI.LDAVI.Document object at 0x7ff68140e430>, <LDAVI.LDAVI.Document object at 0x7ff68140e490>, <LDAVI.LDAVI.Document object at 0x7ff68140e4f0>, <LDAVI.LDAVI.Document object at 0x7ff68140e550>, <LDAVI.LDAVI.Document object at 0x7ff68140e5b0>, <LDAVI.LDAVI.Document object at 0x7ff68140e610>]\n"
     ]
    }
   ],
   "source": [
    "print(LDA_Model._docs)"
   ]
  },
  {
   "cell_type": "code",
   "execution_count": 34,
   "metadata": {},
   "outputs": [
    {
     "data": {
      "text/plain": [
       "(50, 10473)"
      ]
     },
     "execution_count": 34,
     "metadata": {},
     "output_type": "execute_result"
    }
   ],
   "source": [
    "LDA_Model._lambda.shape"
   ]
  },
  {
   "cell_type": "code",
   "execution_count": 35,
   "metadata": {},
   "outputs": [
    {
     "name": "stdout",
     "output_type": "stream",
     "text": [
      "(50, 10473)\n"
     ]
    }
   ],
   "source": [
    "print(LDA_Model._Elogbeta.shape)"
   ]
  },
  {
   "cell_type": "code",
   "execution_count": 151,
   "metadata": {},
   "outputs": [
    {
     "data": {
      "text/plain": [
       "0.1"
      ]
     },
     "execution_count": 151,
     "metadata": {},
     "output_type": "execute_result"
    }
   ],
   "source": [
    "LDA_Model._alpha"
   ]
  },
  {
   "cell_type": "code",
   "execution_count": 45,
   "metadata": {},
   "outputs": [
    {
     "name": "stdout",
     "output_type": "stream",
     "text": [
      "10473\n",
      "2246\n",
      "0.1\n",
      "0.01\n",
      "1e-100\n",
      "[[1.15225311 0.96830122 1.12759267 ... 0.89179713 0.87825082 0.80311529]\n",
      " [0.91163879 0.91593018 1.06477736 ... 0.86003509 0.8518114  1.08747324]\n",
      " [1.07536684 1.10900501 0.93594654 ... 0.81653022 0.90851313 0.99888891]\n",
      " ...\n",
      " [0.86943624 0.94714644 1.05755883 ... 0.91956244 0.98174056 1.02565619]\n",
      " [1.00876006 1.106121   0.89493739 ... 1.15550156 0.97128553 1.0929211 ]\n",
      " [0.97686621 1.05964884 1.00831726 ... 1.03270365 1.1299291  1.08564046]]\n",
      "[[ -9.60933276  -9.88863505  -9.64293315 ... -10.0288395  -10.05554857\n",
      "  -10.21590004]\n",
      " [ -9.98845788  -9.98039297  -9.73112075 ... -10.09011891 -10.10717315\n",
      "   -9.69754971]\n",
      " [ -9.71437171  -9.66565683  -9.94254813 ... -10.18232551  -9.99340899\n",
      "   -9.83377865]\n",
      " ...\n",
      " [-10.07231275  -9.92476492  -9.74340437 ...  -9.97500049  -9.86474108\n",
      "   -9.79286869]\n",
      " [ -9.81866974  -9.6707887  -10.02047354 ...  -9.6027212   -9.88123883\n",
      "   -9.6897203 ]\n",
      " [ -9.87224518  -9.7394758   -9.8199358  ...  -9.78098819  -9.63799057\n",
      "   -9.70084956]]\n",
      "[[6.70995809e-05 5.07481673e-05 6.48824652e-05 ... 4.41093181e-05\n",
      "  4.29467936e-05 3.65839827e-05]\n",
      " [4.59269769e-05 4.62988714e-05 5.94056780e-05 ... 4.14874781e-05\n",
      "  4.07859397e-05 6.14338417e-05]\n",
      " [6.04090452e-05 6.34247227e-05 4.80846225e-05 ... 3.78331254e-05\n",
      "  4.57001496e-05 5.36098014e-05]\n",
      " ...\n",
      " [4.22328270e-05 4.89473700e-05 5.86804248e-05 ... 4.65492119e-05\n",
      "  5.19753451e-05 5.58484554e-05]\n",
      " [5.44259365e-05 6.31000688e-05 4.44798828e-05 ... 6.75446837e-05\n",
      "  5.11249037e-05 6.19167201e-05]\n",
      " [5.15867770e-05 5.89114081e-05 5.43570738e-05 ... 5.65159199e-05\n",
      "  6.52039459e-05 6.12314531e-05]]\n",
      "[[0.9828841  0.98883235 0.87747871 ... 0.96718659 1.02832993 1.27568013]\n",
      " [0.96917392 1.12395733 1.012785   ... 1.0094355  1.06887166 1.22015348]\n",
      " [0.87427208 0.91439738 1.00527967 ... 0.97921372 1.11463286 1.03666804]\n",
      " ...\n",
      " [1.13725776 0.99763285 0.92030192 ... 0.98991147 0.97782778 1.01243083]\n",
      " [0.97877335 0.81585054 0.87117489 ... 1.03309672 0.94530661 0.99614608]\n",
      " [0.99913482 1.17558138 0.93356015 ... 0.94169036 1.12456465 1.05609237]]\n"
     ]
    }
   ],
   "source": [
    "# print(LDA_Model._W) # 10473. 단어수\n",
    "# print(LDA_Model._D) # 2246 문서수\n",
    "# print(LDA_Model._alpha) # alpha =0.1 \n",
    "# print(LDA_Model._eta) # eta =0.01\n",
    "# print(LDA_Model._small_num) # small num\n",
    "# print(LDA_Model._lambda) # LDA_Model._lambda.shape  (50, 10473)  K W\n",
    "# print(LDA_Model._Elogbeta) # 람다에 elogbeta 쒸운거임 \n",
    "# print(LDA_Model._expElogbeta) # 위에꺼에 exp 취한거임 \n",
    "# print(LDA_Model._gamma) # LDA_Model._gamma.shape( 2246 , 50)  DK \n",
    "\n",
    "\n"
   ]
  },
  {
   "cell_type": "code",
   "execution_count": 37,
   "metadata": {},
   "outputs": [],
   "source": [
    "Elogtheta = LDA_Model._dirichlet_expectation(LDA_Model._gamma)"
   ]
  },
  {
   "cell_type": "code",
   "execution_count": 38,
   "metadata": {},
   "outputs": [
    {
     "data": {
      "text/plain": [
       "(2246, 50)"
      ]
     },
     "execution_count": 38,
     "metadata": {},
     "output_type": "execute_result"
    }
   ],
   "source": [
    "Elogtheta.shape"
   ]
  },
  {
   "cell_type": "code",
   "execution_count": 39,
   "metadata": {},
   "outputs": [],
   "source": [
    "import numpy"
   ]
  },
  {
   "cell_type": "code",
   "execution_count": 40,
   "metadata": {},
   "outputs": [],
   "source": [
    "sstats = numpy.zeros(LDA_Model._lambda.shape)"
   ]
  },
  {
   "cell_type": "code",
   "execution_count": 16,
   "metadata": {},
   "outputs": [
    {
     "data": {
      "text/plain": [
       "(50, 10473)"
      ]
     },
     "execution_count": 16,
     "metadata": {},
     "output_type": "execute_result"
    }
   ],
   "source": [
    "sstats.shape"
   ]
  },
  {
   "cell_type": "code",
   "execution_count": 17,
   "metadata": {},
   "outputs": [
    {
     "data": {
      "text/plain": [
       "(50, 10473)"
      ]
     },
     "execution_count": 17,
     "metadata": {},
     "output_type": "execute_result"
    }
   ],
   "source": [
    "LDA_Model._lambda.shape"
   ]
  },
  {
   "cell_type": "code",
   "execution_count": null,
   "metadata": {},
   "outputs": [],
   "source": [
    "Elogtheta = self._dirichlet_expectation(self._gamma)\n",
    "expElogtheta = numpy.exp(Elogtheta) # ( 2246 ,50 )    DK\n",
    "sstats = numpy.zeros(self._lambda.shape) # (50 ,10473 )  KW\n",
    "print(sstats.shape)\n",
    "for doc_idx, doc in enumerate(self._docs):\n",
    "    print(doc_idx,doc)\n",
    "\n",
    "    ids = doc.wordids\n",
    "    cts = doc.wordcts\n",
    "    print('@@@@@@@@@@@@@@')\n",
    "\n",
    "    gammad = self._gamma[doc_idx, :]\n",
    "    print(gammad)\n",
    "    expElogthetad = expElogtheta[doc_idx, :]\n",
    "    expElogbetad = self._expElogbeta[:, ids]\n",
    "    for _ in range(e_max_iter):\n",
    "        lastgamma = gammad\n",
    "       # sstats=numpy.matmul(expElogthetad, expElogbetad)      \n",
    "\n",
    "\n",
    "        # Update phi and gamma of d-th document"
   ]
  },
  {
   "cell_type": "markdown",
   "metadata": {},
   "source": [
    "# 원본"
   ]
  },
  {
   "cell_type": "code",
   "execution_count": 41,
   "metadata": {},
   "outputs": [],
   "source": [
    "Elogtheta = LDA_Model._dirichlet_expectation(LDA_Model._gamma) #.  (2246, 50) DK\n",
    "expElogtheta = numpy.exp(Elogtheta) # ( 2246 ,50 )    DK\n",
    "sstats = numpy.zeros(LDA_Model._lambda.shape) # (50 ,10473 )  KW"
   ]
  },
  {
   "cell_type": "code",
   "execution_count": 42,
   "metadata": {},
   "outputs": [],
   "source": [
    "for doc_idx, doc in enumerate(LDA_Model._docs):\n",
    "    ids = doc.wordids  \n",
    "    cts = doc.wordcts\n",
    "    gammad = LDA_Model._gamma[doc_idx, :]\n",
    "    expElogthetad = expElogtheta[doc_idx, :]\n",
    "    expElogbetad = LDA_Model._expElogbeta[:, ids]\n",
    "    break"
   ]
  },
  {
   "cell_type": "code",
   "execution_count": null,
   "metadata": {},
   "outputs": [],
   "source": []
  },
  {
   "cell_type": "code",
   "execution_count": 44,
   "metadata": {},
   "outputs": [
    {
     "data": {
      "text/plain": [
       "(50, 10473)"
      ]
     },
     "execution_count": 44,
     "metadata": {},
     "output_type": "execute_result"
    }
   ],
   "source": [
    "sstats.shape"
   ]
  },
  {
   "cell_type": "code",
   "execution_count": 23,
   "metadata": {},
   "outputs": [
    {
     "data": {
      "text/plain": [
       "186"
      ]
     },
     "execution_count": 23,
     "metadata": {},
     "output_type": "execute_result"
    }
   ],
   "source": [
    "len(ids)"
   ]
  },
  {
   "cell_type": "code",
   "execution_count": 21,
   "metadata": {},
   "outputs": [
    {
     "data": {
      "text/plain": [
       "array([1.09655993, 1.08073226, 0.96070488, 1.10537466, 0.92372943,\n",
       "       0.96561836, 0.91160381, 0.82881818, 0.96899195, 0.78714001,\n",
       "       1.04349046, 1.06779177, 1.03355771, 1.18501958, 1.22388019,\n",
       "       0.8846177 , 0.96274488, 1.01952798, 1.1592896 , 1.01619282,\n",
       "       1.05183117, 0.91623853, 1.07045826, 1.01164872, 0.96862531,\n",
       "       0.93693794, 0.93363622, 1.05504615, 0.86337086, 0.9438518 ,\n",
       "       0.92325104, 0.87690065, 0.86741066, 1.14009118, 0.93816779,\n",
       "       1.18593571, 0.93177729, 1.11613014, 0.93526654, 0.89904296,\n",
       "       0.89606139, 1.09354692, 0.99251006, 1.06865357, 0.9624115 ,\n",
       "       0.90827752, 0.7486983 , 0.97351747, 1.14091491, 1.0669043 ])"
      ]
     },
     "execution_count": 21,
     "metadata": {},
     "output_type": "execute_result"
    }
   ],
   "source": [
    "gammad"
   ]
  },
  {
   "cell_type": "code",
   "execution_count": 24,
   "metadata": {},
   "outputs": [
    {
     "data": {
      "text/plain": [
       "array([0.01325424, 0.01295253, 0.01068922, 0.01342254, 0.01000242,\n",
       "       0.0107809 , 0.00977847, 0.00826882, 0.0108439 , 0.00752373,\n",
       "       0.01224538, 0.01270637, 0.01205747, 0.01495163, 0.01570258,\n",
       "       0.00928248, 0.01072727, 0.01179257, 0.01445609, 0.01172969,\n",
       "       0.01240341, 0.00986399, 0.01275706, 0.01164408, 0.01083705,\n",
       "       0.01024711, 0.01018588, 0.01246437, 0.00889452, 0.01037549,\n",
       "       0.00999357, 0.0091413 , 0.0089681 , 0.01408728, 0.01026993,\n",
       "       0.0149693 , 0.01015142, 0.01362817, 0.01021611, 0.00954718,\n",
       "       0.00949238, 0.01319675, 0.01128427, 0.01272275, 0.01072105,\n",
       "       0.00971715, 0.0068472 , 0.01092848, 0.01410309, 0.0126895 ])"
      ]
     },
     "execution_count": 24,
     "metadata": {},
     "output_type": "execute_result"
    }
   ],
   "source": [
    "expElogthetad"
   ]
  },
  {
   "cell_type": "code",
   "execution_count": null,
   "metadata": {},
   "outputs": [],
   "source": []
  },
  {
   "cell_type": "code",
   "execution_count": null,
   "metadata": {},
   "outputs": [],
   "source": []
  },
  {
   "cell_type": "code",
   "execution_count": null,
   "metadata": {},
   "outputs": [],
   "source": []
  },
  {
   "cell_type": "code",
   "execution_count": null,
   "metadata": {},
   "outputs": [],
   "source": []
  },
  {
   "cell_type": "code",
   "execution_count": 55,
   "metadata": {},
   "outputs": [
    {
     "data": {
      "text/plain": [
       "186"
      ]
     },
     "execution_count": 55,
     "metadata": {},
     "output_type": "execute_result"
    }
   ],
   "source": [
    "len(ids)"
   ]
  },
  {
   "cell_type": "code",
   "execution_count": 51,
   "metadata": {},
   "outputs": [
    {
     "data": {
      "text/plain": [
       "(50, 186)"
      ]
     },
     "execution_count": 51,
     "metadata": {},
     "output_type": "execute_result"
    }
   ],
   "source": [
    "expElogbetad.shape"
   ]
  },
  {
   "cell_type": "code",
   "execution_count": 50,
   "metadata": {},
   "outputs": [
    {
     "data": {
      "text/plain": [
       "(50,)"
      ]
     },
     "execution_count": 50,
     "metadata": {},
     "output_type": "execute_result"
    }
   ],
   "source": [
    "expElogthetad.shape"
   ]
  },
  {
   "cell_type": "code",
   "execution_count": null,
   "metadata": {},
   "outputs": [],
   "source": [
    "def _dirichlet_expectation(alpha):\n",
    "        \"\"\"\n",
    "        Compute E[log(theta)] given alpha\n",
    "        Compute E[log(beta)] given lambda\n",
    "        Do not modify this function\n",
    "        :param alpha: alpha value or lambda value\n",
    "        :return: E[log(theta)] or E[log(beta)]\n",
    "        \"\"\"\n",
    "        if 1 == len(alpha.shape):\n",
    "            return scipy.special.psi(alpha) - scipy.special.psi(numpy.sum(alpha))\n",
    "        return scipy.special.psi(alpha) - scipy.special.psi(numpy.sum(alpha, 1))[:, numpy.newaxis]\n"
   ]
  },
  {
   "cell_type": "code",
   "execution_count": null,
   "metadata": {},
   "outputs": [],
   "source": [
    "def _e_step(self, e_max_iter, meanchangethresh):\n",
    "        \"\"\"\n",
    "        Run E step in variational EM\n",
    "        Update phi and gamma and\n",
    "        Compute sufficient statistics for updating lambda (sstats) for M step\n",
    "        :param e_max_iter: maximum iterations for e step\n",
    "        :param meanchangethresh: minimum value for checking convergence\n",
    "        :return: sufficient statistics for updating lambda\n",
    "        \"\"\"\n",
    "        Elogtheta = self._dirichlet_expectation(self._gamma)\n",
    "        expElogtheta = numpy.exp(Elogtheta) # ( 2246 ,50 )    DK\n",
    "        sstats = numpy.zeros(self._lambda.shape) # (50 ,10473 )  KW\n",
    "\n",
    "        for doc_idx, doc in enumerate(self._docs):\n",
    "            ids = doc.wordids   # word index가 붙어있음  186\n",
    "            cts = doc.wordcts   # word index에 대한 카운츠가 붙어있음 \n",
    "            gammad = self._gamma[doc_idx, :]  # D에 대한 감마값 (50,) 토픽에 대한 값임  \n",
    "            expElogthetad = expElogtheta[doc_idx, :] # 세타  (50,) 세타는 토픽에 관련한 값 \n",
    "            expElogbetad = self._expElogbeta[:, ids] # (50 ,186) K W  뿌사이임 이게 \n",
    "\n",
    "            for _ in range(e_max_iter):\n",
    "                lastgamma = gammad\n",
    "\n",
    "                # Update phi and gamma of d-th document\n",
    "                pass\n",
    "\n",
    "                meanchange = numpy.mean(abs(gammad - lastgamma))\n",
    "                if meanchange < meanchangethresh:\n",
    "                    break\n",
    "            self._gamma[doc_idx, :] = gammad\n",
    "\n",
    "        # Compute sufficient statistics for updating lambda (sstats) for M step\n",
    "        pass\n",
    "\n",
    "        return sstats"
   ]
  },
  {
   "cell_type": "code",
   "execution_count": null,
   "metadata": {},
   "outputs": [],
   "source": [
    "def _e_step(self, e_max_iter, meanchangethresh):\n",
    "    \"\"\"\n",
    "    Run E step in variational EM\n",
    "    Update phi and gamma and\n",
    "    Compute sufficient statistics for updating lambda (sstats) for M step\n",
    "    :param e_max_iter: maximum iterations for e step\n",
    "    :param meanchangethresh: minimum value for checking convergence\n",
    "    :return: sufficient statistics for updating lambda\n",
    "    \"\"\"\n",
    "    Elogtheta = self._dirichlet_expectation(self._gamma)\n",
    "    expElogtheta = numpy.exp(Elogtheta) # ( 2246 ,50 )    DK\n",
    "    sstats = numpy.zeros(self._lambda.shape) # (50 ,10473 )  KW\n",
    "\n",
    "    for doc_idx, doc in enumerate(self._docs):\n",
    "        ids = doc.wordids   # word index가 붙어있음  186\n",
    "        cts = doc.wordcts   # word index에 대한 카운츠가 붙어있음 \n",
    "        gammad = self._gamma[doc_idx, :]  # D에 대한 감마값 (50,) 토픽에 대한 값임  \n",
    "        expElogthetad = expElogtheta[doc_idx, :] # 세타  (50,) 세타는 토픽에 관련한 값 \n",
    "        expElogbetad = self._expElogbeta[:, ids] # (50 ,186) K W  뿌사이임 이게 \n",
    "\n",
    "        for _ in range(e_max_iter):\n",
    "            lastgamma = gammad\n",
    "            for words_in_docu in ids:\n",
    "                phi_words_in_docu=[]\n",
    "                for topic in range(50):\n",
    "                    phi_words_in_docu.append()\n",
    "\n",
    "\n",
    "\n",
    "            # Update phi and gamma of d-th document\n",
    "            pass\n",
    "\n",
    "            meanchange = numpy.mean(abs(gammad - lastgamma))\n",
    "            if meanchange < meanchangethresh:\n",
    "                break\n",
    "        self._gamma[doc_idx, :] = gammad\n",
    "\n",
    "    # Compute sufficient statistics for updating lambda (sstats) for M step\n",
    "    pass\n",
    "\n",
    "    return sstats"
   ]
  },
  {
   "cell_type": "code",
   "execution_count": 179,
   "metadata": {},
   "outputs": [
    {
     "data": {
      "text/plain": [
       "(50, 186)"
      ]
     },
     "execution_count": 179,
     "metadata": {},
     "output_type": "execute_result"
    }
   ],
   "source": [
    "words_phi_weighted.T"
   ]
  },
  {
   "cell_type": "code",
   "execution_count": 182,
   "metadata": {},
   "outputs": [],
   "source": [
    "sstats[:,ids]=sstats[:,ids]+words_phi_weighted.T"
   ]
  },
  {
   "cell_type": "code",
   "execution_count": 185,
   "metadata": {},
   "outputs": [
    {
     "data": {
      "text/plain": [
       "array([[0.02478591, 0.        , 0.        , ..., 0.        , 0.        ,\n",
       "        0.        ],\n",
       "       [0.0171353 , 0.        , 0.        , ..., 0.        , 0.        ,\n",
       "        0.        ],\n",
       "       [0.01839186, 0.        , 0.        , ..., 0.        , 0.        ,\n",
       "        0.        ],\n",
       "       ...,\n",
       "       [0.01518788, 0.        , 0.        , ..., 0.        , 0.        ,\n",
       "        0.        ],\n",
       "       [0.02165227, 0.        , 0.        , ..., 0.        , 0.        ,\n",
       "        0.        ],\n",
       "       [0.02867296, 0.        , 0.        , ..., 0.        , 0.        ,\n",
       "        0.        ]])"
      ]
     },
     "execution_count": 185,
     "metadata": {},
     "output_type": "execute_result"
    }
   ],
   "source": [
    "sstats"
   ]
  },
  {
   "cell_type": "code",
   "execution_count": 157,
   "metadata": {},
   "outputs": [
    {
     "data": {
      "text/plain": [
       "(50, 10473)"
      ]
     },
     "execution_count": 157,
     "metadata": {},
     "output_type": "execute_result"
    }
   ],
   "source": [
    "sstats.shape"
   ]
  },
  {
   "cell_type": "code",
   "execution_count": 161,
   "metadata": {},
   "outputs": [
    {
     "data": {
      "text/plain": [
       "(50, 10473)"
      ]
     },
     "execution_count": 161,
     "metadata": {},
     "output_type": "execute_result"
    }
   ],
   "source": [
    "LDA_Model._lambda.shape"
   ]
  },
  {
   "cell_type": "code",
   "execution_count": 154,
   "metadata": {},
   "outputs": [
    {
     "data": {
      "text/plain": [
       "array([0.9828841 , 0.98883235, 0.87747871, 0.93410392, 1.04711965,\n",
       "       1.00059088, 0.91856207, 1.05525134, 1.05921315, 1.08173664,\n",
       "       1.05313613, 1.0354431 , 0.96376397, 0.85911879, 0.87957096,\n",
       "       0.86997253, 0.85440701, 0.85112887, 1.02598489, 0.92692932,\n",
       "       1.04972536, 1.0951156 , 1.08553816, 1.1375705 , 1.10883061,\n",
       "       0.94287612, 1.06414949, 0.90547679, 0.9841623 , 1.02332953,\n",
       "       0.98636875, 1.04816424, 1.0768472 , 0.9534618 , 1.0299278 ,\n",
       "       0.94274067, 0.93629924, 0.85093187, 1.00198336, 1.14447275,\n",
       "       1.19308523, 0.96455354, 1.14052994, 0.92625333, 1.00306714,\n",
       "       0.92624256, 0.78453939, 0.96718659, 1.02832993, 1.27568013])"
      ]
     },
     "execution_count": 154,
     "metadata": {},
     "output_type": "execute_result"
    }
   ],
   "source": [
    "gammad"
   ]
  },
  {
   "cell_type": "code",
   "execution_count": 190,
   "metadata": {},
   "outputs": [],
   "source": [
    "Elogtheta = LDA_Model._dirichlet_expectation(LDA_Model._gamma)\n",
    "expElogtheta = numpy.exp(Elogtheta) # ( 2246 ,50 )    DK\n",
    "sstats = numpy.zeros(LDA_Model._lambda.shape) # (50 ,10473 )  KW\n",
    "\n",
    "for doc_idx, doc in enumerate(LDA_Model._docs):\n",
    "    ids = doc.wordids   # word index가 붙어있음  186\n",
    "    cts = doc.wordcts   # word index에 대한 카운츠가 붙어있음 \n",
    "    gammad = LDA_Model._gamma[doc_idx, :]  # D에 대한 감마값 (50,) 토픽에 대한 값임  \n",
    "    expElogthetad = expElogtheta[doc_idx, :] # 세타  (50,) 세타는 토픽에 관련한 값 \n",
    "    expElogbetad = LDA_Model._expElogbeta[:, ids] # (50 ,186) K W  뿌사이임 이게 \n",
    "    for _ in range(2000):\n",
    "        lastgamma = gammad\n",
    "        words_phi=expElogthetad.reshape(-1,1) * expElogbetad\n",
    "        # normalization phi for each word\n",
    "        sum_of_phis_for_each_words= words_phi.sum(axis=0)\n",
    "        words_phi_normalization= (words_phi/sum_of_phis_for_each_words).T # 제가 가로세로 헷갈려서 뒤집어놓습니다;;\n",
    "        words_phi_weighted=numpy.array(cts).reshape(-1,1)*words_phi_normalization\n",
    "        sum_of_pih_50 = LDA_Model._alpha + numpy.sum(words_phi_weighted,axis=0)\n",
    "        gammad =  sum_of_pih_50\n",
    "        \n",
    "        meanchange = numpy.mean(abs(gammad - lastgamma))\n",
    "        if meanchange < 100:\n",
    "            break\n",
    "        break\n",
    "    self._gamma[doc_idx, :] = gammad\n",
    "    # for문이 도는동안 sstat을 게속 더해주는게 훨씬 나을 것같아 for 문 안에 작성하였습니다.\n",
    "    sstats[:,ids]=sstats[:,ids]+words_phi_weighted.T\n",
    "    break    \n",
    "        \n",
    "        \n",
    "        \n",
    "            \n",
    "#         \n",
    "#             phi_words_in_docu=[]\n",
    "#             for topic in range(50):\n",
    "#                 phi_words_in_docu.append()\n",
    "     "
   ]
  },
  {
   "cell_type": "code",
   "execution_count": 192,
   "metadata": {},
   "outputs": [
    {
     "data": {
      "text/plain": [
       "(50, 10473)"
      ]
     },
     "execution_count": 192,
     "metadata": {},
     "output_type": "execute_result"
    }
   ],
   "source": [
    "sstats.shape"
   ]
  },
  {
   "cell_type": "code",
   "execution_count": 171,
   "metadata": {},
   "outputs": [
    {
     "data": {
      "text/plain": [
       "(50, 10473)"
      ]
     },
     "execution_count": 171,
     "metadata": {},
     "output_type": "execute_result"
    }
   ],
   "source": [
    "sstats.shape"
   ]
  },
  {
   "cell_type": "code",
   "execution_count": 174,
   "metadata": {},
   "outputs": [
    {
     "data": {
      "text/plain": [
       "array([[0., 0., 0., ..., 0., 0., 0.],\n",
       "       [0., 0., 0., ..., 0., 0., 0.],\n",
       "       [0., 0., 0., ..., 0., 0., 0.],\n",
       "       ...,\n",
       "       [0., 0., 0., ..., 0., 0., 0.],\n",
       "       [0., 0., 0., ..., 0., 0., 0.],\n",
       "       [0., 0., 0., ..., 0., 0., 0.]])"
      ]
     },
     "execution_count": 174,
     "metadata": {},
     "output_type": "execute_result"
    }
   ],
   "source": [
    "sstats"
   ]
  },
  {
   "cell_type": "code",
   "execution_count": 173,
   "metadata": {},
   "outputs": [
    {
     "data": {
      "text/plain": [
       "array([[0.02478591, 0.01353489, 0.03475081, ..., 0.02444149, 0.01475051,\n",
       "        0.02098804],\n",
       "       [0.0171353 , 0.01901977, 0.03877138, ..., 0.0209556 , 0.01951777,\n",
       "        0.02680192],\n",
       "       [0.01839186, 0.0215697 , 0.03063427, ..., 0.01589622, 0.01329023,\n",
       "        0.01630079],\n",
       "       ...,\n",
       "       [0.01518788, 0.01872332, 0.03193873, ..., 0.01654871, 0.02083609,\n",
       "        0.01452898],\n",
       "       [0.02165227, 0.00889836, 0.05173069, ..., 0.02470598, 0.01959568,\n",
       "        0.01593232],\n",
       "       [0.02867296, 0.0264817 , 0.04611285, ..., 0.03190879, 0.02739895,\n",
       "        0.02748746]])"
      ]
     },
     "execution_count": 173,
     "metadata": {},
     "output_type": "execute_result"
    }
   ],
   "source": [
    "words_phi_weighted.T"
   ]
  },
  {
   "cell_type": "code",
   "execution_count": 172,
   "metadata": {},
   "outputs": [
    {
     "data": {
      "text/plain": [
       "(50, 186)"
      ]
     },
     "execution_count": 172,
     "metadata": {},
     "output_type": "execute_result"
    }
   ],
   "source": [
    "words_phi_weighted.T.shape"
   ]
  },
  {
   "cell_type": "code",
   "execution_count": 165,
   "metadata": {},
   "outputs": [
    {
     "data": {
      "text/plain": [
       "array([0.9828841 , 0.98883235, 0.87747871, 0.93410392, 1.04711965,\n",
       "       1.00059088, 0.91856207, 1.05525134, 1.05921315, 1.08173664,\n",
       "       1.05313613, 1.0354431 , 0.96376397, 0.85911879, 0.87957096,\n",
       "       0.86997253, 0.85440701, 0.85112887, 1.02598489, 0.92692932,\n",
       "       1.04972536, 1.0951156 , 1.08553816, 1.1375705 , 1.10883061,\n",
       "       0.94287612, 1.06414949, 0.90547679, 0.9841623 , 1.02332953,\n",
       "       0.98636875, 1.04816424, 1.0768472 , 0.9534618 , 1.0299278 ,\n",
       "       0.94274067, 0.93629924, 0.85093187, 1.00198336, 1.14447275,\n",
       "       1.19308523, 0.96455354, 1.14052994, 0.92625333, 1.00306714,\n",
       "       0.92624256, 0.78453939, 0.96718659, 1.02832993, 1.27568013])"
      ]
     },
     "execution_count": 165,
     "metadata": {},
     "output_type": "execute_result"
    }
   ],
   "source": [
    "lastgamma"
   ]
  },
  {
   "cell_type": "code",
   "execution_count": 166,
   "metadata": {},
   "outputs": [
    {
     "data": {
      "text/plain": [
       "array([0.9828841 , 0.98883235, 0.87747871, 0.93410392, 1.04711965,\n",
       "       1.00059088, 0.91856207, 1.05525134, 1.05921315, 1.08173664,\n",
       "       1.05313613, 1.0354431 , 0.96376397, 0.85911879, 0.87957096,\n",
       "       0.86997253, 0.85440701, 0.85112887, 1.02598489, 0.92692932,\n",
       "       1.04972536, 1.0951156 , 1.08553816, 1.1375705 , 1.10883061,\n",
       "       0.94287612, 1.06414949, 0.90547679, 0.9841623 , 1.02332953,\n",
       "       0.98636875, 1.04816424, 1.0768472 , 0.9534618 , 1.0299278 ,\n",
       "       0.94274067, 0.93629924, 0.85093187, 1.00198336, 1.14447275,\n",
       "       1.19308523, 0.96455354, 1.14052994, 0.92625333, 1.00306714,\n",
       "       0.92624256, 0.78453939, 0.96718659, 1.02832993, 1.27568013])"
      ]
     },
     "execution_count": 166,
     "metadata": {},
     "output_type": "execute_result"
    }
   ],
   "source": [
    "gammad"
   ]
  },
  {
   "cell_type": "code",
   "execution_count": 164,
   "metadata": {},
   "outputs": [
    {
     "data": {
      "text/plain": [
       "(186, 50)"
      ]
     },
     "execution_count": 164,
     "metadata": {},
     "output_type": "execute_result"
    }
   ],
   "source": [
    "words_phi_weighted.shape"
   ]
  },
  {
   "cell_type": "code",
   "execution_count": 158,
   "metadata": {},
   "outputs": [
    {
     "data": {
      "text/plain": [
       "(50, 10473)"
      ]
     },
     "execution_count": 158,
     "metadata": {},
     "output_type": "execute_result"
    }
   ],
   "source": [
    "sstats.shape"
   ]
  },
  {
   "cell_type": "code",
   "execution_count": 145,
   "metadata": {},
   "outputs": [
    {
     "data": {
      "text/plain": [
       "(186, 50)"
      ]
     },
     "execution_count": 145,
     "metadata": {},
     "output_type": "execute_result"
    }
   ],
   "source": [
    "words_phi_weighted.shape"
   ]
  },
  {
   "cell_type": "code",
   "execution_count": 148,
   "metadata": {},
   "outputs": [
    {
     "data": {
      "text/plain": [
       "array([5.07863042, 5.08876869, 4.21971879, 4.68046703, 5.71582302,\n",
       "       5.25373688, 4.56811263, 5.95871761, 5.81426672, 5.89824604,\n",
       "       5.64334846, 5.67119694, 4.88425385, 4.13613301, 4.24217473,\n",
       "       4.01858987, 4.05495944, 4.06490751, 5.43358749, 4.70703315,\n",
       "       5.7343131 , 6.16947502, 6.05073549, 6.6187615 , 6.1722606 ,\n",
       "       4.85359519, 5.84265656, 4.52392292, 5.06252649, 5.49595363,\n",
       "       5.14063371, 5.60350122, 5.70128963, 4.93684574, 5.59638403,\n",
       "       4.82518969, 4.78246247, 4.14089225, 5.34567454, 6.49644973,\n",
       "       6.97317001, 5.03167062, 6.55480297, 4.56277404, 5.31840834,\n",
       "       4.554055  , 3.48075145, 5.0579239 , 5.61757541, 7.62267246])"
      ]
     },
     "execution_count": 148,
     "metadata": {},
     "output_type": "execute_result"
    }
   ],
   "source": [
    "numpy.sum(words_phi_weighted,axis=0)"
   ]
  },
  {
   "cell_type": "code",
   "execution_count": 153,
   "metadata": {},
   "outputs": [
    {
     "data": {
      "text/plain": [
       "array([5.17863042, 5.18876869, 4.31971879, 4.78046703, 5.81582302,\n",
       "       5.35373688, 4.66811263, 6.05871761, 5.91426672, 5.99824604,\n",
       "       5.74334846, 5.77119694, 4.98425385, 4.23613301, 4.34217473,\n",
       "       4.11858987, 4.15495944, 4.16490751, 5.53358749, 4.80703315,\n",
       "       5.8343131 , 6.26947502, 6.15073549, 6.7187615 , 6.2722606 ,\n",
       "       4.95359519, 5.94265656, 4.62392292, 5.16252649, 5.59595363,\n",
       "       5.24063371, 5.70350122, 5.80128963, 5.03684574, 5.69638403,\n",
       "       4.92518969, 4.88246247, 4.24089225, 5.44567454, 6.59644973,\n",
       "       7.07317001, 5.13167062, 6.65480297, 4.66277404, 5.41840834,\n",
       "       4.654055  , 3.58075145, 5.1579239 , 5.71757541, 7.72267246])"
      ]
     },
     "execution_count": 153,
     "metadata": {},
     "output_type": "execute_result"
    }
   ],
   "source": [
    "sum_of_pih_50"
   ]
  },
  {
   "cell_type": "code",
   "execution_count": 132,
   "metadata": {},
   "outputs": [
    {
     "data": {
      "text/plain": [
       "(186, 50)"
      ]
     },
     "execution_count": 132,
     "metadata": {},
     "output_type": "execute_result"
    }
   ],
   "source": [
    "words_phi_normalization.shape\n"
   ]
  },
  {
   "cell_type": "code",
   "execution_count": 139,
   "metadata": {},
   "outputs": [],
   "source": [
    "g=numpy.array(cts).reshape(-1,1)*words_phi_normalization"
   ]
  },
  {
   "cell_type": "code",
   "execution_count": 140,
   "metadata": {},
   "outputs": [
    {
     "data": {
      "text/plain": [
       "(186, 50)"
      ]
     },
     "execution_count": 140,
     "metadata": {},
     "output_type": "execute_result"
    }
   ],
   "source": [
    "g.shape"
   ]
  },
  {
   "cell_type": "code",
   "execution_count": 134,
   "metadata": {},
   "outputs": [
    {
     "data": {
      "text/plain": [
       "[1,\n",
       " 1,\n",
       " 2,\n",
       " 1,\n",
       " 1,\n",
       " 1,\n",
       " 1,\n",
       " 1,\n",
       " 1,\n",
       " 7,\n",
       " 1,\n",
       " 1,\n",
       " 1,\n",
       " 2,\n",
       " 1,\n",
       " 1,\n",
       " 1,\n",
       " 2,\n",
       " 1,\n",
       " 1,\n",
       " 1,\n",
       " 1,\n",
       " 3,\n",
       " 1,\n",
       " 3,\n",
       " 2,\n",
       " 1,\n",
       " 1,\n",
       " 2,\n",
       " 2,\n",
       " 1,\n",
       " 1,\n",
       " 1,\n",
       " 2,\n",
       " 2,\n",
       " 1,\n",
       " 1,\n",
       " 2,\n",
       " 4,\n",
       " 2,\n",
       " 1,\n",
       " 1,\n",
       " 1,\n",
       " 1,\n",
       " 1,\n",
       " 1,\n",
       " 1,\n",
       " 1,\n",
       " 1,\n",
       " 1,\n",
       " 1,\n",
       " 1,\n",
       " 1,\n",
       " 3,\n",
       " 1,\n",
       " 2,\n",
       " 2,\n",
       " 1,\n",
       " 1,\n",
       " 1,\n",
       " 1,\n",
       " 7,\n",
       " 2,\n",
       " 2,\n",
       " 1,\n",
       " 2,\n",
       " 1,\n",
       " 1,\n",
       " 1,\n",
       " 2,\n",
       " 1,\n",
       " 1,\n",
       " 1,\n",
       " 1,\n",
       " 1,\n",
       " 1,\n",
       " 2,\n",
       " 1,\n",
       " 3,\n",
       " 2,\n",
       " 2,\n",
       " 1,\n",
       " 1,\n",
       " 1,\n",
       " 1,\n",
       " 1,\n",
       " 2,\n",
       " 2,\n",
       " 5,\n",
       " 1,\n",
       " 1,\n",
       " 2,\n",
       " 1,\n",
       " 1,\n",
       " 1,\n",
       " 1,\n",
       " 2,\n",
       " 1,\n",
       " 1,\n",
       " 1,\n",
       " 1,\n",
       " 2,\n",
       " 1,\n",
       " 1,\n",
       " 2,\n",
       " 1,\n",
       " 1,\n",
       " 1,\n",
       " 1,\n",
       " 1,\n",
       " 2,\n",
       " 1,\n",
       " 1,\n",
       " 1,\n",
       " 1,\n",
       " 1,\n",
       " 1,\n",
       " 3,\n",
       " 1,\n",
       " 4,\n",
       " 2,\n",
       " 1,\n",
       " 1,\n",
       " 1,\n",
       " 2,\n",
       " 1,\n",
       " 1,\n",
       " 1,\n",
       " 7,\n",
       " 1,\n",
       " 1,\n",
       " 1,\n",
       " 1,\n",
       " 1,\n",
       " 1,\n",
       " 1,\n",
       " 2,\n",
       " 5,\n",
       " 1,\n",
       " 1,\n",
       " 1,\n",
       " 1,\n",
       " 1,\n",
       " 1,\n",
       " 1,\n",
       " 1,\n",
       " 1,\n",
       " 1,\n",
       " 1,\n",
       " 1,\n",
       " 1,\n",
       " 1,\n",
       " 1,\n",
       " 1,\n",
       " 1,\n",
       " 1,\n",
       " 1,\n",
       " 1,\n",
       " 1,\n",
       " 1,\n",
       " 1,\n",
       " 1,\n",
       " 1,\n",
       " 2,\n",
       " 4,\n",
       " 1,\n",
       " 2,\n",
       " 1,\n",
       " 1,\n",
       " 1,\n",
       " 1,\n",
       " 1,\n",
       " 1,\n",
       " 1,\n",
       " 1,\n",
       " 1,\n",
       " 2,\n",
       " 1,\n",
       " 1,\n",
       " 1,\n",
       " 1,\n",
       " 1,\n",
       " 1,\n",
       " 1,\n",
       " 1,\n",
       " 1]"
      ]
     },
     "execution_count": 134,
     "metadata": {},
     "output_type": "execute_result"
    }
   ],
   "source": [
    "cts"
   ]
  },
  {
   "cell_type": "code",
   "execution_count": 123,
   "metadata": {},
   "outputs": [
    {
     "data": {
      "text/plain": [
       "(50, 186)"
      ]
     },
     "execution_count": 123,
     "metadata": {},
     "output_type": "execute_result"
    }
   ],
   "source": [
    "words_phi_normalization.shape\n"
   ]
  },
  {
   "cell_type": "code",
   "execution_count": 106,
   "metadata": {},
   "outputs": [
    {
     "name": "stdout",
     "output_type": "stream",
     "text": [
      "(50, 186)\n"
     ]
    },
    {
     "data": {
      "text/plain": [
       "array([[7.42036857e-07, 4.11896984e-07, 5.28260342e-07, ...,\n",
       "        7.28611274e-07, 4.41807895e-07, 6.35449700e-07],\n",
       "       [5.12994183e-07, 5.78814325e-07, 5.89378655e-07, ...,\n",
       "        6.24695509e-07, 5.84597176e-07, 8.11475227e-07],\n",
       "       [5.50612785e-07, 6.56414465e-07, 4.65683323e-07, ...,\n",
       "        4.73872989e-07, 3.98069558e-07, 4.93535176e-07],\n",
       "       ...,\n",
       "       [4.54692543e-07, 5.69792712e-07, 4.85512902e-07, ...,\n",
       "        4.93324047e-07, 6.24083490e-07, 4.39890357e-07],\n",
       "       [6.48222631e-07, 2.70797008e-07, 7.86378148e-07, ...,\n",
       "        7.36495718e-07, 5.86930838e-07, 4.82378920e-07],\n",
       "       [8.58406952e-07, 8.05897731e-07, 7.00979081e-07, ...,\n",
       "        9.51214641e-07, 8.20654509e-07, 8.32231066e-07]])"
      ]
     },
     "execution_count": 106,
     "metadata": {},
     "output_type": "execute_result"
    }
   ],
   "source": [
    "print(words_phi.shape)\n",
    "words_phi"
   ]
  },
  {
   "cell_type": "code",
   "execution_count": 101,
   "metadata": {},
   "outputs": [
    {
     "data": {
      "text/plain": [
       "(50, 186)"
      ]
     },
     "execution_count": 101,
     "metadata": {},
     "output_type": "execute_result"
    }
   ],
   "source": [
    "words_phi.shape"
   ]
  },
  {
   "cell_type": "code",
   "execution_count": 108,
   "metadata": {},
   "outputs": [],
   "source": [
    "sum_of_phis_for_each_words=words_phi.sum(axis=0)"
   ]
  },
  {
   "cell_type": "code",
   "execution_count": null,
   "metadata": {},
   "outputs": [],
   "source": [
    "words_phi/sum_of_phis_for_each_words"
   ]
  },
  {
   "cell_type": "code",
   "execution_count": 110,
   "metadata": {},
   "outputs": [
    {
     "data": {
      "text/plain": [
       "array([[2.99378554e-05],\n",
       "       [3.04322467e-05],\n",
       "       [3.04027679e-05],\n",
       "       [3.04970750e-05],\n",
       "       [3.00733928e-05],\n",
       "       [3.07236838e-05],\n",
       "       [2.98393436e-05],\n",
       "       [2.95931059e-05],\n",
       "       [2.96881133e-05],\n",
       "       [3.07354911e-05],\n",
       "       [3.12501392e-05],\n",
       "       [3.13653999e-05],\n",
       "       [3.10601444e-05],\n",
       "       [3.02467442e-05],\n",
       "       [3.05826467e-05],\n",
       "       [3.17763537e-05],\n",
       "       [3.10773111e-05],\n",
       "       [3.05950223e-05],\n",
       "       [3.14698740e-05],\n",
       "       [3.11485076e-05],\n",
       "       [3.05539237e-05],\n",
       "       [3.06596878e-05],\n",
       "       [3.04810720e-05],\n",
       "       [3.03321469e-05],\n",
       "       [3.00464867e-05],\n",
       "       [3.01578586e-05],\n",
       "       [3.00392902e-05],\n",
       "       [2.94395421e-05],\n",
       "       [3.09592521e-05],\n",
       "       [3.06240478e-05],\n",
       "       [3.01527758e-05],\n",
       "       [3.12187159e-05],\n",
       "       [3.14819102e-05],\n",
       "       [3.01432435e-05],\n",
       "       [3.09032752e-05],\n",
       "       [3.05406596e-05],\n",
       "       [2.98548241e-05],\n",
       "       [3.14931912e-05],\n",
       "       [3.06927658e-05],\n",
       "       [2.96285752e-05],\n",
       "       [3.03091911e-05],\n",
       "       [3.09311717e-05],\n",
       "       [3.18201760e-05],\n",
       "       [3.06549513e-05],\n",
       "       [3.08217940e-05],\n",
       "       [2.99112499e-05],\n",
       "       [2.95568032e-05],\n",
       "       [2.98837910e-05],\n",
       "       [3.06446471e-05],\n",
       "       [2.96591923e-05],\n",
       "       [3.10457154e-05],\n",
       "       [3.01085086e-05],\n",
       "       [3.08064750e-05],\n",
       "       [3.02255295e-05],\n",
       "       [3.03523980e-05],\n",
       "       [2.95994901e-05],\n",
       "       [3.05029887e-05],\n",
       "       [3.09186124e-05],\n",
       "       [3.11161022e-05],\n",
       "       [3.06571295e-05],\n",
       "       [3.03067461e-05],\n",
       "       [2.87015664e-05],\n",
       "       [3.07908445e-05],\n",
       "       [3.16147727e-05],\n",
       "       [3.12522000e-05],\n",
       "       [3.08348163e-05],\n",
       "       [3.08001375e-05],\n",
       "       [2.99970838e-05],\n",
       "       [3.06641113e-05],\n",
       "       [2.95229880e-05],\n",
       "       [3.09718851e-05],\n",
       "       [2.93874816e-05],\n",
       "       [2.95425259e-05],\n",
       "       [2.99704368e-05],\n",
       "       [2.92325271e-05],\n",
       "       [3.03537188e-05],\n",
       "       [3.04892921e-05],\n",
       "       [3.06929406e-05],\n",
       "       [3.12569115e-05],\n",
       "       [3.10835979e-05],\n",
       "       [2.93839722e-05],\n",
       "       [3.15196601e-05],\n",
       "       [2.97744736e-05],\n",
       "       [3.02456488e-05],\n",
       "       [3.03134031e-05],\n",
       "       [3.10581247e-05],\n",
       "       [2.98386133e-05],\n",
       "       [3.13660505e-05],\n",
       "       [3.09702026e-05],\n",
       "       [3.02586003e-05],\n",
       "       [3.08268522e-05],\n",
       "       [2.94331916e-05],\n",
       "       [3.04742642e-05],\n",
       "       [3.16224088e-05],\n",
       "       [3.05654782e-05],\n",
       "       [3.08023639e-05],\n",
       "       [3.06672291e-05],\n",
       "       [2.86467046e-05],\n",
       "       [2.94946049e-05],\n",
       "       [2.95518367e-05],\n",
       "       [3.14314682e-05],\n",
       "       [3.02163943e-05],\n",
       "       [3.08605721e-05],\n",
       "       [3.07408388e-05],\n",
       "       [3.10434893e-05],\n",
       "       [3.02544679e-05],\n",
       "       [2.94685149e-05],\n",
       "       [3.08758368e-05],\n",
       "       [2.94240033e-05],\n",
       "       [2.96204194e-05],\n",
       "       [3.13970473e-05],\n",
       "       [2.97965806e-05],\n",
       "       [3.23085235e-05],\n",
       "       [3.00986762e-05],\n",
       "       [3.19674074e-05],\n",
       "       [2.98759891e-05],\n",
       "       [3.04968538e-05],\n",
       "       [3.00830910e-05],\n",
       "       [3.15992504e-05],\n",
       "       [2.92967321e-05],\n",
       "       [3.00628504e-05],\n",
       "       [3.03311263e-05],\n",
       "       [3.09933651e-05],\n",
       "       [3.27937665e-05],\n",
       "       [3.03760584e-05],\n",
       "       [3.08858278e-05],\n",
       "       [2.92331877e-05],\n",
       "       [2.99979873e-05],\n",
       "       [3.05184554e-05],\n",
       "       [3.04095190e-05],\n",
       "       [3.08506676e-05],\n",
       "       [3.03953914e-05],\n",
       "       [3.10971508e-05],\n",
       "       [3.11935953e-05],\n",
       "       [3.07571036e-05],\n",
       "       [2.98049880e-05],\n",
       "       [3.02237738e-05],\n",
       "       [3.12487536e-05],\n",
       "       [3.10192909e-05],\n",
       "       [3.00219587e-05],\n",
       "       [2.99693775e-05],\n",
       "       [3.01120882e-05],\n",
       "       [2.98892520e-05],\n",
       "       [3.18516275e-05],\n",
       "       [3.11416559e-05],\n",
       "       [2.88236012e-05],\n",
       "       [3.01380726e-05],\n",
       "       [2.96814996e-05],\n",
       "       [3.00738971e-05],\n",
       "       [3.02094505e-05],\n",
       "       [2.85579408e-05],\n",
       "       [2.98195377e-05],\n",
       "       [3.05139254e-05],\n",
       "       [3.10991096e-05],\n",
       "       [2.99841687e-05],\n",
       "       [3.03342174e-05],\n",
       "       [3.08901915e-05],\n",
       "       [3.06055681e-05],\n",
       "       [3.05757741e-05],\n",
       "       [3.01731231e-05],\n",
       "       [3.08553068e-05],\n",
       "       [2.94427129e-05],\n",
       "       [3.01667113e-05],\n",
       "       [2.88831009e-05],\n",
       "       [3.01469514e-05],\n",
       "       [2.91763878e-05],\n",
       "       [3.04674540e-05],\n",
       "       [3.03895494e-05],\n",
       "       [3.11297719e-05],\n",
       "       [3.11267565e-05],\n",
       "       [3.22873629e-05],\n",
       "       [3.07110269e-05],\n",
       "       [2.98320812e-05],\n",
       "       [2.94177964e-05],\n",
       "       [3.03237307e-05],\n",
       "       [3.12919065e-05],\n",
       "       [3.13750387e-05],\n",
       "       [3.03501646e-05],\n",
       "       [3.08965234e-05],\n",
       "       [3.01277080e-05],\n",
       "       [2.97105030e-05],\n",
       "       [2.88595376e-05],\n",
       "       [3.01940376e-05],\n",
       "       [2.98104274e-05],\n",
       "       [2.99520475e-05],\n",
       "       [3.02767596e-05]])"
      ]
     },
     "execution_count": 110,
     "metadata": {},
     "output_type": "execute_result"
    }
   ],
   "source": [
    "sum_of_phis_for_each_words.reshape(-1,1)"
   ]
  },
  {
   "cell_type": "code",
   "execution_count": 113,
   "metadata": {},
   "outputs": [
    {
     "data": {
      "text/plain": [
       "(50, 186)"
      ]
     },
     "execution_count": 113,
     "metadata": {},
     "output_type": "execute_result"
    }
   ],
   "source": [
    "words_phi.shape"
   ]
  },
  {
   "cell_type": "code",
   "execution_count": 119,
   "metadata": {},
   "outputs": [
    {
     "data": {
      "text/plain": [
       "array([[7.42036857e-07, 4.11896984e-07, 5.28260342e-07, ...,\n",
       "        7.28611274e-07, 4.41807895e-07, 6.35449700e-07],\n",
       "       [5.12994183e-07, 5.78814325e-07, 5.89378655e-07, ...,\n",
       "        6.24695509e-07, 5.84597176e-07, 8.11475227e-07],\n",
       "       [5.50612785e-07, 6.56414465e-07, 4.65683323e-07, ...,\n",
       "        4.73872989e-07, 3.98069558e-07, 4.93535176e-07],\n",
       "       ...,\n",
       "       [4.54692543e-07, 5.69792712e-07, 4.85512902e-07, ...,\n",
       "        4.93324047e-07, 6.24083490e-07, 4.39890357e-07],\n",
       "       [6.48222631e-07, 2.70797008e-07, 7.86378148e-07, ...,\n",
       "        7.36495718e-07, 5.86930838e-07, 4.82378920e-07],\n",
       "       [8.58406952e-07, 8.05897731e-07, 7.00979081e-07, ...,\n",
       "        9.51214641e-07, 8.20654509e-07, 8.32231066e-07]])"
      ]
     },
     "execution_count": 119,
     "metadata": {},
     "output_type": "execute_result"
    }
   ],
   "source": [
    "words_phi"
   ]
  },
  {
   "cell_type": "code",
   "execution_count": 118,
   "metadata": {},
   "outputs": [
    {
     "data": {
      "text/plain": [
       "array([[0.02478591, 0.01353489, 0.0173754 , ..., 0.02444149, 0.01475051,\n",
       "        0.02098804],\n",
       "       [0.0171353 , 0.01901977, 0.01938569, ..., 0.0209556 , 0.01951777,\n",
       "        0.02680192],\n",
       "       [0.01839186, 0.0215697 , 0.01531714, ..., 0.01589622, 0.01329023,\n",
       "        0.01630079],\n",
       "       ...,\n",
       "       [0.01518788, 0.01872332, 0.01596937, ..., 0.01654871, 0.02083609,\n",
       "        0.01452898],\n",
       "       [0.02165227, 0.00889836, 0.02586535, ..., 0.02470598, 0.01959568,\n",
       "        0.01593232],\n",
       "       [0.02867296, 0.0264817 , 0.02305642, ..., 0.03190879, 0.02739895,\n",
       "        0.02748746]])"
      ]
     },
     "execution_count": 118,
     "metadata": {},
     "output_type": "execute_result"
    }
   ],
   "source": [
    "words_phi/sum_of_phis_for_each_words"
   ]
  },
  {
   "cell_type": "code",
   "execution_count": 117,
   "metadata": {},
   "outputs": [
    {
     "data": {
      "text/plain": [
       "(50, 186)"
      ]
     },
     "execution_count": 117,
     "metadata": {},
     "output_type": "execute_result"
    }
   ],
   "source": [
    "(words_phi/sum_of_phis_for_each_words).shape"
   ]
  },
  {
   "cell_type": "code",
   "execution_count": 121,
   "metadata": {},
   "outputs": [
    {
     "data": {
      "text/plain": [
       "array([[0.02478591, 0.01353489, 0.0173754 , ..., 0.02444149, 0.01475051,\n",
       "        0.02098804],\n",
       "       [0.0171353 , 0.01901977, 0.01938569, ..., 0.0209556 , 0.01951777,\n",
       "        0.02680192],\n",
       "       [0.01839186, 0.0215697 , 0.01531714, ..., 0.01589622, 0.01329023,\n",
       "        0.01630079],\n",
       "       ...,\n",
       "       [0.01518788, 0.01872332, 0.01596937, ..., 0.01654871, 0.02083609,\n",
       "        0.01452898],\n",
       "       [0.02165227, 0.00889836, 0.02586535, ..., 0.02470598, 0.01959568,\n",
       "        0.01593232],\n",
       "       [0.02867296, 0.0264817 , 0.02305642, ..., 0.03190879, 0.02739895,\n",
       "        0.02748746]])"
      ]
     },
     "execution_count": 121,
     "metadata": {},
     "output_type": "execute_result"
    }
   ],
   "source": [
    "words_phi_normalization"
   ]
  },
  {
   "cell_type": "code",
   "execution_count": 105,
   "metadata": {},
   "outputs": [
    {
     "data": {
      "text/plain": [
       "186"
      ]
     },
     "execution_count": 105,
     "metadata": {},
     "output_type": "execute_result"
    }
   ],
   "source": [
    "len(words_phi.sum(axis=0))"
   ]
  },
  {
   "cell_type": "code",
   "execution_count": null,
   "metadata": {},
   "outputs": [],
   "source": [
    "numpy."
   ]
  },
  {
   "cell_type": "code",
   "execution_count": 83,
   "metadata": {},
   "outputs": [
    {
     "ename": "ValueError",
     "evalue": "operands could not be broadcast together with shapes (50,) (50,186) ",
     "output_type": "error",
     "traceback": [
      "\u001b[0;31m---------------------------------------------------------------------------\u001b[0m",
      "\u001b[0;31mValueError\u001b[0m                                Traceback (most recent call last)",
      "\u001b[0;32m<ipython-input-83-e522add44fcc>\u001b[0m in \u001b[0;36m<module>\u001b[0;34m\u001b[0m\n\u001b[0;32m----> 1\u001b[0;31m \u001b[0mexpElogthetad\u001b[0m\u001b[0;34m*\u001b[0m\u001b[0mexpElogbetad\u001b[0m\u001b[0;34m\u001b[0m\u001b[0;34m\u001b[0m\u001b[0m\n\u001b[0m",
      "\u001b[0;31mValueError\u001b[0m: operands could not be broadcast together with shapes (50,) (50,186) "
     ]
    }
   ],
   "source": [
    "expElogthetad*expElogbetad"
   ]
  },
  {
   "cell_type": "code",
   "execution_count": 88,
   "metadata": {},
   "outputs": [
    {
     "data": {
      "text/plain": [
       "array([[6.70995809e-05, 3.72462834e-05, 4.77685808e-05, ...,\n",
       "        6.58855563e-05, 3.99510136e-05, 5.74613083e-05],\n",
       "       [4.59269769e-05, 5.18196755e-05, 5.27654713e-05, ...,\n",
       "        5.59272934e-05, 5.23373985e-05, 7.26491746e-05],\n",
       "       [6.04090452e-05, 7.20168006e-05, 5.10912309e-05, ...,\n",
       "        5.19897388e-05, 4.36731630e-05, 5.41469243e-05],\n",
       "       ...,\n",
       "       [4.22328270e-05, 5.29235797e-05, 4.50954887e-05, ...,\n",
       "        4.58210047e-05, 5.79662246e-05, 4.08579680e-05],\n",
       "       [5.44259365e-05, 2.27366032e-05, 6.60257219e-05, ...,\n",
       "        6.18375035e-05, 4.92797675e-05, 4.05014006e-05],\n",
       "       [5.15867770e-05, 4.84311858e-05, 4.21260004e-05, ...,\n",
       "        5.71641429e-05, 4.93180083e-05, 5.00137125e-05]])"
      ]
     },
     "execution_count": 88,
     "metadata": {},
     "output_type": "execute_result"
    }
   ],
   "source": [
    "expElogbetad"
   ]
  },
  {
   "cell_type": "code",
   "execution_count": 80,
   "metadata": {},
   "outputs": [
    {
     "data": {
      "text/plain": [
       "array([7.42036857e-07, 5.12994183e-07, 5.50612785e-07, 4.39498506e-07,\n",
       "       6.02446092e-07, 6.23093186e-07, 4.36995308e-07, 6.30441942e-07,\n",
       "       7.08833216e-07, 8.20887782e-07, 4.92940672e-07, 7.75584721e-07,\n",
       "       6.55726867e-07, 4.03271880e-07, 5.46715188e-07, 5.44132609e-07,\n",
       "       5.27326752e-07, 4.74211468e-07, 5.26847385e-07, 6.14071078e-07,\n",
       "       5.35164426e-07, 7.43912824e-07, 5.63956867e-07, 8.26854753e-07,\n",
       "       7.07725584e-07, 6.60687608e-07, 5.27629852e-07, 5.01769043e-07,\n",
       "       5.69239178e-07, 5.31869765e-07, 6.50004584e-07, 5.10963081e-07,\n",
       "       7.35811028e-07, 5.45581685e-07, 4.74899799e-07, 6.78435629e-07,\n",
       "       5.55873157e-07, 4.40995442e-07, 6.94034758e-07, 6.52717203e-07,\n",
       "       7.28713922e-07, 6.38794230e-07, 6.94874961e-07, 4.64363532e-07,\n",
       "       5.07612309e-07, 7.13385545e-07, 4.91993994e-07, 4.54692543e-07,\n",
       "       6.48222631e-07, 8.58406952e-07])"
      ]
     },
     "execution_count": 80,
     "metadata": {},
     "output_type": "execute_result"
    }
   ],
   "source": [
    "expElogthetad* expElogbetad[:,0]"
   ]
  },
  {
   "cell_type": "code",
   "execution_count": 82,
   "metadata": {},
   "outputs": [
    {
     "data": {
      "text/plain": [
       "(50, 186)"
      ]
     },
     "execution_count": 82,
     "metadata": {},
     "output_type": "execute_result"
    }
   ],
   "source": [
    "expElogbetad.shape"
   ]
  },
  {
   "cell_type": "code",
   "execution_count": 51,
   "metadata": {},
   "outputs": [
    {
     "data": {
      "text/plain": [
       "(50, 186)"
      ]
     },
     "execution_count": 51,
     "metadata": {},
     "output_type": "execute_result"
    }
   ],
   "source": [
    "expElogbetad.shape"
   ]
  },
  {
   "cell_type": "code",
   "execution_count": 57,
   "metadata": {},
   "outputs": [
    {
     "data": {
      "text/plain": [
       "[0,\n",
       " 6144,\n",
       " 3586,\n",
       " 3,\n",
       " 4,\n",
       " 1541,\n",
       " 8,\n",
       " 10,\n",
       " 3927,\n",
       " 12,\n",
       " 4621,\n",
       " 527,\n",
       " 9232,\n",
       " 1112,\n",
       " 20,\n",
       " 2587,\n",
       " 6172,\n",
       " 10269,\n",
       " 37,\n",
       " 42,\n",
       " 3117,\n",
       " 1582,\n",
       " 1585,\n",
       " 435,\n",
       " 9268,\n",
       " 571,\n",
       " 60,\n",
       " 61,\n",
       " 63,\n",
       " 64,\n",
       " 5185,\n",
       " 11,\n",
       " 4683,\n",
       " 590,\n",
       " 1103,\n",
       " 592,\n",
       " 5718,\n",
       " 1623,\n",
       " 1624,\n",
       " 89,\n",
       " 6234,\n",
       " 8802,\n",
       " 1638,\n",
       " 103,\n",
       " 600,\n",
       " 9404,\n",
       " 106,\n",
       " 3691,\n",
       " 720,\n",
       " 2672,\n",
       " 113,\n",
       " 2165,\n",
       " 5751,\n",
       " 123,\n",
       " 1148,\n",
       " 128,\n",
       " 1670,\n",
       " 4231,\n",
       " 1167,\n",
       " 144,\n",
       " 147,\n",
       " 149,\n",
       " 3735,\n",
       " 5272,\n",
       " 1732,\n",
       " 673,\n",
       " 5282,\n",
       " 27,\n",
       " 1700,\n",
       " 9893,\n",
       " 166,\n",
       " 167,\n",
       " 173,\n",
       " 174,\n",
       " 2224,\n",
       " 2248,\n",
       " 372,\n",
       " 186,\n",
       " 4284,\n",
       " 3450,\n",
       " 117,\n",
       " 203,\n",
       " 2244,\n",
       " 5320,\n",
       " 201,\n",
       " 4215,\n",
       " 9932,\n",
       " 207,\n",
       " 208,\n",
       " 8914,\n",
       " 7898,\n",
       " 733,\n",
       " 1760,\n",
       " 1744,\n",
       " 744,\n",
       " 234,\n",
       " 1259,\n",
       " 4287,\n",
       " 7254,\n",
       " 249,\n",
       " 8311,\n",
       " 5884,\n",
       " 298,\n",
       " 254,\n",
       " 767,\n",
       " 2304,\n",
       " 4876,\n",
       " 270,\n",
       " 557,\n",
       " 786,\n",
       " 789,\n",
       " 2331,\n",
       " 287,\n",
       " 5409,\n",
       " 290,\n",
       " 5923,\n",
       " 2854,\n",
       " 1834,\n",
       " 303,\n",
       " 3888,\n",
       " 817,\n",
       " 9523,\n",
       " 334,\n",
       " 1333,\n",
       " 311,\n",
       " 1855,\n",
       " 1417,\n",
       " 325,\n",
       " 1870,\n",
       " 1361,\n",
       " 1362,\n",
       " 6995,\n",
       " 342,\n",
       " 343,\n",
       " 344,\n",
       " 857,\n",
       " 5469,\n",
       " 351,\n",
       " 1377,\n",
       " 2402,\n",
       " 487,\n",
       " 884,\n",
       " 885,\n",
       " 890,\n",
       " 4477,\n",
       " 3455,\n",
       " 1410,\n",
       " 5099,\n",
       " 4489,\n",
       " 395,\n",
       " 2570,\n",
       " 152,\n",
       " 404,\n",
       " 1429,\n",
       " 1430,\n",
       " 3992,\n",
       " 416,\n",
       " 3491,\n",
       " 2033,\n",
       " 3499,\n",
       " 429,\n",
       " 3502,\n",
       " 5040,\n",
       " 433,\n",
       " 1971,\n",
       " 437,\n",
       " 9667,\n",
       " 322,\n",
       " 7119,\n",
       " 8656,\n",
       " 1102,\n",
       " 985,\n",
       " 989,\n",
       " 1840,\n",
       " 2529,\n",
       " 997,\n",
       " 2022,\n",
       " 4071,\n",
       " 2536,\n",
       " 10219,\n",
       " 1517,\n",
       " 1009,\n",
       " 221,\n",
       " 3059,\n",
       " 500,\n",
       " 511]"
      ]
     },
     "execution_count": 57,
     "metadata": {},
     "output_type": "execute_result"
    }
   ],
   "source": [
    "ids"
   ]
  },
  {
   "cell_type": "code",
   "execution_count": null,
   "metadata": {},
   "outputs": [],
   "source": [
    "numpy.reshape()"
   ]
  },
  {
   "cell_type": "code",
   "execution_count": 53,
   "metadata": {},
   "outputs": [
    {
     "data": {
      "text/plain": [
       "array([6.70995809e-05, 4.59269769e-05, 6.04090452e-05, 4.32867249e-05,\n",
       "       4.91224765e-05, 5.47069756e-05, 4.42898492e-05, 5.07696683e-05,\n",
       "       5.67404420e-05, 6.35409348e-05, 3.98247868e-05, 6.43956300e-05,\n",
       "       6.12674443e-05, 4.59234664e-05, 5.97317604e-05, 6.06056922e-05,\n",
       "       6.06392434e-05, 5.49053913e-05, 4.43994595e-05, 6.12795452e-05,\n",
       "       4.34621733e-05, 5.64724505e-05, 4.34108251e-05, 5.91372126e-05,\n",
       "       5.26821952e-05, 6.40490212e-05, 4.19222816e-05, 5.21245642e-05,\n",
       "       5.13633680e-05, 4.50120671e-05, 5.84338152e-05, 4.15962474e-05,\n",
       "       5.73671952e-05, 5.19036496e-05, 3.97730567e-05, 6.57855500e-05,\n",
       "       5.45308195e-05, 5.10806025e-05, 6.07964228e-05, 4.62464302e-05,\n",
       "       4.84325099e-05, 5.96036241e-05, 4.94977324e-05, 4.63975864e-05,\n",
       "       4.43871811e-05, 7.12804123e-05, 6.60635062e-05, 4.22328270e-05,\n",
       "       5.44259365e-05, 5.15867770e-05])"
      ]
     },
     "execution_count": 53,
     "metadata": {},
     "output_type": "execute_result"
    }
   ],
   "source": [
    "expElogbetad[:,0]*2"
   ]
  },
  {
   "cell_type": "code",
   "execution_count": 89,
   "metadata": {},
   "outputs": [],
   "source": [
    "a=numpy.array([1,2,3])"
   ]
  },
  {
   "cell_type": "code",
   "execution_count": null,
   "metadata": {},
   "outputs": [],
   "source": []
  },
  {
   "cell_type": "code",
   "execution_count": 58,
   "metadata": {},
   "outputs": [
    {
     "data": {
      "text/plain": [
       "186"
      ]
     },
     "execution_count": 58,
     "metadata": {},
     "output_type": "execute_result"
    }
   ],
   "source": [
    "len(ids)"
   ]
  },
  {
   "cell_type": "code",
   "execution_count": 59,
   "metadata": {},
   "outputs": [
    {
     "data": {
      "text/plain": [
       "186"
      ]
     },
     "execution_count": 59,
     "metadata": {},
     "output_type": "execute_result"
    }
   ],
   "source": [
    "len(list(set(ids)))"
   ]
  },
  {
   "cell_type": "code",
   "execution_count": 67,
   "metadata": {},
   "outputs": [
    {
     "data": {
      "text/plain": [
       "array([0.80818243, 0.99173105, 0.92937133, 1.01810955, 1.27011777,\n",
       "       0.87797297, 0.93021217, 0.94623241, 0.98542104, 0.97302616,\n",
       "       1.03712878, 0.89547098, 0.92699843, 1.02500066, 0.91792125,\n",
       "       0.971065  , 1.06886081, 1.05845946, 1.01193525, 1.14168643,\n",
       "       0.94179683, 0.956522  , 1.03694447, 0.96105937, 0.94344234,\n",
       "       1.17071208, 0.87021271, 1.06758464, 0.98247865, 1.14712885,\n",
       "       1.14920571, 0.96872152, 1.0530657 , 0.97158982, 1.26966729,\n",
       "       0.96688974, 1.00698621, 0.83450302, 1.16039304, 1.23614038,\n",
       "       0.80647543, 1.00566718, 0.87828266, 1.07915339, 1.0290761 ,\n",
       "       0.91197793, 0.90597072, 0.91935529, 0.96605832, 0.9939127 ])"
      ]
     },
     "execution_count": 67,
     "metadata": {},
     "output_type": "execute_result"
    }
   ],
   "source": [
    "gammad"
   ]
  },
  {
   "cell_type": "code",
   "execution_count": 91,
   "metadata": {},
   "outputs": [
    {
     "data": {
      "text/plain": [
       "array([1, 2, 3])"
      ]
     },
     "execution_count": 91,
     "metadata": {},
     "output_type": "execute_result"
    }
   ],
   "source": [
    "a=numpy.array([1,2,3])\n",
    "a"
   ]
  },
  {
   "cell_type": "code",
   "execution_count": 92,
   "metadata": {},
   "outputs": [
    {
     "data": {
      "text/plain": [
       "array([[1, 2, 3],\n",
       "       [4, 5, 6],\n",
       "       [1, 2, 4]])"
      ]
     },
     "execution_count": 92,
     "metadata": {},
     "output_type": "execute_result"
    }
   ],
   "source": [
    "b=numpy.array([[1,2,3],[4,5,6],[1,2,4]])\n",
    "b"
   ]
  },
  {
   "cell_type": "code",
   "execution_count": 96,
   "metadata": {},
   "outputs": [
    {
     "data": {
      "text/plain": [
       "array([[1],\n",
       "       [2],\n",
       "       [3]])"
      ]
     },
     "execution_count": 96,
     "metadata": {},
     "output_type": "execute_result"
    }
   ],
   "source": [
    "a.reshape(-1,1)"
   ]
  },
  {
   "cell_type": "code",
   "execution_count": 97,
   "metadata": {},
   "outputs": [
    {
     "data": {
      "text/plain": [
       "array([[ 1,  2,  3],\n",
       "       [ 8, 10, 12],\n",
       "       [ 3,  6, 12]])"
      ]
     },
     "execution_count": 97,
     "metadata": {},
     "output_type": "execute_result"
    }
   ],
   "source": [
    "a.reshape(-1,1)*b"
   ]
  },
  {
   "cell_type": "code",
   "execution_count": 87,
   "metadata": {},
   "outputs": [
    {
     "ename": "ValueError",
     "evalue": "shapes (3,1) and (3,3) not aligned: 1 (dim 1) != 3 (dim 0)",
     "output_type": "error",
     "traceback": [
      "\u001b[0;31m---------------------------------------------------------------------------\u001b[0m",
      "\u001b[0;31mValueError\u001b[0m                                Traceback (most recent call last)",
      "\u001b[0;32m<ipython-input-87-675d564cd496>\u001b[0m in \u001b[0;36m<module>\u001b[0;34m\u001b[0m\n\u001b[0;32m----> 1\u001b[0;31m \u001b[0ma\u001b[0m\u001b[0;34m.\u001b[0m\u001b[0mT\u001b[0m\u001b[0;34m*\u001b[0m\u001b[0mb\u001b[0m\u001b[0;34m\u001b[0m\u001b[0;34m\u001b[0m\u001b[0m\n\u001b[0m",
      "\u001b[0;32m/opt/anaconda3/lib/python3.8/site-packages/numpy/matrixlib/defmatrix.py\u001b[0m in \u001b[0;36m__mul__\u001b[0;34m(self, other)\u001b[0m\n\u001b[1;32m    216\u001b[0m         \u001b[0;32mif\u001b[0m \u001b[0misinstance\u001b[0m\u001b[0;34m(\u001b[0m\u001b[0mother\u001b[0m\u001b[0;34m,\u001b[0m \u001b[0;34m(\u001b[0m\u001b[0mN\u001b[0m\u001b[0;34m.\u001b[0m\u001b[0mndarray\u001b[0m\u001b[0;34m,\u001b[0m \u001b[0mlist\u001b[0m\u001b[0;34m,\u001b[0m \u001b[0mtuple\u001b[0m\u001b[0;34m)\u001b[0m\u001b[0;34m)\u001b[0m \u001b[0;34m:\u001b[0m\u001b[0;34m\u001b[0m\u001b[0;34m\u001b[0m\u001b[0m\n\u001b[1;32m    217\u001b[0m             \u001b[0;31m# This promotes 1-D vectors to row vectors\u001b[0m\u001b[0;34m\u001b[0m\u001b[0;34m\u001b[0m\u001b[0;34m\u001b[0m\u001b[0m\n\u001b[0;32m--> 218\u001b[0;31m             \u001b[0;32mreturn\u001b[0m \u001b[0mN\u001b[0m\u001b[0;34m.\u001b[0m\u001b[0mdot\u001b[0m\u001b[0;34m(\u001b[0m\u001b[0mself\u001b[0m\u001b[0;34m,\u001b[0m \u001b[0masmatrix\u001b[0m\u001b[0;34m(\u001b[0m\u001b[0mother\u001b[0m\u001b[0;34m)\u001b[0m\u001b[0;34m)\u001b[0m\u001b[0;34m\u001b[0m\u001b[0;34m\u001b[0m\u001b[0m\n\u001b[0m\u001b[1;32m    219\u001b[0m         \u001b[0;32mif\u001b[0m \u001b[0misscalar\u001b[0m\u001b[0;34m(\u001b[0m\u001b[0mother\u001b[0m\u001b[0;34m)\u001b[0m \u001b[0;32mor\u001b[0m \u001b[0;32mnot\u001b[0m \u001b[0mhasattr\u001b[0m\u001b[0;34m(\u001b[0m\u001b[0mother\u001b[0m\u001b[0;34m,\u001b[0m \u001b[0;34m'__rmul__'\u001b[0m\u001b[0;34m)\u001b[0m \u001b[0;34m:\u001b[0m\u001b[0;34m\u001b[0m\u001b[0;34m\u001b[0m\u001b[0m\n\u001b[1;32m    220\u001b[0m             \u001b[0;32mreturn\u001b[0m \u001b[0mN\u001b[0m\u001b[0;34m.\u001b[0m\u001b[0mdot\u001b[0m\u001b[0;34m(\u001b[0m\u001b[0mself\u001b[0m\u001b[0;34m,\u001b[0m \u001b[0mother\u001b[0m\u001b[0;34m)\u001b[0m\u001b[0;34m\u001b[0m\u001b[0;34m\u001b[0m\u001b[0m\n",
      "\u001b[0;32m<__array_function__ internals>\u001b[0m in \u001b[0;36mdot\u001b[0;34m(*args, **kwargs)\u001b[0m\n",
      "\u001b[0;31mValueError\u001b[0m: shapes (3,1) and (3,3) not aligned: 1 (dim 1) != 3 (dim 0)"
     ]
    }
   ],
   "source": [
    "a.T*b"
   ]
  },
  {
   "cell_type": "code",
   "execution_count": 77,
   "metadata": {},
   "outputs": [
    {
     "data": {
      "text/plain": [
       "array([ 2, 20, 20])"
      ]
     },
     "execution_count": 77,
     "metadata": {},
     "output_type": "execute_result"
    }
   ],
   "source": [
    "numpy.array([1,4,2]) * numpy.array([2,5,10])"
   ]
  },
  {
   "cell_type": "code",
   "execution_count": 75,
   "metadata": {},
   "outputs": [
    {
     "data": {
      "text/plain": [
       "matrix([[1, 2, 3]])"
      ]
     },
     "execution_count": 75,
     "metadata": {},
     "output_type": "execute_result"
    }
   ],
   "source": [
    "a[0]"
   ]
  },
  {
   "cell_type": "code",
   "execution_count": 74,
   "metadata": {},
   "outputs": [
    {
     "data": {
      "text/plain": [
       "matrix([[12]])"
      ]
     },
     "execution_count": 74,
     "metadata": {},
     "output_type": "execute_result"
    }
   ],
   "source": [
    "a[0]*b[:,0]"
   ]
  },
  {
   "cell_type": "code",
   "execution_count": 71,
   "metadata": {},
   "outputs": [
    {
     "data": {
      "text/plain": [
       "matrix([[12]])"
      ]
     },
     "execution_count": 71,
     "metadata": {},
     "output_type": "execute_result"
    }
   ],
   "source": [
    "a*b[:,0]"
   ]
  },
  {
   "cell_type": "code",
   "execution_count": null,
   "metadata": {},
   "outputs": [],
   "source": [
    "numpy."
   ]
  },
  {
   "cell_type": "code",
   "execution_count": 68,
   "metadata": {},
   "outputs": [
    {
     "data": {
      "text/plain": [
       "matrix([[12, 18, 27]])"
      ]
     },
     "execution_count": 68,
     "metadata": {},
     "output_type": "execute_result"
    }
   ],
   "source": [
    "a*b"
   ]
  },
  {
   "cell_type": "code",
   "execution_count": null,
   "metadata": {},
   "outputs": [],
   "source": [
    "gammad"
   ]
  },
  {
   "cell_type": "code",
   "execution_count": 56,
   "metadata": {},
   "outputs": [
    {
     "data": {
      "text/plain": [
       "(50, 10473)"
      ]
     },
     "execution_count": 56,
     "metadata": {},
     "output_type": "execute_result"
    }
   ],
   "source": [
    "LDA_Model._lambda.shape"
   ]
  },
  {
   "cell_type": "code",
   "execution_count": 66,
   "metadata": {},
   "outputs": [
    {
     "data": {
      "text/plain": [
       "array([[0.94631201, 0.84581722, 1.01871631, ..., 0.99217455, 0.8360095 ,\n",
       "        1.09406908],\n",
       "       [0.99463475, 1.05708814, 1.19491775, ..., 0.91939829, 1.00709301,\n",
       "        0.93445162],\n",
       "       [0.99751395, 0.97853242, 1.04460572, ..., 0.96534723, 1.02873342,\n",
       "        1.12321118],\n",
       "       ...,\n",
       "       [0.95187171, 1.18101426, 1.02821443, ..., 0.99636862, 0.86653754,\n",
       "        0.89400902],\n",
       "       [1.08117387, 1.01755847, 1.00978653, ..., 1.02169988, 0.89065601,\n",
       "        0.97971279],\n",
       "       [1.08391883, 1.08849737, 0.97557978, ..., 0.79568456, 0.80195397,\n",
       "        1.07915967]])"
      ]
     },
     "execution_count": 66,
     "metadata": {},
     "output_type": "execute_result"
    }
   ],
   "source": [
    "LDA_Model._lambda"
   ]
  },
  {
   "cell_type": "code",
   "execution_count": 61,
   "metadata": {},
   "outputs": [
    {
     "data": {
      "text/plain": [
       "array([4.89446813e-05, 5.31249955e-05, 5.34318597e-05, 4.63404859e-05,\n",
       "       3.70336718e-05, 3.44710120e-05, 5.65652355e-05, 6.14723162e-05,\n",
       "       5.03267313e-05, 5.17097365e-05, 5.16420208e-05, 5.02961961e-05,\n",
       "       4.90834036e-05, 4.98286185e-05, 5.11096664e-05, 4.64006936e-05,\n",
       "       5.42996572e-05, 3.65751585e-05, 6.07862087e-05, 5.84451626e-05,\n",
       "       4.43686955e-05, 5.94298131e-05, 4.55577160e-05, 5.20172345e-05,\n",
       "       6.42983857e-05, 5.68783225e-05, 3.65961100e-05, 6.53091538e-05,\n",
       "       4.59326212e-05, 6.99558642e-05, 3.90991915e-05, 4.23329032e-05,\n",
       "       6.45137350e-05, 5.19450275e-05, 6.27137851e-05, 5.39694809e-05,\n",
       "       5.35833875e-05, 6.90929254e-05, 5.21153716e-05, 5.55719712e-05,\n",
       "       4.42467940e-05, 4.86512919e-05, 5.16753137e-05, 4.29372049e-05,\n",
       "       5.97266604e-05, 4.33834402e-05, 5.00058114e-05, 4.92893115e-05,\n",
       "       6.08785971e-05, 6.10640861e-05])"
      ]
     },
     "execution_count": 61,
     "metadata": {},
     "output_type": "execute_result"
    }
   ],
   "source": [
    "# 요렇게 단어별 토픽에대해 쫘르륵 \n",
    "expElogbetad[:,0]\n",
    "expElogbetad[:,1]"
   ]
  },
  {
   "cell_type": "code",
   "execution_count": null,
   "metadata": {},
   "outputs": [],
   "source": []
  }
 ],
 "metadata": {
  "kernelspec": {
   "display_name": "Python 3 (ipykernel)",
   "language": "python",
   "name": "python3"
  },
  "language_info": {
   "codemirror_mode": {
    "name": "ipython",
    "version": 3
   },
   "file_extension": ".py",
   "mimetype": "text/x-python",
   "name": "python",
   "nbconvert_exporter": "python",
   "pygments_lexer": "ipython3",
   "version": "3.8.13"
  }
 },
 "nbformat": 4,
 "nbformat_minor": 4
}
