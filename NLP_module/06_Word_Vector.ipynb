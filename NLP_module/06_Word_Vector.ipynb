{
  "nbformat": 4,
  "nbformat_minor": 0,
  "metadata": {
    "colab": {
      "name": "06 Word Vector",
      "provenance": [],
      "collapsed_sections": []
    },
    "kernelspec": {
      "name": "python3",
      "display_name": "Python 3"
    }
  },
  "cells": [
    {
      "cell_type": "markdown",
      "metadata": {
        "id": "MCMwW-AE5Lun"
      },
      "source": [
        "1. 라이브러리 설치"
      ]
    },
    {
      "cell_type": "code",
      "metadata": {
        "id": "yb5oqjsw5H2c",
        "colab": {
          "base_uri": "https://localhost:8080/"
        },
        "outputId": "cdcfa21b-9ce7-4d1f-f0f2-2c8a2b9d1afe"
      },
      "source": [
        "!pip install gensim\n",
        "\n",
        "!curl -c ./cookie -s -L \"https://drive.google.com/uc?export=download&id=1V4rTx4yaAg0x1NY1MpNRY2Dp1nKeyOQ7\" > /dev/null\n",
        "!curl -Lb ./cookie \"https://drive.google.com/uc?export=download&confirm=`awk '/download/ {print $NF}' ./cookie`&id=1V4rTx4yaAg0x1NY1MpNRY2Dp1nKeyOQ7\" -o wiki_20190620_small.txt"
      ],
      "execution_count": null,
      "outputs": [
        {
          "output_type": "stream",
          "text": [
            "Requirement already satisfied: gensim in /usr/local/lib/python3.7/dist-packages (3.6.0)\n",
            "Requirement already satisfied: smart-open>=1.2.1 in /usr/local/lib/python3.7/dist-packages (from gensim) (4.2.0)\n",
            "Requirement already satisfied: scipy>=0.18.1 in /usr/local/lib/python3.7/dist-packages (from gensim) (1.4.1)\n",
            "Requirement already satisfied: numpy>=1.11.3 in /usr/local/lib/python3.7/dist-packages (from gensim) (1.19.5)\n",
            "Requirement already satisfied: six>=1.5.0 in /usr/local/lib/python3.7/dist-packages (from gensim) (1.15.0)\n",
            "  % Total    % Received % Xferd  Average Speed   Time    Time     Time  Current\n",
            "                                 Dload  Upload   Total   Spent    Left  Speed\n",
            "100   408    0   408    0     0    578      0 --:--:-- --:--:-- --:--:--   577\n",
            "  0     0    0     0    0     0      0      0 --:--:-- --:--:-- --:--:--     0\n",
            "  0     0    0     0    0     0      0      0 --:--:-- --:--:-- --:--:--     0\n",
            "100 75.1M    0 75.1M    0     0  48.8M      0 --:--:--  0:00:01 --:--:--  149M\n"
          ],
          "name": "stdout"
        }
      ]
    },
    {
      "cell_type": "markdown",
      "metadata": {
        "id": "tcVzh-_55U29"
      },
      "source": [
        "#2. Word2Vec\n"
      ]
    },
    {
      "cell_type": "code",
      "metadata": {
        "id": "5MCXg3jP5XwF"
      },
      "source": [
        "import gensim\n",
        "from gensim.models.word2vec import Word2Vec\n",
        "import warnings\n",
        "warnings.filterwarnings('ignore')\n",
        "\n",
        "path = '/content/wiki_20190620_small.txt'\n",
        "sentences = gensim.models.word2vec.Text8Corpus(path)\n",
        "model = Word2Vec(sentences, min_count=10, size=50, window=5)"
      ],
      "execution_count": null,
      "outputs": []
    },
    {
      "cell_type": "code",
      "metadata": {
        "id": "XigVRTcf5br6",
        "colab": {
          "base_uri": "https://localhost:8080/"
        },
        "outputId": "3a47addb-ea65-4e40-be75-24e21d9275a3"
      },
      "source": [
        "vocabs = model.wv.vocab.keys()\n",
        "print(list(vocabs)[:100])"
      ],
      "execution_count": null,
      "outputs": [
        {
          "output_type": "stream",
          "text": [
            "['제임스', '얼', '\"', '지미', '카터', '주니어', '는', '민주당', '출신', '미국', '39', '번', '째', '대통령', '이', '다', '.', '조지아주', '섬터', '카운티', '마을', '에서', '태어났', '조지아', '공과', '대학교', '를', '졸업', '하', '였', '그', '후', '해군', '에', '들어가', '전함', '·', '원자력', '잠수함', '의', '승무원', '으로', '일', '1953', '년', '대위', '로', '예편', '고', '이후', '땅콩', '면화', '등', '을', '많', '은', '돈', '벌', '었', '별명', '농부', '알려', '졌', '1962', '주', '상원', '의원', '선거', '낙선', '나', '가', '부정', '음', '입증', '게', '되', '어', '당선', ',', '1966', '지사', '지만', '1970', '역임', '했', '기', '전', '조지', '아주', '두', '연임', '으며', '1971', '부터', '1975', '까지', '근무', '지내', '면서', '사는']\n"
          ],
          "name": "stdout"
        }
      ]
    },
    {
      "cell_type": "code",
      "metadata": {
        "id": "ZLKmyup45s6M"
      },
      "source": [
        "model.save('w2v_model')\n",
        "saved_wordvec_model = Word2Vec.load('w2v_model')"
      ],
      "execution_count": null,
      "outputs": []
    },
    {
      "cell_type": "code",
      "metadata": {
        "id": "Y8REsT1x6nhe",
        "colab": {
          "base_uri": "https://localhost:8080/"
        },
        "outputId": "33c20b3a-7e75-43e4-c7bc-8da7aa1bd1fc"
      },
      "source": [
        "saved_wordvec_model['이순신']"
      ],
      "execution_count": null,
      "outputs": [
        {
          "output_type": "execute_result",
          "data": {
            "text/plain": [
              "array([ 1.397323  ,  1.0955578 ,  1.3755157 ,  0.00229641,  0.57428545,\n",
              "        1.2000154 ,  0.1403812 ,  0.33553377,  0.30108368, -0.6046833 ,\n",
              "       -0.30870095,  1.5917908 , -0.45203272, -1.2692107 ,  0.5968687 ,\n",
              "        0.32780766, -0.7806107 ,  0.37893915,  0.41161528, -1.2307181 ,\n",
              "        1.4158578 ,  1.4977489 ,  0.74086004,  0.50819796,  2.079163  ,\n",
              "        0.84168667,  1.0176644 , -0.23666982,  0.529776  ,  1.0071192 ,\n",
              "       -1.5848166 ,  1.1055819 ,  0.7533326 , -0.20012587,  0.2162117 ,\n",
              "       -1.2700816 , -0.78292865,  0.774249  , -1.1307931 , -1.5720769 ,\n",
              "       -0.8953236 ,  1.9271743 , -0.36899006,  0.1510779 ,  1.4737335 ,\n",
              "       -0.10185647, -1.1205883 , -0.6181089 , -0.41270262, -1.4051889 ],\n",
              "      dtype=float32)"
            ]
          },
          "metadata": {
            "tags": []
          },
          "execution_count": 5
        }
      ]
    },
    {
      "cell_type": "code",
      "metadata": {
        "id": "iMaxAKYT5wqc",
        "colab": {
          "base_uri": "https://localhost:8080/"
        },
        "outputId": "f39753b4-ddd6-4e64-fead-982c0c7dafe9"
      },
      "source": [
        "print(saved_wordvec_model.most_similar(positive=[\"이순신\"], topn=10))"
      ],
      "execution_count": null,
      "outputs": [
        {
          "output_type": "stream",
          "text": [
            "[('원균', 0.865327000617981), ('통제사', 0.8214249610900879), ('김유신', 0.8021861910820007), ('견훤', 0.7872278094291687), ('왕건', 0.7759814262390137), ('신라군', 0.7698637843132019), ('수군', 0.7679411768913269), ('최영', 0.75057452917099), ('수양대군', 0.7470760941505432), ('류자광', 0.7461113929748535)]\n"
          ],
          "name": "stdout"
        }
      ]
    },
    {
      "cell_type": "code",
      "metadata": {
        "id": "LGS9zo0Y50eF",
        "colab": {
          "base_uri": "https://localhost:8080/"
        },
        "outputId": "11dc6b1f-a517-4cc6-e9aa-15726c8f03b9"
      },
      "source": [
        "print(saved_wordvec_model.similarity('이순신', '이광수'))\n",
        "print(saved_wordvec_model.similarity('이순신', '원균'))"
      ],
      "execution_count": null,
      "outputs": [
        {
          "output_type": "stream",
          "text": [
            "0.44198596\n",
            "0.8653271\n"
          ],
          "name": "stdout"
        }
      ]
    },
    {
      "cell_type": "code",
      "metadata": {
        "id": "2W7zkdGY6GLp",
        "colab": {
          "base_uri": "https://localhost:8080/"
        },
        "outputId": "d2e9ca15-b3dd-43b5-9da4-843dd65414cb"
      },
      "source": [
        "saved_wordvec_model.most_similar(positive=['대한민국', '도쿄'], negative=['서울'])"
      ],
      "execution_count": null,
      "outputs": [
        {
          "output_type": "execute_result",
          "data": {
            "text/plain": [
              "[('일본', 0.7418953776359558),\n",
              " ('홍콩', 0.7387286424636841),\n",
              " ('한국', 0.720172643661499),\n",
              " ('조선민주주의인민공화국', 0.6903945803642273),\n",
              " ('중화민국', 0.6758458614349365),\n",
              " ('말레이시아', 0.6416588425636292),\n",
              " ('중국', 0.6296669840812683),\n",
              " ('중화인민공화국', 0.6253657341003418),\n",
              " ('알바니아', 0.6168540716171265),\n",
              " ('호찌민시', 0.6161381006240845)]"
            ]
          },
          "metadata": {
            "tags": []
          },
          "execution_count": 8
        }
      ]
    },
    {
      "cell_type": "markdown",
      "metadata": {
        "id": "YSS6hbMN6afW"
      },
      "source": [
        "#3. FastText"
      ]
    },
    {
      "cell_type": "code",
      "metadata": {
        "id": "Lu-uIRMb6ceI"
      },
      "source": [
        "from gensim.models.fasttext import FastText\n",
        "import gensim.models.word2vec\n",
        "\n",
        "path = '/content/wiki_20190620_small.txt'\n",
        "sentences = gensim.models.word2vec.Text8Corpus(path)\n",
        "model = FastText(sentences, min_count=10, size=50, window=5)"
      ],
      "execution_count": null,
      "outputs": []
    },
    {
      "cell_type": "code",
      "metadata": {
        "id": "kn8SgS_96jVs"
      },
      "source": [
        "model.save('fasttext_model')\n",
        "saved_fasttext_model = FastText.load('fasttext_model')"
      ],
      "execution_count": null,
      "outputs": []
    },
    {
      "cell_type": "code",
      "metadata": {
        "id": "tgH7gq8k6rQ3",
        "colab": {
          "base_uri": "https://localhost:8080/"
        },
        "outputId": "ef524c4e-2489-46fa-a479-c1b2312dfffb"
      },
      "source": [
        "saved_fasttext_model['이순신']"
      ],
      "execution_count": null,
      "outputs": [
        {
          "output_type": "execute_result",
          "data": {
            "text/plain": [
              "array([-0.3188107 ,  0.5384647 , -1.7112806 , -1.0097209 , -0.09415235,\n",
              "       -0.3908651 , -0.85464203, -0.87723166, -0.3989233 , -0.23335941,\n",
              "        0.79499066, -0.524518  ,  0.03874217, -0.53756493, -0.6521171 ,\n",
              "        0.48322347,  0.3043941 ,  0.82389915,  0.57595   , -1.6515601 ,\n",
              "       -1.7160288 ,  2.2973063 ,  1.2216243 ,  0.45404986,  0.31079966,\n",
              "       -0.6134344 , -0.45336753,  0.11112596, -1.1426584 ,  0.04672831,\n",
              "        0.36242825,  0.24121268, -1.9314109 ,  0.44050843,  0.19867916,\n",
              "        0.82473147,  0.79625404, -0.5029953 ,  0.11564027, -0.79018265,\n",
              "       -0.05365465, -1.5284208 , -0.64065325,  0.6452252 , -0.12599295,\n",
              "        0.22127812,  0.6830573 , -0.00608047, -0.45049605,  0.3202094 ],\n",
              "      dtype=float32)"
            ]
          },
          "metadata": {
            "tags": []
          },
          "execution_count": 11
        }
      ]
    },
    {
      "cell_type": "code",
      "metadata": {
        "id": "PQsM1PKn60eS",
        "colab": {
          "base_uri": "https://localhost:8080/"
        },
        "outputId": "3cdb156b-5457-452a-9406-04b19e25abef"
      },
      "source": [
        "print(saved_fasttext_model.most_similar(positive=[\"이순신\"], topn=10))"
      ],
      "execution_count": null,
      "outputs": [
        {
          "output_type": "stream",
          "text": [
            "[('원균', 0.8643497228622437), ('원군', 0.7940138578414917), ('광해군', 0.7880828976631165), ('왕건', 0.770109236240387), ('연개소문', 0.7698333859443665), ('구원군', 0.7594935297966003), ('최영', 0.7538617253303528), ('수군', 0.7536833882331848), ('고려군', 0.7476765513420105), ('신라군', 0.7456614971160889)]\n"
          ],
          "name": "stdout"
        }
      ]
    },
    {
      "cell_type": "code",
      "metadata": {
        "id": "BomeygRp63MC",
        "colab": {
          "base_uri": "https://localhost:8080/"
        },
        "outputId": "08a673bc-0b6d-4b47-fd1e-f8730f3b6382"
      },
      "source": [
        "print(saved_fasttext_model.similarity('이순신', '이광수'))\n",
        "print(saved_fasttext_model.similarity('이순신', '원균'))"
      ],
      "execution_count": null,
      "outputs": [
        {
          "output_type": "stream",
          "text": [
            "0.3947103\n",
            "0.8643498\n"
          ],
          "name": "stdout"
        }
      ]
    },
    {
      "cell_type": "code",
      "metadata": {
        "id": "60Jl_0lK64GC",
        "colab": {
          "base_uri": "https://localhost:8080/"
        },
        "outputId": "24b8b47f-409e-4d02-cbc7-8dd85b103285"
      },
      "source": [
        "saved_fasttext_model.most_similar(positive=['대한민국', '베이징'], negative=['서울'])"
      ],
      "execution_count": null,
      "outputs": [
        {
          "output_type": "execute_result",
          "data": {
            "text/plain": [
              "[('중화민국', 0.8289030194282532),\n",
              " ('중화인민공화국', 0.8003256320953369),\n",
              " ('일본', 0.7781645655632019),\n",
              " ('미국령', 0.7587143778800964),\n",
              " ('홍콩', 0.7559710144996643),\n",
              " ('한국', 0.7544795274734497),\n",
              " ('타이완', 0.7378767132759094),\n",
              " ('조선민주주의인민공화국', 0.7357937097549438),\n",
              " ('중국', 0.7322614192962646),\n",
              " ('대한민국임시', 0.7272888422012329)]"
            ]
          },
          "metadata": {
            "tags": []
          },
          "execution_count": 14
        }
      ]
    },
    {
      "cell_type": "code",
      "metadata": {
        "colab": {
          "base_uri": "https://localhost:8080/"
        },
        "id": "P4BoxD3PfWGp",
        "outputId": "ca83a9c3-3eb4-452c-a9db-6be393d8f3f6"
      },
      "source": [
        "saved_fasttext_model.wv.most_similar(positive=['데한민국'])"
      ],
      "execution_count": null,
      "outputs": [
        {
          "output_type": "execute_result",
          "data": {
            "text/plain": [
              "[('대한민국', 0.9261701703071594),\n",
              " ('민국', 0.844254195690155),\n",
              " ('조선민주주의인민공화국', 0.8185510635375977),\n",
              " ('중화민국', 0.8066694736480713),\n",
              " ('중화인민공화국', 0.7995461225509644),\n",
              " ('대한민국임시', 0.7819444537162781),\n",
              " ('한국', 0.7678809762001038),\n",
              " ('대한민', 0.7668030858039856),\n",
              " ('한국전', 0.7523093223571777),\n",
              " ('콩고민주공화국', 0.7457227110862732)]"
            ]
          },
          "metadata": {
            "tags": []
          },
          "execution_count": 16
        }
      ]
    }
  ]
}