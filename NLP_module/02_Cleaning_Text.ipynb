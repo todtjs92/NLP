{
  "nbformat": 4,
  "nbformat_minor": 0,
  "metadata": {
    "colab": {
      "name": "02 Cleaning Text",
      "provenance": [],
      "collapsed_sections": []
    },
    "kernelspec": {
      "name": "python3",
      "display_name": "Python 3"
    }
  },
  "cells": [
    {
      "cell_type": "markdown",
      "metadata": {
        "id": "L1V02yZHiV6h"
      },
      "source": [
        "# 1. 라이브러리 설치"
      ]
    },
    {
      "cell_type": "code",
      "metadata": {
        "id": "_DHjc-aSiT6y",
        "colab": {
          "base_uri": "https://localhost:8080/"
        },
        "outputId": "37a05666-9cf7-4cbc-9a1c-59dd233208d1"
      },
      "source": [
        "!pip install kss"
      ],
      "execution_count": null,
      "outputs": [
        {
          "output_type": "stream",
          "name": "stdout",
          "text": [
            "Collecting kss\n",
            "  Downloading kss-3.2.0.tar.gz (42.4 MB)\n",
            "\u001b[K     |████████████████████████████████| 42.4 MB 52 kB/s \n",
            "\u001b[?25hCollecting emoji\n",
            "  Downloading emoji-1.4.2.tar.gz (184 kB)\n",
            "\u001b[K     |████████████████████████████████| 184 kB 38.1 MB/s \n",
            "\u001b[?25hBuilding wheels for collected packages: kss, emoji\n",
            "  Building wheel for kss (setup.py) ... \u001b[?25l\u001b[?25hdone\n",
            "  Created wheel for kss: filename=kss-3.2.0-py3-none-any.whl size=42447995 sha256=65c5e34e40f9b25e180b9e1da0f72736157b36ffceccc04a89cc7ef4b557b8bd\n",
            "  Stored in directory: /root/.cache/pip/wheels/a1/47/9c/a5f83b5ab6096e3c4a33643fc553b26098c23e72b6539b86f4\n",
            "  Building wheel for emoji (setup.py) ... \u001b[?25l\u001b[?25hdone\n",
            "  Created wheel for emoji: filename=emoji-1.4.2-py3-none-any.whl size=186469 sha256=d68544134472affddac8435c8f662b7fd31cce49cf6dfee41188ca04ea99cdbd\n",
            "  Stored in directory: /root/.cache/pip/wheels/e4/61/e7/2fc1ac8f306848fc66c6c013ab511f0a39ef4b1825b11363b2\n",
            "Successfully built kss emoji\n",
            "Installing collected packages: emoji, kss\n",
            "Successfully installed emoji-1.4.2 kss-3.2.0\n"
          ]
        }
      ]
    },
    {
      "cell_type": "markdown",
      "metadata": {
        "id": "2vGH_4saiYzZ"
      },
      "source": [
        "#2. 글자 정제"
      ]
    },
    {
      "cell_type": "code",
      "metadata": {
        "id": "fYbtR5xtWsqa"
      },
      "source": [
        "import re\n",
        "inside_p_pattern = re.compile(r'<p.*?>(.+?)</p>')\n",
        "newline_pattern = re.compile(r'[\\n\\r]')"
      ],
      "execution_count": null,
      "outputs": []
    },
    {
      "cell_type": "code",
      "metadata": {
        "id": "fU3L9Urlc4oz"
      },
      "source": [
        "punct = \"/-'?!.,#$%\\'()*+-/:;<=>@[\\\\]^_`{|}~\" + '\"\"“”’' + '∞θ÷α•à−β∅³π‘₹´°£€\\×™√²—–&'"
      ],
      "execution_count": null,
      "outputs": []
    },
    {
      "cell_type": "code",
      "metadata": {
        "id": "yeRY15AIcPxd"
      },
      "source": [
        "punct_mapping = {\"‘\": \"'\", \"₹\": \"e\", \"´\": \"'\", \"°\": \"\", \"€\": \"e\", \"™\": \"tm\", \"√\": \" sqrt \", \"×\": \"x\", \"²\": \"2\", \"—\": \"-\", \"–\": \"-\", \"’\": \"'\", \"_\": \"-\", \"`\": \"'\", '“': '\"', '”': '\"', '“': '\"', \"£\": \"e\", '∞': 'infinity', 'θ': 'theta', '÷': '/', 'α': 'alpha', '•': '.', 'à': 'a', '−': '-', 'β': 'beta', '∅': '', '³': '3', 'π': 'pi', }"
      ],
      "execution_count": null,
      "outputs": []
    },
    {
      "cell_type": "code",
      "metadata": {
        "id": "3Q0H8Z48cQ_k"
      },
      "source": [
        "def clean_punc(text, punct, mapping):\n",
        "  text = newline_pattern.sub(' ', text)\n",
        "  text = inside_p_pattern.sub(r'\\1', text)\n",
        "\n",
        "  for p in mapping:\n",
        "    text = text.replace(p, mapping[p])\n",
        "    \n",
        "  for p in punct:\n",
        "    text = text.replace(p, f' {p} ')\n",
        "    \n",
        "  return text.strip()"
      ],
      "execution_count": null,
      "outputs": []
    },
    {
      "cell_type": "code",
      "metadata": {
        "id": "wfy-GbnFb9Wj"
      },
      "source": [
        "input_text = \"\"\"\n",
        "<p dmcf-pid=\"AApwHtOKeU\" dmcf-ptype=\"general\">(로마=연합뉴스) 전성훈 특파원 = 신종 코로나바이러스 감염증(코로나19) 재확산 위기에 직면한 이탈리아 정부가 25일(현지시간) 고강도 제한 조처를 추가로 내놓을 것으로 전망된다. </p>\n",
        "<p dmcf-pid=\"AvOfaLP6Id\" dmcf-ptype=\"general\">일간 라 레푸블리카 등 현지 언론에 따르면 주세페 콘테 총리는 24일 긴급 당정 회의를 열어 코로나19 확산세를 꺾기 위한 추가 제한 조처를 논의했다. </p>\n",
        "<p dmcf-pid=\"ADmesRBWhi\" dmcf-ptype=\"general\">논의된 내용의 핵심은 음식점과 주점, 아이스크림 가게, 빵집 등의 주중 영업시간을 오후 6시 또는 오후 8시까지로 제한하고 일요일과 공휴일에는 영업을 전면 금지한다는 것이다. </p>\n",
        "<p dmcf-pid=\"AYY0qYjh2u\" dmcf-ptype=\"general\">헬스클럽과 수영장을 폐쇄하고 주말에 한해 모든 쇼핑몰의 문을 닫는 방안도 검토됐다고 한다. </p>\n",
        "<p dmcf-pid=\"ASuan2VAh8\" dmcf-ptype=\"general\">또 학교 방역과 관련해선 초등·중학교 일선 학교의 대면 수업만 유지하고 고등학교는 75%를 가정에서의 원격 수업으로 돌리는 안이 논의된 것으로 전해졌다.</p>\n",
        "<p dmcf-pid=\"A2ZzT2lQZv\" dmcf-ptype=\"general\">이달 들어서만 네 번째인 이번 추가 방역 조처는 25일 밤늦게 최종 확정·발표될 예정이다. 시행은 26일부터 내달 24일까지라고 현지 언론은 전했다.</p>\n",
        "<p dmcf-pid=\"AWH2KPytaw\" dmcf-ptype=\"general\">일각에서는 바이러스 확산세의 심각성을 고려해 1차 유행 때인 3∼5월과 같은 전국적인 봉쇄를 시행해야 한다는 주장이 제기됐으나 정부는 경제적 파장을 고려해 전국 봉쇄는 논의 대상이 아니라는 입장을 유지하고 있다. </p>\n",
        "<p dmcf-pid=\"AVeUqctJgQ\" dmcf-ptype=\"general\">이탈리아 정부는 지난 7일 전국적으로 옥외 마스크 착용을 의무화한 데 이어 14일에는 실내외 파티를 금지하고 식당·주점 영업을 자정까지로 제한하는 등의 조처를 도입했다. </p>\n",
        "<p dmcf-pid=\"AyMCN0AQYm\" dmcf-ptype=\"general\">또 18일에는 아마추어 스포츠 경기와 지역 단위 축제 중단 등을 골자로 한 세 번째 제한 조처를 발표한 바 있다.</p>\n",
        "<p dmcf-pid=\"AxvPOKEQcP\" dmcf-ptype=\"general\">이와 별도로 이탈리아의 금융 중심도시 밀라노를 포함한 북부 롬바르디아주와 수도 로마를 낀 라치오주, 나폴리를 주도로 하는 캄파니아주 등은 밤 11시 또는 자정부터 다음날 오전 5시까지 야간 통행금지를 시행 중이다. </p>\n",
        "<p dmcf-pid=\"AeVhjGi6HB\" dmcf-ptype=\"general\">현지 보건 당국이 이날 발표한 하루 신규 확진자 수는 1만9천644명으로 역대 최대 기록을 다시 경신했다. </p>\n",
        "<p dmcf-pid=\"AnJ8Ci6c4M\" dmcf-ptype=\"general\">하루 검사 건수는 17만7천여건이며, 검사 건수 대비 확진자 비율을 나타내는 확진율은 11.06%다. </p>\n",
        "<p dmcf-pid=\"AymuSbusWb\" dmcf-ptype=\"general\">하루 새 증가한 사망자 수도 151명으로 지난 5월 말 이래 가장 많다. </p>\n",
        "<p dmcf-pid=\"A9nE9rd3md\" dmcf-ptype=\"general\">누적 확진자는 50만4천509명, 사망자는 3만7천210명으로 각각 집계됐다. </p>\n",
        "<p dmcf-pid=\"ADki5geTcz\" dmcf-ptype=\"general\">lucho@yna.co.kr</p>\n",
        "\"\"\""
      ],
      "execution_count": null,
      "outputs": []
    },
    {
      "cell_type": "code",
      "metadata": {
        "id": "rJ_KeyzgcYXy"
      },
      "source": [
        "clean_text = clean_punc(input_text, punct, punct_mapping)"
      ],
      "execution_count": null,
      "outputs": []
    },
    {
      "cell_type": "code",
      "metadata": {
        "id": "hx3G5j7sfy5s",
        "colab": {
          "base_uri": "https://localhost:8080/",
          "height": 209
        },
        "outputId": "ecebf9ad-d832-4754-89a9-972de9ce0546"
      },
      "source": [
        "clean_text"
      ],
      "execution_count": null,
      "outputs": [
        {
          "output_type": "execute_result",
          "data": {
            "application/vnd.google.colaboratory.intrinsic+json": {
              "type": "string"
            },
            "text/plain": [
              "'( 로마 = 연합뉴스 )  전성훈 특파원  =  신종 코로나바이러스 감염증 ( 코로나19 )  재확산 위기에 직면한 이탈리아 정부가 25일 ( 현지시간 )  고강도 제한 조처를 추가로 내놓을 것으로 전망된다 .   일간 라 레푸블리카 등 현지 언론에 따르면 주세페 콘테 총리는 24일 긴급 당정 회의를 열어 코로나19 확산세를 꺾기 위한 추가 제한 조처를 논의했다 .   논의된 내용의 핵심은 음식점과 주점 ,  아이스크림 가게 ,  빵집 등의 주중 영업시간을 오후 6시 또는 오후 8시까지로 제한하고 일요일과 공휴일에는 영업을 전면 금지한다는 것이다 .   헬스클럽과 수영장을 폐쇄하고 주말에 한해 모든 쇼핑몰의 문을 닫는 방안도 검토됐다고 한다 .   또 학교 방역과 관련해선 초등·중학교 일선 학교의 대면 수업만 유지하고 고등학교는 75 % 를 가정에서의 원격 수업으로 돌리는 안이 논의된 것으로 전해졌다 .  이달 들어서만 네 번째인 이번 추가 방역 조처는 25일 밤늦게 최종 확정·발표될 예정이다 .  시행은 26일부터 내달 24일까지라고 현지 언론은 전했다 .  일각에서는 바이러스 확산세의 심각성을 고려해 1차 유행 때인 3∼5월과 같은 전국적인 봉쇄를 시행해야 한다는 주장이 제기됐으나 정부는 경제적 파장을 고려해 전국 봉쇄는 논의 대상이 아니라는 입장을 유지하고 있다 .   이탈리아 정부는 지난 7일 전국적으로 옥외 마스크 착용을 의무화한 데 이어 14일에는 실내외 파티를 금지하고 식당·주점 영업을 자정까지로 제한하는 등의 조처를 도입했다 .   또 18일에는 아마추어 스포츠 경기와 지역 단위 축제 중단 등을 골자로 한 세 번째 제한 조처를 발표한 바 있다 .  이와 별도로 이탈리아의 금융 중심도시 밀라노를 포함한 북부 롬바르디아주와 수도 로마를 낀 라치오주 ,  나폴리를 주도로 하는 캄파니아주 등은 밤 11시 또는 자정부터 다음날 오전 5시까지 야간 통행금지를 시행 중이다 .   현지 보건 당국이 이날 발표한 하루 신규 확진자 수는 1만9천644명으로 역대 최대 기록을 다시 경신했다 .   하루 검사 건수는 17만7천여건이며 ,  검사 건수 대비 확진자 비율을 나타내는 확진율은 11 . 06 % 다 .   하루 새 증가한 사망자 수도 151명으로 지난 5월 말 이래 가장 많다 .   누적 확진자는 50만4천509명 ,  사망자는 3만7천210명으로 각각 집계됐다 .   lucho @ yna . co . kr'"
            ]
          },
          "metadata": {},
          "execution_count": 8
        }
      ]
    },
    {
      "cell_type": "markdown",
      "metadata": {
        "id": "O-Qx8_ANida4"
      },
      "source": [
        "#3. 문장 나누기"
      ]
    },
    {
      "cell_type": "code",
      "metadata": {
        "id": "lNiFNqjfeg8A",
        "colab": {
          "base_uri": "https://localhost:8080/"
        },
        "outputId": "2bd8a4ea-c54f-4817-bb95-4c37e7d00522"
      },
      "source": [
        "import kss\n",
        "\n",
        "sentence_tokens = list()\n",
        "for sent in kss.split_sentences(clean_text):\n",
        "  sentence_tokens.append(sent.strip())"
      ],
      "execution_count": null,
      "outputs": [
        {
          "output_type": "stream",
          "name": "stderr",
          "text": [
            "[Korean Sentence Splitter]: Initializing Kss...\n"
          ]
        }
      ]
    },
    {
      "cell_type": "code",
      "metadata": {
        "id": "Fre37b76etNs",
        "colab": {
          "base_uri": "https://localhost:8080/"
        },
        "outputId": "75211fd6-c1ed-4ae9-c8b9-dec36cc7b5d6"
      },
      "source": [
        "for one_sentence in sentence_tokens:\n",
        "  print(one_sentence)"
      ],
      "execution_count": null,
      "outputs": [
        {
          "output_type": "stream",
          "name": "stdout",
          "text": [
            "( 로마 = 연합뉴스 ) 전성훈 특파원 = 신종 코로나바이러스 감염증 ( 코로나19 ) 재확산 위기에 직면한 이탈리아 정부가 25일 ( 현지시간 ) 고강도 제한 조처를 추가로 내놓을 것으로 전망된다 .\n",
            "일간 라 레푸블리카 등 현지 언론에 따르면 주세페 콘테 총리는 24일 긴급 당정 회의를 열어 코로나19 확산세를 꺾기 위한 추가 제한 조처를 논의했다 .\n",
            "논의된 내용의 핵심은 음식점과 주점 , 아이스크림 가게 , 빵집 등의 주중 영업시간을 오후 6시 또는 오후 8시까지로 제한하고 일요일과 공휴일에는 영업을 전면 금지한다는 것이다 .\n",
            "헬스클럽과 수영장을 폐쇄하고 주말에 한해 모든 쇼핑몰의 문을 닫는 방안도 검토됐다고 한다 . 또 학교 방역과 관련해선 초등·중학교 일선 학교의 대면 수업만 유지하고 고등학교는 75 % 를 가정에서의 원격 수업으로 돌리는 안이 논의된 것으로 전해졌다 .\n",
            "이달 들어서만 네 번째인 이번 추가 방역 조처는 25일 밤늦게 최종 확정·발표될 예정이다 .\n",
            "시행은 26일부터 내달 24일까지라고 현지 언론은 전했다 .\n",
            "일각에서는 바이러스 확산세의 심각성을 고려해 1차 유행 때인 3∼5월과 같은 전국적인 봉쇄를 시행해야 한다는 주장이 제기됐으나 정부는 경제적 파장을 고려해 전국 봉쇄는 논의 대상이 아니라는 입장을 유지하고 있다 .\n",
            "이탈리아 정부는 지난 7일 전국적으로 옥외 마스크 착용을 의무화한 데 이어 14일에는 실내외 파티를 금지하고 식당·주점 영업을 자정까지로 제한하는 등의 조처를 도입했다 .\n",
            "또 18일에는 아마추어 스포츠 경기와 지역 단위 축제 중단 등을 골자로 한 세 번째 제한 조처를 발표한 바 있다 .\n",
            "이와 별도로 이탈리아의 금융 중심도시 밀라노를 포함한 북부 롬바르디아주와 수도 로마를 낀 라치오주 , 나폴리를 주도로 하는 캄파니아주 등은 밤 11시 또는 자정부터 다음날 오전 5시까지 야간 통행금지를 시행 중이다 .\n",
            "현지 보건 당국이 이날 발표한 하루 신규 확진자 수는 1만9천644명으로 역대 최대 기록을 다시 경신했다 .\n",
            "하루 검사 건수는 17만7천여건이며 , 검사 건수 대비 확진자 비율을 나타내는 확진율은 11 . 06 % 다 . 하루 새 증가한 사망자 수도 151명으로 지난 5월 말 이래 가장 많다 .\n",
            "누적 확진자는 50만4천509명 , 사망자는 3만7천210명으로 각각 집계됐다 .\n",
            "lucho @ yna . co . kr\n"
          ]
        }
      ]
    },
    {
      "cell_type": "code",
      "metadata": {
        "id": "Y4hjHRB1fKmt"
      },
      "source": [
        ""
      ],
      "execution_count": null,
      "outputs": []
    }
  ]
}