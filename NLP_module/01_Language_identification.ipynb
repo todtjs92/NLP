{
  "nbformat": 4,
  "nbformat_minor": 0,
  "metadata": {
    "colab": {
      "name": "01 Language identification",
      "provenance": [],
      "collapsed_sections": []
    },
    "kernelspec": {
      "name": "python3",
      "display_name": "Python 3"
    }
  },
  "cells": [
    {
      "cell_type": "markdown",
      "metadata": {
        "id": "4sPBZcegjbbw"
      },
      "source": [
        "#1. 라이브러리 설치"
      ]
    },
    {
      "cell_type": "code",
      "metadata": {
        "id": "ejkad-LXjVhk",
        "colab": {
          "base_uri": "https://localhost:8080/"
        },
        "outputId": "9e3c691d-2a71-466b-a024-794409dcd272"
      },
      "source": [
        "!pip install langdetect"
      ],
      "execution_count": 1,
      "outputs": [
        {
          "output_type": "stream",
          "name": "stdout",
          "text": [
            "Collecting langdetect\n",
            "  Downloading langdetect-1.0.9.tar.gz (981 kB)\n",
            "\u001b[?25l\r\u001b[K     |▍                               | 10 kB 26.2 MB/s eta 0:00:01\r\u001b[K     |▊                               | 20 kB 30.3 MB/s eta 0:00:01\r\u001b[K     |█                               | 30 kB 36.0 MB/s eta 0:00:01\r\u001b[K     |█▍                              | 40 kB 32.9 MB/s eta 0:00:01\r\u001b[K     |█▊                              | 51 kB 24.0 MB/s eta 0:00:01\r\u001b[K     |██                              | 61 kB 26.9 MB/s eta 0:00:01\r\u001b[K     |██▍                             | 71 kB 27.9 MB/s eta 0:00:01\r\u001b[K     |██▊                             | 81 kB 28.7 MB/s eta 0:00:01\r\u001b[K     |███                             | 92 kB 30.2 MB/s eta 0:00:01\r\u001b[K     |███▍                            | 102 kB 28.8 MB/s eta 0:00:01\r\u001b[K     |███▊                            | 112 kB 28.8 MB/s eta 0:00:01\r\u001b[K     |████                            | 122 kB 28.8 MB/s eta 0:00:01\r\u001b[K     |████▍                           | 133 kB 28.8 MB/s eta 0:00:01\r\u001b[K     |████▊                           | 143 kB 28.8 MB/s eta 0:00:01\r\u001b[K     |█████                           | 153 kB 28.8 MB/s eta 0:00:01\r\u001b[K     |█████▍                          | 163 kB 28.8 MB/s eta 0:00:01\r\u001b[K     |█████▊                          | 174 kB 28.8 MB/s eta 0:00:01\r\u001b[K     |██████                          | 184 kB 28.8 MB/s eta 0:00:01\r\u001b[K     |██████▍                         | 194 kB 28.8 MB/s eta 0:00:01\r\u001b[K     |██████▊                         | 204 kB 28.8 MB/s eta 0:00:01\r\u001b[K     |███████                         | 215 kB 28.8 MB/s eta 0:00:01\r\u001b[K     |███████▍                        | 225 kB 28.8 MB/s eta 0:00:01\r\u001b[K     |███████▊                        | 235 kB 28.8 MB/s eta 0:00:01\r\u001b[K     |████████                        | 245 kB 28.8 MB/s eta 0:00:01\r\u001b[K     |████████▍                       | 256 kB 28.8 MB/s eta 0:00:01\r\u001b[K     |████████▊                       | 266 kB 28.8 MB/s eta 0:00:01\r\u001b[K     |█████████                       | 276 kB 28.8 MB/s eta 0:00:01\r\u001b[K     |█████████▍                      | 286 kB 28.8 MB/s eta 0:00:01\r\u001b[K     |█████████▊                      | 296 kB 28.8 MB/s eta 0:00:01\r\u001b[K     |██████████                      | 307 kB 28.8 MB/s eta 0:00:01\r\u001b[K     |██████████▍                     | 317 kB 28.8 MB/s eta 0:00:01\r\u001b[K     |██████████▊                     | 327 kB 28.8 MB/s eta 0:00:01\r\u001b[K     |███████████                     | 337 kB 28.8 MB/s eta 0:00:01\r\u001b[K     |███████████▍                    | 348 kB 28.8 MB/s eta 0:00:01\r\u001b[K     |███████████▊                    | 358 kB 28.8 MB/s eta 0:00:01\r\u001b[K     |████████████                    | 368 kB 28.8 MB/s eta 0:00:01\r\u001b[K     |████████████▍                   | 378 kB 28.8 MB/s eta 0:00:01\r\u001b[K     |████████████▊                   | 389 kB 28.8 MB/s eta 0:00:01\r\u001b[K     |█████████████                   | 399 kB 28.8 MB/s eta 0:00:01\r\u001b[K     |█████████████▍                  | 409 kB 28.8 MB/s eta 0:00:01\r\u001b[K     |█████████████▊                  | 419 kB 28.8 MB/s eta 0:00:01\r\u001b[K     |██████████████                  | 430 kB 28.8 MB/s eta 0:00:01\r\u001b[K     |██████████████▍                 | 440 kB 28.8 MB/s eta 0:00:01\r\u001b[K     |██████████████▊                 | 450 kB 28.8 MB/s eta 0:00:01\r\u001b[K     |███████████████                 | 460 kB 28.8 MB/s eta 0:00:01\r\u001b[K     |███████████████▍                | 471 kB 28.8 MB/s eta 0:00:01\r\u001b[K     |███████████████▊                | 481 kB 28.8 MB/s eta 0:00:01\r\u001b[K     |████████████████                | 491 kB 28.8 MB/s eta 0:00:01\r\u001b[K     |████████████████▍               | 501 kB 28.8 MB/s eta 0:00:01\r\u001b[K     |████████████████▊               | 512 kB 28.8 MB/s eta 0:00:01\r\u001b[K     |█████████████████               | 522 kB 28.8 MB/s eta 0:00:01\r\u001b[K     |█████████████████▍              | 532 kB 28.8 MB/s eta 0:00:01\r\u001b[K     |█████████████████▊              | 542 kB 28.8 MB/s eta 0:00:01\r\u001b[K     |██████████████████              | 552 kB 28.8 MB/s eta 0:00:01\r\u001b[K     |██████████████████▍             | 563 kB 28.8 MB/s eta 0:00:01\r\u001b[K     |██████████████████▊             | 573 kB 28.8 MB/s eta 0:00:01\r\u001b[K     |███████████████████             | 583 kB 28.8 MB/s eta 0:00:01\r\u001b[K     |███████████████████▍            | 593 kB 28.8 MB/s eta 0:00:01\r\u001b[K     |███████████████████▊            | 604 kB 28.8 MB/s eta 0:00:01\r\u001b[K     |████████████████████            | 614 kB 28.8 MB/s eta 0:00:01\r\u001b[K     |████████████████████▍           | 624 kB 28.8 MB/s eta 0:00:01\r\u001b[K     |████████████████████▊           | 634 kB 28.8 MB/s eta 0:00:01\r\u001b[K     |█████████████████████           | 645 kB 28.8 MB/s eta 0:00:01\r\u001b[K     |█████████████████████▍          | 655 kB 28.8 MB/s eta 0:00:01\r\u001b[K     |█████████████████████▊          | 665 kB 28.8 MB/s eta 0:00:01\r\u001b[K     |██████████████████████          | 675 kB 28.8 MB/s eta 0:00:01\r\u001b[K     |██████████████████████▍         | 686 kB 28.8 MB/s eta 0:00:01\r\u001b[K     |██████████████████████▊         | 696 kB 28.8 MB/s eta 0:00:01\r\u001b[K     |███████████████████████         | 706 kB 28.8 MB/s eta 0:00:01\r\u001b[K     |███████████████████████▍        | 716 kB 28.8 MB/s eta 0:00:01\r\u001b[K     |███████████████████████▊        | 727 kB 28.8 MB/s eta 0:00:01\r\u001b[K     |████████████████████████        | 737 kB 28.8 MB/s eta 0:00:01\r\u001b[K     |████████████████████████▍       | 747 kB 28.8 MB/s eta 0:00:01\r\u001b[K     |████████████████████████▊       | 757 kB 28.8 MB/s eta 0:00:01\r\u001b[K     |█████████████████████████       | 768 kB 28.8 MB/s eta 0:00:01\r\u001b[K     |█████████████████████████▍      | 778 kB 28.8 MB/s eta 0:00:01\r\u001b[K     |█████████████████████████▊      | 788 kB 28.8 MB/s eta 0:00:01\r\u001b[K     |██████████████████████████      | 798 kB 28.8 MB/s eta 0:00:01\r\u001b[K     |██████████████████████████▍     | 808 kB 28.8 MB/s eta 0:00:01\r\u001b[K     |██████████████████████████▊     | 819 kB 28.8 MB/s eta 0:00:01\r\u001b[K     |███████████████████████████     | 829 kB 28.8 MB/s eta 0:00:01\r\u001b[K     |███████████████████████████▍    | 839 kB 28.8 MB/s eta 0:00:01\r\u001b[K     |███████████████████████████▊    | 849 kB 28.8 MB/s eta 0:00:01\r\u001b[K     |████████████████████████████    | 860 kB 28.8 MB/s eta 0:00:01\r\u001b[K     |████████████████████████████▍   | 870 kB 28.8 MB/s eta 0:00:01\r\u001b[K     |████████████████████████████▊   | 880 kB 28.8 MB/s eta 0:00:01\r\u001b[K     |█████████████████████████████   | 890 kB 28.8 MB/s eta 0:00:01\r\u001b[K     |█████████████████████████████▍  | 901 kB 28.8 MB/s eta 0:00:01\r\u001b[K     |█████████████████████████████▊  | 911 kB 28.8 MB/s eta 0:00:01\r\u001b[K     |██████████████████████████████  | 921 kB 28.8 MB/s eta 0:00:01\r\u001b[K     |██████████████████████████████▍ | 931 kB 28.8 MB/s eta 0:00:01\r\u001b[K     |██████████████████████████████▊ | 942 kB 28.8 MB/s eta 0:00:01\r\u001b[K     |███████████████████████████████ | 952 kB 28.8 MB/s eta 0:00:01\r\u001b[K     |███████████████████████████████▍| 962 kB 28.8 MB/s eta 0:00:01\r\u001b[K     |███████████████████████████████▊| 972 kB 28.8 MB/s eta 0:00:01\r\u001b[K     |████████████████████████████████| 981 kB 28.8 MB/s \n",
            "\u001b[?25hRequirement already satisfied: six in /usr/local/lib/python3.7/dist-packages (from langdetect) (1.15.0)\n",
            "Building wheels for collected packages: langdetect\n",
            "  Building wheel for langdetect (setup.py) ... \u001b[?25l\u001b[?25hdone\n",
            "  Created wheel for langdetect: filename=langdetect-1.0.9-py3-none-any.whl size=993242 sha256=d6dac6972e5f24cedfcd2eff576f2fc7e5bd87135858b52b375ac88768a5f2b5\n",
            "  Stored in directory: /root/.cache/pip/wheels/c5/96/8a/f90c59ed25d75e50a8c10a1b1c2d4c402e4dacfa87f3aff36a\n",
            "Successfully built langdetect\n",
            "Installing collected packages: langdetect\n",
            "Successfully installed langdetect-1.0.9\n"
          ]
        }
      ]
    },
    {
      "cell_type": "markdown",
      "metadata": {
        "id": "BGVJncZDjkOw"
      },
      "source": [
        "# 2. 언어 판별\n"
      ]
    },
    {
      "cell_type": "code",
      "metadata": {
        "id": "ySctnEdkjgan"
      },
      "source": [
        "input_text1 = \"War doesn't show who's right, just who's left.\"\n",
        "input_text2 = \"대한민국은 민주공화국이다.\"\n",
        "input_text3 = \"Otec matka syn.\"\n",
        "input_text4 = \"日本國民は、正當に選擧された國會における代表者を通じて行動し\"\n",
        "input_text5 = \"中国是世界上历史最悠久的国家之一\""
      ],
      "execution_count": 2,
      "outputs": []
    },
    {
      "cell_type": "code",
      "metadata": {
        "id": "TvtLFDZvkNCg",
        "colab": {
          "base_uri": "https://localhost:8080/",
          "height": 37
        },
        "outputId": "a9d91515-7373-4f9b-854e-839821709bb9"
      },
      "source": [
        "from langdetect import detect\n",
        "detect(input_text1)"
      ],
      "execution_count": 3,
      "outputs": [
        {
          "output_type": "execute_result",
          "data": {
            "text/plain": [
              "'en'"
            ],
            "application/vnd.google.colaboratory.intrinsic+json": {
              "type": "string"
            }
          },
          "metadata": {},
          "execution_count": 3
        }
      ]
    },
    {
      "cell_type": "code",
      "metadata": {
        "id": "4u2wqEI_kU0Y",
        "colab": {
          "base_uri": "https://localhost:8080/",
          "height": 37
        },
        "outputId": "3e260f7c-75f1-402a-b183-b4da77453e78"
      },
      "source": [
        "detect(input_text5)"
      ],
      "execution_count": 4,
      "outputs": [
        {
          "output_type": "execute_result",
          "data": {
            "text/plain": [
              "'zh-cn'"
            ],
            "application/vnd.google.colaboratory.intrinsic+json": {
              "type": "string"
            }
          },
          "metadata": {},
          "execution_count": 4
        }
      ]
    },
    {
      "cell_type": "code",
      "source": [
        ""
      ],
      "metadata": {
        "id": "t3pMXGsblaQg"
      },
      "execution_count": null,
      "outputs": []
    }
  ]
}