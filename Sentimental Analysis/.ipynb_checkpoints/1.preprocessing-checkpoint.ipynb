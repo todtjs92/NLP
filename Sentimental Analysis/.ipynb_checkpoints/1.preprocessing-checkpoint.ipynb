{
 "cells": [
  {
   "cell_type": "code",
   "execution_count": 10,
   "id": "945b3800",
   "metadata": {},
   "outputs": [
    {
     "name": "stdout",
     "output_type": "stream",
     "text": [
      "Collecting chardet\n",
      "  Downloading chardet-5.1.0-py3-none-any.whl (199 kB)\n",
      "\u001b[2K     \u001b[90m━━━━━━━━━━━━━━━━━━━━━━━━━━━━━━━━━━━━━━━\u001b[0m \u001b[32m199.1/199.1 kB\u001b[0m \u001b[31m5.3 MB/s\u001b[0m eta \u001b[36m0:00:00\u001b[0m\n",
      "\u001b[?25hInstalling collected packages: chardet\n",
      "Successfully installed chardet-5.1.0\n"
     ]
    }
   ],
   "source": [
    "!pip install chardet"
   ]
  },
  {
   "cell_type": "code",
   "execution_count": 11,
   "id": "dc6adadd",
   "metadata": {},
   "outputs": [],
   "source": [
    "import chardet"
   ]
  },
  {
   "cell_type": "code",
   "execution_count": 1,
   "id": "e77ea85a",
   "metadata": {},
   "outputs": [],
   "source": [
    "import pandas as pd"
   ]
  },
  {
   "cell_type": "code",
   "execution_count": 16,
   "id": "298da745",
   "metadata": {},
   "outputs": [
    {
     "ename": "UnicodeDecodeError",
     "evalue": "'utf-8' codec can't decode byte 0xb9 in position 0: invalid start byte",
     "output_type": "error",
     "traceback": [
      "\u001b[0;31m---------------------------------------------------------------------------\u001b[0m",
      "\u001b[0;31mUnicodeDecodeError\u001b[0m                        Traceback (most recent call last)",
      "Input \u001b[0;32mIn [16]\u001b[0m, in \u001b[0;36m<cell line: 1>\u001b[0;34m()\u001b[0m\n\u001b[1;32m      1\u001b[0m \u001b[38;5;28;01mwith\u001b[39;00m \u001b[38;5;28mopen\u001b[39m(\u001b[38;5;124m\"\u001b[39m\u001b[38;5;124m/Users/a1101809/Downloads/lotte.txt\u001b[39m\u001b[38;5;124m\"\u001b[39m,\u001b[38;5;124m'\u001b[39m\u001b[38;5;124mrt\u001b[39m\u001b[38;5;124m'\u001b[39m) \u001b[38;5;28;01mas\u001b[39;00m f:\n\u001b[0;32m----> 2\u001b[0m     \u001b[38;5;28;01mfor\u001b[39;00m line \u001b[38;5;129;01min\u001b[39;00m f:\n\u001b[1;32m      3\u001b[0m         \u001b[38;5;28mprint\u001b[39m(line)\n\u001b[1;32m      4\u001b[0m         \u001b[38;5;28;01mbreak\u001b[39;00m\n",
      "File \u001b[0;32m/opt/homebrew/Caskroom/miniforge/base/envs/jupyter/lib/python3.8/codecs.py:322\u001b[0m, in \u001b[0;36mBufferedIncrementalDecoder.decode\u001b[0;34m(self, input, final)\u001b[0m\n\u001b[1;32m    319\u001b[0m \u001b[38;5;28;01mdef\u001b[39;00m \u001b[38;5;21mdecode\u001b[39m(\u001b[38;5;28mself\u001b[39m, \u001b[38;5;28minput\u001b[39m, final\u001b[38;5;241m=\u001b[39m\u001b[38;5;28;01mFalse\u001b[39;00m):\n\u001b[1;32m    320\u001b[0m     \u001b[38;5;66;03m# decode input (taking the buffer into account)\u001b[39;00m\n\u001b[1;32m    321\u001b[0m     data \u001b[38;5;241m=\u001b[39m \u001b[38;5;28mself\u001b[39m\u001b[38;5;241m.\u001b[39mbuffer \u001b[38;5;241m+\u001b[39m \u001b[38;5;28minput\u001b[39m\n\u001b[0;32m--> 322\u001b[0m     (result, consumed) \u001b[38;5;241m=\u001b[39m \u001b[38;5;28;43mself\u001b[39;49m\u001b[38;5;241;43m.\u001b[39;49m\u001b[43m_buffer_decode\u001b[49m\u001b[43m(\u001b[49m\u001b[43mdata\u001b[49m\u001b[43m,\u001b[49m\u001b[43m \u001b[49m\u001b[38;5;28;43mself\u001b[39;49m\u001b[38;5;241;43m.\u001b[39;49m\u001b[43merrors\u001b[49m\u001b[43m,\u001b[49m\u001b[43m \u001b[49m\u001b[43mfinal\u001b[49m\u001b[43m)\u001b[49m\n\u001b[1;32m    323\u001b[0m     \u001b[38;5;66;03m# keep undecoded input until the next call\u001b[39;00m\n\u001b[1;32m    324\u001b[0m     \u001b[38;5;28mself\u001b[39m\u001b[38;5;241m.\u001b[39mbuffer \u001b[38;5;241m=\u001b[39m data[consumed:]\n",
      "\u001b[0;31mUnicodeDecodeError\u001b[0m: 'utf-8' codec can't decode byte 0xb9 in position 0: invalid start byte"
     ]
    }
   ],
   "source": [
    "with open(\"/Users/a1101809/Downloads/lotte.txt\",'rt') as f:\n",
    "    for line in f:\n",
    "        print(line)\n",
    "        break\n",
    "    \n",
    "        "
   ]
  },
  {
   "cell_type": "code",
   "execution_count": 2,
   "id": "3875f7da",
   "metadata": {},
   "outputs": [
    {
     "name": "stderr",
     "output_type": "stream",
     "text": [
      "/opt/homebrew/Caskroom/miniforge/base/envs/jupyter/lib/python3.8/site-packages/openpyxl/worksheet/_reader.py:312: UserWarning: Unknown extension is not supported and will be removed\n",
      "  warn(msg)\n"
     ]
    }
   ],
   "source": [
    "df_lotte =  pd.read_excel(\"/Users/a1101809/Downloads/lotte.xlsx\")"
   ]
  },
  {
   "cell_type": "code",
   "execution_count": 40,
   "id": "6a806889",
   "metadata": {},
   "outputs": [],
   "source": [
    "df_lotte_ = df_lotte['연관어'].value_counts()"
   ]
  },
  {
   "cell_type": "code",
   "execution_count": 41,
   "id": "eb000ffe",
   "metadata": {},
   "outputs": [],
   "source": [
    "df__  =df_lotte_.to_frame()"
   ]
  },
  {
   "cell_type": "code",
   "execution_count": 44,
   "id": "71f8fa32",
   "metadata": {},
   "outputs": [],
   "source": [
    "df__.to_csv('/Users/a1101809/Downloads/environt.csv',encoding='utf-8')"
   ]
  },
  {
   "cell_type": "code",
   "execution_count": 45,
   "id": "1829894c",
   "metadata": {},
   "outputs": [],
   "source": [
    "df_lotter_.to_frame().to_csv('/Users/a1101809/Downloads/environt.csv',)"
   ]
  },
  {
   "cell_type": "code",
   "execution_count": 3,
   "id": "b14cc794",
   "metadata": {},
   "outputs": [],
   "source": [
    "eco_list = ['친환경','환경','탄소배출','종이','포장','배출량','효율',\n",
    " '탄소','재활용','절감','에너지','효율','에코','포장','ECO','자원','사용량','에너지',\n",
    " '분리배출','기후','태양광','재생','일회용','온실가스','플라스틱','기후','아이스팩','탄소중립','토양','자연환경','절감','전력','리사이클',\n",
    " '재생','용기','에코','일회용컵','재활용','감축','배출가스','나무','소재','리필','리사이클','녹색'\n",
    "]"
   ]
  },
  {
   "cell_type": "code",
   "execution_count": 4,
   "id": "1bb93161",
   "metadata": {},
   "outputs": [],
   "source": [
    "df_lotte.fillna('',inplace=True)"
   ]
  },
  {
   "cell_type": "code",
   "execution_count": 6,
   "id": "ee11b6bd",
   "metadata": {},
   "outputs": [],
   "source": [
    "df_lotte_eco = df_lotte.loc[df_lotte['연관어'].str.contains('test')]"
   ]
  },
  {
   "cell_type": "code",
   "execution_count": 7,
   "id": "0b13371b",
   "metadata": {},
   "outputs": [
    {
     "data": {
      "text/html": [
       "<div>\n",
       "<style scoped>\n",
       "    .dataframe tbody tr th:only-of-type {\n",
       "        vertical-align: middle;\n",
       "    }\n",
       "\n",
       "    .dataframe tbody tr th {\n",
       "        vertical-align: top;\n",
       "    }\n",
       "\n",
       "    .dataframe thead th {\n",
       "        text-align: right;\n",
       "    }\n",
       "</style>\n",
       "<table border=\"1\" class=\"dataframe\">\n",
       "  <thead>\n",
       "    <tr style=\"text-align: right;\">\n",
       "      <th></th>\n",
       "      <th>문서번호</th>\n",
       "      <th>문장번호</th>\n",
       "      <th>수집일</th>\n",
       "      <th>채널</th>\n",
       "      <th>문장</th>\n",
       "      <th>URL</th>\n",
       "      <th>회사명</th>\n",
       "      <th>연관어</th>\n",
       "    </tr>\n",
       "  </thead>\n",
       "  <tbody>\n",
       "  </tbody>\n",
       "</table>\n",
       "</div>"
      ],
      "text/plain": [
       "Empty DataFrame\n",
       "Columns: [문서번호, 문장번호, 수집일, 채널, 문장, URL, 회사명, 연관어]\n",
       "Index: []"
      ]
     },
     "execution_count": 7,
     "metadata": {},
     "output_type": "execute_result"
    }
   ],
   "source": [
    "df_lotte_eco"
   ]
  },
  {
   "cell_type": "code",
   "execution_count": 8,
   "id": "8c87858f",
   "metadata": {
    "scrolled": true
   },
   "outputs": [
    {
     "name": "stdout",
     "output_type": "stream",
     "text": [
      "친환경\n",
      "환경\n",
      "탄소배출\n",
      "종이\n",
      "포장\n",
      "배출량\n",
      "효율\n",
      "탄소\n",
      "재활용\n",
      "절감\n",
      "에너지\n",
      "효율\n",
      "에코\n",
      "포장\n",
      "ECO\n",
      "자원\n",
      "사용량\n",
      "에너지\n",
      "분리배출\n",
      "기후\n",
      "태양광\n",
      "재생\n",
      "일회용\n",
      "온실가스\n",
      "플라스틱\n",
      "기후\n",
      "아이스팩\n",
      "탄소중립\n",
      "토양\n",
      "자연환경\n",
      "절감\n",
      "전력\n",
      "리사이클\n",
      "재생\n",
      "용기\n",
      "에코\n",
      "일회용컵\n",
      "재활용\n",
      "감축\n",
      "배출가스\n",
      "나무\n",
      "소재\n",
      "리필\n",
      "리사이클\n",
      "녹색\n"
     ]
    }
   ],
   "source": [
    "for eco_word in eco_list:\n",
    "    df_temp = df_lotte.loc[df_lotte['연관어'].str.contains(eco_word)]\n",
    "    df_lotte_eco= pd.concat([df_lotte_eco,df_temp] )\n",
    "    print(eco_word)"
   ]
  },
  {
   "cell_type": "code",
   "execution_count": 9,
   "id": "a068ac53",
   "metadata": {},
   "outputs": [
    {
     "data": {
      "text/html": [
       "<div>\n",
       "<style scoped>\n",
       "    .dataframe tbody tr th:only-of-type {\n",
       "        vertical-align: middle;\n",
       "    }\n",
       "\n",
       "    .dataframe tbody tr th {\n",
       "        vertical-align: top;\n",
       "    }\n",
       "\n",
       "    .dataframe thead th {\n",
       "        text-align: right;\n",
       "    }\n",
       "</style>\n",
       "<table border=\"1\" class=\"dataframe\">\n",
       "  <thead>\n",
       "    <tr style=\"text-align: right;\">\n",
       "      <th></th>\n",
       "      <th>문서번호</th>\n",
       "      <th>문장번호</th>\n",
       "      <th>수집일</th>\n",
       "      <th>채널</th>\n",
       "      <th>문장</th>\n",
       "      <th>URL</th>\n",
       "      <th>회사명</th>\n",
       "      <th>연관어</th>\n",
       "    </tr>\n",
       "  </thead>\n",
       "  <tbody>\n",
       "    <tr>\n",
       "      <th>17</th>\n",
       "      <td>DN000000010636973617_16</td>\n",
       "      <td>DN000000010636973617</td>\n",
       "      <td>20230101</td>\n",
       "      <td>언론</td>\n",
       "      <td>또 플라스틱 대신 종이 펄프를 사용하거나 부자재 사용을 최소화한 친환경 포장 선물 ...</td>\n",
       "      <td>https://v.daum.net/v/20230101060025927</td>\n",
       "      <td>롯데쇼핑</td>\n",
       "      <td>포장,친환경 포장,사용,종이,플라스틱,최소화</td>\n",
       "    </tr>\n",
       "    <tr>\n",
       "      <th>18</th>\n",
       "      <td>DN000000010636973628_17</td>\n",
       "      <td>DN000000010636973628</td>\n",
       "      <td>20230101</td>\n",
       "      <td>언론</td>\n",
       "      <td>플라스틱 대신 종이 펄프를 사용하거나 부자재 사용을 최소화한 친환경 포장 선물 세트...</td>\n",
       "      <td>https://n.news.naver.com/mnews/article/277/000...</td>\n",
       "      <td>롯데쇼핑</td>\n",
       "      <td>포장,친환경 포장,사용,종이,플라스틱,최소화</td>\n",
       "    </tr>\n",
       "    <tr>\n",
       "      <th>19</th>\n",
       "      <td>DN000000010636973711_16</td>\n",
       "      <td>DN000000010636973711</td>\n",
       "      <td>20230101</td>\n",
       "      <td>언론</td>\n",
       "      <td>또 플라스틱 대신 종이 펄프를 사용하거나 부자재 사용을 최소화한 친환경 포장 선물 ...</td>\n",
       "      <td>https://n.news.naver.com/mnews/article/018/000...</td>\n",
       "      <td>롯데쇼핑</td>\n",
       "      <td>포장,친환경 포장,사용,종이,플라스틱,최소화</td>\n",
       "    </tr>\n",
       "    <tr>\n",
       "      <th>20</th>\n",
       "      <td>DN000000010636973943_16</td>\n",
       "      <td>DN000000010636973943</td>\n",
       "      <td>20230101</td>\n",
       "      <td>언론</td>\n",
       "      <td>아울러 플라스틱 대신 종이 펄프를 사용하거나 부자재 사용을 최소화한 친환경 포장 선...</td>\n",
       "      <td>https://n.news.naver.com/mnews/article/421/000...</td>\n",
       "      <td>롯데쇼핑</td>\n",
       "      <td>포장,친환경 포장,사용,종이,플라스틱,최소화</td>\n",
       "    </tr>\n",
       "    <tr>\n",
       "      <th>21</th>\n",
       "      <td>DN000000010636975786_17</td>\n",
       "      <td>DN000000010636975786</td>\n",
       "      <td>20230101</td>\n",
       "      <td>언론</td>\n",
       "      <td>플라스틱 대신 종이 펄프를 사용하거나 부자재 사용을 최소화한 친환경 포장 선물 세트...</td>\n",
       "      <td>https://v.daum.net/v/20230101060148086</td>\n",
       "      <td>롯데쇼핑</td>\n",
       "      <td>포장,친환경 포장,사용,종이,플라스틱,최소화</td>\n",
       "    </tr>\n",
       "    <tr>\n",
       "      <th>...</th>\n",
       "      <td>...</td>\n",
       "      <td>...</td>\n",
       "      <td>...</td>\n",
       "      <td>...</td>\n",
       "      <td>...</td>\n",
       "      <td>...</td>\n",
       "      <td>...</td>\n",
       "      <td>...</td>\n",
       "    </tr>\n",
       "    <tr>\n",
       "      <th>34646</th>\n",
       "      <td>DN000000010772698144_7</td>\n",
       "      <td>DN000000010772698144</td>\n",
       "      <td>20230214</td>\n",
       "      <td>언론</td>\n",
       "      <td>전력소비 적은 시간에 전기사용시 할인\\n계시별 요금제 제주서 전국 확대 적용\\n \\...</td>\n",
       "      <td>https://v.daum.net/v/20230214214002241</td>\n",
       "      <td>롯데쇼핑</td>\n",
       "      <td>소비,확대,탄소중립,사용,전력,2050 탄소중립,녹색성장</td>\n",
       "    </tr>\n",
       "    <tr>\n",
       "      <th>34647</th>\n",
       "      <td>DN000000010772712138_7</td>\n",
       "      <td>DN000000010772712138</td>\n",
       "      <td>20230214</td>\n",
       "      <td>언론</td>\n",
       "      <td>전력소비 적은 시간에 전기사용시 할인\\n계시별 요금제 제주서 전국 확대 적용\\n\\n...</td>\n",
       "      <td>http://news.zum.com/articles/81297392</td>\n",
       "      <td>롯데쇼핑</td>\n",
       "      <td>소비,확대,탄소중립,사용,전력,2050 탄소중립,녹색성장</td>\n",
       "    </tr>\n",
       "    <tr>\n",
       "      <th>34648</th>\n",
       "      <td>DN000000010772729530_7</td>\n",
       "      <td>DN000000010772729530</td>\n",
       "      <td>20230214</td>\n",
       "      <td>언론</td>\n",
       "      <td>전력소비 적은 시간에 전기사용시 할인\\n계시별 요금제 제주서 전국 확대 적용산업통상...</td>\n",
       "      <td>http://www.seoul.co.kr/news/newsView.php?id=20...</td>\n",
       "      <td>롯데쇼핑</td>\n",
       "      <td>소비,확대,탄소중립,사용,전력,2050 탄소중립,녹색성장</td>\n",
       "    </tr>\n",
       "    <tr>\n",
       "      <th>34649</th>\n",
       "      <td>DN000000010772869940_7</td>\n",
       "      <td>DN000000010772869940</td>\n",
       "      <td>20230214</td>\n",
       "      <td>언론</td>\n",
       "      <td>전력소비 적은 시간에 전기사용시 할인\\n\\n계시별 요금제 제주서 전국 확대 적용\\n...</td>\n",
       "      <td>https://www.msn.com/ko-kr/news/ko-kr/5%EB%85%8...</td>\n",
       "      <td>롯데쇼핑</td>\n",
       "      <td>소비,확대,탄소중립,사용,전력,2050 탄소중립,녹색성장</td>\n",
       "    </tr>\n",
       "    <tr>\n",
       "      <th>35363</th>\n",
       "      <td>CF000000010773889661_7</td>\n",
       "      <td>CF000000010773889661</td>\n",
       "      <td>20230215</td>\n",
       "      <td>카페</td>\n",
       "      <td>전력소비 적은 시간에 전기사용시 할인\\n계시별 요금제 제주서 전국 확대 적용\\n\\n...</td>\n",
       "      <td>https://cafe.naver.com/kainclub/81631</td>\n",
       "      <td>롯데쇼핑</td>\n",
       "      <td>소비,확대,탄소중립,사용,전력,2050 탄소중립,녹색성장</td>\n",
       "    </tr>\n",
       "  </tbody>\n",
       "</table>\n",
       "<p>21607 rows × 8 columns</p>\n",
       "</div>"
      ],
      "text/plain": [
       "                          문서번호                  문장번호       수집일  채널  \\\n",
       "17     DN000000010636973617_16  DN000000010636973617  20230101  언론   \n",
       "18     DN000000010636973628_17  DN000000010636973628  20230101  언론   \n",
       "19     DN000000010636973711_16  DN000000010636973711  20230101  언론   \n",
       "20     DN000000010636973943_16  DN000000010636973943  20230101  언론   \n",
       "21     DN000000010636975786_17  DN000000010636975786  20230101  언론   \n",
       "...                        ...                   ...       ...  ..   \n",
       "34646   DN000000010772698144_7  DN000000010772698144  20230214  언론   \n",
       "34647   DN000000010772712138_7  DN000000010772712138  20230214  언론   \n",
       "34648   DN000000010772729530_7  DN000000010772729530  20230214  언론   \n",
       "34649   DN000000010772869940_7  DN000000010772869940  20230214  언론   \n",
       "35363   CF000000010773889661_7  CF000000010773889661  20230215  카페   \n",
       "\n",
       "                                                      문장  \\\n",
       "17     또 플라스틱 대신 종이 펄프를 사용하거나 부자재 사용을 최소화한 친환경 포장 선물 ...   \n",
       "18     플라스틱 대신 종이 펄프를 사용하거나 부자재 사용을 최소화한 친환경 포장 선물 세트...   \n",
       "19     또 플라스틱 대신 종이 펄프를 사용하거나 부자재 사용을 최소화한 친환경 포장 선물 ...   \n",
       "20     아울러 플라스틱 대신 종이 펄프를 사용하거나 부자재 사용을 최소화한 친환경 포장 선...   \n",
       "21     플라스틱 대신 종이 펄프를 사용하거나 부자재 사용을 최소화한 친환경 포장 선물 세트...   \n",
       "...                                                  ...   \n",
       "34646  전력소비 적은 시간에 전기사용시 할인\\n계시별 요금제 제주서 전국 확대 적용\\n \\...   \n",
       "34647  전력소비 적은 시간에 전기사용시 할인\\n계시별 요금제 제주서 전국 확대 적용\\n\\n...   \n",
       "34648  전력소비 적은 시간에 전기사용시 할인\\n계시별 요금제 제주서 전국 확대 적용산업통상...   \n",
       "34649  전력소비 적은 시간에 전기사용시 할인\\n\\n계시별 요금제 제주서 전국 확대 적용\\n...   \n",
       "35363  전력소비 적은 시간에 전기사용시 할인\\n계시별 요금제 제주서 전국 확대 적용\\n\\n...   \n",
       "\n",
       "                                                     URL   회사명  \\\n",
       "17                https://v.daum.net/v/20230101060025927  롯데쇼핑   \n",
       "18     https://n.news.naver.com/mnews/article/277/000...  롯데쇼핑   \n",
       "19     https://n.news.naver.com/mnews/article/018/000...  롯데쇼핑   \n",
       "20     https://n.news.naver.com/mnews/article/421/000...  롯데쇼핑   \n",
       "21                https://v.daum.net/v/20230101060148086  롯데쇼핑   \n",
       "...                                                  ...   ...   \n",
       "34646             https://v.daum.net/v/20230214214002241  롯데쇼핑   \n",
       "34647              http://news.zum.com/articles/81297392  롯데쇼핑   \n",
       "34648  http://www.seoul.co.kr/news/newsView.php?id=20...  롯데쇼핑   \n",
       "34649  https://www.msn.com/ko-kr/news/ko-kr/5%EB%85%8...  롯데쇼핑   \n",
       "35363              https://cafe.naver.com/kainclub/81631  롯데쇼핑   \n",
       "\n",
       "                                   연관어  \n",
       "17            포장,친환경 포장,사용,종이,플라스틱,최소화  \n",
       "18            포장,친환경 포장,사용,종이,플라스틱,최소화  \n",
       "19            포장,친환경 포장,사용,종이,플라스틱,최소화  \n",
       "20            포장,친환경 포장,사용,종이,플라스틱,최소화  \n",
       "21            포장,친환경 포장,사용,종이,플라스틱,최소화  \n",
       "...                                ...  \n",
       "34646  소비,확대,탄소중립,사용,전력,2050 탄소중립,녹색성장  \n",
       "34647  소비,확대,탄소중립,사용,전력,2050 탄소중립,녹색성장  \n",
       "34648  소비,확대,탄소중립,사용,전력,2050 탄소중립,녹색성장  \n",
       "34649  소비,확대,탄소중립,사용,전력,2050 탄소중립,녹색성장  \n",
       "35363  소비,확대,탄소중립,사용,전력,2050 탄소중립,녹색성장  \n",
       "\n",
       "[21607 rows x 8 columns]"
      ]
     },
     "execution_count": 9,
     "metadata": {},
     "output_type": "execute_result"
    }
   ],
   "source": [
    "df_lotte_eco"
   ]
  },
  {
   "cell_type": "code",
   "execution_count": 66,
   "id": "c5cdf760",
   "metadata": {},
   "outputs": [],
   "source": [
    "df_lotte_eco_ = df_lotte_eco.drop_duplicates('문장',keep='first')"
   ]
  },
  {
   "cell_type": "code",
   "execution_count": 16,
   "id": "4b2d280f",
   "metadata": {},
   "outputs": [],
   "source": [
    "df_emart =  pd.read_excel(\"/Users/a1101809/Downloads/emart.xlsx\")"
   ]
  },
  {
   "cell_type": "code",
   "execution_count": 17,
   "id": "96348e82",
   "metadata": {},
   "outputs": [],
   "source": [
    "df_emart.fillna('',inplace=True)"
   ]
  },
  {
   "cell_type": "code",
   "execution_count": 18,
   "id": "c3614017",
   "metadata": {},
   "outputs": [],
   "source": [
    "df_emart_eco = df_emart.loc[df_emart['연관어'].str.contains('test')]"
   ]
  },
  {
   "cell_type": "code",
   "execution_count": 19,
   "id": "c6ee5668",
   "metadata": {},
   "outputs": [
    {
     "name": "stdout",
     "output_type": "stream",
     "text": [
      "친환경\n",
      "환경\n",
      "탄소배출\n",
      "종이\n",
      "포장\n",
      "배출량\n",
      "효율\n",
      "탄소\n",
      "재활용\n",
      "절감\n",
      "에너지\n",
      "효율\n",
      "에코\n",
      "포장\n",
      "ECO\n",
      "자원\n",
      "사용량\n",
      "에너지\n",
      "분리배출\n",
      "기후\n",
      "태양광\n",
      "재생\n",
      "일회용\n",
      "온실가스\n",
      "플라스틱\n",
      "기후\n",
      "아이스팩\n",
      "탄소중립\n",
      "토양\n",
      "자연환경\n",
      "절감\n",
      "전력\n",
      "리사이클\n",
      "재생\n",
      "용기\n",
      "에코\n",
      "일회용컵\n",
      "재활용\n",
      "감축\n",
      "배출가스\n",
      "나무\n",
      "소재\n",
      "리필\n",
      "리사이클\n",
      "녹색\n"
     ]
    }
   ],
   "source": [
    "for eco_word in eco_list:\n",
    "    df_temp = df_emart.loc[df_emart['연관어'].str.contains(eco_word)]\n",
    "    df_emart_eco= pd.concat([df_emart_eco,df_temp] )\n",
    "    print(eco_word)"
   ]
  },
  {
   "cell_type": "code",
   "execution_count": 74,
   "id": "01c11cff",
   "metadata": {},
   "outputs": [],
   "source": [
    "df_emart_eco_ = df_emart_eco.drop_duplicates('문장',keep='first')"
   ]
  },
  {
   "cell_type": "code",
   "execution_count": 85,
   "id": "b1eebeec",
   "metadata": {},
   "outputs": [
    {
     "name": "stderr",
     "output_type": "stream",
     "text": [
      "/opt/homebrew/Caskroom/miniforge/base/envs/jupyter/lib/python3.8/site-packages/requests/__init__.py:109: RequestsDependencyWarning: urllib3 (1.26.9) or chardet (5.1.0)/charset_normalizer (2.0.12) doesn't match a supported version!\n",
      "  warnings.warn(\n"
     ]
    }
   ],
   "source": [
    "import requests"
   ]
  },
  {
   "cell_type": "code",
   "execution_count": 92,
   "id": "618c6491",
   "metadata": {},
   "outputs": [],
   "source": [
    "df_emart_eco_.to_csv('/Users/a1101809/Downloads/emart_eco.tsv',sep='\\t',encoding='utf-8')"
   ]
  },
  {
   "cell_type": "code",
   "execution_count": 90,
   "id": "28c9a0b3",
   "metadata": {},
   "outputs": [],
   "source": [
    "df_lotte_eco_.to_csv('/Users/a1101809/Downloads/lotte_eco.tsv',sep='\\t',encoding='utf-8')"
   ]
  },
  {
   "cell_type": "markdown",
   "id": "2933a315",
   "metadata": {},
   "source": [
    "### 중립"
   ]
  },
  {
   "cell_type": "markdown",
   "id": "6c4d75f2",
   "metadata": {},
   "source": [
    "### drop not in df_lotte_eco"
   ]
  },
  {
   "cell_type": "code",
   "execution_count": 14,
   "id": "4dbbc579",
   "metadata": {},
   "outputs": [],
   "source": [
    "df_lotte_n = df_lotte.loc[df_lotte.index.isin(df_lotte_eco.index)==False]"
   ]
  },
  {
   "cell_type": "code",
   "execution_count": 20,
   "id": "f9db6e9c",
   "metadata": {},
   "outputs": [],
   "source": [
    "df_emart_n = df_emart.loc[df_emart.index.isin(df_emart_eco.index)==False]"
   ]
  },
  {
   "cell_type": "markdown",
   "id": "40e7b983",
   "metadata": {},
   "source": [
    "### 영업시간은 제외함 환경이라고 볼수있어서"
   ]
  },
  {
   "cell_type": "code",
   "execution_count": 26,
   "id": "5478fdbf",
   "metadata": {},
   "outputs": [],
   "source": [
    "df_lotte_n = df_lotte_n.loc[df_lotte_n['문장'].str.contains('영업시간') == False]"
   ]
  },
  {
   "cell_type": "code",
   "execution_count": 57,
   "id": "cf6bd283",
   "metadata": {},
   "outputs": [],
   "source": [
    "temp=[]"
   ]
  },
  {
   "cell_type": "code",
   "execution_count": 58,
   "id": "0465f28d",
   "metadata": {},
   "outputs": [],
   "source": [
    "for x in df_lotte_n['문장']:\n",
    "    x = x.replace('\\\\n',' ')\n",
    "    x = x.replace('\\n',' ')\n",
    "    x = x.replace(\"\\\\\",'')\n",
    "    x = re.sub(r'\\\\','',x)\n",
    "    x = x.replace('.','')\n",
    "  \n",
    "    temp.append(x)"
   ]
  },
  {
   "cell_type": "code",
   "execution_count": 59,
   "id": "bcf4152a",
   "metadata": {},
   "outputs": [],
   "source": [
    "df_lotte_n['문장']= temp"
   ]
  },
  {
   "cell_type": "code",
   "execution_count": 61,
   "id": "6f592b24",
   "metadata": {},
   "outputs": [],
   "source": [
    "\n",
    "df_lotte_n['문장'] = df_lotte_n['문장'].replace('\\s+', ' ', regex=True)"
   ]
  },
  {
   "cell_type": "code",
   "execution_count": 62,
   "id": "59a5cf1c",
   "metadata": {},
   "outputs": [],
   "source": [
    "df_lotte_n = df_lotte_n.drop_duplicates('문장')"
   ]
  },
  {
   "cell_type": "code",
   "execution_count": 63,
   "id": "c91434a6",
   "metadata": {},
   "outputs": [],
   "source": [
    "df_lotte_n.index = list(range(len(df_lotte_n)))"
   ]
  },
  {
   "cell_type": "code",
   "execution_count": 28,
   "id": "86c6dfb3",
   "metadata": {},
   "outputs": [
    {
     "data": {
      "text/plain": [
       "76254"
      ]
     },
     "execution_count": 28,
     "metadata": {},
     "output_type": "execute_result"
    }
   ],
   "source": [
    "len(df_emart_n)"
   ]
  },
  {
   "cell_type": "code",
   "execution_count": 29,
   "id": "8d7933b6",
   "metadata": {},
   "outputs": [],
   "source": [
    "df_emart_n = df_emart_n.loc[df_emart_n['문장'].str.contains('영업시간') == False]"
   ]
  },
  {
   "cell_type": "markdown",
   "id": "4cf2473c",
   "metadata": {},
   "source": [
    "### 간단한 전처리"
   ]
  },
  {
   "cell_type": "code",
   "execution_count": 36,
   "id": "80949bc9",
   "metadata": {},
   "outputs": [],
   "source": [
    "import re"
   ]
  },
  {
   "cell_type": "code",
   "execution_count": 37,
   "id": "85522af6",
   "metadata": {},
   "outputs": [],
   "source": [
    "temp = []"
   ]
  },
  {
   "cell_type": "code",
   "execution_count": 38,
   "id": "fd377c65",
   "metadata": {},
   "outputs": [],
   "source": [
    "for x in df_emart_n['문장']:\n",
    "    x = x.replace('\\\\n',' ')\n",
    "    x = x.replace('\\n',' ')\n",
    "    x = x.replace(\"\\\\\",'')\n",
    "    x = re.sub(r'\\\\','',x)\n",
    "    x = x.replace('.','')\n",
    "  \n",
    "    temp.append(x)"
   ]
  },
  {
   "cell_type": "code",
   "execution_count": 41,
   "id": "182239f5",
   "metadata": {},
   "outputs": [
    {
     "name": "stderr",
     "output_type": "stream",
     "text": [
      "/var/folders/5r/_nzg4r9s24s61mgyw_ztdksw0000gq/T/ipykernel_42689/572493895.py:1: SettingWithCopyWarning: \n",
      "A value is trying to be set on a copy of a slice from a DataFrame.\n",
      "Try using .loc[row_indexer,col_indexer] = value instead\n",
      "\n",
      "See the caveats in the documentation: https://pandas.pydata.org/pandas-docs/stable/user_guide/indexing.html#returning-a-view-versus-a-copy\n",
      "  df_emart_n['문장']= temp\n"
     ]
    }
   ],
   "source": [
    "df_emart_n['문장']= temp"
   ]
  },
  {
   "cell_type": "code",
   "execution_count": 44,
   "id": "f98a20e9",
   "metadata": {},
   "outputs": [
    {
     "name": "stderr",
     "output_type": "stream",
     "text": [
      "/var/folders/5r/_nzg4r9s24s61mgyw_ztdksw0000gq/T/ipykernel_42689/944444464.py:1: SettingWithCopyWarning: \n",
      "A value is trying to be set on a copy of a slice from a DataFrame.\n",
      "Try using .loc[row_indexer,col_indexer] = value instead\n",
      "\n",
      "See the caveats in the documentation: https://pandas.pydata.org/pandas-docs/stable/user_guide/indexing.html#returning-a-view-versus-a-copy\n",
      "  df_emart_n['문장'] = df_emart_n['문장'].replace('\\s+', ' ', regex=True)\n"
     ]
    }
   ],
   "source": [
    "\n",
    "df_emart_n['문장'] = df_emart_n['문장'].replace('\\s+', ' ', regex=True)"
   ]
  },
  {
   "cell_type": "code",
   "execution_count": 47,
   "id": "f9eb0c3a",
   "metadata": {},
   "outputs": [],
   "source": [
    "df_emart_n = df_emart_n.drop_duplicates('문장')"
   ]
  },
  {
   "cell_type": "code",
   "execution_count": 53,
   "id": "608cbe91",
   "metadata": {},
   "outputs": [],
   "source": [
    "df_emart_n.index = list(range(len(df_emart_n)))"
   ]
  },
  {
   "cell_type": "code",
   "execution_count": 76,
   "id": "e1bdd3cf",
   "metadata": {},
   "outputs": [],
   "source": [
    "df_lotte_n = df_lotte_n.sort_values(by='문장')\n",
    "df_emart_n = df_emart_n.sort_values(by='문장')"
   ]
  },
  {
   "cell_type": "code",
   "execution_count": null,
   "id": "b79d5fb0",
   "metadata": {},
   "outputs": [],
   "source": []
  },
  {
   "cell_type": "code",
   "execution_count": 78,
   "id": "a3cd5fa3",
   "metadata": {},
   "outputs": [],
   "source": [
    "df_lotte_n.to_csv('lotte_neu.csv',sep='\\t',index=False)"
   ]
  },
  {
   "cell_type": "code",
   "execution_count": 79,
   "id": "e511e84f",
   "metadata": {},
   "outputs": [],
   "source": [
    "df_emart_n.to_csv('emart_neu.csv',sep='\\t',index=False)"
   ]
  },
  {
   "cell_type": "markdown",
   "id": "d4d6e6be",
   "metadata": {},
   "source": [
    "#### shuffle해서 가져오기"
   ]
  },
  {
   "cell_type": "code",
   "execution_count": 72,
   "id": "0af3a123",
   "metadata": {},
   "outputs": [],
   "source": [
    "df_lotte_n.sample(4000).to_csv('lotte_neu_4000.csv',sep='\\t',index=False)"
   ]
  },
  {
   "cell_type": "code",
   "execution_count": 73,
   "id": "5fbfa236",
   "metadata": {},
   "outputs": [],
   "source": [
    "df_emart_n.sample(4000).to_csv('emart_neu_4000.csv',sep='\\t',index=False)"
   ]
  },
  {
   "cell_type": "code",
   "execution_count": 74,
   "id": "07c773d5",
   "metadata": {},
   "outputs": [
    {
     "data": {
      "text/html": [
       "<div>\n",
       "<style scoped>\n",
       "    .dataframe tbody tr th:only-of-type {\n",
       "        vertical-align: middle;\n",
       "    }\n",
       "\n",
       "    .dataframe tbody tr th {\n",
       "        vertical-align: top;\n",
       "    }\n",
       "\n",
       "    .dataframe thead th {\n",
       "        text-align: right;\n",
       "    }\n",
       "</style>\n",
       "<table border=\"1\" class=\"dataframe\">\n",
       "  <thead>\n",
       "    <tr style=\"text-align: right;\">\n",
       "      <th></th>\n",
       "      <th>문서번호</th>\n",
       "      <th>문장번호</th>\n",
       "      <th>수집일</th>\n",
       "      <th>채널</th>\n",
       "      <th>문장</th>\n",
       "      <th>URL</th>\n",
       "      <th>회사명</th>\n",
       "      <th>연관어</th>\n",
       "    </tr>\n",
       "  </thead>\n",
       "  <tbody>\n",
       "    <tr>\n",
       "      <th>0</th>\n",
       "      <td>CF000000010638702036_201</td>\n",
       "      <td>CF000000010638702036</td>\n",
       "      <td>20230101</td>\n",
       "      <td>카페</td>\n",
       "      <td>착한 컬트 베스트15 누구나 한 번쯤은 마셔 보고 싶은 미국의 컬트 와인 하지만 가...</td>\n",
       "      <td>https://cafe.naver.com/unfamiliarwithwine/2010</td>\n",
       "      <td>롯데쇼핑</td>\n",
       "      <td>희망</td>\n",
       "    </tr>\n",
       "    <tr>\n",
       "      <th>1</th>\n",
       "      <td>DN000000010636973617_17</td>\n",
       "      <td>DN000000010636973617</td>\n",
       "      <td>20230101</td>\n",
       "      <td>언론</td>\n",
       "      <td>특히 지난 추석때 처음으로 도입해 큰 호응을 얻었던 ‘보랭가방 회수’ 프로모션은 ‘...</td>\n",
       "      <td>https://v.daum.net/v/20230101060025927</td>\n",
       "      <td>롯데쇼핑</td>\n",
       "      <td>확대</td>\n",
       "    </tr>\n",
       "    <tr>\n",
       "      <th>2</th>\n",
       "      <td>DN000000010637239184_3</td>\n",
       "      <td>DN000000010637239184</td>\n",
       "      <td>20230101</td>\n",
       "      <td>언론</td>\n",
       "      <td>코로나 기간 중 확대돼 온 고급 선물 문화가 엔데믹에도 지속되고 있다</td>\n",
       "      <td>http://news.nate.com/view/20230101n05553?mid=n...</td>\n",
       "      <td>롯데쇼핑</td>\n",
       "      <td>확대</td>\n",
       "    </tr>\n",
       "    <tr>\n",
       "      <th>3</th>\n",
       "      <td>DN000000010637314685_3</td>\n",
       "      <td>DN000000010637314685</td>\n",
       "      <td>20230101</td>\n",
       "      <td>언론</td>\n",
       "      <td>올해 설은 코로나 기간 확대돼온 고급 선물문화 반영과 고향을 찾는 귀성객이 증가할 ...</td>\n",
       "      <td>https://www.asiatoday.co.kr/view.php?key=20230...</td>\n",
       "      <td>롯데쇼핑</td>\n",
       "      <td>확대</td>\n",
       "    </tr>\n",
       "    <tr>\n",
       "      <th>4</th>\n",
       "      <td>DN000000010637875815_25</td>\n",
       "      <td>DN000000010637875815</td>\n",
       "      <td>20230101</td>\n",
       "      <td>언론</td>\n",
       "      <td>SSG닷컴은 4일까지 'DAY 1' 온라인 전용 프로모션을 확대 실시한다</td>\n",
       "      <td>http://news.zum.com/articles/80458332</td>\n",
       "      <td>롯데쇼핑</td>\n",
       "      <td>확대</td>\n",
       "    </tr>\n",
       "    <tr>\n",
       "      <th>...</th>\n",
       "      <td>...</td>\n",
       "      <td>...</td>\n",
       "      <td>...</td>\n",
       "      <td>...</td>\n",
       "      <td>...</td>\n",
       "      <td>...</td>\n",
       "      <td>...</td>\n",
       "      <td>...</td>\n",
       "    </tr>\n",
       "    <tr>\n",
       "      <th>20269</th>\n",
       "      <td>DN000000010916600174_11</td>\n",
       "      <td>DN000000010916600174</td>\n",
       "      <td>20230331</td>\n",
       "      <td>언론</td>\n",
       "      <td>영업면적은 쇼핑몰 7만3700㎡(약 2만 2000평), 호텔, 서비스 레지던스, 오...</td>\n",
       "      <td>https://v.daum.net/v/20230331181310822</td>\n",
       "      <td>롯데쇼핑</td>\n",
       "      <td></td>\n",
       "    </tr>\n",
       "    <tr>\n",
       "      <th>20270</th>\n",
       "      <td>DN000000010916600174_9</td>\n",
       "      <td>DN000000010916600174</td>\n",
       "      <td>20230331</td>\n",
       "      <td>언론</td>\n",
       "      <td>롯데백화점은 올 8월 베트남 하노이시에 초대형 복합 테마 쇼핑몰 ‘롯데몰 웨스트레이...</td>\n",
       "      <td>https://v.daum.net/v/20230331181310822</td>\n",
       "      <td>롯데쇼핑</td>\n",
       "      <td></td>\n",
       "    </tr>\n",
       "    <tr>\n",
       "      <th>20271</th>\n",
       "      <td>DN000000010917004495_22</td>\n",
       "      <td>DN000000010917004495</td>\n",
       "      <td>20230331</td>\n",
       "      <td>언론</td>\n",
       "      <td>하지만 현재까지 롯데온 앱과 계열사 평점은 구글플레이 리뷰 기준으로 3점대에 머무르...</td>\n",
       "      <td>http://www.newsfs.com/news/articleView.html?id...</td>\n",
       "      <td>롯데쇼핑</td>\n",
       "      <td></td>\n",
       "    </tr>\n",
       "    <tr>\n",
       "      <th>20272</th>\n",
       "      <td>DN000000010917004495_23</td>\n",
       "      <td>DN000000010917004495</td>\n",
       "      <td>20230331</td>\n",
       "      <td>언론</td>\n",
       "      <td>경쟁사인 쿠팡(40), G마켓(48), 11번가(48) 등에 못 미친다</td>\n",
       "      <td>http://www.newsfs.com/news/articleView.html?id...</td>\n",
       "      <td>롯데쇼핑</td>\n",
       "      <td></td>\n",
       "    </tr>\n",
       "    <tr>\n",
       "      <th>20273</th>\n",
       "      <td>DN000000010917048540_9</td>\n",
       "      <td>DN000000010917048540</td>\n",
       "      <td>20230331</td>\n",
       "      <td>언론</td>\n",
       "      <td>인건비와 전기요금 등이 올라 심야 시간 영업의 효율성이 떨어졌다는 판단에서다</td>\n",
       "      <td>https://n.news.naver.com/mnews/article/022/000...</td>\n",
       "      <td>롯데쇼핑</td>\n",
       "      <td></td>\n",
       "    </tr>\n",
       "  </tbody>\n",
       "</table>\n",
       "<p>20274 rows × 8 columns</p>\n",
       "</div>"
      ],
      "text/plain": [
       "                           문서번호                  문장번호       수집일  채널  \\\n",
       "0      CF000000010638702036_201  CF000000010638702036  20230101  카페   \n",
       "1       DN000000010636973617_17  DN000000010636973617  20230101  언론   \n",
       "2        DN000000010637239184_3  DN000000010637239184  20230101  언론   \n",
       "3        DN000000010637314685_3  DN000000010637314685  20230101  언론   \n",
       "4       DN000000010637875815_25  DN000000010637875815  20230101  언론   \n",
       "...                         ...                   ...       ...  ..   \n",
       "20269   DN000000010916600174_11  DN000000010916600174  20230331  언론   \n",
       "20270    DN000000010916600174_9  DN000000010916600174  20230331  언론   \n",
       "20271   DN000000010917004495_22  DN000000010917004495  20230331  언론   \n",
       "20272   DN000000010917004495_23  DN000000010917004495  20230331  언론   \n",
       "20273    DN000000010917048540_9  DN000000010917048540  20230331  언론   \n",
       "\n",
       "                                                      문장  \\\n",
       "0      착한 컬트 베스트15 누구나 한 번쯤은 마셔 보고 싶은 미국의 컬트 와인 하지만 가...   \n",
       "1      특히 지난 추석때 처음으로 도입해 큰 호응을 얻었던 ‘보랭가방 회수’ 프로모션은 ‘...   \n",
       "2                 코로나 기간 중 확대돼 온 고급 선물 문화가 엔데믹에도 지속되고 있다   \n",
       "3      올해 설은 코로나 기간 확대돼온 고급 선물문화 반영과 고향을 찾는 귀성객이 증가할 ...   \n",
       "4               SSG닷컴은 4일까지 'DAY 1' 온라인 전용 프로모션을 확대 실시한다   \n",
       "...                                                  ...   \n",
       "20269  영업면적은 쇼핑몰 7만3700㎡(약 2만 2000평), 호텔, 서비스 레지던스, 오...   \n",
       "20270  롯데백화점은 올 8월 베트남 하노이시에 초대형 복합 테마 쇼핑몰 ‘롯데몰 웨스트레이...   \n",
       "20271  하지만 현재까지 롯데온 앱과 계열사 평점은 구글플레이 리뷰 기준으로 3점대에 머무르...   \n",
       "20272            경쟁사인 쿠팡(40), G마켓(48), 11번가(48) 등에 못 미친다   \n",
       "20273         인건비와 전기요금 등이 올라 심야 시간 영업의 효율성이 떨어졌다는 판단에서다   \n",
       "\n",
       "                                                     URL   회사명 연관어  \n",
       "0         https://cafe.naver.com/unfamiliarwithwine/2010  롯데쇼핑  희망  \n",
       "1                 https://v.daum.net/v/20230101060025927  롯데쇼핑  확대  \n",
       "2      http://news.nate.com/view/20230101n05553?mid=n...  롯데쇼핑  확대  \n",
       "3      https://www.asiatoday.co.kr/view.php?key=20230...  롯데쇼핑  확대  \n",
       "4                  http://news.zum.com/articles/80458332  롯데쇼핑  확대  \n",
       "...                                                  ...   ...  ..  \n",
       "20269             https://v.daum.net/v/20230331181310822  롯데쇼핑      \n",
       "20270             https://v.daum.net/v/20230331181310822  롯데쇼핑      \n",
       "20271  http://www.newsfs.com/news/articleView.html?id...  롯데쇼핑      \n",
       "20272  http://www.newsfs.com/news/articleView.html?id...  롯데쇼핑      \n",
       "20273  https://n.news.naver.com/mnews/article/022/000...  롯데쇼핑      \n",
       "\n",
       "[20274 rows x 8 columns]"
      ]
     },
     "execution_count": 74,
     "metadata": {},
     "output_type": "execute_result"
    }
   ],
   "source": [
    "df_lotte_n.sort_values()"
   ]
  },
  {
   "cell_type": "code",
   "execution_count": null,
   "id": "82a56c08",
   "metadata": {},
   "outputs": [],
   "source": []
  }
 ],
 "metadata": {
  "kernelspec": {
   "display_name": "Python 3 (ipykernel)",
   "language": "python",
   "name": "python3"
  },
  "language_info": {
   "codemirror_mode": {
    "name": "ipython",
    "version": 3
   },
   "file_extension": ".py",
   "mimetype": "text/x-python",
   "name": "python",
   "nbconvert_exporter": "python",
   "pygments_lexer": "ipython3",
   "version": "3.8.13"
  }
 },
 "nbformat": 4,
 "nbformat_minor": 5
}
