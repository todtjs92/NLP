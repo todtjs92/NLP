{
 "cells": [
  {
   "cell_type": "code",
   "execution_count": 46,
   "id": "fcd66197",
   "metadata": {},
   "outputs": [
    {
     "name": "stderr",
     "output_type": "stream",
     "text": [
      "/opt/homebrew/Caskroom/miniforge/base/envs/jupyter/lib/python3.8/site-packages/requests/__init__.py:109: RequestsDependencyWarning: urllib3 (1.26.9) or chardet (5.1.0)/charset_normalizer (2.0.12) doesn't match a supported version!\n",
      "  warnings.warn(\n"
     ]
    }
   ],
   "source": [
    "import pandas as pd\n",
    "import requests\n",
    "import json"
   ]
  },
  {
   "cell_type": "code",
   "execution_count": 69,
   "id": "09152e9b",
   "metadata": {},
   "outputs": [],
   "source": [
    "from bs4 import BeautifulSoup"
   ]
  },
  {
   "cell_type": "code",
   "execution_count": 82,
   "id": "4e3b3389",
   "metadata": {},
   "outputs": [],
   "source": [
    "lotte_articles = []"
   ]
  },
  {
   "cell_type": "code",
   "execution_count": 47,
   "id": "1d8044cd",
   "metadata": {},
   "outputs": [],
   "source": [
    "lotte_eco_list= []"
   ]
  },
  {
   "cell_type": "code",
   "execution_count": null,
   "id": "95eb654e",
   "metadata": {},
   "outputs": [],
   "source": [
    "http://www.newsway.co.kr/news/view?ud=2023010316000769802\n",
    "http://www.ftoday.co.kr/news/articleView.html?idxno=248315\n",
    "http://www.naewoeilbo.com/news/articleView.html?idxno=687332\n",
    "http://www.naeil.com/news_view/?id_art=447889\n",
    "http://www.hkbs.co.kr/news/articleView.html?idxno=707836"
   ]
  },
  {
   "cell_type": "code",
   "execution_count": 129,
   "id": "c28ff829",
   "metadata": {},
   "outputs": [],
   "source": [
    "lotte_string = \"\"\"\n",
    "http://news.nate.com/view/20230102n08531?mid=n0100\n",
    "http://news.nate.com/view/20230110n07447?mid=n0100\n",
    "http://news.nate.com/view/20230315n25063?mid=n0100\n",
    "http://news.nate.com/view/20230320n06908?mid=n0100\n",
    "http://news.nate.com/view/20230206n01364?mid=n0100\n",
    "http://news.zum.com/articles/80721132\n",
    "https://n.news.naver.com/mnews/article/032/0003198160?rc=N&ntype=RANKING&sid=001\n",
    "https://n.news.naver.com/mnews/article/008/0004838420?rc=N&ntype=RANKING&sid=001\n",
    "https://n.news.naver.com/mnews/article/025/0003257808?rc=N&ntype=RANKING&sid=001\n",
    "\"\"\""
   ]
  },
  {
   "cell_type": "code",
   "execution_count": 130,
   "id": "dc834826",
   "metadata": {},
   "outputs": [],
   "source": [
    "lotte_string = lotte_string.split('\\n')"
   ]
  },
  {
   "cell_type": "code",
   "execution_count": 131,
   "id": "5f7aeb50",
   "metadata": {},
   "outputs": [],
   "source": [
    "lotte_string = lotte_string[1:-1]"
   ]
  },
  {
   "cell_type": "code",
   "execution_count": 157,
   "id": "284a98e8",
   "metadata": {},
   "outputs": [],
   "source": [
    "url = lotte_string[4]"
   ]
  },
  {
   "cell_type": "code",
   "execution_count": 158,
   "id": "c0eb95d1",
   "metadata": {},
   "outputs": [
    {
     "data": {
      "text/plain": [
       "'http://news.nate.com/view/20230206n01364?mid=n0100'"
      ]
     },
     "execution_count": 158,
     "metadata": {},
     "output_type": "execute_result"
    }
   ],
   "source": [
    "url"
   ]
  },
  {
   "cell_type": "code",
   "execution_count": 159,
   "id": "3e43d55b",
   "metadata": {},
   "outputs": [],
   "source": [
    "response = requests.get(url)"
   ]
  },
  {
   "cell_type": "code",
   "execution_count": 160,
   "id": "5231dc0f",
   "metadata": {},
   "outputs": [],
   "source": [
    "content = response.content"
   ]
  },
  {
   "cell_type": "code",
   "execution_count": 161,
   "id": "5c034e31",
   "metadata": {},
   "outputs": [],
   "source": [
    "soup = BeautifulSoup(content, 'html.parser')"
   ]
  },
  {
   "cell_type": "code",
   "execution_count": 163,
   "id": "e8915e4d",
   "metadata": {},
   "outputs": [],
   "source": [
    "realArtcContents_div = soup.find('div', {'id': 'realArtcContents'})"
   ]
  },
  {
   "cell_type": "code",
   "execution_count": 165,
   "id": "eb9c4c93",
   "metadata": {},
   "outputs": [],
   "source": [
    "string = \"\"\"\n",
    "\"지난달 16일 롯데마트 제타플렉스점 내 유제품 진열용 냉장고 하단에 붙어있는 안내문. 에너지 절약과 신선도 유지 차원에서 문을 닫아달라는 부탁이 담겼다. 정종훈 기자\" id=\"mainimg4\" onclick=\"GoImg(this.src); return false;\" onerror=\"blankImg(this,0,0)\" src=\"//thumbnews.nateimg.co.kr/view610///news.nateimg.co.kr/orgImg/jo/2023/02/06/b6d809c4-cb2c-47f7-baf3-f9417acd696c.jpg\" style=\"cursor:pointer;\"/></div><div style=\"display: block;\"><p style=\"font-size: 12px !important; color:#777;font-family: '돋움',dotum;\">지난달 16일 롯데마트 제타플렉스점 내 유제품 진열용 냉장고 하단에 붙어있는 안내문. 에너지 절약과 신선도 유지 차원에서 문을 닫아달라는 부탁이 담겼다. 정종훈 기자</p></div>\n",
    "</div>                                                    대기업도 생존을 위한 다이어트에 뛰어든 건 마찬가지다. 롯데마트는 냉·난방, 조명 등에 들어가는 전기료만 지난해 800억원 넘게 나왔다. 전기료 인상은 곧 영업이익 등 실적에 직격탄이 된다.<br/><br/>이 때문에 2009년부터 마트 조명을 전력 소모가 적은 LED로 바꾸고, 2015년께 무빙워크 속도도 늦추는 등 에너지 절약에 일찍이 나섰다. 올여름까지 전국 모든 마트에 진열용 냉장고 문을 설치할 계획이다. 이철민 부문장은 \"올해는 에너지 비용이 더 올라 900억원 이상 나올 듯하다. 그나마 냉장고 문 달기 같은 효율 향상으로 연간 수십억원을 절감하게 됐다\"고 밝혔다.\n",
    "\"\"\""
   ]
  },
  {
   "cell_type": "code",
   "execution_count": 166,
   "id": "fc7ddbba",
   "metadata": {},
   "outputs": [],
   "source": [
    "strings = string.split(\".\")"
   ]
  },
  {
   "cell_type": "code",
   "execution_count": 142,
   "id": "afa2b0b0",
   "metadata": {},
   "outputs": [],
   "source": [
    "temp = []"
   ]
  },
  {
   "cell_type": "code",
   "execution_count": 117,
   "id": "589ec48a",
   "metadata": {},
   "outputs": [],
   "source": [
    "for p_tag in realArtcContents_div.find_all('p'):\n",
    "    temp.append(p_tag.text)"
   ]
  },
  {
   "cell_type": "code",
   "execution_count": 118,
   "id": "cfa0a045",
   "metadata": {},
   "outputs": [
    {
     "data": {
      "text/plain": [
       "[\"[바이오 성공 투자 '1%를 위한 길라잡이' 팜이데일리][새로워진 '이데일리 연재 시리즈' 취향대로 PICK하기][뉴땡 Shorts 아직 못봤어? 뉴스가 땡길 때, 1분 순삭!][10대의 뉴스는 다르다. 하이스쿨 커뮤니티 '하이니티'][다양한 미국 주식정보! 꿀 떨어지는 '이유TV'에서 확인!][빅데이터 AI트레이딩 솔루션 '매직차트']＜ⓒ종합 경제정보 미디어 이데일리 - 무단전재 & 재배포 금지＞\"]"
      ]
     },
     "execution_count": 118,
     "metadata": {},
     "output_type": "execute_result"
    }
   ],
   "source": [
    "temp"
   ]
  },
  {
   "cell_type": "code",
   "execution_count": 126,
   "id": "359bd5dc",
   "metadata": {},
   "outputs": [],
   "source": [
    "lotte_articles.append(temp)"
   ]
  },
  {
   "cell_type": "code",
   "execution_count": 156,
   "id": "e1775255",
   "metadata": {},
   "outputs": [],
   "source": [
    "lotte_articles.append(strings)"
   ]
  },
  {
   "cell_type": "markdown",
   "id": "42db0ddc",
   "metadata": {},
   "source": [
    "#### em"
   ]
  },
  {
   "cell_type": "code",
   "execution_count": null,
   "id": "31578939",
   "metadata": {},
   "outputs": [],
   "source": [
    "requests.get()"
   ]
  },
  {
   "cell_type": "code",
   "execution_count": null,
   "id": "bee99b69",
   "metadata": {},
   "outputs": [],
   "source": [
    "http://news.nate.com/view/20230302n23505?mid=n0100\n",
    "http://news.zum.com/articles/80622784\n",
    "https://n.news.naver.com/mnews/article/448/0000390488?rc=N&ntype=RANKING&sid=001\n",
    "https://n.news.naver.com/mnews/article/421/0006567193?rc=N&ntype=RANKING&sid=001\n",
    "https://n.news.naver.com/mnews/article/011/0004159142?rc=N&ntype=RANKING&sid=001\n",
    "https://n.news.naver.com/mnews/article/243/0000040969?rc=N&ntype=RANKING&sid=001\n",
    "http://news.nate.com/view/20230110n25792?mid=n0100\n",
    "https://n.news.naver.com/mnews/article/016/0002088936?rc=N&ntype=RANKING&sid=001\n",
    "http://news.nate.com/view/20230110n30696?mid=n0100\n",
    "http://news.zum.com/articles/81595353\n",
    "https://n.news.naver.com/mnews/article/023/0003749811?rc=N&ntype=RANKING&sid=001\n",
    "https://n.news.naver.com/mnews/article/001/0013838871?rc=N&ntype=RANKING&sid=001\n",
    "https://n.news.naver.com/mnews/article/469/0000731094?rc=N&ntype=RANKING&sid=001\n",
    "https://n.news.naver.com/mnews/article/277/0005236267?rc=N&ntype=RANKING&sid=001\n",
    "https://n.news.naver.com/mnews/article/421/0006567193?rc=N&ntype=RANKING&sid=001\n",
    "https://n.news.naver.com/mnews/article/277/0005236267?rc=N&ntype=RANKING&sid=001"
   ]
  },
  {
   "cell_type": "code",
   "execution_count": 5,
   "id": "2612e480",
   "metadata": {},
   "outputs": [],
   "source": [
    "import pandas as pd"
   ]
  },
  {
   "cell_type": "code",
   "execution_count": 6,
   "id": "5eb8d248",
   "metadata": {},
   "outputs": [],
   "source": [
    "df = pd.read_csv('emart_neu_4000.csv',sep='\\t')"
   ]
  },
  {
   "cell_type": "code",
   "execution_count": 17,
   "id": "e37c05e1",
   "metadata": {},
   "outputs": [],
   "source": [
    "df_ = df.loc[df['연관어'].isna()==True]"
   ]
  },
  {
   "cell_type": "code",
   "execution_count": 18,
   "id": "02df5f1d",
   "metadata": {},
   "outputs": [],
   "source": [
    "df_naver = df_.loc[df_['URL'].str.contains('naver')]"
   ]
  },
  {
   "cell_type": "code",
   "execution_count": 19,
   "id": "224a457b",
   "metadata": {},
   "outputs": [],
   "source": [
    "df_naver_ = df_naver.loc[df_naver['채널'].str.contains('언론')]"
   ]
  },
  {
   "cell_type": "code",
   "execution_count": 20,
   "id": "261af736",
   "metadata": {},
   "outputs": [],
   "source": [
    "df_naver__ = df_naver_.loc[df_naver_['문장'].str.contains('이마트')]"
   ]
  },
  {
   "cell_type": "code",
   "execution_count": 26,
   "id": "4f120e82",
   "metadata": {},
   "outputs": [],
   "source": [
    "df_naver__sample = df_naver__.sample(50)"
   ]
  },
  {
   "cell_type": "code",
   "execution_count": 32,
   "id": "6f1fca6a",
   "metadata": {},
   "outputs": [],
   "source": [
    "emart_neau_list = list(df_naver__sample['URL'].values)"
   ]
  },
  {
   "cell_type": "code",
   "execution_count": 43,
   "id": "fdc7769a",
   "metadata": {},
   "outputs": [],
   "source": [
    "import pickle"
   ]
  },
  {
   "cell_type": "code",
   "execution_count": 44,
   "id": "e220d907",
   "metadata": {},
   "outputs": [],
   "source": [
    "with open('emart_neau_list.pickle','wb') as f:\n",
    "    pickle.dump(emart_neau_list,f)"
   ]
  },
  {
   "cell_type": "markdown",
   "id": "ec3d5bdf",
   "metadata": {},
   "source": [
    "### lotte"
   ]
  },
  {
   "cell_type": "code",
   "execution_count": 34,
   "id": "b0069e97",
   "metadata": {},
   "outputs": [],
   "source": [
    "df = pd.read_csv('lotte_neu_4000.csv',sep='\\t')"
   ]
  },
  {
   "cell_type": "code",
   "execution_count": 35,
   "id": "fc39d47f",
   "metadata": {},
   "outputs": [],
   "source": [
    "df_ = df.loc[df['연관어'].isna()==True]"
   ]
  },
  {
   "cell_type": "code",
   "execution_count": 36,
   "id": "b0dc785d",
   "metadata": {},
   "outputs": [],
   "source": [
    "df_lotte = df_.loc[df_['URL'].str.contains('naver')]"
   ]
  },
  {
   "cell_type": "code",
   "execution_count": 37,
   "id": "5b5a01ff",
   "metadata": {},
   "outputs": [],
   "source": [
    "df_lotte_ = df_lotte.loc[df_lotte['채널'].str.contains('언론')]"
   ]
  },
  {
   "cell_type": "code",
   "execution_count": 38,
   "id": "d99afbe5",
   "metadata": {},
   "outputs": [],
   "source": [
    "df_lotte__ = df_lotte_.loc[df_lotte_['문장'].str.contains('롯데')]"
   ]
  },
  {
   "cell_type": "code",
   "execution_count": 39,
   "id": "81f2f8ba",
   "metadata": {},
   "outputs": [],
   "source": [
    "df_lotte__sample = df_lotte__.sample(50)"
   ]
  },
  {
   "cell_type": "code",
   "execution_count": 41,
   "id": "7c002e46",
   "metadata": {},
   "outputs": [],
   "source": [
    "lotte_neau_list = list(df_lotte__sample['URL'].values)"
   ]
  },
  {
   "cell_type": "code",
   "execution_count": 45,
   "id": "19a8cbfe",
   "metadata": {},
   "outputs": [],
   "source": [
    "with open('lotte_neau_list.pickle','wb') as f:\n",
    "    pickle.dump(lotte_neau_list,f)"
   ]
  },
  {
   "cell_type": "code",
   "execution_count": null,
   "id": "06ee6a72",
   "metadata": {},
   "outputs": [],
   "source": []
  }
 ],
 "metadata": {
  "kernelspec": {
   "display_name": "Python 3 (ipykernel)",
   "language": "python",
   "name": "python3"
  },
  "language_info": {
   "codemirror_mode": {
    "name": "ipython",
    "version": 3
   },
   "file_extension": ".py",
   "mimetype": "text/x-python",
   "name": "python",
   "nbconvert_exporter": "python",
   "pygments_lexer": "ipython3",
   "version": "3.8.13"
  }
 },
 "nbformat": 4,
 "nbformat_minor": 5
}
