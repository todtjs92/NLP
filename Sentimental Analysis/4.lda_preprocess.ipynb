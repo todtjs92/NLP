{
 "cells": [
  {
   "cell_type": "code",
   "execution_count": 46,
   "id": "2f50d2e2",
   "metadata": {},
   "outputs": [
    {
     "name": "stderr",
     "output_type": "stream",
     "text": [
      "/opt/homebrew/Caskroom/miniforge/base/envs/jupyter/lib/python3.8/site-packages/requests/__init__.py:109: RequestsDependencyWarning: urllib3 (1.26.9) or chardet (5.1.0)/charset_normalizer (2.0.12) doesn't match a supported version!\n",
      "  warnings.warn(\n"
     ]
    }
   ],
   "source": [
    "import pandas as pd\n",
    "import requests\n",
    "import json"
   ]
  },
  {
   "cell_type": "code",
   "execution_count": 69,
   "id": "70a230ad",
   "metadata": {},
   "outputs": [],
   "source": [
    "from bs4 import BeautifulSoup"
   ]
  },
  {
   "cell_type": "code",
   "execution_count": 82,
   "id": "6867eeb5",
   "metadata": {},
   "outputs": [],
   "source": [
    "lotte_articles = []"
   ]
  },
  {
   "cell_type": "code",
   "execution_count": 47,
   "id": "f4ba2425",
   "metadata": {},
   "outputs": [],
   "source": [
    "lotte_eco_list= []"
   ]
  },
  {
   "cell_type": "code",
   "execution_count": null,
   "id": "56302f12",
   "metadata": {},
   "outputs": [],
   "source": [
    "http://www.newsway.co.kr/news/view?ud=2023010316000769802\n",
    "http://www.ftoday.co.kr/news/articleView.html?idxno=248315\n",
    "http://www.naewoeilbo.com/news/articleView.html?idxno=687332\n",
    "http://www.naeil.com/news_view/?id_art=447889\n",
    "http://www.hkbs.co.kr/news/articleView.html?idxno=707836"
   ]
  },
  {
   "cell_type": "code",
   "execution_count": 129,
   "id": "dbc7471a",
   "metadata": {},
   "outputs": [],
   "source": [
    "lotte_string = \"\"\"\n",
    "http://news.nate.com/view/20230102n08531?mid=n0100\n",
    "http://news.nate.com/view/20230110n07447?mid=n0100\n",
    "http://news.nate.com/view/20230315n25063?mid=n0100\n",
    "http://news.nate.com/view/20230320n06908?mid=n0100\n",
    "http://news.nate.com/view/20230206n01364?mid=n0100\n",
    "http://news.zum.com/articles/80721132\n",
    "https://n.news.naver.com/mnews/article/032/0003198160?rc=N&ntype=RANKING&sid=001\n",
    "https://n.news.naver.com/mnews/article/008/0004838420?rc=N&ntype=RANKING&sid=001\n",
    "https://n.news.naver.com/mnews/article/025/0003257808?rc=N&ntype=RANKING&sid=001\n",
    "\"\"\""
   ]
  },
  {
   "cell_type": "code",
   "execution_count": 130,
   "id": "f397341a",
   "metadata": {},
   "outputs": [],
   "source": [
    "lotte_string = lotte_string.split('\\n')"
   ]
  },
  {
   "cell_type": "code",
   "execution_count": 131,
   "id": "cc8da979",
   "metadata": {},
   "outputs": [],
   "source": [
    "lotte_string = lotte_string[1:-1]"
   ]
  },
  {
   "cell_type": "code",
   "execution_count": 213,
   "id": "0e8ef3af",
   "metadata": {},
   "outputs": [],
   "source": [
    "url = lotte_string[8]"
   ]
  },
  {
   "cell_type": "code",
   "execution_count": 214,
   "id": "4cd3250d",
   "metadata": {},
   "outputs": [
    {
     "data": {
      "text/plain": [
       "'https://n.news.naver.com/mnews/article/025/0003257808?rc=N&ntype=RANKING&sid=001'"
      ]
     },
     "execution_count": 214,
     "metadata": {},
     "output_type": "execute_result"
    }
   ],
   "source": [
    "url"
   ]
  },
  {
   "cell_type": "code",
   "execution_count": 184,
   "id": "0823b350",
   "metadata": {},
   "outputs": [],
   "source": [
    "headers = {\"user-agent\": \"Mozilla/5.0 (Macintosh; Intel Mac OS X 10_15_5) AppleWebKit/537.36 (KHTML, like Gecko) Chrome/84.0.4147.89 Safari/537.36\"}"
   ]
  },
  {
   "cell_type": "code",
   "execution_count": null,
   "id": "f3897996",
   "metadata": {},
   "outputs": [],
   "source": []
  },
  {
   "cell_type": "code",
   "execution_count": 215,
   "id": "8af2e8f4",
   "metadata": {},
   "outputs": [],
   "source": [
    "response = requests.get(url,headers= headers)"
   ]
  },
  {
   "cell_type": "code",
   "execution_count": 216,
   "id": "c3232a09",
   "metadata": {},
   "outputs": [],
   "source": [
    "content = response.content"
   ]
  },
  {
   "cell_type": "code",
   "execution_count": 217,
   "id": "0cd0567a",
   "metadata": {},
   "outputs": [],
   "source": [
    "soup = BeautifulSoup(content, 'html.parser')"
   ]
  },
  {
   "cell_type": "code",
   "execution_count": 218,
   "id": "015ccf9a",
   "metadata": {},
   "outputs": [],
   "source": [
    "realArtcContents_div = soup.find('div', {'id': 'dic_area'})"
   ]
  },
  {
   "cell_type": "code",
   "execution_count": 277,
   "id": "aea1fd6e",
   "metadata": {},
   "outputs": [],
   "source": [
    "string = \"\"\"\n",
    "롯데마트는 25년 만에 종이 전단 운영을 전면 중단했다. 롯데마트는 친환경 경영의 일환으로 새해부터 1회용 종이 전단을 대신해 새롭게 개편된 모바일 전단을 운영한다. 이를 통해 롯데마트는 연간 150여 t의 종이 사용을 줄일 수 있게 되었다. 이는 연간 20년생 나무 약 3000그루를 보존하는 것과 같으며, 1만6000여 ㎏의 탄소배출을 저감하는 효과로도 이어진다.\n",
    "\n",
    "모바일 전단은 롯데마트의 오프라인 전용 애플리케이션인 ‘롯데마트GO’ 또는 매장 내 고지된 QR코드를 스캔해 확인할 수 있으며, 매주 목요일 오전 9시에 해당 주차의 새로운 소식과 행사 내용이 업로드 된다. 또 새해부터 모바일 전단이 종이 전단을 완전히 대체하게 된 만큼 기존에 운영해오던 디지털 전단과는 달리 좀 더 모바일에 특화된 사이즈로 전단 디자인을 개편했다.\n",
    "\n",
    "롯데마트는 고객과 함께 하는 자원 선순환 활동과 친환경 에너지 사용 확산에도 힘쓰고 있다. 지난해 10월 롯데마트는 환경부 포함 18개 기관이 함께하는 ‘고품질 재활용품 회수·보상 사업’ 추진을 위한 업무 협약을 체결했다. 이를 통해 롯데마트 매장을 고객들의 재활용품 수거 거점으로 지원해 자원 회수 및 보상 공간으로 활용할 계획이다. 지난해 12월에는 1회용컵 보증금 제도 제도화에 따라 제주점에 ‘1회용컵 간이 회수기’를 설치하기도 했다.\n",
    "\n",
    "김정우 롯데마트 브랜드전략팀 전단 담당자는 “친환경 경영과 ESG가치 실현을 위해 20여 년간 운영하던 1회용 종이 전단 운영을 전면 중단하고 이제는 모바일 전단으로 고객들과 소통하고자 한다”며 “향후 이와 연계된 다양한 프로모션도 검토할 예정”이라고 말했다.\n",
    "\"\"\""
   ]
  },
  {
   "cell_type": "code",
   "execution_count": 278,
   "id": "687573c9",
   "metadata": {},
   "outputs": [],
   "source": [
    "strings = string.split(\".\")"
   ]
  },
  {
   "cell_type": "code",
   "execution_count": 279,
   "id": "001842c6",
   "metadata": {},
   "outputs": [],
   "source": [
    "lotte_articles.append(strings)"
   ]
  },
  {
   "cell_type": "code",
   "execution_count": 208,
   "id": "df88d166",
   "metadata": {},
   "outputs": [],
   "source": [
    "#temp = []"
   ]
  },
  {
   "cell_type": "code",
   "execution_count": 209,
   "id": "8198fca7",
   "metadata": {},
   "outputs": [],
   "source": [
    "# for p_tag in realArtcContents_div.find_all('p'):\n",
    "#     temp.append(p_tag.text)"
   ]
  },
  {
   "cell_type": "code",
   "execution_count": 210,
   "id": "ac6cee15",
   "metadata": {},
   "outputs": [
    {
     "data": {
      "text/plain": [
       "[]"
      ]
     },
     "execution_count": 210,
     "metadata": {},
     "output_type": "execute_result"
    }
   ],
   "source": [
    "#temp"
   ]
  },
  {
   "cell_type": "code",
   "execution_count": 126,
   "id": "a4028092",
   "metadata": {},
   "outputs": [],
   "source": [
    "#lotte_articles.append(temp)"
   ]
  },
  {
   "cell_type": "code",
   "execution_count": null,
   "id": "d00547be",
   "metadata": {},
   "outputs": [],
   "source": [
    "lotte_articles"
   ]
  },
  {
   "cell_type": "code",
   "execution_count": 232,
   "id": "5b84136e",
   "metadata": {},
   "outputs": [],
   "source": [
    "df = pd.DataFrame(lotte_articles)"
   ]
  },
  {
   "cell_type": "code",
   "execution_count": 283,
   "id": "2f1a7c97",
   "metadata": {},
   "outputs": [],
   "source": [
    "with open('lda_lotte_eco_list.pickle','wb') as f:\n",
    "    pickle.dump(lotte_articles,f)"
   ]
  },
  {
   "cell_type": "code",
   "execution_count": 192,
   "id": "76f4eaca",
   "metadata": {},
   "outputs": [],
   "source": [
    "lotte_articles.append(strings)"
   ]
  },
  {
   "cell_type": "markdown",
   "id": "b5e2f9fc",
   "metadata": {},
   "source": [
    "#### em"
   ]
  },
  {
   "cell_type": "code",
   "execution_count": null,
   "id": "4d154872",
   "metadata": {},
   "outputs": [],
   "source": [
    "requests.get()"
   ]
  },
  {
   "cell_type": "code",
   "execution_count": 237,
   "id": "9fdf6a5c",
   "metadata": {},
   "outputs": [],
   "source": [
    "emart_string = \"\"\"\n",
    "http://news.nate.com/view/20230302n23505?mid=n0100\n",
    "http://news.nate.com/view/20230110n25792?mid=n0100\n",
    "http://news.nate.com/view/20230110n30696?mid=n0100\n",
    "https://n.news.naver.com/mnews/article/448/0000390488?rc=N&ntype=RANKING&sid=001\n",
    "https://n.news.naver.com/mnews/article/421/0006567193?rc=N&ntype=RANKING&sid=001\n",
    "https://n.news.naver.com/mnews/article/011/0004159142?rc=N&ntype=RANKING&sid=001\n",
    "https://n.news.naver.com/mnews/article/243/0000040969?rc=N&ntype=RANKING&sid=001\n",
    "https://n.news.naver.com/mnews/article/016/0002088936?rc=N&ntype=RANKING&sid=001\n",
    "https://n.news.naver.com/mnews/article/001/0013838871?rc=N&ntype=RANKING&sid=001\n",
    "https://n.news.naver.com/mnews/article/469/0000731094?rc=N&ntype=RANKING&sid=001\n",
    "https://n.news.naver.com/mnews/article/277/0005236267?rc=N&ntype=RANKING&sid=001\n",
    "https://n.news.naver.com/mnews/article/421/0006567193?rc=N&ntype=RANKING&sid=001\n",
    "\"\"\""
   ]
  },
  {
   "cell_type": "code",
   "execution_count": 238,
   "id": "c77d98f4",
   "metadata": {},
   "outputs": [],
   "source": [
    "emart_articles = []\n",
    "emart_eco_list= []"
   ]
  },
  {
   "cell_type": "code",
   "execution_count": 239,
   "id": "02f3c182",
   "metadata": {},
   "outputs": [],
   "source": [
    "\n",
    "emart_string = emart_string.split('\\n')\n",
    "emart_string = emart_string[1:-1]"
   ]
  },
  {
   "cell_type": "code",
   "execution_count": 257,
   "id": "d767f7ea",
   "metadata": {},
   "outputs": [],
   "source": [
    "url = emart_string[2]"
   ]
  },
  {
   "cell_type": "code",
   "execution_count": 258,
   "id": "c406f93f",
   "metadata": {},
   "outputs": [
    {
     "data": {
      "text/plain": [
       "'http://news.nate.com/view/20230110n30696?mid=n0100'"
      ]
     },
     "execution_count": 258,
     "metadata": {},
     "output_type": "execute_result"
    }
   ],
   "source": [
    "url"
   ]
  },
  {
   "cell_type": "code",
   "execution_count": 259,
   "id": "d4a0da9d",
   "metadata": {},
   "outputs": [],
   "source": [
    "response = requests.get(url,headers= headers)\n",
    "content = response.content\n",
    "soup = BeautifulSoup(content, 'html.parser')"
   ]
  },
  {
   "cell_type": "code",
   "execution_count": 260,
   "id": "5c09d30a",
   "metadata": {},
   "outputs": [],
   "source": [
    "realArtcContents_div = soup.find('div', {'id': 'realArtcContents'})"
   ]
  },
  {
   "cell_type": "code",
   "execution_count": null,
   "id": "8269838e",
   "metadata": {},
   "outputs": [],
   "source": []
  },
  {
   "cell_type": "code",
   "execution_count": null,
   "id": "3a2d70a1",
   "metadata": {},
   "outputs": [],
   "source": [
    "#realArtcContents_div = soup.find('div', {'id': 'dic_area'})"
   ]
  },
  {
   "cell_type": "code",
   "execution_count": 290,
   "id": "53d02c33",
   "metadata": {},
   "outputs": [],
   "source": [
    "\n",
    "string = \"\"\"\n",
    "이마트가 올 설 선물세트에 친환경 요소를 확대해 고객들에게 좋은 반응을 이끌어내고 있다.\n",
    "\n",
    "10일 이마트에 따르면 이마트는 축수산 선물세트에 '스티로폼 제로' 전략을 본격 도입했다. 냉장 축산 선물세트 중 약 40%인 15개 품목, 수산 선물세트 중 약 20%인 7개 품목 포장재를 스티로폼을 사용하지 않고 종이 재질로 바꿨다.\n",
    "\n",
    "선물세트에서 스티로폼을 가장 많이 사용하는 분야는 보냉이 필요한 축산, 수산 선물세트다. 이마트는 절감 효과를 극대화하기 위해 조선호텔 냉장 한우 세트 전품목(10개 상품) 및 피코크 횡성축협 한우 구이 세트 4개 상품, 프리미엄 굴비 세트 등 작년 추석 가장 많이 팔렸던 인기 선물세트에 스티로폼 제로 전략을 도입했다.\n",
    "\n",
    "스티로폼 제로전략을 위해 포장 재질에 대한 테스트도 진행했다. 가장 중요한 보냉 기능을 위해 포장 종이 두께를 더 두껍게했으며 외부 충격에 잘 견딜 수 있도록 골격을 세밀하게 짰다. 보냉 테스트 결과 스티로폼 보냉과 같은 수준의 효과를 얻은 것으로 나타났다.\n",
    "\n",
    "이마트는 올 설 선물세트 판매기간 동안 축·수산 선물세트 스티로폼 제로 전략을 통해 약 1.5톤의 스티로폼을 줄일 것으로 예상했다.\n",
    "\n",
    "아이스팩 역시 친환경 재질로 변경했다. 올 설 축산세트 전품목에 들어가는 아이스팩 성분을 환경파괴가 심했던 고분자폴리머에서 물·전분으로 전환했다. 아이스팩 포장지 역시 단일재질에 분리수거가 가능한 저밀도 폴리에틸렌으로 변경했다.\n",
    "\n",
    "포장재 내부도 분리배출 방법 등을 표시한 친환경 디자인을 적용했으며 내부 종이도 콩기름 인쇄 용지를 사용했다.\n",
    "\n",
    "과일세트에도 친환경 포장 방법을 적용했다. 저탄소 한라봉세트를 포함한 이마트 자연주의 만감류 세트 4종을 부직포가 아닌 실종이가방에 담았다. 실종이가방은 실과 종이를 합쳐서 만든 포장재로 분리수거가 불가능한 부직포 가방의 대용품이다. 일반 종이가방보다 내구성이 뛰어나며 친환경 소재로 종이로 분리수거가 가능하다.\n",
    "\n",
    "이마트가 인기 선물세트에 친환경 전략을 도입한 이유는 친환경 등 가치소비가 주요 소비 트렌트로 자리 잡으면서 고객의 의견을 반영한 상품이 큰 인기를 끌고 있기 때문이다.\n",
    "\n",
    "가치소비란 소비자 자신이 가치를 부여하거나 지향하는 바에 따라 만족도 높은 상품을 구매하는 형태로, MZ세대부터 시작해 다양한 연령층에게 퍼지며 인기를 얻고 있다.\n",
    "\n",
    "이마트 자체 농산물 저장센터인 후레쉬센터는 올해 친환경 농산물 취급자 인증을 획득하기도 했다.\n",
    "\n",
    "친환경 포장재로 변경한 축산세트 역시 매출이 큰 폭으로 상승했다.\n",
    "\n",
    "이마트가 올해 설 선물세트 사전예약기간인 지난해 12월1일부터 지난 8일까지 매출을 분석한 결과 친환경 포장지로 변경한 축산세트가 작년 동기간 대비 22.4% 신장했다. 축산 전체 선물세트 매출 신장(18%)을 넘어선 것.\n",
    "\n",
    "피코크 횡성축협 한우 등심세트는 60.5% 신장했으며 피코크 프라임 구이세트는 147.5%라는 고신장을 기록하기도 했다.\n",
    "\n",
    "김동민 이마트 신선 담당은 \"건강한 삶을 지향하고 환경을 우선하는 '가치소비'가 확대되면서 이마트 선물세트에도 친환경 포장재 도입을 확대했다\"며 \"앞으로도 이마트는 환경적, 사회적 가치를 중시하는 가치소비 활동에 동참할 것\"라고 말했다.\n",
    "\"\"\"\n",
    "strings = string.split(\".\")\n"
   ]
  },
  {
   "cell_type": "code",
   "execution_count": 291,
   "id": "a3a3562b",
   "metadata": {},
   "outputs": [],
   "source": [
    "emart_articles.append(strings)"
   ]
  },
  {
   "cell_type": "code",
   "execution_count": 293,
   "id": "2eced0ea",
   "metadata": {},
   "outputs": [
    {
     "data": {
      "text/plain": [
       "12"
      ]
     },
     "execution_count": 293,
     "metadata": {},
     "output_type": "execute_result"
    }
   ],
   "source": [
    "len(emart_articles)"
   ]
  },
  {
   "cell_type": "code",
   "execution_count": 294,
   "id": "e4215837",
   "metadata": {},
   "outputs": [],
   "source": [
    "with open('lda_emart_eco_list.pickle','wb') as f:\n",
    "    pickle.dump(emart_articles,f)"
   ]
  },
  {
   "cell_type": "code",
   "execution_count": 427,
   "id": "4d752add",
   "metadata": {},
   "outputs": [],
   "source": [
    "lda_emart = pd.DataFrame(emart_articles)"
   ]
  },
  {
   "cell_type": "code",
   "execution_count": 428,
   "id": "95cc6d06",
   "metadata": {},
   "outputs": [],
   "source": [
    "result = []\n",
    "for article in emart_articles:\n",
    "    temp = ''\n",
    "    for sentence in article:\n",
    "        temp += sentence\n",
    "    \n",
    "    result.append(temp)\n",
    "    \n",
    "    "
   ]
  },
  {
   "cell_type": "code",
   "execution_count": 429,
   "id": "b03caded",
   "metadata": {},
   "outputs": [],
   "source": [
    "lda_emart = pd.DataFrame(result)"
   ]
  },
  {
   "cell_type": "code",
   "execution_count": 430,
   "id": "afc063d5",
   "metadata": {},
   "outputs": [],
   "source": [
    "lda_emart[1] = list(range(12))"
   ]
  },
  {
   "cell_type": "code",
   "execution_count": 431,
   "id": "a8b27717",
   "metadata": {},
   "outputs": [],
   "source": [
    "lda_emart.columns = ['document','document_no']"
   ]
  },
  {
   "cell_type": "code",
   "execution_count": 385,
   "id": "1c1511c0",
   "metadata": {},
   "outputs": [],
   "source": [
    "### lotte"
   ]
  },
  {
   "cell_type": "code",
   "execution_count": 310,
   "id": "a063644c",
   "metadata": {},
   "outputs": [],
   "source": [
    "result = []\n",
    "for article in lotte_articles:\n",
    "    temp = ''\n",
    "    for sentence in article:\n",
    "        temp += sentence\n",
    "    \n",
    "    result.append(temp)"
   ]
  },
  {
   "cell_type": "code",
   "execution_count": 312,
   "id": "bc302eac",
   "metadata": {},
   "outputs": [],
   "source": [
    "lda_lotte = pd.DataFrame(result)"
   ]
  },
  {
   "cell_type": "code",
   "execution_count": 314,
   "id": "b91fa079",
   "metadata": {},
   "outputs": [],
   "source": [
    "lda_lotte[1] = list(range(11))"
   ]
  },
  {
   "cell_type": "code",
   "execution_count": 316,
   "id": "6834efbd",
   "metadata": {},
   "outputs": [],
   "source": [
    "lda_lotte.columns = ['document','document_no']"
   ]
  },
  {
   "cell_type": "code",
   "execution_count": 337,
   "id": "b32e3532",
   "metadata": {},
   "outputs": [],
   "source": [
    "df_lotte_neu  = pd.read_csv('lotte_neu.csv',sep='\\t')"
   ]
  },
  {
   "cell_type": "code",
   "execution_count": 338,
   "id": "c35211f9",
   "metadata": {},
   "outputs": [],
   "source": [
    "df_lotte_neu = df_lotte_neu.loc[df_lotte_neu['채널']=='언론']"
   ]
  },
  {
   "cell_type": "code",
   "execution_count": 339,
   "id": "87dc962c",
   "metadata": {},
   "outputs": [],
   "source": [
    "df_lotte_neu=df_lotte_neu.sort_values(by=['문장번호'])"
   ]
  },
  {
   "cell_type": "code",
   "execution_count": 355,
   "id": "d9e809f7",
   "metadata": {},
   "outputs": [],
   "source": [
    "df_lotte_neu_group = df_lotte_neu.groupby('문장번호').count()"
   ]
  },
  {
   "cell_type": "code",
   "execution_count": 357,
   "id": "0341dd8c",
   "metadata": {},
   "outputs": [],
   "source": [
    "df_lotte_neu_group = df_lotte_neu_group.reset_index()"
   ]
  },
  {
   "cell_type": "code",
   "execution_count": 359,
   "id": "070bf59d",
   "metadata": {},
   "outputs": [],
   "source": [
    "df_lotte_neu_group = df_lotte_neu_group[['문장번호','문서번호']]"
   ]
  },
  {
   "cell_type": "code",
   "execution_count": 360,
   "id": "308f7247",
   "metadata": {},
   "outputs": [],
   "source": [
    "df_lotte_neu_group.columns = ['문장번호','문장수']"
   ]
  },
  {
   "cell_type": "code",
   "execution_count": 362,
   "id": "296729bc",
   "metadata": {},
   "outputs": [],
   "source": [
    "df_lotte_neu_ = df_lotte_neu.merge(df_lotte_neu_group,how='left',on='문장번호')"
   ]
  },
  {
   "cell_type": "code",
   "execution_count": 364,
   "id": "ec2b091a",
   "metadata": {},
   "outputs": [],
   "source": [
    "df_lotte_neu_ = df_lotte_neu_.sort_values(by=['문장수','문장번호'],ascending=False)"
   ]
  },
  {
   "cell_type": "code",
   "execution_count": 376,
   "id": "f655119d",
   "metadata": {},
   "outputs": [],
   "source": [
    "df_lotte_neu_14 = df_lotte_neu_.loc[df_lotte_neu_['문장수']<14]"
   ]
  },
  {
   "cell_type": "code",
   "execution_count": 436,
   "id": "c8ee04dc",
   "metadata": {},
   "outputs": [],
   "source": [
    "result = []\n",
    "temp = ''\n",
    "previous = ''\n",
    "for i , j in zip ( df_lotte_neu_14['문장번호'] , df_lotte_neu_14['문장']):\n",
    "    if i != previous:\n",
    "        result.append(temp)\n",
    "        temp = j\n",
    "        previous = i\n",
    "    else:\n",
    "        temp += j \n",
    "        previous = i \n",
    "\n",
    "    \n",
    "    if len(result) == 51:\n",
    "        break\n",
    "        \n",
    "    "
   ]
  },
  {
   "cell_type": "code",
   "execution_count": 437,
   "id": "f39f2986",
   "metadata": {},
   "outputs": [
    {
     "data": {
      "text/plain": [
       "51"
      ]
     },
     "execution_count": 437,
     "metadata": {},
     "output_type": "execute_result"
    }
   ],
   "source": [
    "len(result)"
   ]
  },
  {
   "cell_type": "code",
   "execution_count": 438,
   "id": "45d67bc8",
   "metadata": {},
   "outputs": [
    {
     "data": {
      "text/plain": [
       "''"
      ]
     },
     "execution_count": 438,
     "metadata": {},
     "output_type": "execute_result"
    }
   ],
   "source": [
    "result.pop(0)"
   ]
  },
  {
   "cell_type": "code",
   "execution_count": 384,
   "id": "9a103b84",
   "metadata": {},
   "outputs": [],
   "source": [
    "### 이마트"
   ]
  },
  {
   "cell_type": "code",
   "execution_count": 387,
   "id": "8148e146",
   "metadata": {},
   "outputs": [],
   "source": [
    "df_emart_neu  = pd.read_csv('emart_neu.csv',sep='\\t')"
   ]
  },
  {
   "cell_type": "code",
   "execution_count": 388,
   "id": "6877a4f7",
   "metadata": {},
   "outputs": [],
   "source": [
    "df_emart_neu = df_emart_neu.loc[df_emart_neu['채널']=='언론']\n",
    "df_emart_neu=df_emart_neu.sort_values(by=['문장번호'])\n",
    "df_emart_neu_group = df_emart_neu.groupby('문장번호').count()\n",
    "df_emart_neu_group = df_emart_neu_group.reset_index()\n",
    "df_emart_neu_group = df_emart_neu_group[['문장번호','문서번호']]\n",
    "df_emart_neu_group.columns = ['문장번호','문장수']"
   ]
  },
  {
   "cell_type": "code",
   "execution_count": 390,
   "id": "6bd74434",
   "metadata": {},
   "outputs": [],
   "source": [
    "df_emart_neu_ = df_emart_neu.merge(df_emart_neu_group,how='left',on='문장번호')"
   ]
  },
  {
   "cell_type": "code",
   "execution_count": 391,
   "id": "fb9bd401",
   "metadata": {},
   "outputs": [],
   "source": [
    "df_emart_neu_ = df_emart_neu_.sort_values(by=['문장수','문장번호'],ascending=False)"
   ]
  },
  {
   "cell_type": "code",
   "execution_count": 395,
   "id": "a8bb8076",
   "metadata": {},
   "outputs": [],
   "source": [
    "df_emart_neu_14 = df_emart_neu_.loc[df_emart_neu_['문장수']<14]"
   ]
  },
  {
   "cell_type": "code",
   "execution_count": 401,
   "id": "5294e0b2",
   "metadata": {},
   "outputs": [],
   "source": [
    "result = []\n",
    "temp = ''\n",
    "previous = ''\n",
    "for i , j in zip ( df_emart_neu_14['문장번호'] , df_emart_neu_14['문장']):\n",
    "    if i != previous:\n",
    "        result.append(temp)\n",
    "        temp = j\n",
    "        previous = i\n",
    "    else:\n",
    "        temp += j \n",
    "        previous = i \n",
    "\n",
    "    \n",
    "    if len(result) == 51:\n",
    "        break"
   ]
  },
  {
   "cell_type": "code",
   "execution_count": 414,
   "id": "df6c01fd",
   "metadata": {},
   "outputs": [],
   "source": [
    "df_emart_neu_14_ = pd.DataFrame(result)"
   ]
  },
  {
   "cell_type": "code",
   "execution_count": 419,
   "id": "738b3fc1",
   "metadata": {},
   "outputs": [],
   "source": [
    "df_emart_neu_14_[1] = list(range(12,62))"
   ]
  },
  {
   "cell_type": "code",
   "execution_count": 426,
   "id": "94b5b73e",
   "metadata": {},
   "outputs": [],
   "source": [
    "df_emart_neu_14_.columns = ['document','document_no']"
   ]
  },
  {
   "cell_type": "code",
   "execution_count": 433,
   "id": "9bd313b2",
   "metadata": {},
   "outputs": [],
   "source": [
    "lda_emart = pd.concat([lda_emart,df_emart_neu_14_])"
   ]
  },
  {
   "cell_type": "code",
   "execution_count": 440,
   "id": "e9d841f1",
   "metadata": {},
   "outputs": [],
   "source": [
    "df_lotte_neu_14_ = pd.DataFrame(result)"
   ]
  },
  {
   "cell_type": "code",
   "execution_count": 443,
   "id": "11ae7d45",
   "metadata": {},
   "outputs": [],
   "source": [
    "df_lotte_neu_14_[1] = list(range(11,61))"
   ]
  },
  {
   "cell_type": "code",
   "execution_count": 445,
   "id": "ec9e2d89",
   "metadata": {},
   "outputs": [],
   "source": [
    "df_lotte_neu_14_.columns = ['document','document_no']"
   ]
  },
  {
   "cell_type": "code",
   "execution_count": 446,
   "id": "686891cb",
   "metadata": {},
   "outputs": [],
   "source": [
    "lda_lotte = pd.concat([lda_lotte,df_lotte_neu_14_])"
   ]
  },
  {
   "cell_type": "code",
   "execution_count": 451,
   "id": "a61337c7",
   "metadata": {},
   "outputs": [],
   "source": [
    "lda_emart.to_csv(\"lda_emart.csv\",sep='\\t',index=False)"
   ]
  },
  {
   "cell_type": "code",
   "execution_count": 452,
   "id": "ab5ed862",
   "metadata": {},
   "outputs": [],
   "source": [
    "lda_lotte.to_csv(\"lda_lotte.csv\",sep='\\t',index=False)"
   ]
  },
  {
   "cell_type": "code",
   "execution_count": 454,
   "id": "9504d5ec",
   "metadata": {},
   "outputs": [
    {
     "data": {
      "text/html": [
       "<div>\n",
       "<style scoped>\n",
       "    .dataframe tbody tr th:only-of-type {\n",
       "        vertical-align: middle;\n",
       "    }\n",
       "\n",
       "    .dataframe tbody tr th {\n",
       "        vertical-align: top;\n",
       "    }\n",
       "\n",
       "    .dataframe thead th {\n",
       "        text-align: right;\n",
       "    }\n",
       "</style>\n",
       "<table border=\"1\" class=\"dataframe\">\n",
       "  <thead>\n",
       "    <tr style=\"text-align: right;\">\n",
       "      <th></th>\n",
       "      <th>document</th>\n",
       "      <th>document_no</th>\n",
       "    </tr>\n",
       "  </thead>\n",
       "  <tbody>\n",
       "    <tr>\n",
       "      <th>0</th>\n",
       "      <td>사진=롯데백화점 제공[스포츠한국 임현지 기자]백화점업계가'계묘년' 설을 맞아 명절 ...</td>\n",
       "      <td>0</td>\n",
       "    </tr>\n",
       "    <tr>\n",
       "      <th>1</th>\n",
       "      <td>\\n\\n대형마트에서 종이 전단은 매주 행사를 알리는 가장 중요한 홍보 수단 중 하나...</td>\n",
       "      <td>1</td>\n",
       "    </tr>\n",
       "    <tr>\n",
       "      <th>2</th>\n",
       "      <td>\\n롯데마트가 새로운 통합 PB(자체 브랜드) ‘오늘좋은’을 론칭한다 오늘좋은은 기...</td>\n",
       "      <td>2</td>\n",
       "    </tr>\n",
       "    <tr>\n",
       "      <th>3</th>\n",
       "      <td>\\n롯데마트는 3월 22일 '세계 물의 날'을 맞아 직원들이 점포 인근 하천을 방문...</td>\n",
       "      <td>3</td>\n",
       "    </tr>\n",
       "    <tr>\n",
       "      <th>4</th>\n",
       "      <td>\\n\"지난달 16일 롯데마트 제타플렉스점 내 유제품 진열용 냉장고 하단에 붙어있는 ...</td>\n",
       "      <td>4</td>\n",
       "    </tr>\n",
       "    <tr>\n",
       "      <th>...</th>\n",
       "      <td>...</td>\n",
       "      <td>...</td>\n",
       "    </tr>\n",
       "    <tr>\n",
       "      <th>45</th>\n",
       "      <td>참여자중 20명에게는 추첨을 통해 서울장수에서 특별 제작한 상품이 제공된다롯데마트와...</td>\n",
       "      <td>56</td>\n",
       "    </tr>\n",
       "    <tr>\n",
       "      <th>46</th>\n",
       "      <td>21일까지 3일간 축산 대표상품인 국거리·불고기를 15% 할인 판매한다대한민국 수산...</td>\n",
       "      <td>57</td>\n",
       "    </tr>\n",
       "    <tr>\n",
       "      <th>47</th>\n",
       "      <td>일반적인 딸기의 당도가 9~10브릭스(brix)인데 반해 두리향 딸기는 11브릭스에...</td>\n",
       "      <td>58</td>\n",
       "    </tr>\n",
       "    <tr>\n",
       "      <th>48</th>\n",
       "      <td>지난 8년간 9만5,000부 이상 판매된 ‘몸짱 소방관 희망나눔 달력’(출처 : 텐...</td>\n",
       "      <td>59</td>\n",
       "    </tr>\n",
       "    <tr>\n",
       "      <th>49</th>\n",
       "      <td>당시에도 롯데백화점 측은 브랜드에 모든 책임을 전가하는 태도를 보인 바 있다이와 관...</td>\n",
       "      <td>60</td>\n",
       "    </tr>\n",
       "  </tbody>\n",
       "</table>\n",
       "<p>61 rows × 2 columns</p>\n",
       "</div>"
      ],
      "text/plain": [
       "                                             document  document_no\n",
       "0   사진=롯데백화점 제공[스포츠한국 임현지 기자]백화점업계가'계묘년' 설을 맞아 명절 ...            0\n",
       "1   \\n\\n대형마트에서 종이 전단은 매주 행사를 알리는 가장 중요한 홍보 수단 중 하나...            1\n",
       "2   \\n롯데마트가 새로운 통합 PB(자체 브랜드) ‘오늘좋은’을 론칭한다 오늘좋은은 기...            2\n",
       "3   \\n롯데마트는 3월 22일 '세계 물의 날'을 맞아 직원들이 점포 인근 하천을 방문...            3\n",
       "4   \\n\"지난달 16일 롯데마트 제타플렉스점 내 유제품 진열용 냉장고 하단에 붙어있는 ...            4\n",
       "..                                                ...          ...\n",
       "45  참여자중 20명에게는 추첨을 통해 서울장수에서 특별 제작한 상품이 제공된다롯데마트와...           56\n",
       "46  21일까지 3일간 축산 대표상품인 국거리·불고기를 15% 할인 판매한다대한민국 수산...           57\n",
       "47  일반적인 딸기의 당도가 9~10브릭스(brix)인데 반해 두리향 딸기는 11브릭스에...           58\n",
       "48  지난 8년간 9만5,000부 이상 판매된 ‘몸짱 소방관 희망나눔 달력’(출처 : 텐...           59\n",
       "49  당시에도 롯데백화점 측은 브랜드에 모든 책임을 전가하는 태도를 보인 바 있다이와 관...           60\n",
       "\n",
       "[61 rows x 2 columns]"
      ]
     },
     "execution_count": 454,
     "metadata": {},
     "output_type": "execute_result"
    }
   ],
   "source": [
    "lda_lotte"
   ]
  },
  {
   "cell_type": "code",
   "execution_count": null,
   "id": "7a5afa4e",
   "metadata": {},
   "outputs": [],
   "source": []
  },
  {
   "cell_type": "code",
   "execution_count": 5,
   "id": "a55e9151",
   "metadata": {},
   "outputs": [],
   "source": [
    "import pandas as pd"
   ]
  },
  {
   "cell_type": "code",
   "execution_count": 6,
   "id": "0746ad7d",
   "metadata": {},
   "outputs": [],
   "source": [
    "df = pd.read_csv('emart_neu_4000.csv',sep='\\t')"
   ]
  },
  {
   "cell_type": "code",
   "execution_count": 17,
   "id": "443c2507",
   "metadata": {},
   "outputs": [],
   "source": [
    "df_ = df.loc[df['연관어'].isna()==True]"
   ]
  },
  {
   "cell_type": "code",
   "execution_count": 18,
   "id": "1e785827",
   "metadata": {},
   "outputs": [],
   "source": [
    "df_naver = df_.loc[df_['URL'].str.contains('naver')]"
   ]
  },
  {
   "cell_type": "code",
   "execution_count": 19,
   "id": "12aac61d",
   "metadata": {},
   "outputs": [],
   "source": [
    "df_naver_ = df_naver.loc[df_naver['채널'].str.contains('언론')]"
   ]
  },
  {
   "cell_type": "code",
   "execution_count": 20,
   "id": "6f90e5af",
   "metadata": {},
   "outputs": [],
   "source": [
    "df_naver__ = df_naver_.loc[df_naver_['문장'].str.contains('이마트')]"
   ]
  },
  {
   "cell_type": "code",
   "execution_count": 26,
   "id": "4151e763",
   "metadata": {},
   "outputs": [],
   "source": [
    "df_naver__sample = df_naver__.sample(50)"
   ]
  },
  {
   "cell_type": "code",
   "execution_count": 32,
   "id": "6fc3cdc3",
   "metadata": {},
   "outputs": [],
   "source": [
    "emart_neau_list = list(df_naver__sample['URL'].values)"
   ]
  },
  {
   "cell_type": "code",
   "execution_count": 43,
   "id": "d9aa9d16",
   "metadata": {},
   "outputs": [],
   "source": [
    "import pickle"
   ]
  },
  {
   "cell_type": "code",
   "execution_count": 44,
   "id": "b285792b",
   "metadata": {},
   "outputs": [],
   "source": [
    "with open('emart_neau_list.pickle','wb') as f:\n",
    "    pickle.dump(emart_neau_list,f)"
   ]
  },
  {
   "cell_type": "markdown",
   "id": "7d1b1e98",
   "metadata": {},
   "source": [
    "### lotte"
   ]
  },
  {
   "cell_type": "code",
   "execution_count": 34,
   "id": "5d00bbae",
   "metadata": {},
   "outputs": [],
   "source": [
    "df = pd.read_csv('lotte_neu_4000.csv',sep='\\t')"
   ]
  },
  {
   "cell_type": "code",
   "execution_count": 35,
   "id": "52b15263",
   "metadata": {},
   "outputs": [],
   "source": [
    "df_ = df.loc[df['연관어'].isna()==True]"
   ]
  },
  {
   "cell_type": "code",
   "execution_count": 36,
   "id": "49558bc7",
   "metadata": {},
   "outputs": [],
   "source": [
    "df_lotte = df_.loc[df_['URL'].str.contains('naver')]"
   ]
  },
  {
   "cell_type": "code",
   "execution_count": 37,
   "id": "359596d6",
   "metadata": {},
   "outputs": [],
   "source": [
    "df_lotte_ = df_lotte.loc[df_lotte['채널'].str.contains('언론')]"
   ]
  },
  {
   "cell_type": "code",
   "execution_count": 38,
   "id": "f38c2061",
   "metadata": {},
   "outputs": [],
   "source": [
    "df_lotte__ = df_lotte_.loc[df_lotte_['문장'].str.contains('롯데')]"
   ]
  },
  {
   "cell_type": "code",
   "execution_count": 39,
   "id": "fd49d874",
   "metadata": {},
   "outputs": [],
   "source": [
    "df_lotte__sample = df_lotte__.sample(50)"
   ]
  },
  {
   "cell_type": "code",
   "execution_count": 41,
   "id": "bcd695c1",
   "metadata": {},
   "outputs": [],
   "source": [
    "lotte_neau_list = list(df_lotte__sample['URL'].values)"
   ]
  },
  {
   "cell_type": "code",
   "execution_count": 45,
   "id": "c998ff9c",
   "metadata": {},
   "outputs": [],
   "source": [
    "with open('lotte_neau_list.pickle','wb') as f:\n",
    "    pickle.dump(lotte_neau_list,f)"
   ]
  },
  {
   "cell_type": "code",
   "execution_count": null,
   "id": "f7018e8c",
   "metadata": {},
   "outputs": [],
   "source": []
  }
 ],
 "metadata": {
  "kernelspec": {
   "display_name": "Python 3 (ipykernel)",
   "language": "python",
   "name": "python3"
  },
  "language_info": {
   "codemirror_mode": {
    "name": "ipython",
    "version": 3
   },
   "file_extension": ".py",
   "mimetype": "text/x-python",
   "name": "python",
   "nbconvert_exporter": "python",
   "pygments_lexer": "ipython3",
   "version": "3.8.13"
  }
 },
 "nbformat": 4,
 "nbformat_minor": 5
}
