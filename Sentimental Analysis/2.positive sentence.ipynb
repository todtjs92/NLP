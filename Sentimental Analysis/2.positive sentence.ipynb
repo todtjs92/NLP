{
 "cells": [
  {
   "cell_type": "code",
   "execution_count": 1,
   "id": "d9bf86d4",
   "metadata": {},
   "outputs": [],
   "source": [
    "import pandas as pd"
   ]
  },
  {
   "cell_type": "code",
   "execution_count": 2,
   "id": "350481f0",
   "metadata": {},
   "outputs": [],
   "source": [
    "df_emart = pd.read_csv('emart_eco.tsv',sep='\\t')"
   ]
  },
  {
   "cell_type": "code",
   "execution_count": 100,
   "id": "571bc7e0",
   "metadata": {},
   "outputs": [],
   "source": [
    "df_lotte = pd.read_csv('lotte_eco.tsv',sep='\\t')"
   ]
  },
  {
   "cell_type": "markdown",
   "id": "baec02e5",
   "metadata": {},
   "source": [
    "#### emart"
   ]
  },
  {
   "cell_type": "code",
   "execution_count": 9,
   "id": "b1c2a251",
   "metadata": {},
   "outputs": [],
   "source": [
    "a = 'asdf'"
   ]
  },
  {
   "cell_type": "code",
   "execution_count": 10,
   "id": "f2d54747",
   "metadata": {},
   "outputs": [
    {
     "data": {
      "text/plain": [
       "'rsdf'"
      ]
     },
     "execution_count": 10,
     "metadata": {},
     "output_type": "execute_result"
    }
   ],
   "source": [
    "a.replace('a','r')"
   ]
  },
  {
   "cell_type": "code",
   "execution_count": 13,
   "id": "be7d9d0f",
   "metadata": {},
   "outputs": [],
   "source": [
    "df_emart['문장'] = df_emart['문장'].map(lambda x : x.replace('\\n',' '))"
   ]
  },
  {
   "cell_type": "code",
   "execution_count": 29,
   "id": "41e0941b",
   "metadata": {},
   "outputs": [
    {
     "data": {
      "text/plain": [
       "'자연을 통해 일상을 배운다는 콘셉트의 캐릭터 ‘정원이’가 전하는 ‘오늘을 더 맛있게, 내일을 더 깨끗하게’라는 메시지처럼 앞으로도 다양한 친환경 활동을 이어갈 계획이다.'"
      ]
     },
     "execution_count": 29,
     "metadata": {},
     "output_type": "execute_result"
    }
   ],
   "source": [
    "df_emart['문장'][15]"
   ]
  },
  {
   "cell_type": "code",
   "execution_count": 33,
   "id": "2510c91f",
   "metadata": {},
   "outputs": [],
   "source": [
    "df_emart['문장'] = df_emart['문장'].replace('\\s+', ' ', regex=True)"
   ]
  },
  {
   "cell_type": "code",
   "execution_count": 36,
   "id": "0ba9fd09",
   "metadata": {},
   "outputs": [],
   "source": [
    "df_emart_ = df_emart[['채널','문장','연관어']]"
   ]
  },
  {
   "cell_type": "code",
   "execution_count": 40,
   "id": "61c56d9d",
   "metadata": {},
   "outputs": [],
   "source": [
    "df_emart__ = df_emart_.drop_duplicates('문장')"
   ]
  },
  {
   "cell_type": "code",
   "execution_count": 44,
   "id": "75dbb9a7",
   "metadata": {},
   "outputs": [],
   "source": [
    "df_emart__.to_csv('emart_0504.csv',index=False)"
   ]
  },
  {
   "cell_type": "code",
   "execution_count": 49,
   "id": "48ee4805",
   "metadata": {},
   "outputs": [
    {
     "name": "stderr",
     "output_type": "stream",
     "text": [
      "/var/folders/5r/_nzg4r9s24s61mgyw_ztdksw0000gq/T/ipykernel_42840/1295016484.py:1: SettingWithCopyWarning: \n",
      "A value is trying to be set on a copy of a slice from a DataFrame.\n",
      "Try using .loc[row_indexer,col_indexer] = value instead\n",
      "\n",
      "See the caveats in the documentation: https://pandas.pydata.org/pandas-docs/stable/user_guide/indexing.html#returning-a-view-versus-a-copy\n",
      "  df_emart__['문장'] = df_emart__['문장'].map(lambda x : x.replace('\\n',' '))\n"
     ]
    }
   ],
   "source": [
    "df_emart__['문장'] = df_emart__['문장'].map(lambda x : x.replace('\\n',' '))"
   ]
  },
  {
   "cell_type": "code",
   "execution_count": 54,
   "id": "433b69ba",
   "metadata": {},
   "outputs": [],
   "source": [
    "s = \"이마트, 매월 옥외 소등…'어스아워' 캠페인 동참\\nWWF 환경 운동 캠페인 어스아\""
   ]
  },
  {
   "cell_type": "code",
   "execution_count": 74,
   "id": "2a63ad83",
   "metadata": {},
   "outputs": [],
   "source": [
    "import re"
   ]
  },
  {
   "cell_type": "code",
   "execution_count": 75,
   "id": "42af626b",
   "metadata": {},
   "outputs": [],
   "source": [
    "temp = []"
   ]
  },
  {
   "cell_type": "code",
   "execution_count": 76,
   "id": "9ea3c7a9",
   "metadata": {},
   "outputs": [],
   "source": [
    "for x in df_emart__['문장']:\n",
    "    x = x.replace('\\\\n',' ')\n",
    "    x = x.replace(\"\\\\\",'')\n",
    "    x = re.sub(r'\\\\','',x)\n",
    "    x = x.replace('.','')\n",
    "  \n",
    "    temp.append(x)"
   ]
  },
  {
   "cell_type": "code",
   "execution_count": 80,
   "id": "c21470ab",
   "metadata": {},
   "outputs": [
    {
     "name": "stderr",
     "output_type": "stream",
     "text": [
      "/var/folders/5r/_nzg4r9s24s61mgyw_ztdksw0000gq/T/ipykernel_42840/2802174507.py:1: SettingWithCopyWarning: \n",
      "A value is trying to be set on a copy of a slice from a DataFrame.\n",
      "Try using .loc[row_indexer,col_indexer] = value instead\n",
      "\n",
      "See the caveats in the documentation: https://pandas.pydata.org/pandas-docs/stable/user_guide/indexing.html#returning-a-view-versus-a-copy\n",
      "  df_emart__['문장'] = temp\n"
     ]
    }
   ],
   "source": [
    "df_emart__['문장'] = temp"
   ]
  },
  {
   "cell_type": "code",
   "execution_count": 96,
   "id": "8582651b",
   "metadata": {},
   "outputs": [],
   "source": [
    "df_emart__.to_csv('emart_0504.csv',index=False)"
   ]
  },
  {
   "cell_type": "code",
   "execution_count": 82,
   "id": "6f464b47",
   "metadata": {},
   "outputs": [],
   "source": [
    "### lotte"
   ]
  },
  {
   "cell_type": "code",
   "execution_count": 101,
   "id": "c04d7145",
   "metadata": {},
   "outputs": [],
   "source": [
    "df_lotte['문장'] = df_lotte['문장'].map(lambda x : x.replace('\\n',' '))"
   ]
  },
  {
   "cell_type": "code",
   "execution_count": 102,
   "id": "5a6dc22d",
   "metadata": {},
   "outputs": [],
   "source": [
    "df_lotte['문장'] = df_lotte['문장'].replace('\\s+', ' ', regex=True)"
   ]
  },
  {
   "cell_type": "code",
   "execution_count": 103,
   "id": "b4c87a1b",
   "metadata": {},
   "outputs": [],
   "source": [
    "df_lotte = df_lotte[['채널','문장','연관어']]"
   ]
  },
  {
   "cell_type": "code",
   "execution_count": 104,
   "id": "759a2db7",
   "metadata": {},
   "outputs": [],
   "source": [
    "temp = []"
   ]
  },
  {
   "cell_type": "code",
   "execution_count": 105,
   "id": "5c099525",
   "metadata": {},
   "outputs": [],
   "source": [
    "for x in df_lotte['문장']:\n",
    "    x = x.replace('\\\\n',' ')\n",
    "    x = x.replace(\"\\\\\",'')\n",
    "    x = re.sub(r'\\\\','',x)\n",
    "    x = x.replace('.','')\n",
    "  \n",
    "    temp.append(x)"
   ]
  },
  {
   "cell_type": "code",
   "execution_count": 106,
   "id": "395b1360",
   "metadata": {},
   "outputs": [],
   "source": [
    "df_lotte['문장'] = temp"
   ]
  },
  {
   "cell_type": "code",
   "execution_count": 107,
   "id": "56f39193",
   "metadata": {},
   "outputs": [],
   "source": [
    "df_lotte = df_lotte.drop_duplicates('문장')"
   ]
  },
  {
   "cell_type": "code",
   "execution_count": 109,
   "id": "c9925686",
   "metadata": {},
   "outputs": [],
   "source": [
    "df_lotte.to_csv('lotte_0504.csv',index=False)"
   ]
  },
  {
   "cell_type": "code",
   "execution_count": 108,
   "id": "979fa365",
   "metadata": {},
   "outputs": [
    {
     "data": {
      "text/html": [
       "<div>\n",
       "<style scoped>\n",
       "    .dataframe tbody tr th:only-of-type {\n",
       "        vertical-align: middle;\n",
       "    }\n",
       "\n",
       "    .dataframe tbody tr th {\n",
       "        vertical-align: top;\n",
       "    }\n",
       "\n",
       "    .dataframe thead th {\n",
       "        text-align: right;\n",
       "    }\n",
       "</style>\n",
       "<table border=\"1\" class=\"dataframe\">\n",
       "  <thead>\n",
       "    <tr style=\"text-align: right;\">\n",
       "      <th></th>\n",
       "      <th>채널</th>\n",
       "      <th>문장</th>\n",
       "      <th>연관어</th>\n",
       "    </tr>\n",
       "  </thead>\n",
       "  <tbody>\n",
       "    <tr>\n",
       "      <th>0</th>\n",
       "      <td>언론</td>\n",
       "      <td>또 플라스틱 대신 종이 펄프를 사용하거나 부자재 사용을 최소화한 친환경 포장 선물 ...</td>\n",
       "      <td>포장,친환경 포장,사용,종이,플라스틱,최소화</td>\n",
       "    </tr>\n",
       "    <tr>\n",
       "      <th>1</th>\n",
       "      <td>언론</td>\n",
       "      <td>플라스틱 대신 종이 펄프를 사용하거나 부자재 사용을 최소화한 친환경 포장 선물 세트...</td>\n",
       "      <td>포장,친환경 포장,사용,종이,플라스틱,최소화</td>\n",
       "    </tr>\n",
       "    <tr>\n",
       "      <th>2</th>\n",
       "      <td>언론</td>\n",
       "      <td>아울러 플라스틱 대신 종이 펄프를 사용하거나 부자재 사용을 최소화한 친환경 포장 선...</td>\n",
       "      <td>포장,친환경 포장,사용,종이,플라스틱,최소화</td>\n",
       "    </tr>\n",
       "    <tr>\n",
       "      <th>3</th>\n",
       "      <td>언론</td>\n",
       "      <td>친환경 선물포장을 강화한다</td>\n",
       "      <td>포장,친환경 포장</td>\n",
       "    </tr>\n",
       "    <tr>\n",
       "      <th>4</th>\n",
       "      <td>언론</td>\n",
       "      <td>프리미엄·친환경 초점…롯데百, 설 선물 본판매 [아시아경제 김유리 기자] 롯데백화점...</td>\n",
       "      <td>친환경,판매</td>\n",
       "    </tr>\n",
       "    <tr>\n",
       "      <th>...</th>\n",
       "      <td>...</td>\n",
       "      <td>...</td>\n",
       "      <td>...</td>\n",
       "    </tr>\n",
       "    <tr>\n",
       "      <th>3122</th>\n",
       "      <td>언론</td>\n",
       "      <td>무한리필의 편견을 깨고 업계 최고 수준의 품질로 소비자는 물론 가맹점주 모두의 니즈...</td>\n",
       "      <td>업계 최고 수준,소비자,리필</td>\n",
       "    </tr>\n",
       "    <tr>\n",
       "      <th>3123</th>\n",
       "      <td>카페</td>\n",
       "      <td>아쉬운점은 앞사람이 망고를 다 가져가버려서 기다렸지만 안나와서 물어보니, 망고 리필...</td>\n",
       "      <td>리필</td>\n",
       "    </tr>\n",
       "    <tr>\n",
       "      <th>3124</th>\n",
       "      <td>언론</td>\n",
       "      <td>2022년 9월 출시한 백인박스(Bag In Box) 리필 제품이 이러한 노력으로 ...</td>\n",
       "      <td>리필</td>\n",
       "    </tr>\n",
       "    <tr>\n",
       "      <th>3125</th>\n",
       "      <td>언론</td>\n",
       "      <td>가격은 2만3900원으로 기존 핸드워시 본품이나 리필 제품보다 30∼40%가량 저렴하다</td>\n",
       "      <td>리필</td>\n",
       "    </tr>\n",
       "    <tr>\n",
       "      <th>3126</th>\n",
       "      <td>언론</td>\n",
       "      <td>온실가스배출도 2021년 5만3천474톤으로 전년도 4만1천695톤 대비 283% ...</td>\n",
       "      <td>경영,녹색 경영</td>\n",
       "    </tr>\n",
       "  </tbody>\n",
       "</table>\n",
       "<p>2821 rows × 3 columns</p>\n",
       "</div>"
      ],
      "text/plain": [
       "      채널                                                 문장  \\\n",
       "0     언론  또 플라스틱 대신 종이 펄프를 사용하거나 부자재 사용을 최소화한 친환경 포장 선물 ...   \n",
       "1     언론  플라스틱 대신 종이 펄프를 사용하거나 부자재 사용을 최소화한 친환경 포장 선물 세트...   \n",
       "2     언론  아울러 플라스틱 대신 종이 펄프를 사용하거나 부자재 사용을 최소화한 친환경 포장 선...   \n",
       "3     언론                                     친환경 선물포장을 강화한다   \n",
       "4     언론  프리미엄·친환경 초점…롯데百, 설 선물 본판매 [아시아경제 김유리 기자] 롯데백화점...   \n",
       "...   ..                                                ...   \n",
       "3122  언론  무한리필의 편견을 깨고 업계 최고 수준의 품질로 소비자는 물론 가맹점주 모두의 니즈...   \n",
       "3123  카페  아쉬운점은 앞사람이 망고를 다 가져가버려서 기다렸지만 안나와서 물어보니, 망고 리필...   \n",
       "3124  언론  2022년 9월 출시한 백인박스(Bag In Box) 리필 제품이 이러한 노력으로 ...   \n",
       "3125  언론   가격은 2만3900원으로 기존 핸드워시 본품이나 리필 제품보다 30∼40%가량 저렴하다   \n",
       "3126  언론  온실가스배출도 2021년 5만3천474톤으로 전년도 4만1천695톤 대비 283% ...   \n",
       "\n",
       "                           연관어  \n",
       "0     포장,친환경 포장,사용,종이,플라스틱,최소화  \n",
       "1     포장,친환경 포장,사용,종이,플라스틱,최소화  \n",
       "2     포장,친환경 포장,사용,종이,플라스틱,최소화  \n",
       "3                    포장,친환경 포장  \n",
       "4                       친환경,판매  \n",
       "...                        ...  \n",
       "3122           업계 최고 수준,소비자,리필  \n",
       "3123                        리필  \n",
       "3124                        리필  \n",
       "3125                        리필  \n",
       "3126                  경영,녹색 경영  \n",
       "\n",
       "[2821 rows x 3 columns]"
      ]
     },
     "execution_count": 108,
     "metadata": {},
     "output_type": "execute_result"
    }
   ],
   "source": [
    "df_lotte"
   ]
  },
  {
   "cell_type": "code",
   "execution_count": null,
   "id": "b59b1941",
   "metadata": {},
   "outputs": [],
   "source": []
  }
 ],
 "metadata": {
  "kernelspec": {
   "display_name": "Python 3 (ipykernel)",
   "language": "python",
   "name": "python3"
  },
  "language_info": {
   "codemirror_mode": {
    "name": "ipython",
    "version": 3
   },
   "file_extension": ".py",
   "mimetype": "text/x-python",
   "name": "python",
   "nbconvert_exporter": "python",
   "pygments_lexer": "ipython3",
   "version": "3.8.13"
  }
 },
 "nbformat": 4,
 "nbformat_minor": 5
}
